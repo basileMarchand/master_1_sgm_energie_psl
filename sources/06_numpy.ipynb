{
 "cells": [
  {
   "cell_type": "code",
   "execution_count": 2,
   "metadata": {
    "slideshow": {
     "slide_type": "skip"
    }
   },
   "outputs": [],
   "source": [
    "from IPython.display import set_matplotlib_formats\n",
    "set_matplotlib_formats('svg')"
   ]
  },
  {
   "cell_type": "markdown",
   "metadata": {},
   "source": [
    "# Python et le calcul numérique\n",
    "\n",
    "-----------------------------------------\n",
    "\n",
    "***Basile Marchand (Centre des Matériaux - Mines ParisTech/CNRS/Université PSL)***"
   ]
  },
  {
   "cell_type": "markdown",
   "metadata": {
    "slideshow": {
     "slide_type": "slide"
    }
   },
   "source": [
    "## Module Python pour le calcul numérique"
   ]
  },
  {
   "cell_type": "markdown",
   "metadata": {
    "slideshow": {
     "slide_type": "slide"
    }
   },
   "source": [
    "Nous l'avons vu dans les parties précédentes nous pouvons déjà réaliser un certain nombre de choses en Python et automatiser un grand nombre d'action via des programmes. Cependant il manque encore quelques éléments pour satisfaire à tous les besoins du mécanicien. Parmis ces éléments manquants il y a le calcul numérique. En effet, nous avons vu que de nativement Python sait faire du calcul mais cela n'est pas suffisant, il manque en effet les notions de matrices, vecteurs. Un autre manque, qui sera comblé je vous rassure, est une librairie de fonctions prêtes à l'emploi pour l'intégration, les problèmes d'optimisation, ... \n",
    "\n",
    "C'est ce point que nous allons aborder dans le cours aujourd'hui au travers de deux modules incontournables : \n",
    "* [`NumPy`](www.numpy.org) : module Python permettant de travailler avec des tableaux multidimensionnels (vecteur, matrice et plus). Il définit également un certain nombre d'opérations mathématiques pouvant travailler directement avec ces tableaux. \n",
    "* [`SciPy`](www.scipy.org) : module Python disposant de nombreuses fonctionnalité en terme de calcul numérique ayant pour finalitée d'offrir à l'utilisateur un environnement de calul scientifique semblable à ceux de logiciels spécialisés tel que Matlab, Octave ou Scilab. \n",
    "\n"
   ]
  },
  {
   "cell_type": "markdown",
   "metadata": {
    "slideshow": {
     "slide_type": "slide"
    }
   },
   "source": [
    "## Numpy "
   ]
  },
  {
   "cell_type": "markdown",
   "metadata": {
    "slideshow": {
     "slide_type": "subslide"
    }
   },
   "source": [
    "Comme dit en introduction NumPy est un module Python permettant de travailler avec des tableaux multidimensionel. Pour preuve de la souplesse de ce module ainsi que de ses bonnes performances il faut souligner qu'il s'agit du module qui est employé à peu prêt dans tous les autres modules scientifiques disponibles dans Python. Le secret du module NumPy est que par un soucis de performances ce dernier n'est pas développer en Python mais en C++. \n",
    "\n",
    "Bien évidemment l'utilisation de ce module se fait de la manière classique : \n",
    "\n",
    "```python\n",
    "import numpy\n",
    "```\n",
    "\n",
    "Cependant par soucis de simplicité vous verrez quasiment toujours l'import réalisé en donnant un alias à numpy  :\n",
    "\n",
    "```python\n",
    "import numpy as np\n",
    "```"
   ]
  },
  {
   "cell_type": "markdown",
   "metadata": {
    "slideshow": {
     "slide_type": "subslide"
    }
   },
   "source": [
    "L'objet de base dans NumPy, celui que l'on va manipuler par la suite, est le **array**. Un **array** numpy est un tableau multidimensionnel de même type (on ne peut pas mélanger entier, flottant et chaine de caractère dans un même **array** par exemple). On appelle *rang* de l'**array** le nombre de dimension de ce dernier : \n",
    "* *rang de 1* : tableau à 1 dimension donc une ligne de M colonnes\n",
    "* *rang de 2* : tableau à 2 dimension donc N lignes et M colonnes\n",
    "* *rang de 3* : tableau à trois dimensions (un pavé dans l'espace) \n",
    "* etc \n",
    "\n",
    "Et la forme de l'*array*, *shape* en anglais, est un N-uplet qui caractérise la taille du tableau suivant chacune de ses dimensions. Par exemple :\n",
    "* Un vecteur ligne de taille **N** correspond à un **array** avec rank=1 et shape=(N,)\n",
    "* Un vecteur colonne de taille **N** correspond à un **array** avec rank=2 et shape=(1,N)\n",
    "* Une matrice rectangulaire **NxM** correspond à un **array** avec rank=2 et shape=(N,M)\n",
    "* Une hypermatrice carré **NxNxN** correspond à un array avec rank=3 et shape=(N,N,N)\n"
   ]
  },
  {
   "cell_type": "markdown",
   "metadata": {
    "slideshow": {
     "slide_type": "subslide"
    }
   },
   "source": [
    "### Création d'un **array**\n",
    "\n",
    "La définition d'un **array** à partir d'un ensemble de valeurs se fait de la manière suivante : "
   ]
  },
  {
   "cell_type": "code",
   "execution_count": 1,
   "metadata": {
    "slideshow": {
     "slide_type": "fragment"
    }
   },
   "outputs": [
    {
     "name": "stdout",
     "output_type": "stream",
     "text": [
      "une matrice 3x3 : \n",
      "[[1 2 3]\n",
      " [4 5 6]\n",
      " [7 8 9]]\n",
      "un vecteur colonne : \n",
      "[[1]\n",
      " [2]\n",
      " [3]]\n",
      "un vecteur ligne : \n",
      "[1 2 3]\n",
      "un tableau 3 dimension :\n",
      "[[[ 1  2  3]\n",
      "  [ 2  5  6]]\n",
      "\n",
      " [[11 12 13]\n",
      "  [14 15 16]]]\n"
     ]
    }
   ],
   "source": [
    "import numpy as np\n",
    "une_matrice_3_3 = np.array([[1,2,3], [4,5,6], [7,8,9]])\n",
    "print(\"une matrice 3x3 : \\n{}\".format(une_matrice_3_3))\n",
    "un_vecteur_colonne = np.array([[1,], [2,], [3,]]) \n",
    "print(\"un vecteur colonne : \\n{}\".format(un_vecteur_colonne))\n",
    "un_vecteur_ligne = np.array([1,2,3])\n",
    "print(\"un vecteur ligne : \\n{}\".format(un_vecteur_ligne))\n",
    "un_tableau_3_dimension = np.array( [[[1,2,3],[2,5,6]], [[11,12,13],[14,15,16]]])\n",
    "print(\"un tableau 3 dimension :\\n{}\".format(un_tableau_3_dimension))"
   ]
  },
  {
   "cell_type": "raw",
   "metadata": {
    "slideshow": {
     "slide_type": "subslide"
    }
   },
   "source": [
    "Pour connaitre le rang et la forme d'un **array** NumPy il suffit de procéder de la manière suivante : "
   ]
  },
  {
   "cell_type": "code",
   "execution_count": 4,
   "metadata": {
    "slideshow": {
     "slide_type": "fragment"
    }
   },
   "outputs": [
    {
     "name": "stdout",
     "output_type": "stream",
     "text": [
      "shape = (3, 1)\n",
      "rank  = 2\n"
     ]
    }
   ],
   "source": [
    "forme = un_vecteur_colonne.shape \n",
    "rang  = len(un_vecteur_colonne.shape)\n",
    "print(\"shape = {}\".format(forme))\n",
    "print(\"rank  = {}\".format(rang))\n"
   ]
  },
  {
   "cell_type": "markdown",
   "metadata": {
    "slideshow": {
     "slide_type": "subslide"
    }
   },
   "source": [
    "Afin d'initialiser un **array** NumPy dispose d'un certain nombre de fonction permettant de créer des tableaux. \n",
    "* `np.zeros` qui permet de créer un tableau ne contenant que des zéros\n",
    "* `np.zeros_like` qui permet de construire une matrice de zéros ayant la même forme qu'une autre matrice donnée en entrée.\n",
    "* `np.ones` qui créé un tableau ne contenant que des uns.\n",
    "* `np.eye` qui créé un tableau identité\n",
    "* `np.random.rand` qui créé une matrice comptenant des valeurs aléatoires.\n",
    "\n",
    "Ci-dessous des exemples d'utilisation de chacune de ces fonctions. "
   ]
  },
  {
   "cell_type": "code",
   "execution_count": 5,
   "metadata": {
    "slideshow": {
     "slide_type": "subslide"
    }
   },
   "outputs": [
    {
     "name": "stdout",
     "output_type": "stream",
     "text": [
      "np.zeros\n",
      "[[0. 0. 0. 0.]\n",
      " [0. 0. 0. 0.]]\n",
      "np.ones\n",
      "[[1.]\n",
      " [1.]\n",
      " [1.]\n",
      " [1.]\n",
      " [1.]]\n",
      "np.zeros_like\n",
      "[[0. 0. 0.]\n",
      " [0. 0. 0.]]\n",
      "np.eye\n",
      "[[1. 0. 0. 0.]\n",
      " [0. 1. 0. 0.]\n",
      " [0. 0. 1. 0.]\n",
      " [0. 0. 0. 1.]]\n",
      "np.random.rand\n",
      "[[0.01241999 0.47160465 0.2573368  0.8838361  0.39037009]\n",
      " [0.93871722 0.75789297 0.37360782 0.77687475 0.24318307]\n",
      " [0.57244805 0.87377082 0.25741403 0.40909682 0.47682399]]\n"
     ]
    }
   ],
   "source": [
    "print(\"np.zeros\")\n",
    "print(np.zeros((2,4)))\n",
    "print(\"np.ones\")\n",
    "print(np.ones((5,1)))\n",
    "print(\"np.zeros_like\")\n",
    "m = np.ones((2,3))\n",
    "print(np.zeros_like(m))\n",
    "print(\"np.eye\")\n",
    "print(np.eye(4))\n",
    "print(\"np.random.rand\")\n",
    "print(np.random.rand(3,5))"
   ]
  },
  {
   "cell_type": "markdown",
   "metadata": {
    "slideshow": {
     "slide_type": "subslide"
    }
   },
   "source": [
    "### Manipulation des **array**\n"
   ]
  },
  {
   "cell_type": "markdown",
   "metadata": {
    "slideshow": {
     "slide_type": "subslide"
    }
   },
   "source": [
    "La manipulation des **array** NumPy et notamment l'accès aux valeurs contenues dans ce dernier se fait dans le même esprit que l'accès aux éléments d'une liste à la différence près que l'on doit spécifier pour un **array** plusieurs indices étant donné qu'il s'agit d'un tableau multidimensionnel. \n",
    "\n",
    "> **Attention :**  \n",
    "> Comme pour les listes et tuples la numérotation des indices commence à **0**"
   ]
  },
  {
   "cell_type": "code",
   "execution_count": 6,
   "metadata": {
    "slideshow": {
     "slide_type": "fragment"
    }
   },
   "outputs": [
    {
     "name": "stdout",
     "output_type": "stream",
     "text": [
      "Le tableau : \n",
      "[[ 1  2  3  4  5]\n",
      " [ 6  7  8  9 10]\n",
      " [11 12 13 14 15]]\n",
      "Element 1,2 : 8\n",
      "Element 1,all : [ 6  7  8  9 10]\n"
     ]
    }
   ],
   "source": [
    "un_tableau = np.array([[1,2,3,4,5],[6,7,8,9,10],[11,12,13,14,15]])\n",
    "print(\"Le tableau : \\n{}\".format(un_tableau))\n",
    "\n",
    "a_12 = un_tableau[1,2]\n",
    "print(\"Element 1,2 : {}\".format(a_12))\n",
    "\n",
    "a_1all = un_tableau[1,:]\n",
    "print(\"Element 1,all : {}\".format(a_1all))"
   ]
  },
  {
   "cell_type": "markdown",
   "metadata": {
    "slideshow": {
     "slide_type": "subslide"
    }
   },
   "source": [
    "Tout comme pour les listes on peut accéder à des portions du tableau à l'aide de la notation `start:next+1:step`"
   ]
  },
  {
   "cell_type": "code",
   "execution_count": 7,
   "metadata": {
    "slideshow": {
     "slide_type": "fragment"
    }
   },
   "outputs": [
    {
     "name": "stdout",
     "output_type": "stream",
     "text": [
      "[[ 7  8  9 10]\n",
      " [12 13 14 15]]\n"
     ]
    }
   ],
   "source": [
    "sub_array = un_tableau[1:,1:]\n",
    "print(sub_array)"
   ]
  },
  {
   "cell_type": "code",
   "execution_count": 8,
   "metadata": {
    "slideshow": {
     "slide_type": "fragment"
    }
   },
   "outputs": [
    {
     "name": "stdout",
     "output_type": "stream",
     "text": [
      "[1 2 3 4 5]\n"
     ]
    }
   ],
   "source": [
    "sub_array = un_tableau[0,:]\n",
    "print(sub_array)"
   ]
  },
  {
   "cell_type": "code",
   "execution_count": 9,
   "metadata": {
    "slideshow": {
     "slide_type": "fragment"
    }
   },
   "outputs": [
    {
     "name": "stdout",
     "output_type": "stream",
     "text": [
      "[[ 1  3  5]\n",
      " [11 13 15]]\n"
     ]
    }
   ],
   "source": [
    "sub_array = un_tableau[::2,::2]\n",
    "print(sub_array)"
   ]
  },
  {
   "cell_type": "markdown",
   "metadata": {
    "slideshow": {
     "slide_type": "subslide"
    }
   },
   "source": [
    "Ainsi il est possible de cette manière d'accéder à un sous-tableau. Cependant dans les applications, typiquement le calcul éléments finis, il est nécessaire d'avoir accès a un sous-tableau, souvent discontinu, uniquement à partir de liste d'indices de lignes et de colonnes. Or si l'on fait ca directement on peut observer ci-dessous que le sous-tableau extrait ne correspond pas. "
   ]
  },
  {
   "cell_type": "code",
   "execution_count": 10,
   "metadata": {
    "slideshow": {
     "slide_type": "fragment"
    }
   },
   "outputs": [
    {
     "name": "stdout",
     "output_type": "stream",
     "text": [
      "La matrice complète : \n",
      "[[ 1  2  3  4  5]\n",
      " [ 6  7  8  9 10]\n",
      " [11 12 13 14 15]]\n",
      "La sous-matrice par la mauvaise approche : \n",
      "[ 2 15]\n"
     ]
    }
   ],
   "source": [
    "matrice_a = np.array([[1,2,3,4,5],[6,7,8,9,10],[11,12,13,14,15]])\n",
    "print(\"La matrice complète : \\n{}\".format(matrice_a))\n",
    "idx_i = [0,2]\n",
    "idx_j = [1,4]\n",
    "sous_matrice = matrice_a[idx_i, idx_j]\n",
    "print(\"La sous-matrice par la mauvaise approche : \\n{}\".format(sous_matrice))"
   ]
  },
  {
   "cell_type": "markdown",
   "metadata": {
    "slideshow": {
     "slide_type": "subslide"
    }
   },
   "source": [
    "Afin d'avoir le résultat souhaité il est nécessaire d'utiliser la fonction `np.ix_`. Cette dernière permet de générer à partir de deux listes d'indices, le **mask** de valeurs souhaitées. "
   ]
  },
  {
   "cell_type": "code",
   "execution_count": 11,
   "metadata": {
    "slideshow": {
     "slide_type": "fragment"
    }
   },
   "outputs": [
    {
     "name": "stdout",
     "output_type": "stream",
     "text": [
      "La matrice complète : \n",
      "[[ 1  2  3  4  5]\n",
      " [ 6  7  8  9 10]\n",
      " [11 12 13 14 15]]\n",
      "La sous-matrice par np.ix_ : \n",
      "[[ 2  5]\n",
      " [12 15]]\n"
     ]
    }
   ],
   "source": [
    "matrice_a = np.array([[1,2,3,4,5],[6,7,8,9,10],[11,12,13,14,15]])\n",
    "print(\"La matrice complète : \\n{}\".format(matrice_a))\n",
    "idx_i = [0,2]\n",
    "idx_j = [1,4]\n",
    "sous_matrice = matrice_a[np.ix_(idx_i, idx_j)]\n",
    "print(\"La sous-matrice par np.ix_ : \\n{}\".format(sous_matrice))"
   ]
  },
  {
   "cell_type": "markdown",
   "metadata": {
    "slideshow": {
     "slide_type": "subslide"
    }
   },
   "source": [
    "On vient donc de voir que l'on peut facilement extraire des sous-tableaux mais bien évidemment à l'aide de cela on peut facilement insérer des valeurs par bloque au sein d'un tableau de plus grande dimension. Par exemple : "
   ]
  },
  {
   "cell_type": "code",
   "execution_count": 12,
   "metadata": {
    "slideshow": {
     "slide_type": "fragment"
    }
   },
   "outputs": [
    {
     "name": "stdout",
     "output_type": "stream",
     "text": [
      "Big array : \n",
      "[[0. 0. 0. 0. 0. 0.]\n",
      " [0. 0. 0. 0. 0. 0.]\n",
      " [0. 0. 0. 0. 0. 0.]\n",
      " [0. 0. 0. 0. 0. 0.]\n",
      " [0. 0. 0. 0. 0. 0.]\n",
      " [0. 0. 0. 0. 0. 0.]]\n",
      "Little array : \n",
      "[[1. 0. 0.]\n",
      " [0. 1. 0.]\n",
      " [0. 0. 1.]]\n",
      "Big array après insertion : \n",
      "[[0. 0. 0. 0. 0. 0.]\n",
      " [0. 0. 0. 0. 0. 0.]\n",
      " [0. 0. 0. 0. 0. 0.]\n",
      " [1. 0. 0. 0. 0. 0.]\n",
      " [0. 1. 0. 0. 0. 0.]\n",
      " [0. 0. 1. 0. 0. 0.]]\n",
      "Big array après insertion: \n",
      "[[0.         0.         0.         0.         0.         0.        ]\n",
      " [0.         0.83817005 0.         0.19723512 0.         0.        ]\n",
      " [0.         0.         0.         0.         0.         0.        ]\n",
      " [1.         0.88205628 0.         0.79069731 0.         0.        ]\n",
      " [0.         1.         0.         0.         0.         0.        ]\n",
      " [0.         0.         1.         0.         0.         0.        ]]\n"
     ]
    }
   ],
   "source": [
    "big_array = np.zeros((6,6))\n",
    "little_array = np.eye(3)\n",
    "print(\"Big array : \\n{}\".format(big_array))\n",
    "print(\"Little array : \\n{}\".format(little_array))\n",
    "big_array[3:,0:3] = little_array\n",
    "print(\"Big array après insertion : \\n{}\".format(big_array))\n",
    "little_array = np.random.rand(2,2)\n",
    "big_array[np.ix_([1,3],[1,3])] = little_array\n",
    "print(\"Big array après insertion: \\n{}\".format(big_array))"
   ]
  },
  {
   "cell_type": "markdown",
   "metadata": {
    "slideshow": {
     "slide_type": "subslide"
    }
   },
   "source": [
    "Parmi les autres manipulations possibles sur les **array** NumPy il y a l'opération `reshape` qui permet de changer la forme d'un tableau. Par exemple : "
   ]
  },
  {
   "cell_type": "code",
   "execution_count": 13,
   "metadata": {
    "slideshow": {
     "slide_type": "fragment"
    }
   },
   "outputs": [
    {
     "name": "stdout",
     "output_type": "stream",
     "text": [
      "Tableau avant reshape (2, 3) : \n",
      "[[1 2 3]\n",
      " [4 5 6]]\n",
      "Tableau après reshape (6, 1) : \n",
      "[[1]\n",
      " [2]\n",
      " [3]\n",
      " [4]\n",
      " [5]\n",
      " [6]]\n",
      "Tableau après reshape (6,) : \n",
      "[1 2 3 4 5 6]\n"
     ]
    }
   ],
   "source": [
    "array_1 = np.array([[1,2,3],[4,5,6]])\n",
    "print(\"Tableau avant reshape {} : \\n{}\".format( array_1.shape, array_1))\n",
    "\n",
    "array_2 = array_1.reshape((6,1))\n",
    "print(\"Tableau après reshape {} : \\n{}\".format( array_2.shape, array_2))\n",
    "\n",
    "array_3 = array_1.reshape((6,))\n",
    "print(\"Tableau après reshape {} : \\n{}\".format( array_3.shape, array_3))\n"
   ]
  },
  {
   "cell_type": "markdown",
   "metadata": {
    "slideshow": {
     "slide_type": "subslide"
    }
   },
   "source": [
    "> **Attention :**  \n",
    "> Pour que l'opération de reshape puisse fonctionner il est impératif que le nombre d'éléments total soit préserver. C'est à dire qu'il faut impérativement que le produit des tailles suivant chacunes des dimensions soit égale avant et après le `reshape`\n",
    "\n",
    "> *Astuce :*  \n",
    "> Pour plus de simplicité vous pouvez lors de l'opération de reshape, laisser une des tailles libre. Cette dernière sera automatiquement déduite des autres afin de satisfaire à la condition de conservation du nombre d'élément. Pour cela il suffit de donner une taille de **-1** à la dimension laissée libre."
   ]
  },
  {
   "cell_type": "code",
   "execution_count": 14,
   "metadata": {
    "slideshow": {
     "slide_type": "subslide"
    }
   },
   "outputs": [
    {
     "name": "stdout",
     "output_type": "stream",
     "text": [
      "Après le reshape((-1,1)) : \n",
      "[[1]\n",
      " [2]\n",
      " [3]\n",
      " [4]\n",
      " [5]\n",
      " [6]]\n"
     ]
    }
   ],
   "source": [
    "vecteur_colonne = array_1.reshape((-1,1))\n",
    "print(\"Après le reshape((-1,1)) : \\n{}\".format(vecteur_colonne))"
   ]
  },
  {
   "cell_type": "markdown",
   "metadata": {
    "slideshow": {
     "slide_type": "subslide"
    }
   },
   "source": [
    "### Opérations mathématiques sur les **array**\n",
    "\n",
    "A présent que nous savons comment définir et manipuler des **array** nous allons comment calculer avec. Car comme dit plus haut le principal intérêt de NumPy est de pouvoir définir des tableau multi-dimensionnel et surtout de calculer avec. \n",
    "\n",
    "Tout d'abord les opérations usuelles, somme, addition, multiplication et division sont définies entre deux **array** mais également entre un **array** et un **nombre**. \n"
   ]
  },
  {
   "cell_type": "code",
   "execution_count": 15,
   "metadata": {
    "slideshow": {
     "slide_type": "subslide"
    }
   },
   "outputs": [
    {
     "name": "stdout",
     "output_type": "stream",
     "text": [
      "[[2. 3. 4.]\n",
      " [5. 6. 7.]]\n",
      "[[1 3 3]\n",
      " [5 5 7]]\n",
      "[[0. 1. 2.]\n",
      " [3. 4. 5.]]\n",
      "[[1 1 3]\n",
      " [3 5 5]]\n",
      "[[ 2.  4.  6.]\n",
      " [ 8. 10. 12.]]\n",
      "[[0 2 0]\n",
      " [4 0 6]]\n",
      "[[0.5 1.  1.5]\n",
      " [2.  2.5 3. ]]\n",
      "[[1.         0.5        0.33333333]\n",
      " [0.25       0.2        0.16666667]]\n",
      "[[0.         0.5        0.        ]\n",
      " [0.25       0.         0.16666667]]\n"
     ]
    }
   ],
   "source": [
    "array_1 = np.array([[1,2,3], [4,5,6]])\n",
    "array_2 = np.array([[0,1,0],[1,0,1]])\n",
    "\n",
    "## Somme d'un array un d'un nombre\n",
    "res = array_1 + 1.\n",
    "print( res )\n",
    "## Somme de deux array\n",
    "res = array_1 + array_2\n",
    "print( res )\n",
    "## Soustraction d'un array et d'un nombre\n",
    "res = array_1 - 1.\n",
    "print( res )\n",
    "## Soustraction de deux array \n",
    "res = array_1 - array_2\n",
    "print( res )\n",
    "## Multiplication d'un array et d'un nombre\n",
    "res = 2. * array_1\n",
    "print( res )\n",
    "## Multiplication terme à terme de deux array\n",
    "res = array_1 * array_2\n",
    "print( res )\n",
    "## Division d'un array par un nombre\n",
    "res = array_1 / 2. \n",
    "print( res )\n",
    "## Division d'un nombre par un array \n",
    "res = 1./array_1\n",
    "print( res )\n",
    "## Division terme à terme de deux array\n",
    "res = array_2 / array_1 \n",
    "print( res )"
   ]
  },
  {
   "cell_type": "markdown",
   "metadata": {
    "slideshow": {
     "slide_type": "subslide"
    }
   },
   "source": [
    "> **Attention :**  \n",
    "> Les opérations de division et surtout de multiplication entre deux **array** sont des opérations **terme à terme** !!\n",
    "> Il ne s'agit pas de la multiplication au sens matricielle du terme. "
   ]
  },
  {
   "cell_type": "markdown",
   "metadata": {
    "slideshow": {
     "slide_type": "subslide"
    }
   },
   "source": [
    "Comment fait on un vrai produit matriciel alors ? C'est la question qui vous démange j'en suis sur !! Pas d'inquiétude le produit matriciel tel que vous l'avez vu en math existe bien dans NumPy. Pour écrire le produit matriciel de deux tableaux NumPy vous pouvez procéder de la manière suivante : \n",
    "\n",
    "```python \n",
    "res = array_1.dot( array_2 )\n",
    "```\n",
    "\n",
    "Cette notation et le fait que l'opérateur `*` soit le produit terme à terme est l'un des principaux reproches fait à la librairies NumPy notamment de la part des utilisateur venant du monde Matlab. Pour cette raison depuis Python version 3.5 il a été ajouté à numpy l'opérateur `@` qui permet de faire le produit matriciel entre deux tableaux. \n",
    "\n",
    "```python\n",
    "res = array_1 @ array_2\n",
    "```"
   ]
  },
  {
   "cell_type": "code",
   "execution_count": 16,
   "metadata": {
    "slideshow": {
     "slide_type": "subslide"
    }
   },
   "outputs": [
    {
     "name": "stdout",
     "output_type": "stream",
     "text": [
      "array_1 = \n",
      "[[1 2 3]\n",
      " [4 5 6]]\n",
      "array_2 = \n",
      "[[10 20]\n",
      " [30 40]\n",
      " [50 60]]\n",
      "res_1 = array_1.dot(array_2) = \n",
      "[[220 280]\n",
      " [490 640]]\n",
      "res_2 = array_1 @ array_2 = \n",
      "[[220 280]\n",
      " [490 640]]\n"
     ]
    }
   ],
   "source": [
    "array_1 = np.array([[1,2,3],[4,5,6]])\n",
    "array_2 = np.array([[10,20],[30,40],[50,60]])\n",
    "print('array_1 = \\n{}'.format(array_1))\n",
    "print('array_2 = \\n{}'.format(array_2))\n",
    "\n",
    "res_1 = array_1.dot( array_2 )\n",
    "## ou \n",
    "res_2 = array_1 @ array_2\n",
    "\n",
    "print(\"res_1 = array_1.dot(array_2) = \\n{}\".format(res_1))\n",
    "print(\"res_2 = array_1 @ array_2 = \\n{}\".format(res_2))"
   ]
  },
  {
   "cell_type": "markdown",
   "metadata": {
    "slideshow": {
     "slide_type": "subslide"
    }
   },
   "source": [
    "### Quelques opérations utiles \n",
    "\n",
    "En plus des opérations usuelles, NumPy offre un certain nombre de fonctions additionnelles permettant de travailler directement sur les **array**.  \n",
    "\n",
    "Parmis ces différentes fonctions on retrouve tout d'abord toutes les fonctions définit pur les nombre dans le module `math` mais pouvant ici s'appliquer à des tableaux multi-dimensionnels. Par exemple : "
   ]
  },
  {
   "cell_type": "code",
   "execution_count": 17,
   "metadata": {
    "slideshow": {
     "slide_type": "subslide"
    }
   },
   "outputs": [
    {
     "name": "stdout",
     "output_type": "stream",
     "text": [
      "[[0.         0.69314718 1.09861229]\n",
      " [1.38629436 1.60943791 1.79175947]]\n"
     ]
    }
   ],
   "source": [
    "array_1 = np.array([[1,2,3],[4,5,6]])\n",
    "res = np.log(array_1)\n",
    "print(res)"
   ]
  },
  {
   "cell_type": "code",
   "execution_count": 18,
   "metadata": {
    "slideshow": {
     "slide_type": "fragment"
    }
   },
   "outputs": [
    {
     "name": "stdout",
     "output_type": "stream",
     "text": [
      "[[0.98480775 0.93969262 0.8660254 ]\n",
      " [0.76604444 0.64278761 0.5       ]]\n"
     ]
    }
   ],
   "source": [
    "res = np.cos( np.deg2rad( 10 * array_1 ) )\n",
    "print( res )"
   ]
  },
  {
   "cell_type": "markdown",
   "metadata": {
    "slideshow": {
     "slide_type": "subslide"
    }
   },
   "source": [
    "Il y a également quelques opérations plus spécifiques aux tableaux, comme : \n",
    "* `mean` calcul de la moyenne\n",
    "* `std` écart-type\n",
    "* `max` valeur max\n",
    "* `min` valeur min"
   ]
  },
  {
   "cell_type": "code",
   "execution_count": 19,
   "metadata": {
    "slideshow": {
     "slide_type": "fragment"
    }
   },
   "outputs": [
    {
     "name": "stdout",
     "output_type": "stream",
     "text": [
      "6\n",
      "Colonne max : [3 6]\n",
      "Ligne max : [4 5 6]\n"
     ]
    }
   ],
   "source": [
    "val_max_tableau = array_1.max()\n",
    "print(val_max_tableau)\n",
    "### Recherche du n-uplet max selon la dimension 1\n",
    "### donc recherche de la colonne max\n",
    "val_max = array_1.max(1)\n",
    "print(\"Colonne max : {}\".format(val_max))\n",
    "### Recherche du n-uplet max selon la dimension 0\n",
    "### donc recherche de la ligne max\n",
    "val_max = array_1.max(0)\n",
    "print(\"Ligne max : {}\".format(val_max))"
   ]
  },
  {
   "cell_type": "markdown",
   "metadata": {
    "slideshow": {
     "slide_type": "fragment"
    }
   },
   "source": [
    "Bien entendu les mêmes modes de fonctionnement sont disponibles pour les fonctions min, mean, std."
   ]
  },
  {
   "cell_type": "markdown",
   "metadata": {
    "slideshow": {
     "slide_type": "subslide"
    }
   },
   "source": [
    "#### Les tests et opérations booléennes"
   ]
  },
  {
   "cell_type": "markdown",
   "metadata": {
    "slideshow": {
     "slide_type": "subslide"
    }
   },
   "source": [
    "Une fonctionnalité très puissante et très utile de NumPy est la gestion des tests et des opérations booléenne. En effet cela permet facilement d'extraire des sous-matrices, de trier des données, ... La syntaxe est exactement la même que pour les opérations sur les nombres sauf pour les instructions `and` et `or` qui doivent être remplacée par `np.logical_and` et `np.logical_or`. Par exemple réalisons quelques opérations sur un tableau aléatoire. \n"
   ]
  },
  {
   "cell_type": "code",
   "execution_count": 20,
   "metadata": {
    "slideshow": {
     "slide_type": "subslide"
    }
   },
   "outputs": [
    {
     "name": "stdout",
     "output_type": "stream",
     "text": [
      "[[0.50440161 0.60517839 0.7117132  0.4891493  0.53560473 0.98282014]\n",
      " [0.59497632 0.73737505 0.84476391 0.39460153 0.48803134 0.17228741]\n",
      " [0.96097354 0.91307354 0.6319802  0.15482494 0.30407224 0.0806149 ]\n",
      " [0.62741203 0.34740305 0.97932308 0.59943706 0.97122529 0.46022487]\n",
      " [0.99696404 0.316279   0.84163091 0.28752257 0.8340381  0.48369349]]\n"
     ]
    }
   ],
   "source": [
    "tab_random = np.random.rand(5,6)\n",
    "print( tab_random )"
   ]
  },
  {
   "cell_type": "code",
   "execution_count": 21,
   "metadata": {
    "slideshow": {
     "slide_type": "fragment"
    }
   },
   "outputs": [
    {
     "name": "stdout",
     "output_type": "stream",
     "text": [
      "[[False False False  True False False]\n",
      " [False False False  True  True  True]\n",
      " [False False False  True  True  True]\n",
      " [False  True False False False  True]\n",
      " [False  True False  True False  True]]\n"
     ]
    }
   ],
   "source": [
    "mask = tab_random < 0.5 \n",
    "print(mask)"
   ]
  },
  {
   "cell_type": "markdown",
   "metadata": {
    "slideshow": {
     "slide_type": "subslide"
    }
   },
   "source": [
    "L'object `mask` est un **array** NumPy de la même taille que le tableau testé, ici `tab_random`, de booléen correspondant au résultat du test effectué sur chacun des termes du tableau. Pour extraire le tableau résultant il suffit tout simplement de procéder de la manière suivante : "
   ]
  },
  {
   "cell_type": "code",
   "execution_count": 22,
   "metadata": {
    "slideshow": {
     "slide_type": "fragment"
    }
   },
   "outputs": [
    {
     "name": "stdout",
     "output_type": "stream",
     "text": [
      "[0.4891493  0.39460153 0.48803134 0.17228741 0.15482494 0.30407224\n",
      " 0.0806149  0.34740305 0.46022487 0.316279   0.28752257 0.48369349]\n"
     ]
    }
   ],
   "source": [
    "tab_rand_inf_05 = tab_random[mask]\n",
    "print( tab_rand_inf_05 )"
   ]
  },
  {
   "cell_type": "markdown",
   "metadata": {
    "slideshow": {
     "slide_type": "subslide"
    }
   },
   "source": [
    "Si l'on souhaite maintenant récupérer toutes les valeurs comprises entre 0.4 et 0.6 il suffit de procéder de la manière suivante : "
   ]
  },
  {
   "cell_type": "code",
   "execution_count": 23,
   "metadata": {
    "slideshow": {
     "slide_type": "fragment"
    }
   },
   "outputs": [
    {
     "name": "stdout",
     "output_type": "stream",
     "text": [
      "[[ True False False  True  True False]\n",
      " [ True False False False  True False]\n",
      " [False False False False False False]\n",
      " [False False False  True False  True]\n",
      " [False False False False False  True]]\n",
      "[0.50440161 0.4891493  0.53560473 0.59497632 0.48803134 0.59943706\n",
      " 0.46022487 0.48369349]\n"
     ]
    }
   ],
   "source": [
    "mask = np.logical_and ( tab_random < 0.6, tab_random > 0.4 ) \n",
    "print(mask)\n",
    "tab_rand_inf_sup = tab_random[mask]\n",
    "print( tab_rand_inf_sup )"
   ]
  },
  {
   "cell_type": "markdown",
   "metadata": {
    "slideshow": {
     "slide_type": "subslide"
    }
   },
   "source": [
    "### L'algèbre linéaire\n",
    "\n",
    "En plus des opérations usuelles et des opérations booléennes NumPy implémente un certain nombre de fonctions d'algèbre linéaire. En effet car NumPy étant le module Python pour les tableaux multi-dimensionnel et donc en particulier les matrices et les vecteurs, il devait impérativement disposer des ces fonctions d'algèbre linéaire. Pour utiliser les fonctions d'algèbre linéaire de NumPy il faut faire appel au sous-module `numpy.linalg`. "
   ]
  },
  {
   "cell_type": "code",
   "execution_count": 24,
   "metadata": {
    "slideshow": {
     "slide_type": "fragment"
    }
   },
   "outputs": [],
   "source": [
    "import numpy.linalg as npl"
   ]
  },
  {
   "cell_type": "markdown",
   "metadata": {
    "slideshow": {
     "slide_type": "subslide"
    }
   },
   "source": [
    "Tout d'abord il y a les fonctions `norm`, `cond` et `det`, qui comme leurs noms l'indiquent permettent de calculer respectivement la norme, le conditionnement et le déterminant d'un tableau à 2 dimensions. "
   ]
  },
  {
   "cell_type": "code",
   "execution_count": 25,
   "metadata": {
    "slideshow": {
     "slide_type": "fragment"
    }
   },
   "outputs": [
    {
     "name": "stdout",
     "output_type": "stream",
     "text": [
      "A = \n",
      "[[0.40359057 0.08415542 0.46081428 0.3125961  0.47703485]\n",
      " [0.81075711 0.21071153 0.16879296 0.87783853 0.10928041]\n",
      " [0.18657027 0.97411044 0.27697113 0.27998399 0.77797036]\n",
      " [0.21988741 0.06797509 0.3078343  0.91150968 0.46662265]\n",
      " [0.55777479 0.75015237 0.22990774 0.17076016 0.97418755]]\n",
      "||A||   = 2.6581227419711815\n",
      "cond(A) = 11.667025623644054\n",
      "det(A)  = 0.11715355284034291\n"
     ]
    }
   ],
   "source": [
    "array_2d = np.random.rand(5,5)\n",
    "norm_array = npl.norm( array_2d )\n",
    "cond_array = npl.cond( array_2d )\n",
    "det_array  = npl.det( array_2d )\n",
    "\n",
    "\n",
    "print(\"A = \\n{}\".format(array_2d))\n",
    "print(\"||A||   = {}\".format(norm_array))\n",
    "print(\"cond(A) = {}\".format(cond_array))\n",
    "print(\"det(A)  = {}\".format(det_array))"
   ]
  },
  {
   "cell_type": "markdown",
   "metadata": {
    "slideshow": {
     "slide_type": "subslide"
    }
   },
   "source": [
    "Il y a ensuite toutes les méthodes de décomposition de matrice et de résolution de systèmes linéaires :\n",
    "* `solve( A, b )` qui permet de trouver la solution au système $A\\cdot x = b$\n",
    "* `inv( A )` qui permet de calculer $A^{-1}$\n",
    "* `pinv( A )` qui calcul la pseudo inverse de la matrice $A$\n",
    "* `svd` qui permet de calculer la décomposition en valeur singulière d'une matrice\n",
    "* `eig( A )` calcul les valeurs et vecteurs propres "
   ]
  },
  {
   "cell_type": "code",
   "execution_count": 26,
   "metadata": {
    "slideshow": {
     "slide_type": "subslide"
    }
   },
   "outputs": [
    {
     "name": "stdout",
     "output_type": "stream",
     "text": [
      "rhs = \n",
      "[[0.42579873]\n",
      " [0.36464957]\n",
      " [0.91929189]\n",
      " [0.38330078]\n",
      " [0.69369916]]\n",
      "Solution x = \n",
      "[[-0.03174012]\n",
      " [ 0.71431891]\n",
      " [ 0.7540054 ]\n",
      " [ 0.13083973]\n",
      " [-0.02067252]]\n",
      "A.x-rhs = \n",
      "[[ 0.00000000e+00]\n",
      " [ 0.00000000e+00]\n",
      " [ 1.11022302e-16]\n",
      " [ 0.00000000e+00]\n",
      " [-1.11022302e-16]]\n",
      "inv(A)*A = \n",
      "[[ 1.00000000e+00  4.80260566e-17  9.07099375e-17  2.42665868e-16\n",
      "  -5.37714040e-17]\n",
      " [-3.36665995e-17  1.00000000e+00  1.63924985e-17 -2.58820351e-18\n",
      "  -3.48986059e-17]\n",
      " [-3.75316730e-17  7.16669173e-17  1.00000000e+00 -5.78638624e-17\n",
      "   3.11837390e-16]\n",
      " [ 3.70311706e-17  4.86459437e-17  1.21384119e-17  1.00000000e+00\n",
      "   8.88860099e-17]\n",
      " [ 4.64223634e-17 -1.47401886e-17 -4.29951649e-18 -4.36734148e-17\n",
      "   1.00000000e+00]]\n"
     ]
    }
   ],
   "source": [
    "rhs = np.random.rand(5,1)\n",
    "print(\"rhs = \\n{}\".format(rhs))\n",
    "x = npl.solve( array_2d, rhs )\n",
    "print(\"Solution x = \\n{}\".format(x))\n",
    "verif = array_2d.dot( x ) - rhs\n",
    "print(\"A.x-rhs = \\n{}\".format(verif))\n",
    "array_inv = npl.inv( array_2d )\n",
    "verif = array_inv.dot( array_2d )\n",
    "print(\"inv(A)*A = \\n{}\".format( verif ) )\n"
   ]
  },
  {
   "cell_type": "markdown",
   "metadata": {
    "slideshow": {
     "slide_type": "subslide"
    }
   },
   "source": [
    "### Les entrées-sorties avec NumPy\n",
    "\n"
   ]
  },
  {
   "cell_type": "markdown",
   "metadata": {
    "slideshow": {
     "slide_type": "fragment"
    }
   },
   "source": [
    "En plus de fournir des fonctionnalité de création et manipulations de tableaux et d'algèbre linéaire NumPy permet de gérer des entrées-sorties de manière plus simples pour l'utilisateur que ce qui est permis de base dans Python. \n",
    "\n",
    "Parmis les différentes fonctions d'IO que propose NumPy, les trois qui vous seront certainement le plus utile sont : \n",
    "* `loadtxt` qui permet de charger le contenu d'un fichier texte (bien formatté, par exemple un csv) sous la forme directement sous la forme d'un tableau NumPy. \n",
    "* `savetxt` permet de sauvegarder dans un fichier texte le contenu d'un `array` numpy. \n",
    "* `genfromtxt` similaire à `loadtxt` sauf qu'ici le fichier de données peut comporter des trous, données manquantes, qui seront alors automatiquement remplacée par une valeur spécifiée par l'utilisateur. \n",
    "\n",
    "\n"
   ]
  },
  {
   "cell_type": "markdown",
   "metadata": {
    "slideshow": {
     "slide_type": "subslide"
    }
   },
   "source": [
    "Voici ci dessous un extrait d'un fichier texte contenant des données d'acquisition d'essai de traction."
   ]
  },
  {
   "cell_type": "code",
   "execution_count": 27,
   "metadata": {
    "slideshow": {
     "slide_type": "fragment"
    }
   },
   "outputs": [
    {
     "name": "stdout",
     "output_type": "stream",
     "text": [
      "# MTS793|MPT|FRA|1|2|,|/|:|33|1|1|A\t\t\t\t\t\t\t\t\t\r",
      "\r\n",
      "# \t\t\t\t\t\t\t\t\t\r",
      "\r\n",
      "# Acquisition de donn?s\t\t\t\t\t\tTemps:\t67,923828\ts\t26.7.2017 22:18\r",
      "\r\n",
      "# Temps\tCh 1 Displacement\tCh 1 Force\tCh 1 Extenso1\t\t\t\t\t\t\r",
      "\r\n",
      "# s\tmm\tkN\tmm\t\t\t\t\t\t\r",
      "\r\n",
      "0.11914063\t0.001544035\t0.097813249\t7.49E-05\t\t\t\t\t\t\r",
      "\r\n",
      "0.21875\t0.000721824\t0.099797331\t0.000197031\t\t\t\t\t\t\r",
      "\r\n",
      "0.31835938\t0.001864315\t0.105109\t0.000117682\t\t\t\t\t\t\r",
      "\r\n",
      "0.41796875\t0.000874794\t0.1061257\t0.000126474\t\t\t\t\t\t\r",
      "\r\n",
      "0.51757813\t0.001539255\t0.11434808\t0.000134669\t\t\t\t\t\t\r",
      "\r\n"
     ]
    }
   ],
   "source": [
    "!head data/curves/data.txt"
   ]
  },
  {
   "cell_type": "markdown",
   "metadata": {
    "slideshow": {
     "slide_type": "subslide"
    }
   },
   "source": [
    "Pour charger ces données la première solution serait de parser le fichier à la main en utilisant `open`, `read` et enfin la méthode `split` des string. Cependant `numpy` met à disposition la méthode `loadtxt` qui offre un confort d'utilisation accru. Par exemple pour charger les données précédentes, cela se réalise en une seule commande : "
   ]
  },
  {
   "cell_type": "code",
   "execution_count": 28,
   "metadata": {
    "slideshow": {
     "slide_type": "fragment"
    }
   },
   "outputs": [],
   "source": [
    "data_from_file = np.loadtxt(\"data/curves/data.txt\", comments=\"#\")"
   ]
  },
  {
   "cell_type": "code",
   "execution_count": 29,
   "metadata": {
    "scrolled": true,
    "slideshow": {
     "slide_type": "fragment"
    }
   },
   "outputs": [
    {
     "name": "stdout",
     "output_type": "stream",
     "text": [
      "Shape : (681, 4) \n",
      "[[ 1.1914063e-01  1.5440350e-03  9.7813249e-02  7.4900000e-05]\n",
      " [ 2.1875000e-01  7.2182400e-04  9.9797331e-02  1.9703100e-04]\n",
      " [ 3.1835938e-01  1.8643150e-03  1.0510900e-01  1.1768200e-04]\n",
      " [ 4.1796875e-01  8.7479400e-04  1.0612570e-01  1.2647400e-04]\n",
      " [ 5.1757813e-01  1.5392550e-03  1.1434808e-01  1.3466900e-04]\n",
      " [ 6.1718750e-01  5.5929400e-04  1.1795573e-01  1.7449300e-04]\n",
      " [ 7.1679688e-01  1.1329300e-03  1.3211440e-01  2.2992500e-04]\n",
      " [ 8.1640625e-01  2.5813600e-04  1.4328328e-01 -4.4100000e-05]\n",
      " [ 9.1601563e-01  8.1265000e-04  1.6090605e-01  4.2073400e-04]\n",
      " [ 1.0156250e+00 -4.4934800e-04  1.8887568e-01  2.5969000e-04]]\n"
     ]
    }
   ],
   "source": [
    "print(\"Shape : {} \".format(data_from_file.shape))\n",
    "print( data_from_file[:10,:])"
   ]
  },
  {
   "cell_type": "markdown",
   "metadata": {
    "slideshow": {
     "slide_type": "subslide"
    }
   },
   "source": [
    "On remarque que l'on a spécifié l'argument optionel `comments`, cela permet d'indiquer à NumPy quelles lignes sont à ne pas prendre en compte. Si jamais les premières lignes ne commencent pas par un caractère spécifique (carctère de commentaire) il est quand même possible de les ignorer à l'aide de l'argument optionel `skiprosws` qui permet d'indiquer le nombre que l'on souhaite ignorer au début du fichier. Une utilisation équivalente de `loadtxt` à la précédente serait donc : "
   ]
  },
  {
   "cell_type": "code",
   "execution_count": 30,
   "metadata": {
    "slideshow": {
     "slide_type": "fragment"
    }
   },
   "outputs": [],
   "source": [
    "data_from_file = np.loadtxt(\"data/curves/data.txt\", skiprows=5)"
   ]
  },
  {
   "cell_type": "code",
   "execution_count": 31,
   "metadata": {
    "slideshow": {
     "slide_type": "fragment"
    }
   },
   "outputs": [
    {
     "name": "stdout",
     "output_type": "stream",
     "text": [
      "Shape : (681, 4) \n",
      "[[ 1.1914063e-01  1.5440350e-03  9.7813249e-02  7.4900000e-05]\n",
      " [ 2.1875000e-01  7.2182400e-04  9.9797331e-02  1.9703100e-04]\n",
      " [ 3.1835938e-01  1.8643150e-03  1.0510900e-01  1.1768200e-04]\n",
      " [ 4.1796875e-01  8.7479400e-04  1.0612570e-01  1.2647400e-04]\n",
      " [ 5.1757813e-01  1.5392550e-03  1.1434808e-01  1.3466900e-04]\n",
      " [ 6.1718750e-01  5.5929400e-04  1.1795573e-01  1.7449300e-04]\n",
      " [ 7.1679688e-01  1.1329300e-03  1.3211440e-01  2.2992500e-04]\n",
      " [ 8.1640625e-01  2.5813600e-04  1.4328328e-01 -4.4100000e-05]\n",
      " [ 9.1601563e-01  8.1265000e-04  1.6090605e-01  4.2073400e-04]\n",
      " [ 1.0156250e+00 -4.4934800e-04  1.8887568e-01  2.5969000e-04]]\n"
     ]
    }
   ],
   "source": [
    "print(\"Shape : {} \".format(data_from_file.shape))\n",
    "print( data_from_file[:10,:])"
   ]
  }
 ],
 "metadata": {
  "celltoolbar": "Slideshow",
  "kernelspec": {
   "display_name": "Python 3",
   "language": "python",
   "name": "python3"
  },
  "language_info": {
   "codemirror_mode": {
    "name": "ipython",
    "version": 3
   },
   "file_extension": ".py",
   "mimetype": "text/x-python",
   "name": "python",
   "nbconvert_exporter": "python",
   "pygments_lexer": "ipython3",
   "version": "3.7.4"
  },
  "rise": {
   "autolaunch": true,
   "slideNumber": "c/t",
   "theme": "moon",
   "transition": "slide"
  }
 },
 "nbformat": 4,
 "nbformat_minor": 2
}
