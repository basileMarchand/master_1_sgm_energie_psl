{
 "cells": [
  {
   "cell_type": "markdown",
   "metadata": {
    "lang": "fr"
   },
   "source": [
    "# Exercices du cours\n",
    "\n",
    "**Basile Marchand (Centre des Matériaux - Mines ParisTech/CNRS/Université PSL)**"
   ]
  },
  {
   "cell_type": "markdown",
   "metadata": {
    "lang": "en"
   },
   "source": [
    "# Course exercises\n",
    "\n",
    "**Basile Marchand (Materials Center - Mines ParisTech / CNRS / PSL University)**"
   ]
  },
  {
   "cell_type": "markdown",
   "metadata": {
    "lang": "fr"
   },
   "source": [
    "## Exercice sur le slicing\n",
    "\n",
    "   1. créer la chaîne de caractères:  j'adore python et numpy !\n",
    "   1. accéder au premier et au dernier caractère de la chaîne 'j' et '!'\n",
    "   1. découper la chaîne pour ne garder que \"adore\"\n",
    "   1. renverser la chaîne: ! ypmun te nohtyp eroda'j\n",
    "   1. découper la chaîne pour ne garder que \"jaoepto tnmy!"
   ]
  },
  {
   "cell_type": "markdown",
   "metadata": {
    "lang": "en"
   },
   "source": [
    "## Slicing exercise\n",
    "\n",
    "   1. create the string: I love python and numpy!\n",
    "   1.access the first and last character of the string 'I' and '!'\n",
    "   1. cut the chain to keep only \"love\"\n",
    "   1. reverse the chain:! ypmun dna nohtyp evol I\n",
    "   1. cut the chain to keep only \"Ilv pto ad nmy\""
   ]
  },
  {
   "cell_type": "markdown",
   "metadata": {
    "lang": "fr"
   },
   "source": [
    "## Exercices sur les chaînes de caractères\n",
    "\n",
    "### Exercice 1\n",
    "   1. créer une chaîne de caractères en python\n",
    "   1. imprimer la chaîne et sa longueur en utilisant une f-string\n",
    "   1. créer une autre chaîne de caractères\n",
    "   1. concaténer les deux chaînes\n",
    "   1. mettre le résultat en majuscule\n",
    "\n",
    "### Exercices 2\n",
    "\n",
    "   1. créer une chaîne multi-lignes et l'afficher\n",
    "   1. découper la chaîne pour obtenir une liste des lignes (méthode **split**)\n",
    "   1. afficher chacune des lignes à l'aide d'une boucle for en la prefixant par son numéro"
   ]
  },
  {
   "cell_type": "markdown",
   "metadata": {
    "lang": "en"
   },
   "source": [
    "## Exercises on strings\n",
    "\n",
    "### Exercise 1\n",
    "   1. create a string in python\n",
    "   1. print the string and its length using an f-string\n",
    "   1. create another character string\n",
    "   1. concatenate the two strings\n",
    "   1. put the result in uppercase\n",
    "\n",
    "### Exercises 2\n",
    "\n",
    "   1. create a multi-line string and display it\n",
    "   1. split the string to obtain a list of lines (**split** method)\n",
    "   1. display each line using a for loop by prefixing it with its number"
   ]
  },
  {
   "cell_type": "markdown",
   "metadata": {
    "lang": "fr"
   },
   "source": [
    "## Exercice sur les listes\n",
    "\n",
    "   1. construire une liste contenant un entier, une chaînes de caractères, un flottant, un booléen\n",
    "   1. modifier le premier élément de la liste\n",
    "   1. slicer la liste de manière à n'en garder qu'un élément sur 2 à partir du début\n",
    "   1. tester si un élément est dans la liste\n",
    "   1. créer une nouvelle liste contenant elle même une liste\n",
    "   1. concaténer les deux listes\n",
    "   1. imprimer avec un **for** les éléments de la liste  "
   ]
  },
  {
   "cell_type": "markdown",
   "metadata": {
    "lang": "en"
   },
   "source": [
    "## Exercise on the lists\n",
    "\n",
    "   1. build a list containing an integer, a character string, a float, a boolean\n",
    "   1. modify the first element of the list\n",
    "   1. slice the list so as to keep only one element out of 2 from the beginning\n",
    "   1. test if an element is in the list\n",
    "   1. create a new list containing a list itself\n",
    "   1. concatenate the two lists\n",
    "   1. print with a **for** the elements of the list"
   ]
  },
  {
   "cell_type": "markdown",
   "metadata": {
    "lang": "fr"
   },
   "source": [
    "## Exercice sur les dictionnaires\n",
    "\n",
    "   1. créer un dictionnaire avec des paires de personnes décrites par leur nom et leur age\n",
    "   1. afficher le type d'un dictionnaire\n",
    "   1. tester si une personne est dans le dictionnaire et si oui modifier son age\n",
    "   1. Apppliquer la fonction **items** au dictionnaire, que renvoie-t-elle ?\n",
    "   1. imprimer avec un **for** les noms et l'age de toutes les personnes du dictionnaire  "
   ]
  },
  {
   "cell_type": "markdown",
   "metadata": {
    "lang": "en"
   },
   "source": [
    "## Exercise on dictionaries\n",
    "\n",
    "   1. create a dictionary with pairs of people described by name and age\n",
    "   1. display the type of a dictionary\n",
    "   1. test if a person is in the dictionary and if so modify his age\n",
    "   1. Apply the **items** function to the dictionary, what does it return?\n",
    "   1. print with a **for** the names and ages of all the people in the dictionary"
   ]
  },
  {
   "cell_type": "markdown",
   "metadata": {
    "lang": "fr"
   },
   "source": [
    "## Exercices sur les fonctions"
   ]
  },
  {
   "cell_type": "markdown",
   "metadata": {
    "lang": "en"
   },
   "source": [
    "## Exercises on functions"
   ]
  },
  {
   "cell_type": "markdown",
   "metadata": {
    "lang": "fr"
   },
   "source": [
    "### Exercice 1"
   ]
  },
  {
   "cell_type": "markdown",
   "metadata": {
    "lang": "en"
   },
   "source": [
    "### Exercise 1"
   ]
  },
  {
   "cell_type": "markdown",
   "metadata": {
    "lang": "fr"
   },
   "source": [
    "L'objectif de ce premier exercice est de réaliser un programme Python permettant un dépouillement élémentaire d'un grand nombre de résultats expérimentaux. Les essais expérimentaux en questions sont des essais de traction sur des éprouvettes.\n",
    "\n",
    "Les points d'intérêts qui sont abordés dans cette exercice sont les suivants :\n",
    "\n",
    "1. Modularité du code.\n",
    "1. Traitement de fichiers textes\n",
    "1. Fonction mathématiques simples\n",
    "\n",
    "Le fonctionnement attendu pour le programme est le suivant :\n",
    "\n",
    "1. L'utilisateur fourni en entrée le chemin vers le dossier contenant l'ensemble des fichiers expérimentaux\n",
    "1. Le programme liste l'ensemble des fichiers contenus dans ce dossier\n",
    "1. Pour chaque fichier :\n",
    "    * Lecture des données du fichier\n",
    "    * Identification de la contrainte maximale et de la déformation à rupture\n",
    "    * Stockage de ces quantités dans un container\n",
    "1. Calcul des moyennes de la contrainte maximale et de la contrainte à rupture\n",
    "1. Calcul des variances de la contrainte maximale et de la contrainte à rupture\n",
    "1. Affichage des résultats dans la console (avec une mise en forme propre)\n",
    "1. Ecriture des résultats dans un fichier texte.\n",
    "\n",
    "\n",
    "Les fichiers contenants les données expérimentales peuvent être téléchargés à l'adresse suivante http://bmarchand.fr/download/data/tp1.tar.gz"
   ]
  },
  {
   "cell_type": "markdown",
   "metadata": {
    "lang": "en"
   },
   "source": [
    "The objective of this first exercise is to carry out a Python program allowing an elementary examination of a large number of experimental results. The experimental tests in question are tensile tests on test specimens.\n",
    "\n",
    "The points of interest that are discussed in this exercise are as follows:\n",
    "\n",
    "1. Modularity of the code.\n",
    "1. Processing of text files\n",
    "1. Simple math function\n",
    "\n",
    "The expected operation for the program is as follows:\n",
    "\n",
    "1. The user provides as input the path to the folder containing all the experimental files\n",
    "1. The program lists all the files contained in this folder\n",
    "1. For each file:\n",
    "    *Reading data from file* Identification of maximum stress and strain at break\n",
    "    * Storage of these quantities in a container\n",
    "1. Calculation of the means of the maximum stress and the breaking stress\n",
    "1. Calculation of the variances of the maximum stress and the breaking stress\n",
    "1. Display of results in the console (with its own formatting)\n",
    "1. Write the results in a text file.\n",
    "\n",
    "\n",
    "The files containing the experimental data can be downloaded at the following address http://bmarchand.fr/download/data/tp1.tar.gz"
   ]
  },
  {
   "cell_type": "markdown",
   "metadata": {
    "lang": "fr"
   },
   "source": [
    "### Exercice 2"
   ]
  },
  {
   "cell_type": "markdown",
   "metadata": {
    "lang": "en"
   },
   "source": [
    "### Exercise 2"
   ]
  },
  {
   "cell_type": "markdown",
   "metadata": {
    "lang": "fr"
   },
   "source": [
    "Dans ce second exercice l'objectif est de définir une fonction `evalPolynom` qui doit permettre : \n",
    "\n",
    "1. Evaluer un polynôme d'ordre quelconque, défini par ses coefficients, en une valeur `x` donnée.\n",
    "2. Retourner, si l'utilisateur le demande, les valeurs de `M` dérivées successives de ce polynomes évalues en `x` également. \n",
    "3. Afficher via la fonction `help` un message d'aide clair"
   ]
  },
  {
   "cell_type": "markdown",
   "metadata": {
    "lang": "en"
   },
   "source": [
    "In this second exercise the objective is to define an `evalPolynom` function which must allow:\n",
    "\n",
    "1. Evaluate an arbitrary order polynomial, defined by its coefficients, into a given `x` value.\n",
    "2. Return, if the user requests it, the values ​​of `M` successively derived from this polynomial evaluated at` x` as well.\n",
    "3. Display a clear help message via the `help` function"
   ]
  },
  {
   "cell_type": "markdown",
   "metadata": {
    "lang": "fr"
   },
   "source": [
    "## Exercices sur les classes"
   ]
  },
  {
   "cell_type": "markdown",
   "metadata": {
    "lang": "en"
   },
   "source": [
    "## Exercises on the classes"
   ]
  },
  {
   "cell_type": "markdown",
   "metadata": {
    "lang": "fr"
   },
   "source": [
    "### Exercice 1"
   ]
  },
  {
   "cell_type": "markdown",
   "metadata": {
    "lang": "en"
   },
   "source": [
    "### Exercise 1"
   ]
  },
  {
   "cell_type": "markdown",
   "metadata": {
    "lang": "fr"
   },
   "source": [
    "Dans ce première exercice vous allez définir une classe `Vector2D` et `Vector3D` ayant :\n",
    "\n",
    "* pour attributs privés :\n",
    "    * `values` une liste de double (2 valeurs pour `Vector2D` et 3 valeurs pour ̀`Vector3D`\n",
    "    * `size` un entier spécifiant la taille du vecteur\n",
    "    \n",
    "Le comportement souhaité pour ces deux objets est le suivant : \n",
    "\n",
    "1. Être capable d'afficher proprement le vecteur à l'aide de print\n",
    "2. Retourner la taille via la fonction `len`\n",
    "3. Accéder aux valeurs contenues dans l'attribut `values` \n",
    "4. Avoir toutes les opérations usuelles \n",
    "    * Somme de deux ̀`Vector`\n",
    "    * Différence de deux ̀`Vector`\n",
    "    * Multiplication terme à terme de deux ̀`Vector`\n",
    "    \n",
    "5. Faire du broadcasting, i.e. la somme d'un `Vector2` et d'un `Vector3`doit retourner un `Vector3` pour lequelle la dernière composante est inchangée. \n",
    "\n",
    "\n",
    "\n",
    "    \n",
    "    \n"
   ]
  },
  {
   "cell_type": "markdown",
   "metadata": {
    "lang": "en"
   },
   "source": [
    "In this first exercise you will define a class `Vector2D` and` Vector3D` having:\n",
    "\n",
    "* for private attributes:\n",
    "    * `values` a list of doubles (2 values ​​for` Vector2D` and 3 values ​​for ̀`Vector3D`\n",
    "    * `size` an integer specifying the size of the vector\n",
    "    \n",
    "The desired behavior for these two objects is as follows:\n",
    "\n",
    "1. Be able to display the vector properly using print\n",
    "2. Return the size using the `len` function\n",
    "3. Access the values ​​contained in the `values` attribute\n",
    "4. Have all the usual operations* Sum of two ̀`Vector`\n",
    "    *Difference of two ̀`Vector`* Term-to-term multiplication of two ̀`Vector`\n",
    "    \n",
    "5. Make broadcasting, i.e. the sum of a `Vector2` and a` Vector3` must return a `Vector3` for which the last component is unchanged."
   ]
  },
  {
   "cell_type": "markdown",
   "metadata": {
    "lang": "fr"
   },
   "source": [
    "### Exercice 2"
   ]
  },
  {
   "cell_type": "markdown",
   "metadata": {
    "lang": "en"
   },
   "source": [
    "### Exercise 2"
   ]
  },
  {
   "cell_type": "markdown",
   "metadata": {
    "lang": "fr"
   },
   "source": [
    "**Remarque** :\n",
    "\n",
    "Vous ne trouvez pas que l'exercice précédent comporte quand même beaucoup de copier-coller ? Vous devriez en tout cas !!! \n",
    "\n",
    "L'objectif de cet exercice est donc de refaire l'exercice 1 en utilisant le concept *d'héritage* afin de minimiser les copier-coller. "
   ]
  },
  {
   "cell_type": "markdown",
   "metadata": {
    "lang": "en"
   },
   "source": [
    "**Note**:\n",
    "\n",
    "Don't you find that the previous exercise still involves a lot of copy and paste? You should in any case !!!\n",
    "\n",
    "The objective of this exercise is therefore to redo exercise 1 by using the concept *of inheritance* in order to minimize copy and paste."
   ]
  },
  {
   "cell_type": "markdown",
   "metadata": {
    "lang": "fr"
   },
   "source": [
    "## Exercice Numpy "
   ]
  },
  {
   "cell_type": "markdown",
   "metadata": {
    "lang": "en"
   },
   "source": [
    "## Numpy exercise"
   ]
  },
  {
   "cell_type": "markdown",
   "metadata": {
    "lang": "fr"
   },
   "source": [
    "### Manipulation de données \n",
    "\n",
    "L'objectif ici est de refaire l'exercice 1 sur les fonctions en utilisant maintenant du numpy autant que possible "
   ]
  },
  {
   "cell_type": "markdown",
   "metadata": {
    "lang": "en"
   },
   "source": [
    "### Data manipulation\n",
    "\n",
    "The objective here is to redo exercise 1 on functions by now using numpy as much as possible"
   ]
  },
  {
   "cell_type": "markdown",
   "metadata": {
    "lang": "fr"
   },
   "source": [
    "### Manipulation d'image (merci V. Roy pour le sujet) "
   ]
  },
  {
   "cell_type": "markdown",
   "metadata": {
    "lang": "en"
   },
   "source": [
    "### Image manipulation (thanks V. Roy for the subject)"
   ]
  },
  {
   "cell_type": "code",
   "execution_count": null,
   "metadata": {},
   "outputs": [],
   "source": [
    "import numpy as np\n",
    "from matplotlib import pyplot as plt"
   ]
  },
  {
   "cell_type": "markdown",
   "metadata": {
    "lang": "fr",
    "tags": [
     "framed_cell"
    ]
   },
   "source": [
    "**notions intervenant dans ce TP**\n",
    "\n",
    "sur les tableaux `numpy.ndarray`\n",
    "* `reshape()`, tests, masques booléens, *ufunc*, agrégation, opérations linéaires sur les `numpy.ndarray`\n",
    "* les autres notions utilisées sont rappelées (très succinctement)\n",
    "\n",
    "pour la lecture, l'écriture et l'affichage d'images\n",
    "* utilisez `plt.imread`, `plt.imshow`\n",
    "* utilisez `plt.show()` entre deux `plt.imshow()` dans la même cellule\n",
    "\n",
    "**note**\n",
    "\n",
    "* nous utilisons les fonctions de base sur les images de `pyplot` par souci de simplicité\n",
    "* nous ne signifions pas là du tout que ce sont les meilleures  \n",
    "par exemple `matplotlib.pyplot.imsave` ne vous permet pas de donner la qualité de la compression  \n",
    "alors que la fonction `save` de `PIL` le permet\n",
    "* vous êtes libres d'utiliser une autre librairie comme `opencv`  \n",
    "  si vous la connaissez assez pour vous débrouiller (et l'installer), les images ne sont qu'un prétexte\n",
    "\n",
    "**n'oubliez pas d'utiliser le help en cas de problème.**"
   ]
  },
  {
   "cell_type": "markdown",
   "metadata": {
    "lang": "en"
   },
   "source": [
    "**concepts involved in this lab**\n",
    "\n",
    "on `numpy.ndarray` arrays\n",
    "* `reshape ()`, tests, boolean masks, *ufunc*, aggregation, linear operations on `numpy.ndarray`\n",
    "* the other concepts used are recalled (very briefly)\n",
    "\n",
    "for reading, writing and viewing images\n",
    "* use `plt.imread`,`plt.imshow`\n",
    "* use `plt.show()` between two `plt.imshow ()` in the same cell\n",
    "\n",
    "**note**\n",
    "\n",
    "* we use the basic functions on the `pyplot` images for simplicity\n",
    "* we do not mean here at all that they are the best\n",
    "  for example `matplotlib.pyplot.imsave` does not allow you to give the compression quality\n",
    "  while the `save` function of` PIL` allows it\n",
    "* you are free to use another library like `opencv`\n",
    "  if you know it well enough to get by (and install it), the pictures are just a pretext **don't forget to use the help in case of problem.**"
   ]
  },
  {
   "cell_type": "markdown",
   "metadata": {
    "lang": "fr"
   },
   "source": [
    "## Somme des valeurs RGB d'une image"
   ]
  },
  {
   "cell_type": "markdown",
   "metadata": {
    "lang": "en"
   },
   "source": [
    "## Sum of RGB values ​​of an image"
   ]
  },
  {
   "cell_type": "markdown",
   "metadata": {
    "lang": "fr"
   },
   "source": [
    "0. Lisez l'image `les-mines.jpg`\n",
    "\n",
    "1. Créez un nouveau tableau `numpy.ndarray` en sommant **avec l'opérateur `+`** les valeurs RGB des pixels de votre image  \n",
    "\n",
    "2. Affichez l'image (pas terrible), son maximum et son type\n",
    "\n",
    "3. Créez un nouveau tableau `numpy.ndarray` en sommant **avec la fonction d'agrégation `np.sum`** les valeurs RGB des pixels de votre image\n",
    "\n",
    "4. Affichez l'image, son maximum et son type\n",
    "\n",
    "5. Pourquoi cette différence ? Utilisez le help `np.sum?`\n",
    "\n",
    "6. Passez l'image en niveaux de gris de type entiers non-signés 8 bits  \n",
    "(de la manière que vous préférez)\n",
    "\n",
    "7. Remplacez dans l'image en niveaux de gris,   \n",
    "les valeurs >= à 127 par 255 et celles inférieures par 0  \n",
    "Affichez l'image avec une carte des couleurs des niveaux de gris  \n",
    "vous pouvez utilisez la fonction `numpy.where`\n",
    "\n",
    "8. avec la fonction `numpy.unique`  \n",
    "regardez les valeurs différentes que vous avez dans votre image en noir et blanc"
   ]
  },
  {
   "cell_type": "markdown",
   "metadata": {
    "lang": "en"
   },
   "source": [
    "0. Read the image `media/les-mines.jpg`\n",
    "\n",
    "1. Create a new array `numpy.ndarray` by adding **with the operator` + `** the RGB values ​​of the pixels of your image\n",
    "\n",
    "2. Display the image (not terrible), its maximum and its type\n",
    "\n",
    "3. Create a new array `numpy.ndarray` by adding **with the aggregation function` np.sum`** the RGB values ​​of the pixels of your image\n",
    "\n",
    "4. Display the image, its maximum and its type\n",
    "\n",
    "5. Why this difference? Use the help `np.sum?`\n",
    "\n",
    "6. Make the image grayscale of type 8-bit unsigned integer\n",
    "(whichever way you prefer)\n",
    "\n",
    "7. Replace in the grayscale image,\n",
    "values> = to 127 by 255 and those lower by 0\n",
    "Display the image with a grayscale color map\n",
    "you can use the `numpy.where` function\n",
    "\n",
    "8. with the function `numpy.unique`\n",
    "look at the different values ​​you have in your black and white image"
   ]
  },
  {
   "cell_type": "markdown",
   "metadata": {
    "lang": "fr"
   },
   "source": [
    "## Image en sépia"
   ]
  },
  {
   "cell_type": "markdown",
   "metadata": {
    "lang": "en"
   },
   "source": [
    "## Sepia image"
   ]
  },
  {
   "cell_type": "markdown",
   "metadata": {
    "lang": "fr"
   },
   "source": [
    "Pour passer en sépia les valeurs R, G et B d'un pixel  \n",
    "(encodées ici sur un entier non-signé 8 bits)  \n",
    "\n",
    "1. on transforme les valeurs $R$, $G$ et $B$ par la transformation  \n",
    "$0.393\\, R + 0.769\\, G + 0.189\\, B$  \n",
    "$0.349\\, R + 0.686\\, G + 0.168\\, B$  \n",
    "$0.272\\, R + 0.534\\, G + 0.131\\, B$  \n",
    "(attention les calculs doivent se faire en flottants pas en uint8  \n",
    "pour ne pas avoir, par exemple, 256 devenant 0)  \n",
    "1. puis on seuille les valeurs qui sont plus grandes que `255` à `255`\n",
    "1. naturellement l'image doit être ensuite remise dans un format correct  \n",
    "(uint8 ou float entre 0 et 1)"
   ]
  },
  {
   "cell_type": "markdown",
   "metadata": {
    "lang": "en"
   },
   "source": [
    "To change the R, G and B values ​​of a pixel to sepia\n",
    "(encoded here on an 8-bit unsigned integer)\n",
    "\n",
    "1. we transform the values $R$, $G$ and $B$ by the transformation  \n",
    "   $0.393\\, R + 0.769\\, G + 0.189\\, B$  \n",
    "   $0.349\\, R + 0.686\\, G + 0.168\\, B$  \n",
    "   $0.272\\, R + 0.534\\, G + 0.131\\, B$  \n",
    "   (attention the calculations must be done in floats not in uint8\n",
    "   so as not to have, for example, 256 becoming 0)\n",
    "1. then we threshold the values ​​which are greater than `255` to` 255`\n",
    "1. of course the image must then be submitted in the correct format\n",
    "   (uint8 or float between 0 and 1)"
   ]
  },
  {
   "cell_type": "markdown",
   "metadata": {
    "lang": "fr"
   },
   "source": [
    "**Exercice**\n",
    "\n",
    "1. Faites une fonction qui prend en argument une image RGB et rend une image RGB sépia  \n",
    "\n",
    "1. Passez votre patchwork de couleurs en sépia  \n",
    "Lisez le fichier `media/patchwork-all.jpg` si vous n'avez pas de fichier perso\n",
    "2. Passez l'image `media/les-mines.jpg` en sépia   "
   ]
  },
  {
   "cell_type": "markdown",
   "metadata": {
    "lang": "en"
   },
   "source": [
    "**Exercise**\n",
    "\n",
    "1. Make a function which takes an RGB image as argument and renders a sepia RGB image.\n",
    "\n",
    "1. Spend your patchwork of colors in sepia\n",
    "Read the `media/patchwork-all.jpg` file if you don't have a custom file\n",
    "2. Pass the image `media/les-mines.jpg` in sepia"
   ]
  },
  {
   "cell_type": "code",
   "execution_count": null,
   "metadata": {},
   "outputs": [],
   "source": []
  }
 ],
 "metadata": {
  "kernelspec": {
   "display_name": "Python 3",
   "language": "python",
   "name": "python3"
  },
  "language_info": {
   "codemirror_mode": {
    "name": "ipython",
    "version": 3
   },
   "file_extension": ".py",
   "mimetype": "text/x-python",
   "name": "python",
   "nbconvert_exporter": "python",
   "pygments_lexer": "ipython3",
   "version": "3.7.4"
  },
  "nbTranslate": {
   "displayLangs": [
    "*"
   ],
   "hotkey": "alt-t",
   "langInMainMenu": true,
   "sourceLang": "fr",
   "targetLang": "en",
   "useGoogleTranslate": true
  }
 },
 "nbformat": 4,
 "nbformat_minor": 2
}
