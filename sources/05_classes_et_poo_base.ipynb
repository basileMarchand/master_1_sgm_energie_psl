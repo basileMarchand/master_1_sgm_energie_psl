{
 "cells": [
  {
   "cell_type": "markdown",
   "metadata": {
    "lang": "fr",
    "slideshow": {
     "slide_type": "slide"
    }
   },
   "source": [
    "# Classes, objet et paradigme POO\n",
    "\n",
    "-----------------------------------------\n",
    "\n",
    "***Basile Marchand (Centre des Matériaux - Mines ParisTech/CNRS/Université PSL)***"
   ]
  },
  {
   "cell_type": "markdown",
   "metadata": {
    "lang": "en"
   },
   "source": [
    "# Classes, object and OOP paradigm\n",
    "\n",
    "-----------------------------------------\n",
    "\n",
    "*** Basile Marchand (Materials Center - Mines ParisTech / CNRS / PSL University)** *"
   ]
  },
  {
   "cell_type": "markdown",
   "metadata": {
    "lang": "fr",
    "slideshow": {
     "slide_type": "slide"
    }
   },
   "source": [
    "## Python un langage objet"
   ]
  },
  {
   "cell_type": "markdown",
   "metadata": {
    "lang": "en"
   },
   "source": [
    "## Python an object language"
   ]
  },
  {
   "cell_type": "markdown",
   "metadata": {
    "lang": "fr",
    "slideshow": {
     "slide_type": "subslide"
    }
   },
   "source": [
    "### Les objets"
   ]
  },
  {
   "cell_type": "markdown",
   "metadata": {
    "lang": "en"
   },
   "source": [
    "### Items"
   ]
  },
  {
   "cell_type": "markdown",
   "metadata": {
    "lang": "fr",
    "slideshow": {
     "slide_type": "fragment"
    }
   },
   "source": [
    "Nous allons à présent abordé un point essentiel, bien que l'on ne l'ait pas abordé jusqu'ici, je veux parler du fait que Python est un langage orienté **objets**. Cela veut dire que tout ce que l'on manipule dans le langage Python (listes, dictionnaires, chaîne de caractère, module, ...) est un objet.\n",
    "\n"
   ]
  },
  {
   "cell_type": "markdown",
   "metadata": {
    "lang": "en"
   },
   "source": [
    "Now we'll cover a key point, although we haven't covered it so far, I want to talk about the fact that Python is an **object-oriented** language. This means that everything that we manipulate in the Python language (lists, dictionaries, character strings, module, ...) is an object."
   ]
  },
  {
   "cell_type": "markdown",
   "metadata": {
    "lang": "fr",
    "slideshow": {
     "slide_type": "fragment"
    }
   },
   "source": [
    "La question que vous vous posez alors est qu'est ce qu'un objet ? Il s'agit là d'un sujet vaste, pouvant être sujet à de nombreuses interprétations personnelles. Pour le moment nous nous contenterons de dire qu'un objet représente un type de variable contenant des variables (que l'on appelera par la suite **attributs**) ainsi que des fonctions (que l'on appelera par la suite **méthodes**). En d'autres mots nous pouvons voir les objets pour le moment comme étant des structures de données particulières. "
   ]
  },
  {
   "cell_type": "markdown",
   "metadata": {
    "lang": "en"
   },
   "source": [
    "The question you ask yourself then is what is an object? This is a vast subject, which can be subject to many personal interpretations. For the moment we will be satisfied to say that an object represents a type of variable containing variables (which will be called later **attributes**) as well as functions (which will be called by the following **methods**). In other words, we can see the objects at the moment as being particular data structures."
   ]
  },
  {
   "cell_type": "markdown",
   "metadata": {
    "lang": "fr",
    "slideshow": {
     "slide_type": "fragment"
    }
   },
   "source": [
    "Pour ne rien vous cacher il faut avouer que python est un langage objet car toutes les variables que vous manipulez sont en réalité des objets. En effet toutes les variables, entiers, flottants, liste, fonctions, ... que vous avez manipulées jusqu'à maintenant étant sans que vous ne le sachiez des objets. "
   ]
  },
  {
   "cell_type": "markdown",
   "metadata": {
    "lang": "en"
   },
   "source": [
    "To be honest, you have to admit that python is an object language because all the variables you handle are actually objects. Indeed all the variables, integers, floats, list, functions, ... that you have handled until now being without your knowing it objects."
   ]
  },
  {
   "cell_type": "markdown",
   "metadata": {
    "lang": "fr",
    "slideshow": {
     "slide_type": "subslide"
    }
   },
   "source": [
    "### Quel intérêts de manipuler des objets ? "
   ]
  },
  {
   "cell_type": "markdown",
   "metadata": {
    "lang": "en"
   },
   "source": [
    "### What are the advantages of handling objects?"
   ]
  },
  {
   "cell_type": "markdown",
   "metadata": {
    "lang": "fr",
    "slideshow": {
     "slide_type": "subslide"
    }
   },
   "source": [
    "Il faut bien être conscient que de nombreux langage de programmation ne dispose pas de la notion d'objet et il sont pourtant très utilisé. Alors quel intérêt y a-t-il a utiliser des objets ? Pour le moment nous pouvons surtout établir le fait que dans de nombreuses applications nous avons besoins de manipuler des données composites. \n",
    "\n",
    "Par exemple pour la gestion d'une *todo-list* il nous faut gérer des tâches. On peut définir ces tâches comme un ensemble de données : identifiant, descriptif, status, pourcentage d'avancement, ... Une solution pour implémenter cette structures de données peut-être d'utiliser des dictionnaires  "
   ]
  },
  {
   "cell_type": "markdown",
   "metadata": {
    "lang": "en"
   },
   "source": [
    "We must be aware that many programming languages ​​do not have the concept of object and yet they are widely used. So what is the point in using objects? For the moment we can mainly establish the fact that in many applications we need to manipulate composite data.\n",
    "\n",
    "For example for the management of a *todo-list* we need to manage tasks. We can define these tasks as a set of data: identifier, description, status, percentage of progress, ... A solution to implement this data structures may be to use dictionaries"
   ]
  },
  {
   "cell_type": "code",
   "execution_count": 4,
   "metadata": {
    "slideshow": {
     "slide_type": "fragment"
    }
   },
   "outputs": [],
   "source": [
    "task={\"id\": 0, \"description\": \"Finir le cours python à temps\", \"status\": \"en cours\", \"stats\": 50}"
   ]
  },
  {
   "cell_type": "markdown",
   "metadata": {
    "lang": "fr",
    "slideshow": {
     "slide_type": "fragment"
    }
   },
   "source": [
    "Il s'agit d'une approche faisant l'affaire pour un programme simple mais qui devient rapidement un peu lourde pour des applications plus complexes. "
   ]
  },
  {
   "cell_type": "markdown",
   "metadata": {
    "lang": "en"
   },
   "source": [
    "This is an approach that works for a simple program but quickly becomes a bit cumbersome for more complex applications."
   ]
  },
  {
   "cell_type": "markdown",
   "metadata": {
    "slideshow": {
     "slide_type": "fragment"
    }
   },
   "source": [
    "L'objet de cette section est donc de voir comment nous pouvons mettre en place un objet de type Task qui nous permettra de manipuler plus facilement les données associées à chaque tâchee. "
   ]
  },
  {
   "cell_type": "markdown",
   "metadata": {
    "lang": "fr",
    "slideshow": {
     "slide_type": "slide"
    }
   },
   "source": [
    "## Définir ses objets en python  "
   ]
  },
  {
   "cell_type": "markdown",
   "metadata": {
    "lang": "en"
   },
   "source": [
    "## Define your objects in python"
   ]
  },
  {
   "cell_type": "markdown",
   "metadata": {
    "lang": "fr",
    "slideshow": {
     "slide_type": "subslide"
    }
   },
   "source": [
    "### Le mot clé `class`"
   ]
  },
  {
   "cell_type": "markdown",
   "metadata": {
    "lang": "en"
   },
   "source": [
    "### The `class` keyword"
   ]
  },
  {
   "cell_type": "markdown",
   "metadata": {
    "lang": "fr",
    "slideshow": {
     "slide_type": "fragment"
    }
   },
   "source": [
    "Pour définir ses propres objets en Python on doit définir ce que l'on appelle une **classe**. Dans toute la suite on utilisera sans distinction le termes classe et objet. \n",
    "\n",
    "La syntaxe pour définir notre objet `Task` est la suivante : "
   ]
  },
  {
   "cell_type": "markdown",
   "metadata": {
    "lang": "en"
   },
   "source": [
    "To define your own objects in Python you have to define what we call a **class**. Throughout what follows, the terms class and object will be used without distinction.\n",
    "\n",
    "The syntax for defining our `Task` object is as follows:"
   ]
  },
  {
   "cell_type": "code",
   "execution_count": 5,
   "metadata": {
    "slideshow": {
     "slide_type": "fragment"
    }
   },
   "outputs": [],
   "source": [
    "class Task:\n",
    "    def __init__(self, tid, desc):\n",
    "        self._tid = tid\n",
    "        self._description = desc\n",
    "        self._status = \"todo\"\n",
    "        self._stats = 0"
   ]
  },
  {
   "cell_type": "markdown",
   "metadata": {
    "lang": "fr",
    "slideshow": {
     "slide_type": "subslide"
    }
   },
   "source": [
    "Une fois la classe définie on peut l'utiliser pour définir des objets. On parle alors d'instance de `Task`. Par exemple pour créer une variable `t1` instance de `Task` on procède de la manière suivante : "
   ]
  },
  {
   "cell_type": "markdown",
   "metadata": {
    "lang": "en"
   },
   "source": [
    "Once the class is defined, it can be used to define objects. We then speak of an instance of `Task`. For example, to create a variable `t1` an instance of` Task`, we proceed as follows:"
   ]
  },
  {
   "cell_type": "code",
   "execution_count": 6,
   "metadata": {
    "slideshow": {
     "slide_type": "fragment"
    }
   },
   "outputs": [
    {
     "name": "stdout",
     "output_type": "stream",
     "text": [
      "<__main__.Task object at 0x7f0530106c50>\n"
     ]
    }
   ],
   "source": [
    "t1 = Task(0, \"Finir le cours python à temps\")\n",
    "print( t1 )"
   ]
  },
  {
   "cell_type": "markdown",
   "metadata": {
    "lang": "fr",
    "slideshow": {
     "slide_type": "subslide"
    }
   },
   "source": [
    "La première chose a notée est que l'on définit une méthode `__init__`. Cette méthode est une méthode spéciale (reconaissable au double underscore), elle définit la manière dont on initialize la classe lorsque l'on crée une instance de cette dernière. Il est important de noter que la méthode `__init__(self, tid, desc)` est définie avec 3 arguments d'entrée alors qu'à l'instanciation de `Task` on ne fournit que deux arguments `0` et `\"Finir le cours python à temps\"`. Cela est normal. L'argument `self` est en fait un argument particulier en Python qui représente l'instance de l'objet que l'on est en train de manipuler, ici `t1`. "
   ]
  },
  {
   "cell_type": "markdown",
   "metadata": {
    "lang": "en"
   },
   "source": [
    "The first thing noticed is that we define a method `__init__`. This method is a special method (recognizable as double underscore), it defines the way in which we initialize the class when we create an instance of the latter. It is important to note that the `__init__ (self, tid, desc)` method is defined with 3 input arguments while at the instantiation of `Task` we only provide two` arguments 0` and `\" Finish the python course on time \"`. This is normal. The `self` argument is in fact a particular argument in Python which represents the instance of the object that we are handling, here` t1`."
   ]
  },
  {
   "cell_type": "markdown",
   "metadata": {
    "lang": "fr",
    "slideshow": {
     "slide_type": "fragment"
    }
   },
   "source": [
    "Vous avez certainement remarqué que dans la méthode `__init__` nous utilisons cet argument `self` pour l'expression `self._tid = tid`. Cet ligne signifie que l'on affecte à l'attribut `name` de l'instance `Task` en cours de création, la valeur contenue dans la variable `tid` donnée en argument. De la même manière, on définit un attribut `_description` dans lequel on vient stocker la valeur de `desc` ainsi que deux attributs `_status` et `stats` avec chacun une valeur par défaut fixe. "
   ]
  },
  {
   "cell_type": "markdown",
   "metadata": {
    "lang": "en"
   },
   "source": [
    "You've probably noticed that in the `__init__` method we use this `self` argument for the expression` self. _tid = tid`. This line means that we assign to the `name` attribute of the` Task` instance being created, the value contained in the `tid` variable given as argument. In the same way, we define an attribute `_ description` in which we store the value of` desc` as well as two attributes `_status` and` stats` each with a fixed default value."
   ]
  },
  {
   "cell_type": "markdown",
   "metadata": {
    "lang": "fr",
    "slideshow": {
     "slide_type": "fragment"
    }
   },
   "source": [
    "Nous verrons par la suite que cet argument `self` est toujours présent dans la définition des méthodes d'une classe et pas uniquement dans la méthode `__init__`.  "
   ]
  },
  {
   "cell_type": "markdown",
   "metadata": {
    "lang": "en"
   },
   "source": [
    "We will see later that this `self` argument is always present in the definition of the methods of a class and not only in the` __init__ `method."
   ]
  },
  {
   "cell_type": "markdown",
   "metadata": {
    "lang": "fr",
    "slideshow": {
     "slide_type": "subslide"
    }
   },
   "source": [
    "### Attributs et méthodes "
   ]
  },
  {
   "cell_type": "markdown",
   "metadata": {
    "lang": "en"
   },
   "source": [
    "### Attributes and methods"
   ]
  },
  {
   "cell_type": "markdown",
   "metadata": {
    "lang": "fr",
    "slideshow": {
     "slide_type": "subslide"
    }
   },
   "source": [
    "Précédemment nous avons définit une class `Task` très simple comportant quatre attributs. Et nous avons créer une instance `t1` de cette classe. Un attribut peut donc être considéré comme une variable attaché à une instance de classe. Par exemple si l'on souhaite accéder à la valeur de l'attribut `_description` de l'instance `t1` il suffit de procéder de la manière suivante :  "
   ]
  },
  {
   "cell_type": "markdown",
   "metadata": {
    "lang": "en"
   },
   "source": [
    "Previously we defined a very simple `Task` class with four attributes. And we created a `t1` instance of this class. An attribute can therefore be considered as a variable attached to a class instance. For example, if you want to access the value of the `_description` attribute of the` t1` instance, just proceed as follows:"
   ]
  },
  {
   "cell_type": "code",
   "execution_count": 7,
   "metadata": {
    "slideshow": {
     "slide_type": "fragment"
    }
   },
   "outputs": [
    {
     "data": {
      "text/plain": [
       "'Finir le cours python à temps'"
      ]
     },
     "execution_count": 7,
     "metadata": {},
     "output_type": "execute_result"
    }
   ],
   "source": [
    "t1._description"
   ]
  },
  {
   "cell_type": "markdown",
   "metadata": {
    "lang": "fr",
    "slideshow": {
     "slide_type": "fragment"
    }
   },
   "source": [
    "La question que vous vous posez peut-être est s'il est alors possible de définir des méthodes manipulant les attributs d'une instance. La réponse est **oui**, les objets c'est fait pour ça ! "
   ]
  },
  {
   "cell_type": "markdown",
   "metadata": {
    "lang": "en"
   },
   "source": [
    "The question you may be asking yourself is whether it is then possible to define methods that manipulate the attributes of an instance. The answer is **yes**, objects are made for that!"
   ]
  },
  {
   "cell_type": "markdown",
   "metadata": {
    "lang": "fr",
    "slideshow": {
     "slide_type": "subslide"
    }
   },
   "source": [
    "Par exemple regardons comment implément la méthode spéciale `__repr__`. Elle sert à quoi cette méthode ? Un exemple "
   ]
  },
  {
   "cell_type": "markdown",
   "metadata": {
    "lang": "en"
   },
   "source": [
    "For example let's see how to implement the special method `__repr__`. What is this method for? An example"
   ]
  },
  {
   "cell_type": "code",
   "execution_count": 8,
   "metadata": {
    "slideshow": {
     "slide_type": "fragment"
    }
   },
   "outputs": [
    {
     "name": "stdout",
     "output_type": "stream",
     "text": [
      "<__main__.Task object at 0x7f0530106c50>\n"
     ]
    }
   ],
   "source": [
    "print(t1)"
   ]
  },
  {
   "cell_type": "markdown",
   "metadata": {
    "lang": "fr",
    "slideshow": {
     "slide_type": "fragment"
    }
   },
   "source": [
    "C'est quand même très moche non ? Et ça ne nous aide pas trop. La méthode `__repr__` est la méthode spéciale (reconnaissable au double underscore) qui est chargée de retourner une chaine de caractère lorsque l'on souhaite afficher un objet. Par exemple une implémentation possible est la suivante : "
   ]
  },
  {
   "cell_type": "markdown",
   "metadata": {
    "lang": "en"
   },
   "source": [
    "It's still very ugly isn't it? And that doesn't help us too much. The `__repr__` method is the special method (recognizable by the double underscore) which is responsible for returning a character string when we want to display an object. For example a possible implementation is the following:"
   ]
  },
  {
   "cell_type": "code",
   "execution_count": 9,
   "metadata": {
    "slideshow": {
     "slide_type": "fragment"
    }
   },
   "outputs": [],
   "source": [
    "class Task:\n",
    "    def __init__(self, tid, desc):\n",
    "        self._tid = tid\n",
    "        self._description = desc\n",
    "        self._status = \"todo\" ## todo, in progress or finished\n",
    "        self._stats = 0\n",
    "        \n",
    "    def __repr__(self):\n",
    "        return f\"{self._tid} [{self._stats} %] : {self._description}\""
   ]
  },
  {
   "cell_type": "code",
   "execution_count": 10,
   "metadata": {
    "slideshow": {
     "slide_type": "fragment"
    }
   },
   "outputs": [
    {
     "name": "stdout",
     "output_type": "stream",
     "text": [
      "0 [0 %] : Finir le cours Python à temps\n"
     ]
    }
   ],
   "source": [
    "t2 = Task(0, \"Finir le cours Python à temps\")\n",
    "print(t2)"
   ]
  },
  {
   "cell_type": "markdown",
   "metadata": {
    "lang": "fr",
    "slideshow": {
     "slide_type": "subslide"
    }
   },
   "source": [
    "Vous pouvez alors remarquer que l'on manipule les valeurs de l'instance `t2` dans la méthode `__repr__` à l'aide de l'attribut `self`. Une autre manière de voir les choses est de se dire que `Task` représente un espace de nom (namespace) dans lequel on range toutes les \"fonctions\" opérants sur des variables de type Task. Par exemple nous pouvons tout à fait écrire : "
   ]
  },
  {
   "cell_type": "markdown",
   "metadata": {
    "lang": "en"
   },
   "source": [
    "You can then notice that we manipulate the values ​​of the `t2` instance in the` __repr__ `method using the` self` attribute. Another way of looking at it is to say that `Task` represents a namespace in which we store all the\" functions \"operating on variables of type Task. For example we can completely write:"
   ]
  },
  {
   "cell_type": "code",
   "execution_count": 11,
   "metadata": {
    "slideshow": {
     "slide_type": "fragment"
    }
   },
   "outputs": [
    {
     "data": {
      "text/plain": [
       "'0 [0 %] : Finir le cours Python à temps'"
      ]
     },
     "execution_count": 11,
     "metadata": {},
     "output_type": "execute_result"
    }
   ],
   "source": [
    "Task.__repr__(t2)"
   ]
  },
  {
   "cell_type": "markdown",
   "metadata": {
    "lang": "fr",
    "slideshow": {
     "slide_type": "fragment"
    }
   },
   "source": [
    "Bien évidemment cette syntaxe est très rarement utilisée et ne présente pas d'intérêt particulier, ormis illustrer ici le fait que `self` représente bien l'instance de la classe. "
   ]
  },
  {
   "cell_type": "markdown",
   "metadata": {
    "lang": "en"
   },
   "source": [
    "Obviously this syntax is very rarely used and is of no particular interest, except to illustrate here the fact that `self` represents the instance of the class."
   ]
  },
  {
   "cell_type": "markdown",
   "metadata": {
    "lang": "fr",
    "slideshow": {
     "slide_type": "subslide"
    }
   },
   "source": [
    "Pour le moment nous n'avons vu que des méthodes **spéciales**, c'est-à-dire des méthodes prédéfinie dans le langage Python et ayant une signification paraticulière. Mais nous pouvons bien évidemment définir des méthodes selon nos envies et nos humeurs. Par exemple implémentons dans notre objet task une méthode qui déclare une tâche terminée. "
   ]
  },
  {
   "cell_type": "markdown",
   "metadata": {
    "lang": "en"
   },
   "source": [
    "For the moment we have only seen special **methods**, that is to say methods predefined in the Python language and having a paraticular meaning. But we can obviously define methods according to our desires and our moods. For example, let's implement a method in our task object that declares a task completed."
   ]
  },
  {
   "cell_type": "code",
   "execution_count": 12,
   "metadata": {
    "slideshow": {
     "slide_type": "fragment"
    }
   },
   "outputs": [],
   "source": [
    "class Task:\n",
    "    def __init__(self, tid, desc):\n",
    "        self._tid = tid\n",
    "        self._description = desc\n",
    "        self._status = \"todo\" ## todo, in progress or finished\n",
    "        self._stats = 0\n",
    "        \n",
    "    def __repr__(self):\n",
    "        return f\"{self._tid} [{self._stats} %] : {self._description}\"\n",
    "    \n",
    "    def setFinished(self):\n",
    "        self._status = \"finished\"\n",
    "        self._stats = 100"
   ]
  },
  {
   "cell_type": "code",
   "execution_count": 13,
   "metadata": {
    "slideshow": {
     "slide_type": "subslide"
    }
   },
   "outputs": [
    {
     "name": "stdout",
     "output_type": "stream",
     "text": [
      "0 [0 %] : Finir le cours Python à temps\n",
      "0 [100 %] : Finir le cours Python à temps\n"
     ]
    }
   ],
   "source": [
    "t1 = Task(0, \"Finir le cours Python à temps\")\n",
    "print(t1)\n",
    "t1.setFinished()\n",
    "print(t1)"
   ]
  },
  {
   "cell_type": "markdown",
   "metadata": {
    "lang": "fr",
    "slideshow": {
     "slide_type": "fragment"
    }
   },
   "source": [
    "Bien évidemment, tout ce que vous savez au sujet des fonctions Python est applicables et utilisables dans la définition des méthodes de vos classes. Par exemple si l'on souhaite implémenter une méthode `update` qui incrémente l'attribut `_stats` par défaut de 10 points. "
   ]
  },
  {
   "cell_type": "markdown",
   "metadata": {
    "lang": "en"
   },
   "source": [
    "Of course, everything you know about Python functions is applicable and usable in defining the methods of your classes. For example if you want to implement an `update` method which increments the default` _stats` attribute by 10 points."
   ]
  },
  {
   "cell_type": "code",
   "execution_count": 14,
   "metadata": {
    "slideshow": {
     "slide_type": "fragment"
    }
   },
   "outputs": [],
   "source": [
    "class Task:\n",
    "    def __init__(self, tid, desc):\n",
    "        self._tid = tid\n",
    "        self._description = desc\n",
    "        self._status = \"todo\" ## todo, in progress or finished\n",
    "        self._stats = 0\n",
    "        \n",
    "    def __repr__(self):\n",
    "        return f\"{self._tid} [{self._stats} %] : {self._description}\"\n",
    "    \n",
    "    def setFinished(self):\n",
    "        self._status = \"finished\"\n",
    "        self._stats = 100\n",
    "        \n",
    "    def update(self, incr=10):\n",
    "        self._stats += incr\n",
    "        if self._stats >= 100:\n",
    "            print(\"stats >= 100 we close the task\")\n",
    "            self.setFinished()"
   ]
  },
  {
   "cell_type": "code",
   "execution_count": 15,
   "metadata": {
    "slideshow": {
     "slide_type": "subslide"
    }
   },
   "outputs": [
    {
     "name": "stdout",
     "output_type": "stream",
     "text": [
      "0 [10 %] : Finir le cours Python à temps\n",
      "0 [95 %] : Finir le cours Python à temps\n",
      "stats >= 100 we close the task\n",
      "0 [100 %] : Finir le cours Python à temps\n"
     ]
    }
   ],
   "source": [
    "t1 = Task(0, \"Finir le cours Python à temps\")\n",
    "t1.update() ; print(t1)\n",
    "t1.update(85) ## j'ai beaucoup travailler aujourd'hui\n",
    "print(t1)\n",
    "t1.update()\n",
    "print(t1)"
   ]
  },
  {
   "cell_type": "markdown",
   "metadata": {
    "lang": "fr",
    "slideshow": {
     "slide_type": "slide"
    }
   },
   "source": [
    "## Intégrer ses objets dans l'écosystème Python"
   ]
  },
  {
   "cell_type": "markdown",
   "metadata": {
    "lang": "en"
   },
   "source": [
    "## Integrate your objects into the Python ecosystem"
   ]
  },
  {
   "cell_type": "markdown",
   "metadata": {
    "lang": "fr",
    "slideshow": {
     "slide_type": "subslide"
    }
   },
   "source": [
    "### Mais on est déjà dans Python !!"
   ]
  },
  {
   "cell_type": "markdown",
   "metadata": {
    "lang": "en"
   },
   "source": [
    "### But we are already in Python !!"
   ]
  },
  {
   "cell_type": "markdown",
   "metadata": {
    "lang": "fr",
    "slideshow": {
     "slide_type": "fragment"
    }
   },
   "source": [
    "Que veut-on dire par \"intégrer ses objets dans Python\" ? C'est déjà la cas puisque l'on a écrit nos classes Python et que l'on peut les instancier dans un programme Python classique. C'est vrai mais ce n'est pas pour autant que votre objet est pleinement intégrer dans le langage. Ou en d'autres termes comment peut-on faire pour faire profiter à nos objets de tous les avantages et de toutes les subtilités syntaxiques du langage Python ? "
   ]
  },
  {
   "cell_type": "markdown",
   "metadata": {
    "lang": "en"
   },
   "source": [
    "What do we mean by \"integrating your objects in Python\"? This is already the case since we wrote our Python classes and can instantiate them in a classic Python program. This is true, but it does not mean that your object is fully integrated into the language. Or in other words, how can we make our objects benefit from all the advantages and all the syntactic subtleties of the Python language?"
   ]
  },
  {
   "cell_type": "markdown",
   "metadata": {
    "lang": "fr",
    "slideshow": {
     "slide_type": "fragment"
    }
   },
   "source": [
    "Par exemple des choses du genre : "
   ]
  },
  {
   "cell_type": "markdown",
   "metadata": {
    "lang": "en"
   },
   "source": [
    "For example things like:"
   ]
  },
  {
   "cell_type": "code",
   "execution_count": 16,
   "metadata": {
    "slideshow": {
     "slide_type": "fragment"
    }
   },
   "outputs": [
    {
     "name": "stdout",
     "output_type": "stream",
     "text": [
      "10\n",
      "23\n",
      "25\n",
      "19\n",
      "47\n"
     ]
    }
   ],
   "source": [
    "ma_liste = [10, 23, 25, 19, 47]\n",
    "if ma_liste and ma_liste[0]>0:\n",
    "    for x in ma_liste:\n",
    "        print( x )"
   ]
  },
  {
   "cell_type": "markdown",
   "metadata": {
    "lang": "fr",
    "slideshow": {
     "slide_type": "fragment"
    }
   },
   "source": [
    "Nous voyons dans l'exemple précédent que l'on utilise tout d'abord un test pour vérifier si la liste est non vide. Ensuite on utilise l'aspect itérateur de la liste pour parcourir tous les éléments de cette dernière. "
   ]
  },
  {
   "cell_type": "markdown",
   "metadata": {
    "lang": "en"
   },
   "source": [
    "We see in the previous example that we first use a test to check if the list is not empty. Then we use the iterator aspect of the list to iterate through all the elements of the latter."
   ]
  },
  {
   "cell_type": "markdown",
   "metadata": {
    "lang": "fr",
    "slideshow": {
     "slide_type": "subslide"
    }
   },
   "source": [
    "Afin d'avoir la possibilité d'utiliser des syntaxes \"Pythonesques\" similaire avec nos propres objets il va falloir passer par l'implémentation d'un certain nombre de méthodes spéciales. Pour illustrer l'implémentation et le fonctionnement de ces méthodes spéciales nous allons continuer à développer notre classe `Task` ainsi qu'une classe `TaskManager` qui sera chargée de gérer l'ensemble des tâches. "
   ]
  },
  {
   "cell_type": "markdown",
   "metadata": {
    "lang": "en"
   },
   "source": [
    "In order to have the possibility of using similar \"Pythonesque\" syntaxes with our own objects, we will have to go through the implementation of a certain number of special methods. To illustrate the implementation and operation of these special methods, we will continue to develop our `Task` class as well as a` TaskManager` class which will be responsible for managing all the tasks."
   ]
  },
  {
   "cell_type": "markdown",
   "metadata": {
    "slideshow": {
     "slide_type": "subslide"
    }
   },
   "source": [
    "### Opérations booléennes, comparaisons"
   ]
  },
  {
   "cell_type": "markdown",
   "metadata": {
    "slideshow": {
     "slide_type": "fragment"
    }
   },
   "source": [
    "Tout d'abord nous allons implémenter la méthode `__bool__`. Cette dernière est la méthode implicitement appelée par Python lorsque l'on est dans une expression de la forme \n",
    "\n",
    "```python \n",
    "### Soit task_instance une instance de la classe Task \n",
    "\n",
    "if task_instance:\n",
    "    ### On souhaite arriver dans le bloc if \n",
    "    ### uniquement si la tache n'est pas terminée\n",
    "```"
   ]
  },
  {
   "cell_type": "markdown",
   "metadata": {
    "lang": "fr",
    "slideshow": {
     "slide_type": "fragment"
    }
   },
   "source": [
    "Pour avoir le comportement souhaité il nous suffit alors d'implémenter la méthode `__bool__` de la manière suivante : "
   ]
  },
  {
   "cell_type": "markdown",
   "metadata": {
    "lang": "en"
   },
   "source": [
    "To have the desired behavior, we just need to implement the `__bool__` method as follows:"
   ]
  },
  {
   "cell_type": "code",
   "execution_count": 17,
   "metadata": {
    "slideshow": {
     "slide_type": "fragment"
    }
   },
   "outputs": [],
   "source": [
    "class Task:\n",
    "    def __init__(self, tid, desc):\n",
    "        self._tid = tid\n",
    "        self._description = desc\n",
    "        self._status = \"todo\" ## todo, in progress or finished\n",
    "        self._stats = 0\n",
    "        \n",
    "    def __repr__(self):\n",
    "        return f\"{self._tid} [{self._stats} %] : {self._description}\"\n",
    "    \n",
    "    def setFinished(self):\n",
    "        self._status = \"finished\"\n",
    "        self._stats = 100\n",
    "        \n",
    "    def __bool__(self):\n",
    "        if self._status == \"finished\":\n",
    "            return False\n",
    "        return True"
   ]
  },
  {
   "cell_type": "code",
   "execution_count": 18,
   "metadata": {
    "slideshow": {
     "slide_type": "subslide"
    }
   },
   "outputs": [
    {
     "name": "stdout",
     "output_type": "stream",
     "text": [
      "t1 is not finished => we enter in the if block\n",
      "t1 is finished\n"
     ]
    }
   ],
   "source": [
    "t1 = Task(0, \"Finir le cours Python à temps\")\n",
    "\n",
    "if t1:\n",
    "    print(\"t1 is not finished => we enter in the if block\")\n",
    "\n",
    "t1.setFinished()\n",
    "\n",
    "if t1:\n",
    "    print(\"t1 is not finished => we enter in the if block\")\n",
    "else:\n",
    "    print(\"t1 is finished\")"
   ]
  },
  {
   "cell_type": "code",
   "execution_count": 19,
   "metadata": {
    "slideshow": {
     "slide_type": "fragment"
    }
   },
   "outputs": [
    {
     "name": "stdout",
     "output_type": "stream",
     "text": [
      "t1 is finished\n"
     ]
    }
   ],
   "source": [
    "if not t1:\n",
    "    print(\"t1 is finished\")"
   ]
  },
  {
   "cell_type": "markdown",
   "metadata": {
    "lang": "fr",
    "slideshow": {
     "slide_type": "subslide"
    }
   },
   "source": [
    "Ensuite nous allons ajouter un attribut à nos tâches, la priporité. Cela va alors nous permettre de classer nos tâches. Pour cela on considère trois niveaux de priorité : (i) `\"courante\"` ; (ii) `\"prioritaire\"` ; (iii) `\"urgente\"`. Et ce que l'on souhaite alors c'est pouvoir comparer deux instances de `Task` et ainsi pouvoir classer un ensemble de tâches suivant leurs niveau de priorité. Pour cela il va falloir que l'on définisse les opérateurs `<`, `>`, `<=` et `>=` permettant la comparaison de deux `Task`. La définition de ses opérateurs passe par l'implémentation des méthodes spéciales `__lt__`, `__gt__`, `__le__`, `__ge__`. "
   ]
  },
  {
   "cell_type": "markdown",
   "metadata": {
    "lang": "en"
   },
   "source": [
    "Next we will add an attribute to our tasks, the priority. This will then allow us to classify our tasks. For this we consider three priority levels: (i) `\" current \"`; (ii) `\" priority \"`; (iii) `\" urgent \"`. And what we want then is to be able to compare two instances of `Task` and thus be able to classify a set of tasks according to their priority level. For that we will have to define the operators `<`, `>`,` <=` et `> = `allowing the comparison of two` Task`. The definition of its operators requires the implementation of the special methods `__lt__`, `__gt__`, `__le__`, `<__> ge <__ > `."
   ]
  },
  {
   "cell_type": "markdown",
   "metadata": {
    "slideshow": {
     "slide_type": "fragment"
    }
   },
   "source": [
    "Voici ci-dessous une implémentation possible"
   ]
  },
  {
   "cell_type": "code",
   "execution_count": 48,
   "metadata": {
    "slideshow": {
     "slide_type": "subslide"
    }
   },
   "outputs": [],
   "source": [
    "class Task:\n",
    "    \n",
    "    priority_level = {'courante': 0, \"prioritaire\": 1, \"urgente\": 2}\n",
    "    \n",
    "    def __init__(self, tid, desc, priority=\"courante\"):\n",
    "        self._tid = tid\n",
    "        self._description = desc\n",
    "        self._status = \"todo\"\n",
    "        self._stats = 0\n",
    "        self._priority = priority if priority in self.priority_level.keys() else None\n",
    "        if self._priority is None:\n",
    "            raise Exception(f\"Not available priority level {priority}\")\n",
    "            \n",
    "    def __repr__(self):\n",
    "        return f\"{self._tid} [{self._stats} %] : {self._description}\"\n",
    "            \n",
    "    def __lt__(self, other):\n",
    "        if self.priority_level[self._priority] < self.priority_level[other._priority]:\n",
    "            return True\n",
    "        else:\n",
    "            return False\n",
    "        \n",
    "    def __gt__(self, other):\n",
    "        return other < self\n",
    "    \n",
    "    def __le__(self, other):\n",
    "        if self.priority_level[self._priority] <= self.priority_level[other._priority]:\n",
    "            return True\n",
    "        else:\n",
    "            return False\n",
    "        \n",
    "    def __ge__(self, other):\n",
    "        return other <= self\n",
    "        "
   ]
  },
  {
   "cell_type": "code",
   "execution_count": 49,
   "metadata": {
    "slideshow": {
     "slide_type": "subslide"
    }
   },
   "outputs": [],
   "source": [
    "t1 = Task(0, \"Finir le cours Python à temps\")\n",
    "t2 = Task(0, \"Finir le cours Python à temps\", \"urgente\")"
   ]
  },
  {
   "cell_type": "code",
   "execution_count": 50,
   "metadata": {
    "slideshow": {
     "slide_type": "fragment"
    }
   },
   "outputs": [
    {
     "data": {
      "text/plain": [
       "False"
      ]
     },
     "execution_count": 50,
     "metadata": {},
     "output_type": "execute_result"
    }
   ],
   "source": [
    "t1 > t2"
   ]
  },
  {
   "cell_type": "code",
   "execution_count": 51,
   "metadata": {
    "slideshow": {
     "slide_type": "fragment"
    }
   },
   "outputs": [
    {
     "data": {
      "text/plain": [
       "True"
      ]
     },
     "execution_count": 51,
     "metadata": {},
     "output_type": "execute_result"
    }
   ],
   "source": [
    "t1 < t2"
   ]
  },
  {
   "cell_type": "code",
   "execution_count": 52,
   "metadata": {
    "slideshow": {
     "slide_type": "fragment"
    }
   },
   "outputs": [
    {
     "data": {
      "text/plain": [
       "False"
      ]
     },
     "execution_count": 52,
     "metadata": {},
     "output_type": "execute_result"
    }
   ],
   "source": [
    "t1 >= t2"
   ]
  },
  {
   "cell_type": "code",
   "execution_count": 53,
   "metadata": {
    "slideshow": {
     "slide_type": "fragment"
    }
   },
   "outputs": [
    {
     "data": {
      "text/plain": [
       "True"
      ]
     },
     "execution_count": 53,
     "metadata": {},
     "output_type": "execute_result"
    }
   ],
   "source": [
    "t1 <= t2"
   ]
  },
  {
   "cell_type": "markdown",
   "metadata": {
    "lang": "fr",
    "slideshow": {
     "slide_type": "fragment"
    }
   },
   "source": [
    "On observe ainsi qu'avec seulement l'implémentation de 4 méthodes (relativement simples) on obtient le comportement souhaité et l'on peut ainsi si on le souhaite trier un ensemble de tâches. "
   ]
  },
  {
   "cell_type": "markdown",
   "metadata": {
    "lang": "en"
   },
   "source": [
    "We can thus observe that with only the implementation of 4 (relatively simple) methods we obtain the desired behavior and we can thus, if we wish, sort a set of tasks."
   ]
  },
  {
   "cell_type": "markdown",
   "metadata": {
    "lang": "fr",
    "slideshow": {
     "slide_type": "subslide"
    }
   },
   "source": [
    "### Boucle `for` ou la magie des itérateurs"
   ]
  },
  {
   "cell_type": "markdown",
   "metadata": {
    "lang": "en"
   },
   "source": [
    "### `for` loop or the magic of iterators"
   ]
  },
  {
   "cell_type": "markdown",
   "metadata": {
    "lang": "fr",
    "slideshow": {
     "slide_type": "subslide"
    }
   },
   "source": [
    "A présent nous allons voir comment nous pouvons faire en sorte que nos objets puissent être vu comme des itérables, pour le boucles  `for` par exemple. Pour cela nous allons devoir implémenter la méthode spéciale `__iter__` ainsi que la méthode spéciale `__next__`. \n",
    "\n",
    "Afin de travailler sur quelque chose de concret, ou à minima pas trop abstrait, nous allons implémenter une classe `TaskManager` chargée de gérer un ensemble de tâches. Et c'est dans cette classe `TaskManager` que nous allons implémenter les méthodes `__iter__` et `__next__` afin de pouvoir boucler (de manière Pythonesque) sur l'ensemble des `Task` du `TaskManager`. "
   ]
  },
  {
   "cell_type": "markdown",
   "metadata": {
    "lang": "en"
   },
   "source": [
    "Now we'll see how we can make our objects look like iterables, for the `for` loop for example. For that we will have to implement the special method `__iter__` as well as the special method `__next__`.\n",
    "\n",
    "In order to work on something concrete, or at least not too abstract, we are going to implement a `TaskManager` class responsible for managing a set of tasks. And it is in this `TaskManager` class that we will implement the` __iter__ `and` __next__ `methods in order to be able to loop (in a Pythonesque way) on the set of` Task` from the `TaskManager`."
   ]
  },
  {
   "cell_type": "code",
   "execution_count": 54,
   "metadata": {
    "slideshow": {
     "slide_type": "fragment"
    }
   },
   "outputs": [],
   "source": [
    "class TaskManager:\n",
    "    def __init__(self, name=\"My Task Group\"):\n",
    "        self._name = name\n",
    "        self._tasks = []\n",
    "        self._cid = None\n",
    "        \n",
    "    def createTask(self, **kwargs):\n",
    "        self._tasks.append( Task(**kwargs) )\n",
    "\n",
    "    def addTask(self, task):\n",
    "        self._tasks.append( task )\n",
    "        \n",
    "    def __iter__(self):\n",
    "        self._cid = 0\n",
    "        return self\n",
    "    \n",
    "    def __next__(self):\n",
    "        if self._cid >= len(self._tasks):\n",
    "            raise StopIteration\n",
    "        else:\n",
    "            ret = self._tasks[self._cid]\n",
    "            self._cid += 1\n",
    "            return ret\n",
    "        \n",
    "    \n",
    "    "
   ]
  },
  {
   "cell_type": "code",
   "execution_count": 55,
   "metadata": {
    "slideshow": {
     "slide_type": "subslide"
    }
   },
   "outputs": [],
   "source": [
    "manager = TaskManager()\n",
    "manager.createTask(tid=0, desc=\"Finir le cours Python à temps\", priority=\"urgente\")\n",
    "manager.createTask(tid=1, desc=\"Trouver des idées pour les projets du cours\")"
   ]
  },
  {
   "cell_type": "code",
   "execution_count": 57,
   "metadata": {
    "slideshow": {
     "slide_type": "fragment"
    }
   },
   "outputs": [
    {
     "name": "stdout",
     "output_type": "stream",
     "text": [
      "0 [0 %] : Finir le cours Python à temps\n",
      "1 [0 %] : Trouver des idées pour les projets du cours\n"
     ]
    }
   ],
   "source": [
    "for t in manager:\n",
    "    print(t)"
   ]
  },
  {
   "cell_type": "markdown",
   "metadata": {
    "lang": "fr",
    "slideshow": {
     "slide_type": "subslide"
    }
   },
   "source": [
    "Quelques explications tout de même ! \n",
    "\n",
    "La méthode `__iter__` renvoie dans ce cas l'attribut `self`, i.e. l'instance courante de la classe. Cela signifie donc que c'est sur cette instance courante directement que l'on va chercher à itérer. Vous remarquez au passage que l'on initialise à ce moment là l'attribut `_cid` à `0`. \n",
    "\n",
    "Dans un second temps, la méthode `__next__` s'occupe quand à elle de vérifier l'indice courant de `_cid` et si ce dernier est supérieur ou égale au nombre de tâches alors on lève une exception de type `StopIteration`. Cette exception est bien entendu attrapée par la boucle `for`, déclanchant ainsi son arrêt. Dans le cas où l'attribut `_cid` n'est pas supérieur ou égal au nombre de tâches on récupère la tâche d'indice `_cid` dans la liste `_tasks`, on incrémente `_cid` de `1` et on renvoi la tâche. "
   ]
  },
  {
   "cell_type": "markdown",
   "metadata": {
    "lang": "en"
   },
   "source": [
    "Some explanations all the same!\n",
    "\n",
    "The `__iter__` method returns in this case the `self` attribute, i.e. the current instance of the class. This therefore means that it is directly on this current instance that we will seek to iterate. You notice in passing that we initialize at this time the attribute `_cid` to` 0`.\n",
    "\n",
    "Secondly, the `_ _next_ _` method takes care of checking the current index of `_ cid` and whether it is greater than or equal to number of tasks then we throw an exception of type `StopIteration`. This exception is of course caught by the `for` loop, thus triggering its stop. If the attribute `_cid` is not greater than or equal to the number of tasks, we get the task with index`_ cid` in the list `_tasks`, we increment`_ cid` of `1` and we send the task back."
   ]
  },
  {
   "cell_type": "markdown",
   "metadata": {
    "lang": "fr",
    "slideshow": {
     "slide_type": "fragment"
    }
   },
   "source": [
    "Certains d'entre vous, qui aurait parfaitement compris le fonctionnement de Python, on peut-être envie de me dire qu'il y a un moyen **beaucoup** plus simple pour arriver au même résultats. Ce à quoi je répondrai que vous avez tout à fait raison. L'exemple précédent met en place une solution qui n'est pas la plus simple juste dans le but de vous illustrer le fonctionnement complet des itérateurs. La solution la plus simple consiste à retourner dans la méthode `__iter__` l'itérateur associé à la liste `_tasks` plutôt que le `TaskManager`. Ainsi il n'est même pas nécessaire d'implémenter la méthode `__next__`. "
   ]
  },
  {
   "cell_type": "markdown",
   "metadata": {
    "lang": "en"
   },
   "source": [
    "Some of you, who would have fully understood how Python works, you might want to tell me that there is a **much** easier way to achieve the same results. To which I will answer that you are absolutely right. The previous example sets up a solution that is not the simplest just for the purpose of showing you the complete operation of iterators. The simplest solution consists in returning in the method `__iter__` the iterator associated with the list `_tasks` rather than the` TaskManager`. So it is not even necessary to implement the `_ _next_ _` method."
   ]
  },
  {
   "cell_type": "code",
   "execution_count": 64,
   "metadata": {
    "slideshow": {
     "slide_type": "subslide"
    }
   },
   "outputs": [],
   "source": [
    "class TaskManager:\n",
    "    def __init__(self, name=\"My Task Group\"):\n",
    "        self._name = name\n",
    "        self._tasks = []\n",
    "        \n",
    "    def createTask(self, **kwargs):\n",
    "        self._tasks.append( Task(**kwargs) )\n",
    "\n",
    "    def addTask(self, task):\n",
    "        self._tasks.append( task )\n",
    "        \n",
    "    def __iter__(self):\n",
    "        return self._tasks.__iter__()"
   ]
  },
  {
   "cell_type": "code",
   "execution_count": 65,
   "metadata": {
    "slideshow": {
     "slide_type": "fragment"
    }
   },
   "outputs": [],
   "source": [
    "manager = TaskManager()\n",
    "manager.createTask(tid=0, desc=\"Finir le cours Python à temps\", priority=\"urgente\")\n",
    "manager.createTask(tid=1, desc=\"Trouver des idées pour les projets du cours\")"
   ]
  },
  {
   "cell_type": "code",
   "execution_count": 66,
   "metadata": {
    "slideshow": {
     "slide_type": "fragment"
    }
   },
   "outputs": [
    {
     "name": "stdout",
     "output_type": "stream",
     "text": [
      "0 [0 %] : Finir le cours Python à temps\n",
      "1 [0 %] : Trouver des idées pour les projets du cours\n"
     ]
    }
   ],
   "source": [
    "for t in manager:\n",
    "    print(t)"
   ]
  },
  {
   "cell_type": "markdown",
   "metadata": {
    "lang": "fr",
    "slideshow": {
     "slide_type": "subslide"
    }
   },
   "source": [
    "### Opérateurs `+`, `-`, `*`, `/`"
   ]
  },
  {
   "cell_type": "markdown",
   "metadata": {
    "lang": "en"
   },
   "source": [
    "### Operators `+`, `-`,` * `,` / `"
   ]
  },
  {
   "cell_type": "markdown",
   "metadata": {
    "lang": "fr",
    "slideshow": {
     "slide_type": "subslide"
    }
   },
   "source": [
    "Pour finir notre tour d'horizon (non exaustif) des méthodes spéciales Python nous allons voir comment définir les opérateur `+`, `-`, `*` et `/`. L'objectif est toujours, je le rappelle, d'avoir des objets qui soient le plus intégré possible dans l'écosystème Python. En d'autre mots on veut pouvoir utiliser nos objet d'une manière la plus Pythonesque possible. "
   ]
  },
  {
   "cell_type": "markdown",
   "metadata": {
    "lang": "en"
   },
   "source": [
    "To finish our overview (not exhaustive) of the special Python methods we will see how to define the `+`, `-`,` * `and` / `operators. The goal is always, I remind you, to have objects that are as integrated as possible into the Python ecosystem. In other words, we want to be able to use our objects in the most Pythonic way possible."
   ]
  },
  {
   "cell_type": "markdown",
   "metadata": {
    "lang": "fr",
    "slideshow": {
     "slide_type": "fragment"
    }
   },
   "source": [
    "Par exemple définissons l'opérateur `+` entre deux `Task` de tel sorte que `t1+t2` retourne un nouvelle instance de `Task` ayant pour descriptif la concaténation des descriptif de `t1` et `t2` et pour priorité le niveau le plus élevé des deux. "
   ]
  },
  {
   "cell_type": "markdown",
   "metadata": {
    "lang": "en"
   },
   "source": [
    "For example, let's define the operator `+` between two `Task` such that` t1 + t2` returns a new instance of `Task` having for description the concatenation of the descriptions of` t1` and `t2` and for priority the the higher of the two."
   ]
  },
  {
   "cell_type": "code",
   "execution_count": 1,
   "metadata": {
    "slideshow": {
     "slide_type": "subslide"
    }
   },
   "outputs": [],
   "source": [
    "class Task:\n",
    "    priority_level = {'courante': 0, \"prioritaire\": 1, \"urgente\": 2}\n",
    "    \n",
    "    def __init__(self, tid, desc, priority=\"courante\"):\n",
    "        self._tid = tid\n",
    "        self._description = desc\n",
    "        self._status = \"todo\"\n",
    "        self._stats = 0\n",
    "        self._priority = priority if priority in self.priority_level.keys() else None\n",
    "        if self._priority is None:\n",
    "            raise Exception(f\"Not available priority level {priority}\")\n",
    "            \n",
    "    def __repr__(self):\n",
    "        return f\"{self._tid} [{self._stats} %] : {self._description}\"\n",
    "            \n",
    "    def __lt__(self, other):\n",
    "        if self.priority_level[self._priority] < self.priority_level[other._priority]:\n",
    "            return True\n",
    "        else:\n",
    "            return False\n",
    "        \n",
    "    def __gt__(self, other):\n",
    "        return other < self\n",
    "    \n",
    "    def __le__(self, other):\n",
    "        if self.priority_level[self._priority] <= self.priority_level[other._priority]:\n",
    "            return True\n",
    "        else:\n",
    "            return False\n",
    "        \n",
    "    def __ge__(self, other):\n",
    "        return other <= self\n",
    "    \n",
    "    def __add__(self, other):\n",
    "        desc = self._description + \" ; \" + other._description\n",
    "        level= self._priority if self._priority >= other._priority else other._priority\n",
    "        tid = self._tid + other._tid\n",
    "        return Task(tid, desc, level)"
   ]
  },
  {
   "cell_type": "code",
   "execution_count": 2,
   "metadata": {
    "slideshow": {
     "slide_type": "subslide"
    }
   },
   "outputs": [
    {
     "name": "stdout",
     "output_type": "stream",
     "text": [
      "0 [0 %] : Finir le cours Python à temps ; Trouver des idées de projet\n",
      "urgente\n"
     ]
    }
   ],
   "source": [
    "t1 = Task(0, \"Finir le cours Python à temps\", \"urgente\")\n",
    "t2 = Task(0, \"Trouver des idées de projet\")\n",
    "\n",
    "t3 = t1+t2\n",
    "print(t3)\n",
    "print(t3._priority)"
   ]
  },
  {
   "cell_type": "markdown",
   "metadata": {
    "lang": "fr",
    "slideshow": {
     "slide_type": "fragment"
    }
   },
   "source": [
    "Ainsi en implémentant la méthode `__add__` on a pu définir exactement le comportement que l'on souhaitait pour l'opérateur `+` entre deux tâches. "
   ]
  },
  {
   "cell_type": "markdown",
   "metadata": {
    "lang": "en"
   },
   "source": [
    "Thus by implementing the `__add__` method we were able to define exactly the behavior we wanted for the `+` operator between two tasks."
   ]
  },
  {
   "cell_type": "markdown",
   "metadata": {
    "lang": "fr",
    "slideshow": {
     "slide_type": "subslide"
    }
   },
   "source": [
    "De la même manière, il serait possible d'implémenter les méthodes, `__sub__`, `__div__`, `__mul__` pour associer un comportement aux opérateurs `+`, `/`, `-`. "
   ]
  },
  {
   "cell_type": "markdown",
   "metadata": {
    "lang": "en"
   },
   "source": [
    "In the same way, it would be possible to implement the methods, `__sub__`, `__div__`, `__mul__` to associate a behavior with the operators ` + `,` / `,` -`."
   ]
  },
  {
   "cell_type": "markdown",
   "metadata": {
    "lang": "fr",
    "slideshow": {
     "slide_type": "fragment"
    }
   },
   "source": [
    "### Remarques\n",
    "\n",
    "\n",
    "Nous n'avons listé ici qu'une petite partie de l'ensemble des méthodes spéciales pouvant être implémentées dans une classe Python. Il existe bien d'autre méthodes spéciales. Pour plus de détails à ce sujet n'hésitez pas à aller consulter la documentation officielle. \n"
   ]
  },
  {
   "cell_type": "markdown",
   "metadata": {
    "lang": "en"
   },
   "source": [
    "### Remarks\n",
    "\n",
    "\n",
    "We have listed here only a small part of the set of special methods that can be implemented in a Python class. There are many other special methods. For more details on this subject, do not hesitate to consult the official documentation."
   ]
  },
  {
   "cell_type": "markdown",
   "metadata": {
    "lang": "fr",
    "slideshow": {
     "slide_type": "slide"
    }
   },
   "source": [
    "## Héritage "
   ]
  },
  {
   "cell_type": "markdown",
   "metadata": {
    "lang": "en"
   },
   "source": [
    "## Heritage"
   ]
  },
  {
   "cell_type": "markdown",
   "metadata": {
    "lang": "fr",
    "slideshow": {
     "slide_type": "subslide"
    }
   },
   "source": [
    "### Classe mère, classe fille, toute une famille"
   ]
  },
  {
   "cell_type": "markdown",
   "metadata": {
    "lang": "en"
   },
   "source": [
    "### Mother class, daughter class, a whole family"
   ]
  },
  {
   "cell_type": "markdown",
   "metadata": {
    "lang": "fr",
    "slideshow": {
     "slide_type": "subslide"
    }
   },
   "source": [
    "Pour finir ce premier tour d'horizon de la programmation objet nous allons voir le concept d'héritage. L'héritage est un concept de la programmation orientée objet introduisant la possibilité de définir une classe B comme fille d'une classe A. Quel intérêt me direz-vous ! En déclarant B comme fille de A, B a accès à toutes les méthodes et tous les attributs définis dans A. Et ce n'est pas tout !!! En effet en plus d'avoir accès à toutes les méthodes et tous les attributs de A, la classe B va pouvoir redéfinir certaines méthodes, en ajoutée des nouvelles. \n",
    "\n",
    "Une autre manière de voire l'héritage et de parler de spécialisation. L'idée est que la classe Mère est une classe générique tandis que la classe fille est une classe plus spécialisée."
   ]
  },
  {
   "cell_type": "markdown",
   "metadata": {
    "lang": "en"
   },
   "source": [
    "To finish this first overview of object programming, we will see the concept of inheritance. Inheritance is a concept of object oriented programming introducing the possibility of defining a class B as a daughter of a class A. How interesting will you tell me! By declaring B as a daughter of A, B has access to all the methods and attributes defined in A. And that's not all !!! Indeed in addition to having access to all the methods and all the attributes of A, class B will be able to redefine certain methods, in addition to new ones.\n",
    "\n",
    "Another way of seeing heritage and talking about specialization. The idea is that the Mother class is a generic class while the daughter class is a more specialized class."
   ]
  },
  {
   "cell_type": "markdown",
   "metadata": {
    "lang": "fr",
    "slideshow": {
     "slide_type": "subslide"
    }
   },
   "source": [
    "### Un exemple pour comprendre"
   ]
  },
  {
   "cell_type": "markdown",
   "metadata": {
    "lang": "en"
   },
   "source": [
    "### An example to understand"
   ]
  },
  {
   "cell_type": "markdown",
   "metadata": {
    "lang": "fr",
    "slideshow": {
     "slide_type": "fragment"
    }
   },
   "source": [
    "Par exemple reprenons notre programme de todo list et notamment l'objet `Task`. Nous pourrions très bien faire une classe dérivée dédiée au tâches `\"urgente\"`. Cela donnerait par exemple : "
   ]
  },
  {
   "cell_type": "markdown",
   "metadata": {
    "lang": "en"
   },
   "source": [
    "For example, let's take our todo list program and in particular the `Task` object. We could very well make a derived class dedicated to `` urgent '' tasks. This would give for example:"
   ]
  },
  {
   "cell_type": "code",
   "execution_count": 13,
   "metadata": {
    "slideshow": {
     "slide_type": "fragment"
    }
   },
   "outputs": [],
   "source": [
    "class UrgenteTask(Task):\n",
    "    def __init__(self, tid, desc):\n",
    "        super(UrgenteTask, self).__init__(tid, desc, priority=\"urgente\")\n",
    "            "
   ]
  },
  {
   "cell_type": "code",
   "execution_count": 14,
   "metadata": {
    "slideshow": {
     "slide_type": "subslide"
    }
   },
   "outputs": [
    {
     "name": "stdout",
     "output_type": "stream",
     "text": [
      "1 [0 %] : Finir le cours Python à temps\n",
      "urgente\n"
     ]
    }
   ],
   "source": [
    "t = UrgenteTask(1, \"Finir le cours Python à temps\")\n",
    "print(t)\n",
    "\n",
    "print(t._priority)"
   ]
  },
  {
   "cell_type": "markdown",
   "metadata": {
    "lang": "fr",
    "slideshow": {
     "slide_type": "fragment"
    }
   },
   "source": [
    "On constate alors que le print affiche bien l'instance de `UrgenteTask` en utilisant le formatage défini dans la méthode `__repr__` de la classe mère `Task`. Et l'on constate également que le constructeur de la classe `UrgenteTask`ne prend maintenant plus d'argument optionnel `priority`. Ce dernier est directement passé au constructeur de la classe mère avec pour valeur `\"urgente\"`."
   ]
  },
  {
   "cell_type": "markdown",
   "metadata": {
    "lang": "en"
   },
   "source": [
    "We can see that the print does indeed display the `UrgenteTask` instance using the formatting defined in the` __repr__ `method of the parent class` Task`. And we also see that the constructor of the `UrgenteTask` class no longer takes any optional` priority` argument. The latter is passed directly to the constructor of the parent class with the value `\" urgent \"`."
   ]
  },
  {
   "cell_type": "markdown",
   "metadata": {
    "lang": "fr",
    "slideshow": {
     "slide_type": "subslide"
    }
   },
   "source": [
    "L'intérêt est assez limité me direz vous. Et je ne pourrai qu'être d'accord avec vous sauf que ... Et bien ce n'est pas tout. Si par exemple maintenant on souhaite que nos tâches urgente soit afficher en rouge grs et souligné et bien c'est simple il suffit de redéfinir dans `UrgenteTask` la méthode `__repr__`. Par exemple : "
   ]
  },
  {
   "cell_type": "markdown",
   "metadata": {
    "lang": "en"
   },
   "source": [
    "The interest is quite limited, you will tell me. And I can only agree with you except that ... well that's not all. If for example now we want our urgent tasks to be displayed in red grs and underlined, well it's simple, just redefine in `UrgenteTask` the` __repr__ `method. For example :"
   ]
  },
  {
   "cell_type": "code",
   "execution_count": 11,
   "metadata": {
    "slideshow": {
     "slide_type": "fragment"
    }
   },
   "outputs": [
    {
     "name": "stdout",
     "output_type": "stream",
     "text": [
      "\u001b[1;4;91m 1 [0 %] : Finir le cours Python à temps \u001b[0m\n"
     ]
    }
   ],
   "source": [
    "class UrgenteTask(Task):\n",
    "    def __init__(self, tid, desc):\n",
    "        super(UrgenteTask, self).__init__(tid, desc, priority=\"urgente\")\n",
    "        \n",
    "    def __repr__(self):\n",
    "        return f\"\\033[1;4;91m {self._tid} [{self._stats} %] : {self._description} \\033[0m\"\n",
    "        \n",
    "t = UrgenteTask(1, \"Finir le cours Python à temps\")\n",
    "print(t)\n"
   ]
  },
  {
   "cell_type": "markdown",
   "metadata": {
    "lang": "fr",
    "slideshow": {
     "slide_type": "subslide"
    }
   },
   "source": [
    "### En fait tous vos objets sont des `object`"
   ]
  },
  {
   "cell_type": "markdown",
   "metadata": {
    "lang": "en"
   },
   "source": [
    "### In fact all your objects are `objects`"
   ]
  },
  {
   "cell_type": "markdown",
   "metadata": {
    "lang": "fr",
    "slideshow": {
     "slide_type": "fragment"
    }
   },
   "source": [
    "Il faut que je vous avoue quelque chose, je vous ai caché depuis le début le fait que vous faites de l'héritage sans même le savoir !!! Et oui. Car à partir du moment où vous définissez une classe, même si vous ne la faites dériver de rien et bien en fait Python la fait naturellement dérivée de la classe `object`. Il existe en Python la classe `object` qui comme le dit le message d'aide de cette classe est la base de la base. "
   ]
  },
  {
   "cell_type": "markdown",
   "metadata": {
    "lang": "en"
   },
   "source": [
    "I must confess something to you, I have hidden from you from the start the fact that you are inheriting without even knowing it !!! And yes. Because from the moment you define a class, even if you do not derive it from anything, well in fact Python makes it naturally derived from the `object` class. In Python, there is the `object` class which, as the help message for this class says, is the base of the database."
   ]
  },
  {
   "cell_type": "code",
   "execution_count": 10,
   "metadata": {
    "slideshow": {
     "slide_type": "fragment"
    }
   },
   "outputs": [
    {
     "name": "stdout",
     "output_type": "stream",
     "text": [
      "Help on class object in module builtins:\n",
      "\n",
      "class object\n",
      " |  The most base type\n",
      "\n"
     ]
    }
   ],
   "source": [
    "help(object)"
   ]
  },
  {
   "cell_type": "markdown",
   "metadata": {
    "lang": "fr",
    "slideshow": {
     "slide_type": "subslide"
    }
   },
   "source": [
    "Afin de vérifier que je ne vous raconte pas n'importe quoi faisons un exemple. "
   ]
  },
  {
   "cell_type": "markdown",
   "metadata": {
    "lang": "en"
   },
   "source": [
    "In order to verify that I am not telling you anything, let's do an example."
   ]
  },
  {
   "cell_type": "code",
   "execution_count": 11,
   "metadata": {
    "slideshow": {
     "slide_type": "fragment"
    }
   },
   "outputs": [],
   "source": [
    "class EmptyClass:\n",
    "    def __init__(self):\n",
    "        pass"
   ]
  },
  {
   "cell_type": "code",
   "execution_count": 12,
   "metadata": {
    "slideshow": {
     "slide_type": "fragment"
    }
   },
   "outputs": [
    {
     "name": "stdout",
     "output_type": "stream",
     "text": [
      "Help on EmptyClass in module __main__ object:\n",
      "\n",
      "class EmptyClass(builtins.object)\n",
      " |  Methods defined here:\n",
      " |  \n",
      " |  __init__(self)\n",
      " |      Initialize self.  See help(type(self)) for accurate signature.\n",
      " |  \n",
      " |  ----------------------------------------------------------------------\n",
      " |  Data descriptors defined here:\n",
      " |  \n",
      " |  __dict__\n",
      " |      dictionary for instance variables (if defined)\n",
      " |  \n",
      " |  __weakref__\n",
      " |      list of weak references to the object (if defined)\n",
      "\n"
     ]
    }
   ],
   "source": [
    "instance = EmptyClass()\n",
    "help(instance)"
   ]
  },
  {
   "cell_type": "markdown",
   "metadata": {
    "lang": "fr",
    "slideshow": {
     "slide_type": "subslide"
    }
   },
   "source": [
    "Une méthode encore plus simple pour vérifier que notre classe `EmptyClass` est bien une classe fille de `object` est de le demander explicitement à Python en utilisant la fonction `issubclass`. "
   ]
  },
  {
   "cell_type": "markdown",
   "metadata": {
    "lang": "en"
   },
   "source": [
    "An even simpler way to verify that our `EmptyClass` class is indeed a child class of` object` is to ask Python explicitly using the `issubclass` function."
   ]
  },
  {
   "cell_type": "code",
   "execution_count": 13,
   "metadata": {
    "slideshow": {
     "slide_type": "fragment"
    }
   },
   "outputs": [
    {
     "data": {
      "text/plain": [
       "True"
      ]
     },
     "execution_count": 13,
     "metadata": {},
     "output_type": "execute_result"
    }
   ],
   "source": [
    "issubclass(EmptyClass, object)"
   ]
  },
  {
   "cell_type": "markdown",
   "metadata": {
    "lang": "fr",
    "slideshow": {
     "slide_type": "subslide"
    }
   },
   "source": [
    "### Attributs et méthodes publiques ou privés"
   ]
  },
  {
   "cell_type": "markdown",
   "metadata": {
    "lang": "en"
   },
   "source": [
    "### Public or private attributes and methods"
   ]
  },
  {
   "cell_type": "markdown",
   "metadata": {
    "lang": "fr",
    "slideshow": {
     "slide_type": "fragment"
    }
   },
   "source": [
    "Si vous avez déjà développé dans d'autre langage de programmation en utilisant le paradigme de la POO vous vous dites certainement qu'il manque une petite chose à nos classes. Je veux bien évidemment des notions d'attributs et méthodes **publiques** et **privés**. Pour ceux d'entre vous qui  au contraire n'avez jamais fait de POO vous vous dites peut-être, qu'est ce qu'il nous raconte encore celui là ? \n",
    "\n",
    "Pour rappel en POO, un attributs ou une méthode est dit **publique** lorsque l'on peut l'appeler depuis l'extérieur de la classe. Tandis qu'au contraire un attribut/une méthode **privé** n'est utilisable qu'en interne de la classe. Quel intérêt de \"cacher\" des choses en les mettant privées ? L'intérêt majeure est de cloisonner de manière stricte ce qui est accessible à l'utilisateur de ce qui est réservé au développeur de la classe. Cela permet de clarifier l'API (Application Programming Interface) d'un programme. "
   ]
  },
  {
   "cell_type": "markdown",
   "metadata": {
    "lang": "en"
   },
   "source": [
    "If you have already developed in another programming language using the OOP paradigm you are probably thinking that our classes are missing a little thing. I obviously want notions of **public** and **private** attributes and methods. For those of you who, on the contrary, have never done an OOP, you may be saying to yourself, what is this one still telling us?\n",
    "\n",
    "As a reminder in OOP, an attribute or a method is said to be **public** when it can be called from outside the class. While on the contrary a private **attribute / method** can only be used internally of the class. What is the point of \"hiding\" things by keeping them private? The main interest is to strictly partition what is accessible to the user from what is reserved for the developer of the class. This helps clarify the API (Application Programming Interface) of a program."
   ]
  },
  {
   "cell_type": "markdown",
   "metadata": {
    "lang": "fr",
    "slideshow": {
     "slide_type": "subslide"
    }
   },
   "source": [
    "Et donc pour revenir à la programmation objet en Python. Il s'avère qu'en Python ce mécanisme de **privée** **publique** n'est pas très présent mais il n'en est pas pour autant absent. En effet pour définir un attribut ou une méthode comme privé il suffit de précéder le nom de l'attribut ou le nom de la méthode par un double underscore `__`. "
   ]
  },
  {
   "cell_type": "markdown",
   "metadata": {
    "lang": "en"
   },
   "source": [
    "And so to come back to object programming in Python. It turns out that in Python this mechanism of **private** **public** is not very present but it is not for all that absent. In fact, to define an attribute or a method as private, it suffices to precede the name of the attribute or the name of the method by a double underscore `__`."
   ]
  },
  {
   "cell_type": "code",
   "execution_count": 2,
   "metadata": {
    "slideshow": {
     "slide_type": "fragment"
    }
   },
   "outputs": [],
   "source": [
    "class WithoutInterest:\n",
    "    def __init__(self, x):\n",
    "        self._x = x\n",
    "        self.__i_am_protected = True\n",
    "    \n",
    "    def __iAmProtected(self, x):\n",
    "        self.__i_am_protected = x"
   ]
  },
  {
   "cell_type": "code",
   "execution_count": 4,
   "metadata": {
    "slideshow": {
     "slide_type": "fragment"
    }
   },
   "outputs": [
    {
     "name": "stdout",
     "output_type": "stream",
     "text": [
      "10\n"
     ]
    }
   ],
   "source": [
    "instance = WithoutInterest( 10 )\n",
    "print( instance._x )"
   ]
  },
  {
   "cell_type": "code",
   "execution_count": 6,
   "metadata": {
    "slideshow": {
     "slide_type": "subslide"
    }
   },
   "outputs": [
    {
     "name": "stdout",
     "output_type": "stream",
     "text": [
      "'WithoutInterest' object has no attribute '__i_am_protected'\n"
     ]
    }
   ],
   "source": [
    "try:\n",
    "    instance.__i_am_protected\n",
    "except Exception as e:\n",
    "    print(e)"
   ]
  },
  {
   "cell_type": "code",
   "execution_count": 7,
   "metadata": {
    "slideshow": {
     "slide_type": "fragment"
    }
   },
   "outputs": [
    {
     "name": "stdout",
     "output_type": "stream",
     "text": [
      "'WithoutInterest' object has no attribute '__iAmProtected'\n"
     ]
    }
   ],
   "source": [
    "try:\n",
    "    instance.__iAmProtected(100)\n",
    "except Exception as e:\n",
    "    print(e)"
   ]
  },
  {
   "cell_type": "markdown",
   "metadata": {
    "slideshow": {
     "slide_type": "slide"
    }
   },
   "source": [
    "## Quelques concepts avancés"
   ]
  },
  {
   "cell_type": "markdown",
   "metadata": {
    "slideshow": {
     "slide_type": "subslide"
    }
   },
   "source": [
    "### L'attribut `__dict__`"
   ]
  },
  {
   "cell_type": "markdown",
   "metadata": {},
   "source": [
    "***TODO***"
   ]
  },
  {
   "cell_type": "code",
   "execution_count": null,
   "metadata": {},
   "outputs": [],
   "source": []
  },
  {
   "cell_type": "code",
   "execution_count": null,
   "metadata": {},
   "outputs": [],
   "source": []
  },
  {
   "cell_type": "code",
   "execution_count": null,
   "metadata": {},
   "outputs": [],
   "source": []
  },
  {
   "cell_type": "markdown",
   "metadata": {},
   "source": [
    "### Les décorateurs"
   ]
  },
  {
   "cell_type": "markdown",
   "metadata": {},
   "source": [
    "***TODO***"
   ]
  },
  {
   "cell_type": "code",
   "execution_count": null,
   "metadata": {},
   "outputs": [],
   "source": []
  }
 ],
 "metadata": {
  "celltoolbar": "Diaporama",
  "kernelspec": {
   "display_name": "Python 3",
   "language": "python",
   "name": "python3"
  },
  "language_info": {
   "codemirror_mode": {
    "name": "ipython",
    "version": 3
   },
   "file_extension": ".py",
   "mimetype": "text/x-python",
   "name": "python",
   "nbconvert_exporter": "python",
   "pygments_lexer": "ipython3",
   "version": "3.7.4"
  },
  "nbTranslate": {
   "displayLangs": [
    "*"
   ],
   "hotkey": "alt-t",
   "langInMainMenu": true,
   "sourceLang": "fr",
   "targetLang": "en",
   "useGoogleTranslate": true
  },
  "rise": {
   "autolaunch": true,
   "slideNumber": "c/t",
   "theme": "moon",
   "transition": "slide"
  }
 },
 "nbformat": 4,
 "nbformat_minor": 2
}
