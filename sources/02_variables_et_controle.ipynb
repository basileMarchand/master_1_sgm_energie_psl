{
 "cells": [
  {
   "cell_type": "markdown",
   "metadata": {
    "lang": "fr",
    "slideshow": {
     "slide_type": "slide"
    }
   },
   "source": [
    "# Variables et structures de contrôle\n",
    "\n",
    "**Basile Marchand (Centre des Matériaux - Mines ParisTech/CNRS/Université PSL)**"
   ]
  },
  {
   "cell_type": "markdown",
   "metadata": {
    "lang": "en"
   },
   "source": [
    "# Variables and control structures\n",
    "\n",
    "**Basile Marchand (Materials Center - Mines ParisTech / CNRS / PSL University)**"
   ]
  },
  {
   "cell_type": "markdown",
   "metadata": {
    "lang": "fr",
    "slideshow": {
     "slide_type": "slide"
    }
   },
   "source": [
    "## Définir et manipuler des variables "
   ]
  },
  {
   "cell_type": "markdown",
   "metadata": {
    "lang": "en"
   },
   "source": [
    "## Define and manipulate variables"
   ]
  },
  {
   "cell_type": "markdown",
   "metadata": {
    "lang": "fr",
    "slideshow": {
     "slide_type": "subslide"
    }
   },
   "source": [
    "### Concrètement une variable c'est quoi ? "
   ]
  },
  {
   "cell_type": "markdown",
   "metadata": {
    "lang": "en"
   },
   "source": [
    "### Concretely, what is a variable?"
   ]
  },
  {
   "cell_type": "markdown",
   "metadata": {
    "lang": "fr",
    "slideshow": {
     "slide_type": "subslide"
    }
   },
   "source": [
    "De manière générale en informatique une variable est un symbole associé à une valeur. La valeur en question peut être de tous types. Suivant le langage de programmation considéré une variable peut être typée (c'est à dire qu'à sa déclaration on lui associe un type immutable) ou non (c'est-à-dire que la valeur associée à la variable peut changer de type au cours de l'exécution du programme). Python est un langage de programmation non-typé. En d'autres mots si l'on déclare une variable A contenant une chaine de caractère on peut plus loin dans le programme lui associer à la place un nombre par exemple."
   ]
  },
  {
   "cell_type": "markdown",
   "metadata": {
    "lang": "en"
   },
   "source": [
    "Generally in computer science, a variable is a symbol associated with a value. The value in question can be of any type. Depending on the programming language considered, a variable can be typed (i.e. when it is declared an immutable type is associated with it) or not (i.e. the value associated with the variable can change type during program execution). Python is an untyped programming language. In other words, if you declare a variable A containing a character string, you can later in the program associate it with a number for example."
   ]
  },
  {
   "cell_type": "markdown",
   "metadata": {
    "lang": "fr",
    "slideshow": {
     "slide_type": "subslide"
    }
   },
   "source": [
    "La langage Python, par rapport à des lanagages de bas niveau tel le C, simplifie grandement la manipulation des variables. En effet classiquemet pour créer une variable on distingue l'opération de déclaration de l'opération d'affectation. Typiquement en C++ la première étape consiste à déclarer une variable A avec son type. Et dans un second temps à l'aide de l'opérateur `=` on affecte  à cette variable une valeur du type correspondant. Par exemple pour définir un entier en c++ :   \n",
    "```c\n",
    "int un_entier;\n",
    "un_entier = 1;\n",
    "```"
   ]
  },
  {
   "cell_type": "markdown",
   "metadata": {
    "lang": "en"
   },
   "source": [
    "The Python language, compared to low level lanagages such as C, greatly simplifies the manipulation of variables. Classically, to create a variable, a distinction is made between the declaration operation and the assignment operation. Typically in C ++ the first step consists in declaring a variable A with its type. And secondly, using the `=` operator, we assign this variable a value of the corresponding type. For example to define an integer in C ++:\n",
    "\n",
    "``` c\n",
    "int an integer;\n",
    "an integer = 1;\n",
    "```"
   ]
  },
  {
   "cell_type": "markdown",
   "metadata": {
    "lang": "fr",
    "slideshow": {
     "slide_type": "fragment"
    }
   },
   "source": [
    "En Python l'étape de déclaration est incluse dans l'affectation. En effet puisque les variables ne sont pas typés en Python elles ne peuvent pas être déclarées à l'avance. En toute rigeur si cela est possible mais ne sert strictement à rien étant donnés les mécanismes internes du langage. "
   ]
  },
  {
   "cell_type": "markdown",
   "metadata": {
    "lang": "en"
   },
   "source": [
    "In Python the declaration step is included in the assignment. Indeed since the variables are not typed in Python they cannot be declared in advance. Strictly if it is possible, but is strictly useless given the internal mechanisms of the language."
   ]
  },
  {
   "cell_type": "markdown",
   "metadata": {
    "lang": "fr",
    "slideshow": {
     "slide_type": "subslide"
    }
   },
   "source": [
    "La question que l'on peut alors se poser est où se situe concrètement la valeur associée à la variable dans l'ordinateur ? Dans un fichier ? Et non elle se situe dans la mémoire vive RAM. Comment cela fonctionne : \n",
    "Lorsque dans un code Python on créé une variable A associée à une valeur d'un certain type (nombre flottant par exemple) la machinerie du langage va automatiquement demandée à l'ordinateur de lui donner une case dans la mémoire (la taille de la case dépend du type de la valeur que l'on veut y stocker). Le langage Python récupère alors un pointeur vers la case mémoire allouée (une adresse mémoire) et il associe à cette adresse mémoire la variable que l'on va manipuler. \n",
    "Le langage Python est dis de haut niveau entre autre à cause de ce processus de création en mémoire des variables qui est automatisé et transparent pour l'utilisateur. Contrairement au langage de bas niveau, comme le C ou le FORTRAN par exemple où le programmeur doit explicitement demandé l'allocation d'une case mémoire avant d'y stocker une valeur. "
   ]
  },
  {
   "cell_type": "markdown",
   "metadata": {
    "lang": "en"
   },
   "source": [
    "The question that can then be asked is where is the value associated with the variable located in the computer? In a file? And no, it is located in the RAM. How does it work :\n",
    "When in a Python code we create a variable A associated with a value of a certain type (floating number for example) the language machinery will automatically ask the computer to give it a box in the memory (the size of the box depends on the type of value we want to store there). The Python language then recovers a pointer to the allocated memory box (a memory address) and it associates with this memory address the variable that we are going to handle.\n",
    "The Python language is said to be high level among other things because of this process of creating variables in memory which is automated and transparent for the user. Unlike the low-level language, such as C or FORTRAN for example where the programmer must explicitly request the allocation of a memory slot before storing a value there."
   ]
  },
  {
   "cell_type": "markdown",
   "metadata": {
    "lang": "fr",
    "slideshow": {
     "slide_type": "subslide"
    }
   },
   "source": [
    "*Astuce :* pour connaitre l'adresse en mémoire d'une variable en Python il suffit de faire :"
   ]
  },
  {
   "cell_type": "markdown",
   "metadata": {
    "lang": "en"
   },
   "source": [
    "*Tip:* to know the address in memory of a variable in Python just do:"
   ]
  },
  {
   "cell_type": "code",
   "execution_count": 16,
   "metadata": {
    "scrolled": true,
    "slideshow": {
     "slide_type": "fragment"
    }
   },
   "outputs": [
    {
     "data": {
      "text/plain": [
       "'0x7f55e25e2f10'"
      ]
     },
     "execution_count": 16,
     "metadata": {},
     "output_type": "execute_result"
    }
   ],
   "source": [
    "ma_variable = 12.4    # on définit une variable nommée ma_variable et l'on y associe la valeur 12.4\n",
    "hex(id(ma_variable))  # on demande l'adresse mémoire en hexadecimal"
   ]
  },
  {
   "cell_type": "markdown",
   "metadata": {
    "lang": "fr",
    "slideshow": {
     "slide_type": "subslide"
    }
   },
   "source": [
    "### Comment définit-t-on une variable ? Peut-on tout définir comme variable ?"
   ]
  },
  {
   "cell_type": "markdown",
   "metadata": {
    "lang": "en"
   },
   "source": [
    "### How do you define a variable? Can we define everything as a variable?"
   ]
  },
  {
   "cell_type": "markdown",
   "metadata": {
    "lang": "fr",
    "slideshow": {
     "slide_type": "subslide"
    }
   },
   "source": [
    "En Python, comme dans un certains nombre d'autre langage, l'affectation d'une valeur à une variable (qui au passage en Python créé la variable si elle n'existe pas) se fait à l'aide du symbole **=**\n",
    "La syntaxe valable pour tous les types est la suivante : \n",
    "```python\n",
    "nom_de_la_variable = valeur_associée\n",
    "```\n",
    "\n",
    "Par exemple : "
   ]
  },
  {
   "cell_type": "markdown",
   "metadata": {
    "lang": "en"
   },
   "source": [
    "In Python, as in a number of other languages, the assignment of a value to a variable (which in passing in Python creates the variable if it does not exist) is done using the symbol **=**\n",
    "The syntax valid for all types is as follows:\n",
    "\n",
    "``` python\n",
    "name_of_the_variable = associated_value\n",
    "```\n",
    "\n",
    "For example :"
   ]
  },
  {
   "cell_type": "code",
   "execution_count": 2,
   "metadata": {
    "slideshow": {
     "slide_type": "fragment"
    }
   },
   "outputs": [],
   "source": [
    "var1 = 1.3"
   ]
  },
  {
   "cell_type": "markdown",
   "metadata": {
    "lang": "fr",
    "slideshow": {
     "slide_type": "subslide"
    }
   },
   "source": [
    "Remarque concernant le nommage des variables : la **PEP8**\n",
    "\n",
    "Le nommage des variables est un élément important, quelque soit le langage de programmation. En effet un mauvais choix dans le nom des variables n'affecte pas le fonctionnement du code mais il engendre : \n",
    "* Des erreurs de programmation.\n",
    "* Un code difficilement lisible est compréhensible. \n",
    "* Un code difficile à maintenir et à faire évoluer.\n",
    "\n",
    "Le premier point le plus important est donc qu'il faut toujours nommer les variables de telle sorte que l'on sache juste avec son nom ce à quoi elle fait référence. \n",
    "\n",
    "Il existe pour Python des recommendations \"officielles\" concernant le nommage des variables, il s'agit de la [PEP8](https://www.python.org/dev/peps/pep-0008/). \n",
    "\n",
    "Parmis les divers recommendations contenues dans la PEP8, celle concernant le nommage des variables stipule que : \n",
    "\n",
    "* Les noms de variables commencent par une lettre minuscule\n",
    "* Si le nom se compose de plusieurs mots, ces derniers sont séparés par des **_**\n",
    "```python\n",
    "ma_variable\n",
    "```"
   ]
  },
  {
   "cell_type": "markdown",
   "metadata": {
    "lang": "en"
   },
   "source": [
    "Note concerning the naming of variables: the **PEP8**\n",
    "\n",
    "The naming of variables is an important element, whatever the programming language. Indeed a bad choice in the name of the variables does not affect the operation of the code but it generates:\n",
    "\n",
    "* Programming errors.\n",
    "* Code that is difficult to read is understandable.\n",
    "* A code that is difficult to maintain and develop.\n",
    "\n",
    "The first most important point is therefore that you always have to name the variables in such a way that we know exactly with its name what it refers to.\n",
    "\n",
    "There are \"official\" recommendations for Python on variable naming, this is [PEP8](https://www.python.org/dev/peps/pep-0008/).\n",
    "\n",
    "Among the various recommendations contained in PEP8, the one concerning the naming of variables states that:\n",
    "* Variable names start with a lowercase letter\n",
    "* If the name consists of several words, they are separated by **_** \n",
    "\n",
    "```python\n",
    "my_variable\n",
    "```"
   ]
  },
  {
   "cell_type": "markdown",
   "metadata": {
    "lang": "fr",
    "slideshow": {
     "slide_type": "subslide"
    }
   },
   "source": [
    "*Astuce :* pour connaitre le type d'une variable il suffit d'utiliser "
   ]
  },
  {
   "cell_type": "markdown",
   "metadata": {
    "lang": "en"
   },
   "source": [
    "*Tip:* to know the type of a variable just use"
   ]
  },
  {
   "cell_type": "code",
   "execution_count": 3,
   "metadata": {
    "slideshow": {
     "slide_type": "fragment"
    }
   },
   "outputs": [
    {
     "data": {
      "text/plain": [
       "float"
      ]
     },
     "execution_count": 3,
     "metadata": {},
     "output_type": "execute_result"
    }
   ],
   "source": [
    "type(ma_variable)"
   ]
  },
  {
   "cell_type": "markdown",
   "metadata": {
    "lang": "fr",
    "slideshow": {
     "slide_type": "subslide"
    }
   },
   "source": [
    "## Les types de base (donc pas les seuls possibles) !\n",
    "\n",
    "Nous allons à présent passer en revue les différents types de base disponibles en Python. _De base_ car, nous le verrons plus tard dans le cours, Python permet de définir de nouveaux types additionels. Nous verrons également que l'utilisation de modules complémentaires permet de manipuler d'autre types tels que les matrices par exemple. \n"
   ]
  },
  {
   "cell_type": "markdown",
   "metadata": {
    "lang": "en"
   },
   "source": [
    "## The basic types (so not the only ones possible)!\n",
    "\n",
    "We will now go over the different base types available in Python. _Basic_ because, as we will see later in the course, Python allows you to define additional new types. We will also see that the use of complementary modules makes it possible to handle other types such as matrices for example."
   ]
  },
  {
   "cell_type": "markdown",
   "metadata": {
    "lang": "fr",
    "slideshow": {
     "slide_type": "subslide"
    }
   },
   "source": [
    "### Les nombres : entiers, flottants et complexes\n",
    "\n",
    "Comme tout langage informatique Python permet la manipulation des nombres de tous types, entiers, flottants et complexes. \n",
    "\n",
    "**Les entiers** sont des objets de type **int** (pour integer). "
   ]
  },
  {
   "cell_type": "markdown",
   "metadata": {
    "lang": "en"
   },
   "source": [
    "### Numbers: integers, floats and complexes\n",
    "\n",
    "Like any computer language, Python allows the manipulation of numbers of all types, integers, floats and complexes.\n",
    "\n",
    "**Integers** are objects of type **int** (for integer)."
   ]
  },
  {
   "cell_type": "code",
   "execution_count": 1,
   "metadata": {
    "slideshow": {
     "slide_type": "fragment"
    }
   },
   "outputs": [],
   "source": [
    "un_entier = 127\n",
    "## ou bien \n",
    "un_entier = int(127)\n",
    "\n",
    "un_entier, un_autre = 128,25"
   ]
  },
  {
   "cell_type": "markdown",
   "metadata": {
    "lang": "fr",
    "slideshow": {
     "slide_type": "subslide"
    }
   },
   "source": [
    "Toutes les opérations usuelles addition, soustraction, multiplication, division et élévation à la puissance sont déjà définies et utilisables sur les entiers."
   ]
  },
  {
   "cell_type": "markdown",
   "metadata": {
    "lang": "en"
   },
   "source": [
    "All the usual operations addition, subtraction, multiplication, division and raising to the power are already defined and can be used on integers."
   ]
  },
  {
   "cell_type": "code",
   "execution_count": 23,
   "metadata": {
    "scrolled": true,
    "slideshow": {
     "slide_type": "fragment"
    }
   },
   "outputs": [
    {
     "name": "stdout",
     "output_type": "stream",
     "text": [
      "4\n",
      "-2\n",
      "3\n",
      "0.3333333333333333\n",
      "0\n",
      "1\n",
      "1\n"
     ]
    }
   ],
   "source": [
    "a = 1\n",
    "b = 3\n",
    "\n",
    "print(a+b)  ## Addition\n",
    "print(a-b)  ## Soustraction\n",
    "print(a*b)  ## Multiplication\n",
    "print(a/b)  ## Division\n",
    "print(a//b) ## Division entière\n",
    "print(a%b)  ## Reste de la division entière\n",
    "print(a**b) ## a à la puissance b"
   ]
  },
  {
   "cell_type": "markdown",
   "metadata": {
    "lang": "fr",
    "slideshow": {
     "slide_type": "subslide"
    }
   },
   "source": [
    "**Attention** : En Python 2.X la division **/** de deux entiers retourne en réalité la division entière tandis qu'en Python 3.X il s'agit bien d'une division flottante. "
   ]
  },
  {
   "cell_type": "markdown",
   "metadata": {
    "lang": "en"
   },
   "source": [
    "**Warning**: In Python 2.X the division **/** of two integers actually returns the whole division while in Python 3.X it is indeed a floating division."
   ]
  },
  {
   "cell_type": "code",
   "execution_count": 2,
   "metadata": {
    "slideshow": {
     "slide_type": "fragment"
    }
   },
   "outputs": [
    {
     "name": "stdout",
     "output_type": "stream",
     "text": [
      "a/b = 0\n"
     ]
    }
   ],
   "source": [
    "%%python2\n",
    "a = 1 \n",
    "b = 3\n",
    "print(\"a/b = {}\".format( a/b ))"
   ]
  },
  {
   "cell_type": "markdown",
   "metadata": {
    "lang": "fr",
    "slideshow": {
     "slide_type": "subslide"
    }
   },
   "source": [
    "Les **réels** sont des objects de type **float** pour flottant"
   ]
  },
  {
   "cell_type": "markdown",
   "metadata": {
    "lang": "en"
   },
   "source": [
    "The **reals** are objects of type **float** for float"
   ]
  },
  {
   "cell_type": "code",
   "execution_count": 7,
   "metadata": {
    "slideshow": {
     "slide_type": "fragment"
    }
   },
   "outputs": [
    {
     "data": {
      "text/plain": [
       "float"
      ]
     },
     "execution_count": 7,
     "metadata": {},
     "output_type": "execute_result"
    }
   ],
   "source": [
    "un_flottant = 1.34\n",
    "type(un_flottant)"
   ]
  },
  {
   "cell_type": "markdown",
   "metadata": {
    "lang": "fr",
    "slideshow": {
     "slide_type": "fragment"
    }
   },
   "source": [
    "Les flottants se définissent en Python suivant la même logique que les entiers, attention la virgule est représentée par un point. "
   ]
  },
  {
   "cell_type": "markdown",
   "metadata": {
    "lang": "en"
   },
   "source": [
    "Floats are defined in Python using the same logic as integers, beware the comma is represented by a point."
   ]
  },
  {
   "cell_type": "code",
   "execution_count": 8,
   "metadata": {
    "slideshow": {
     "slide_type": "fragment"
    }
   },
   "outputs": [],
   "source": [
    "a = 1.2387\n",
    "## ou bien \n",
    "a = float(1.2387)"
   ]
  },
  {
   "cell_type": "markdown",
   "metadata": {
    "lang": "fr",
    "slideshow": {
     "slide_type": "fragment"
    }
   },
   "source": [
    "On peut également définir $0.000123$ par $1.23 e^{-4}$ de la manière suivante"
   ]
  },
  {
   "cell_type": "markdown",
   "metadata": {
    "lang": "en"
   },
   "source": [
    "We can also define $0.000123$ by $1.23 e^{-4}$ as follows"
   ]
  },
  {
   "cell_type": "code",
   "execution_count": 13,
   "metadata": {
    "slideshow": {
     "slide_type": "fragment"
    }
   },
   "outputs": [
    {
     "data": {
      "text/plain": [
       "0.000123"
      ]
     },
     "execution_count": 13,
     "metadata": {},
     "output_type": "execute_result"
    }
   ],
   "source": [
    "1.23e-4"
   ]
  },
  {
   "cell_type": "markdown",
   "metadata": {
    "lang": "fr",
    "slideshow": {
     "slide_type": "subslide"
    }
   },
   "source": [
    "Comme pour les entiers toutes les opérations usuelles sont définies et utilisables en Python "
   ]
  },
  {
   "cell_type": "markdown",
   "metadata": {
    "lang": "en"
   },
   "source": [
    "As for integers all the usual operations are defined and usable in Python"
   ]
  },
  {
   "cell_type": "code",
   "execution_count": 14,
   "metadata": {
    "slideshow": {
     "slide_type": "fragment"
    }
   },
   "outputs": [
    {
     "name": "stdout",
     "output_type": "stream",
     "text": [
      "3.6900000000000004\n",
      "-1.2100000000000002\n",
      "3.0380000000000003\n",
      "0.5061224489795918\n",
      "1.6938819049274374\n"
     ]
    }
   ],
   "source": [
    "a = 1.24\n",
    "b = 2.45\n",
    "\n",
    "print(a+b)   ## Addition\n",
    "print(a-b)   ## Soustraction\n",
    "print(a*b)   ## Multiplication\n",
    "print(a/b)   ## Division\n",
    "print(a**b)  ## a puissance b"
   ]
  },
  {
   "cell_type": "markdown",
   "metadata": {
    "lang": "fr",
    "slideshow": {
     "slide_type": "subslide"
    }
   },
   "source": [
    "Lorsque l'on mélange les types au sein d'expressions Python se charge automatiquement de faire la conversion des opérandes dans le type approprié. \n",
    "\n",
    "Par exemple la somme d'un entier et d'un flottant retourne un flottant"
   ]
  },
  {
   "cell_type": "markdown",
   "metadata": {
    "lang": "en"
   },
   "source": [
    "When mixing types within expressions Python automatically takes care of converting the operands into the appropriate type.\n",
    "\n",
    "For example the sum of an integer and a float returns a float"
   ]
  },
  {
   "cell_type": "code",
   "execution_count": 7,
   "metadata": {
    "slideshow": {
     "slide_type": "fragment"
    }
   },
   "outputs": [
    {
     "name": "stdout",
     "output_type": "stream",
     "text": [
      "<class 'int'>\n",
      "<class 'float'>\n",
      "4.0\n",
      "<class 'float'>\n",
      "0.1\n",
      "0.2\n",
      "0.30000000000000004\n"
     ]
    }
   ],
   "source": [
    "a = 2\n",
    "print(type(a))\n",
    "b = 2.\n",
    "print(type(b))\n",
    "c = a + b\n",
    "print(c)\n",
    "print(type(c))\n",
    "\n",
    "a = 0.1\n",
    "b = 0.2\n",
    "c=a+b\n",
    "print(a)\n",
    "print(b)\n",
    "print(c)"
   ]
  },
  {
   "cell_type": "markdown",
   "metadata": {
    "lang": "fr",
    "slideshow": {
     "slide_type": "subslide"
    }
   },
   "source": [
    "Les **complexes** se définissent par un doublet de deux nombres la partie réelle et la partie imaginaire. En Python la définition de ce doublet peut se faire de deux manière différentes "
   ]
  },
  {
   "cell_type": "markdown",
   "metadata": {
    "lang": "en"
   },
   "source": [
    "The **complexes** are defined by a doublet of two numbers the real part and the imaginary part. In Python the definition of this doublet can be done in two different ways"
   ]
  },
  {
   "cell_type": "code",
   "execution_count": 15,
   "metadata": {
    "slideshow": {
     "slide_type": "fragment"
    }
   },
   "outputs": [],
   "source": [
    "## Utilisation du constructeur \"complex\"\n",
    "un_complex = complex(1,1)   # correspond à 1+1i\n",
    "## Utilisation de la constante \"j\"\n",
    "un_complex = 1+1j"
   ]
  },
  {
   "cell_type": "markdown",
   "metadata": {
    "lang": "fr",
    "slideshow": {
     "slide_type": "fragment"
    }
   },
   "source": [
    "*Attention* : il n'y a pas d'opérateur __*__ entre le 1 et le j si vous essayez de mettre cet opérateur dans la définition d'un complex cela entrainera une erreur "
   ]
  },
  {
   "cell_type": "markdown",
   "metadata": {
    "lang": "en"
   },
   "source": [
    "*Warning*: there is no operator __*__ between the 1 and the j if you try to put this operator in the definition of a complex it will cause an error"
   ]
  },
  {
   "cell_type": "markdown",
   "metadata": {
    "slideshow": {
     "slide_type": "fragment"
    }
   },
   "source": [
    "```python \n",
    ">>> x=1\n",
    ">>> y=2\n",
    ">>> c = x+y*j\n",
    "\n",
    "---------------------------------------------------------------------------\n",
    "NameError                                 Traceback (most recent call last)\n",
    "<ipython-input-26-b894b6a64e03> in <module>()\n",
    "      1 x=1\n",
    "      2 y=2\n",
    "----> 3 c = x+y*j\n",
    "\n",
    "NameError: name 'j' is not defined\n",
    "```"
   ]
  },
  {
   "cell_type": "markdown",
   "metadata": {
    "lang": "fr",
    "slideshow": {
     "slide_type": "subslide"
    }
   },
   "source": [
    "*Astuce* : si vous souhaitez manipuler des complexes faisant intervenir des variables sans devoir réécrire la commande **complex** à chaque fois le plus simple est de procéder de la manière suivante "
   ]
  },
  {
   "cell_type": "markdown",
   "metadata": {
    "lang": "en"
   },
   "source": [
    "*Tip*: if you want to handle complexes involving variables without having to rewrite the **complex** command each time, the easiest way is to proceed as follows"
   ]
  },
  {
   "cell_type": "code",
   "execution_count": 13,
   "metadata": {
    "slideshow": {
     "slide_type": "fragment"
    }
   },
   "outputs": [
    {
     "name": "stdout",
     "output_type": "stream",
     "text": [
      "(1+2j)\n"
     ]
    }
   ],
   "source": [
    "i = 1j\n",
    "x = 1\n",
    "y = 2\n",
    "\n",
    "c = x+i*y\n",
    "print(c)\n"
   ]
  },
  {
   "cell_type": "markdown",
   "metadata": {
    "lang": "fr",
    "slideshow": {
     "slide_type": "subslide"
    }
   },
   "source": [
    "Bien évidemment les opérations de bases sur les nombres complexes existent déjà en Python. "
   ]
  },
  {
   "cell_type": "markdown",
   "metadata": {
    "lang": "en"
   },
   "source": [
    "Obviously basic operations on complex numbers already exist in Python."
   ]
  },
  {
   "cell_type": "code",
   "execution_count": 14,
   "metadata": {
    "slideshow": {
     "slide_type": "fragment"
    }
   },
   "outputs": [
    {
     "name": "stdout",
     "output_type": "stream",
     "text": [
      "(3+4.45j)\n",
      "(-1-2.45j)\n",
      "(-1.4500000000000002+5.45j)\n",
      "(0.3427134098412199-0.09118063197610438j)\n"
     ]
    }
   ],
   "source": [
    "c1 = 1+1j\n",
    "c2 = 2+3.45j\n",
    "\n",
    "print(c1+c2)\n",
    "print(c1-c2)\n",
    "print(c1*c2)\n",
    "print(c1/c2)"
   ]
  },
  {
   "cell_type": "markdown",
   "metadata": {
    "lang": "fr",
    "slideshow": {
     "slide_type": "subslide"
    }
   },
   "source": [
    "Mais il y a également d'autre opérations spécifiques disponibles"
   ]
  },
  {
   "cell_type": "markdown",
   "metadata": {
    "lang": "en"
   },
   "source": [
    "But there are also other specific operations available"
   ]
  },
  {
   "cell_type": "code",
   "execution_count": 15,
   "metadata": {
    "slideshow": {
     "slide_type": "fragment"
    }
   },
   "outputs": [
    {
     "name": "stdout",
     "output_type": "stream",
     "text": [
      "1.0\n",
      "1.0\n",
      "(1-1j)\n",
      "1.4142135623730951\n"
     ]
    }
   ],
   "source": [
    "print(c1.real)        ## Partie réelle\n",
    "print(c1.imag)        ## Partie imaginaire\n",
    "print(c1.conjugate()) ## Conjuguée de c1\n",
    "print(abs(c1))        ## Module de c1"
   ]
  },
  {
   "cell_type": "markdown",
   "metadata": {
    "lang": "fr",
    "slideshow": {
     "slide_type": "subslide"
    }
   },
   "source": [
    "### Les booléens"
   ]
  },
  {
   "cell_type": "markdown",
   "metadata": {
    "lang": "en"
   },
   "source": [
    "### Booleans"
   ]
  },
  {
   "cell_type": "markdown",
   "metadata": {
    "lang": "fr",
    "slideshow": {
     "slide_type": "fragment"
    }
   },
   "source": [
    "Le type **booléen** est utiliser en Python pour l'écriture d'expressions logiques, de tests. Le type booléen ne peut prendre que deux valeurs **True** ou **False**. "
   ]
  },
  {
   "cell_type": "markdown",
   "metadata": {
    "lang": "en"
   },
   "source": [
    "The **boolean** type is used in Python for writing logical expressions, tests. The Boolean type can only take two values ​​**True** or **False**."
   ]
  },
  {
   "cell_type": "code",
   "execution_count": 16,
   "metadata": {
    "slideshow": {
     "slide_type": "fragment"
    }
   },
   "outputs": [],
   "source": [
    "un_vrai = True\n",
    "un_faux = False"
   ]
  },
  {
   "cell_type": "markdown",
   "metadata": {
    "lang": "fr",
    "slideshow": {
     "slide_type": "fragment"
    }
   },
   "source": [
    "Afin de construire des expressions logiques on dispose en Python des opérateurs logiques suivants : \n",
    "* Opérateurs de comparaisons (applicables aux nombres entiers et flottants) : >,>=,<,<=,==,!=\n",
    "* Connecteurs : and, or, not, == ou is, in"
   ]
  },
  {
   "cell_type": "markdown",
   "metadata": {
    "lang": "en"
   },
   "source": [
    "In order to build logical expressions we have in Python the following logical operators:\n",
    "\n",
    "* Comparison operators (applicable to integers and floating point numbers):>,>=, <, <=, ==,!=\n",
    "* Connectors: and, or, not, == or is, in"
   ]
  },
  {
   "cell_type": "markdown",
   "metadata": {
    "lang": "fr",
    "slideshow": {
     "slide_type": "subslide"
    }
   },
   "source": [
    "Ci-dessous quelques exemples d'expressions logiques : "
   ]
  },
  {
   "cell_type": "markdown",
   "metadata": {
    "lang": "en"
   },
   "source": [
    "Below are some examples of logical expressions:"
   ]
  },
  {
   "cell_type": "code",
   "execution_count": 17,
   "metadata": {
    "slideshow": {
     "slide_type": "fragment"
    }
   },
   "outputs": [
    {
     "name": "stdout",
     "output_type": "stream",
     "text": [
      "True\n",
      "False\n",
      "True\n",
      "False\n",
      "True\n",
      "False\n",
      "True\n"
     ]
    }
   ],
   "source": [
    "a = 2.3\n",
    "b = 10\n",
    "\n",
    "print( a <= b)\n",
    "print( a >= b)\n",
    "print( (a <= b) is True )\n",
    "print( (a <= b) == False )\n",
    "print( (a <= b) or (a > b) )\n",
    "print( ( (a <= b) or (a > b) ) and ( a>b ) )\n",
    "print( not (b>10.))"
   ]
  },
  {
   "cell_type": "markdown",
   "metadata": {
    "lang": "fr",
    "slideshow": {
     "slide_type": "subslide"
    }
   },
   "source": [
    "### Les chaines de caractères"
   ]
  },
  {
   "cell_type": "markdown",
   "metadata": {
    "lang": "en"
   },
   "source": [
    "### The strings"
   ]
  },
  {
   "cell_type": "markdown",
   "metadata": {
    "lang": "fr",
    "slideshow": {
     "slide_type": "fragment"
    }
   },
   "source": [
    "Le dernier type natif en Python est le type **string** pour les chaînes de caractères. Les chaînes de caractères en Python peuvent se définir de trois manières différentes. "
   ]
  },
  {
   "cell_type": "markdown",
   "metadata": {
    "lang": "en"
   },
   "source": [
    "The last native type in Python is the **string** type for strings. Strings in Python can be defined in three different ways."
   ]
  },
  {
   "cell_type": "code",
   "execution_count": 18,
   "metadata": {
    "slideshow": {
     "slide_type": "fragment"
    }
   },
   "outputs": [],
   "source": [
    "une_string = \"Hell World\"\n",
    "### ou bien \n",
    "une_string = 'Hello World'\n",
    "### ou encore\n",
    "une_string = \"\"\"Hello World\"\"\""
   ]
  },
  {
   "cell_type": "markdown",
   "metadata": {
    "lang": "fr",
    "slideshow": {
     "slide_type": "subslide"
    }
   },
   "source": [
    "Ces trois méthodes de définitions ont toutes un intérêt. La première permet de définir des chaînes de caractères contenant des apostrophes. La seconde permet de définir des chaines de caractères contenant des guillemets. Enfin la dernière permet quant à elle de conserver le formatage de la chaîne de caractères lorsque l'on affiche cette dernière avec la command **print** par exemple"
   ]
  },
  {
   "cell_type": "markdown",
   "metadata": {
    "lang": "en"
   },
   "source": [
    "These three methods of definitions all have an interest. The first allows you to define character strings containing apostrophes. The second allows you to define character strings containing quotes. Finally, the last allows to keep the formatting of the character string when it is displayed with the command **print** for example"
   ]
  },
  {
   "cell_type": "code",
   "execution_count": 19,
   "metadata": {
    "scrolled": true,
    "slideshow": {
     "slide_type": "fragment"
    }
   },
   "outputs": [
    {
     "name": "stdout",
     "output_type": "stream",
     "text": [
      "Bonjour tout le monde, comment allez vous ?\n",
      "Bonjour tout le monde, \n",
      "comment allez vous ? \n"
     ]
    }
   ],
   "source": [
    "une_chaine_sans_formatage = \"Bonjour tout le monde, comment allez vous ?\"\n",
    "print( une_chaine_sans_formatage )\n",
    "une_chaine_avec_formatage = \"\"\"Bonjour tout le monde, \n",
    "comment allez vous ? \"\"\"\n",
    "print( une_chaine_avec_formatage )"
   ]
  },
  {
   "cell_type": "markdown",
   "metadata": {
    "lang": "fr",
    "slideshow": {
     "slide_type": "fragment"
    }
   },
   "source": [
    "*Remarque :* la dernière méthode d'écriture d'une chaîne de caractère, basée sur les triples guillemets, permet également de définir des blocs de commentaires. "
   ]
  },
  {
   "cell_type": "markdown",
   "metadata": {
    "lang": "en"
   },
   "source": [
    "*Note:* the last method of writing a character string, based on triple quotes, also allows you to define comment blocks."
   ]
  },
  {
   "cell_type": "markdown",
   "metadata": {
    "lang": "fr",
    "slideshow": {
     "slide_type": "subslide"
    }
   },
   "source": [
    "**Manipulation des chaînes de caractères**"
   ]
  },
  {
   "cell_type": "markdown",
   "metadata": {
    "lang": "en"
   },
   "source": [
    "**Handling character strings**"
   ]
  },
  {
   "cell_type": "markdown",
   "metadata": {
    "lang": "fr",
    "slideshow": {
     "slide_type": "fragment"
    }
   },
   "source": [
    "Nous allons à présent voir comment l'on peut manipuler les chaînes de caractères. Cela peut paraitre accessoire mais pour le traitement de données expérimentales une grosse partie du travail est le traitement de fichier et donc de chaines de caractères représentant leurs contenus. Il est donc primordial de savoir traiter rapidement et efficacement des chaînes de caractères. Voici  ci dessous quelques opérations élémentaires sur les chaines de caractères. "
   ]
  },
  {
   "cell_type": "markdown",
   "metadata": {
    "lang": "en"
   },
   "source": [
    "We will now see how we can handle character strings. This may seem incidental but for the processing of experimental data a large part of the work is the processing of files and therefore of strings representing their contents. It is therefore essential to know how to process character strings quickly and efficiently. Here below are some elementary operations on character strings."
   ]
  },
  {
   "cell_type": "code",
   "execution_count": 10,
   "metadata": {
    "slideshow": {
     "slide_type": "subslide"
    }
   },
   "outputs": [],
   "source": [
    "chaine_a = \"debut\"\n",
    "chaine_b = \"fin\""
   ]
  },
  {
   "cell_type": "markdown",
   "metadata": {
    "lang": "fr",
    "slideshow": {
     "slide_type": "fragment"
    }
   },
   "source": [
    "*Concaténation de chaînes de caractères :*"
   ]
  },
  {
   "cell_type": "markdown",
   "metadata": {
    "lang": "en"
   },
   "source": [
    "*Concatenation of character strings:*"
   ]
  },
  {
   "cell_type": "code",
   "execution_count": 5,
   "metadata": {
    "slideshow": {
     "slide_type": "fragment"
    }
   },
   "outputs": [
    {
     "name": "stdout",
     "output_type": "stream",
     "text": [
      "debutfin\n",
      "debut fin\n"
     ]
    }
   ],
   "source": [
    "res = chaine_a + chaine_b \n",
    "print(res)\n",
    "res = chaine_a + \" \" + chaine_b\n",
    "print(res)"
   ]
  },
  {
   "cell_type": "markdown",
   "metadata": {
    "lang": "fr",
    "slideshow": {
     "slide_type": "fragment"
    }
   },
   "source": [
    "*Formattage d'une chaine de caractère :*"
   ]
  },
  {
   "cell_type": "markdown",
   "metadata": {
    "lang": "en"
   },
   "source": [
    "*Formatting a character string:*"
   ]
  },
  {
   "cell_type": "code",
   "execution_count": 6,
   "metadata": {
    "scrolled": true,
    "slideshow": {
     "slide_type": "fragment"
    }
   },
   "outputs": [
    {
     "name": "stdout",
     "output_type": "stream",
     "text": [
      "Une chaine de caractère avec un entier 1 un flottant 2.34 et un booléen False\n"
     ]
    }
   ],
   "source": [
    "ma_chaine = \"Une chaine de caractère avec un entier {} un flottant {} et un booléen {}\".format(1,2.34,False)\n",
    "print( ma_chaine )"
   ]
  },
  {
   "cell_type": "code",
   "execution_count": 7,
   "metadata": {
    "slideshow": {
     "slide_type": "fragment"
    }
   },
   "outputs": [
    {
     "name": "stdout",
     "output_type": "stream",
     "text": [
      "Une chaine de caractère avec un entier 1 un flottant 2.34 et un booléen False\n"
     ]
    }
   ],
   "source": [
    "ma_chaine = \"Une chaine de caractère avec un entier {2} un flottant {1} et un booléen {0}\".format(False,2.34,1)\n",
    "print( ma_chaine )"
   ]
  },
  {
   "cell_type": "markdown",
   "metadata": {
    "lang": "fr",
    "slideshow": {
     "slide_type": "fragment"
    }
   },
   "source": [
    "Depuis Python 3.6 il est possible de formatter une chaine de caractère de manière plus concise en utilisant la syntaxe suivante : \n",
    "\n",
    "```python \n",
    "\n",
    "f\"une chaine {variable} et/ou {expression python}\"\n",
    "\n",
    "```"
   ]
  },
  {
   "cell_type": "markdown",
   "metadata": {
    "lang": "en"
   },
   "source": [
    "Since Python 3.6 it is possible to format a string more concisely using the following syntax:\n",
    "\n",
    "```python\n",
    "\n",
    "f \"a string {variable} and / or {python expression}\"\n",
    "\n",
    "```"
   ]
  },
  {
   "cell_type": "code",
   "execution_count": 8,
   "metadata": {
    "slideshow": {
     "slide_type": "fragment"
    }
   },
   "outputs": [
    {
     "name": "stdout",
     "output_type": "stream",
     "text": [
      "pi=3.14 et pi*pi=9.8596\n"
     ]
    }
   ],
   "source": [
    "pi=3.14\n",
    "print( f\"pi={pi} et pi*pi={pi*pi}\")"
   ]
  },
  {
   "cell_type": "markdown",
   "metadata": {
    "lang": "fr",
    "slideshow": {
     "slide_type": "subslide"
    }
   },
   "source": [
    "*Trouver si une sous-chaîne est dans une chaîne :*"
   ]
  },
  {
   "cell_type": "markdown",
   "metadata": {
    "lang": "en"
   },
   "source": [
    "*Find if a substring is in a string:*"
   ]
  },
  {
   "cell_type": "code",
   "execution_count": 11,
   "metadata": {
    "slideshow": {
     "slide_type": "fragment"
    }
   },
   "outputs": [
    {
     "name": "stdout",
     "output_type": "stream",
     "text": [
      "True\n"
     ]
    }
   ],
   "source": [
    "sous_chaine = \"bu\"\n",
    "print( sous_chaine in chaine_a )\n"
   ]
  },
  {
   "cell_type": "markdown",
   "metadata": {
    "lang": "fr",
    "slideshow": {
     "slide_type": "subslide"
    }
   },
   "source": [
    "*Séparer une chaine en un ensemble de chaîne au niveau d'un charactère donné :*"
   ]
  },
  {
   "cell_type": "markdown",
   "metadata": {
    "lang": "en"
   },
   "source": [
    "*Separate a string into a set of strings at the level of a given character:*"
   ]
  },
  {
   "cell_type": "code",
   "execution_count": 11,
   "metadata": {
    "slideshow": {
     "slide_type": "fragment"
    }
   },
   "outputs": [
    {
     "name": "stdout",
     "output_type": "stream",
     "text": [
      "debut_fin\n",
      "['debut', 'fin']\n",
      "debut\n",
      "fin\n"
     ]
    }
   ],
   "source": [
    "res = chaine_a + \"_\" + chaine_b\n",
    "print(res)\n",
    "after_split = res.split(\"_\")\n",
    "print(after_split)\n",
    "print(after_split[0])\n",
    "print(after_split[1])"
   ]
  },
  {
   "cell_type": "markdown",
   "metadata": {
    "lang": "fr",
    "slideshow": {
     "slide_type": "fragment"
    }
   },
   "source": [
    "_Joindre une liste de string avec un délimiteur donné :_"
   ]
  },
  {
   "cell_type": "markdown",
   "metadata": {
    "lang": "en"
   },
   "source": [
    "_Join a list of string with a given delimiter:_"
   ]
  },
  {
   "cell_type": "code",
   "execution_count": 12,
   "metadata": {
    "slideshow": {
     "slide_type": "fragment"
    }
   },
   "outputs": [
    {
     "name": "stdout",
     "output_type": "stream",
     "text": [
      "['debut', 'fin']\n"
     ]
    },
    {
     "data": {
      "text/plain": [
       "'debut-fin'"
      ]
     },
     "execution_count": 12,
     "metadata": {},
     "output_type": "execute_result"
    }
   ],
   "source": [
    "print(after_split)\n",
    "\"-\".join(after_split)"
   ]
  },
  {
   "cell_type": "markdown",
   "metadata": {
    "lang": "fr",
    "slideshow": {
     "slide_type": "subslide"
    }
   },
   "source": [
    "*Connaitre la taille d'une liste* "
   ]
  },
  {
   "cell_type": "markdown",
   "metadata": {
    "lang": "en"
   },
   "source": [
    "*Find out the size of a list*"
   ]
  },
  {
   "cell_type": "code",
   "execution_count": 18,
   "metadata": {
    "slideshow": {
     "slide_type": "fragment"
    }
   },
   "outputs": [
    {
     "name": "stdout",
     "output_type": "stream",
     "text": [
      "debut\n"
     ]
    },
    {
     "data": {
      "text/plain": [
       "5"
      ]
     },
     "execution_count": 18,
     "metadata": {},
     "output_type": "execute_result"
    }
   ],
   "source": [
    "print(chaine_a) \n",
    "len(chaine_a)"
   ]
  },
  {
   "cell_type": "markdown",
   "metadata": {
    "lang": "fr",
    "slideshow": {
     "slide_type": "fragment"
    }
   },
   "source": [
    "*Extraire une sous-partie (slice)*"
   ]
  },
  {
   "cell_type": "markdown",
   "metadata": {
    "lang": "en"
   },
   "source": [
    "*Extract a sub-part (slice)*"
   ]
  },
  {
   "cell_type": "code",
   "execution_count": 20,
   "metadata": {
    "slideshow": {
     "slide_type": "fragment"
    }
   },
   "outputs": [
    {
     "data": {
      "text/plain": [
       "'eb'"
      ]
     },
     "execution_count": 20,
     "metadata": {},
     "output_type": "execute_result"
    }
   ],
   "source": [
    "chaine_a[1:3]"
   ]
  },
  {
   "cell_type": "code",
   "execution_count": 21,
   "metadata": {
    "slideshow": {
     "slide_type": "fragment"
    }
   },
   "outputs": [
    {
     "data": {
      "text/plain": [
       "'dbt'"
      ]
     },
     "execution_count": 21,
     "metadata": {},
     "output_type": "execute_result"
    }
   ],
   "source": [
    "chaine_a[::2]"
   ]
  },
  {
   "cell_type": "markdown",
   "metadata": {
    "lang": "fr",
    "slideshow": {
     "slide_type": "subslide"
    }
   },
   "source": [
    "***Slicing de manière générale***\n",
    "\n",
    "De manière générale la syntaxe pour extraire un slice est de la forme:\n",
    "\n",
    "    start:end:step\n",
    "    \n",
    "\n",
    "Avec par défaut : \n",
    "\n",
    "    start=0\n",
    "    end=len(obj)\n",
    "    step=1\n",
    "    \n",
    "    \n",
    "> **Attention**  \n",
    "> Dans le slice la valeur de `end` est **exclue**"
   ]
  },
  {
   "cell_type": "markdown",
   "metadata": {
    "lang": "en"
   },
   "source": [
    "***Slicing in general***\n",
    "\n",
    "In general, the syntax for extracting a slice is of the form:\n",
    "\n",
    "    start:end:step\n",
    "    \n",
    "\n",
    "With default:\n",
    "\n",
    "    start = 0\n",
    "    end = len (obj)\n",
    "    step = 1\n",
    "    \n",
    "    \n",
    ">**Attention**  \n",
    "> In the slice the value of `end` is **excluded**"
   ]
  },
  {
   "cell_type": "markdown",
   "metadata": {
    "lang": "fr",
    "slideshow": {
     "slide_type": "slide"
    }
   },
   "source": [
    "## Les structures de contrôles"
   ]
  },
  {
   "cell_type": "markdown",
   "metadata": {
    "lang": "en"
   },
   "source": [
    "## Control structures"
   ]
  },
  {
   "cell_type": "markdown",
   "metadata": {
    "lang": "fr",
    "slideshow": {
     "slide_type": "subslide"
    }
   },
   "source": [
    "### Principe\n",
    "Le derniers point abordé dans cette première partie est ce que l'on appelle en informatique les structures de contrôles. \n",
    "Nous avons vu précédemment que l'on peut facilement écrire des expressions logiques portant sur des variables. Ce que l'on n'a pas vu pour le moment c'est à quoi le résultat des ces expressions logiques peut servir dans le code et c'est là qu'interviennent les structures de contrôle. \n",
    "En effet l'intérêt d'un programme informatique est généralement de réaliser un certain nombre de tâches/actions. Mais suivant les valeurs d'entrées du programmes les actions à effectuer ne sont potentiellement pas les même c'est donc pour cela que l'on a besoin de mettre en place des expressions logiques associées aux structures de contrôle afin **d'aiguiller** le programme et le flux de traitement. \n",
    "\n",
    "Concrètement, imaginons que je fasse un programme qui en fonction de notes me dise automatiquement si un élève valide mon module ou doit aller en rattrapage. Une fois la note calculée, il faut que je teste si cette dernière est supérieur ou égale à 10 ou bien si elle est inférieure à 10 car suivant le cas considérer le programme ne doit pas afficher le même message. C'est donc en cela que consiste l'utilisation des structures de contrôles. "
   ]
  },
  {
   "cell_type": "markdown",
   "metadata": {
    "lang": "en"
   },
   "source": [
    "### Principle\n",
    "The last point addressed in this first part is what we call in computer science the structures of controls.\n",
    "We saw previously that one can easily write logical expressions relating to variables. What we haven't seen yet is what the result of these logical expressions can be used for in the code and that's where the control structures come in.\n",
    "Indeed, the interest of a computer program is generally to perform a certain number of tasks / actions. But depending on the input values ​​of the program, the actions to be performed are potentially not the same, which is why we need to set up logical expressions associated with the control structures in order to **steer** the program and the processing flow.\n",
    "\n",
    "Concretely, let's imagine that I make a program which, according to grades, automatically tells me if a student validates my module or must go to catch-up. Once the score has been calculated, I have to test whether it is greater than or equal to 10 or if it is less than 10 because, depending on the case, consider the program should not display the same message. This is what the use of control structures consists of."
   ]
  },
  {
   "cell_type": "markdown",
   "metadata": {
    "lang": "fr",
    "slideshow": {
     "slide_type": "subslide"
    }
   },
   "source": [
    "### if ... elif ... else\n",
    "\n",
    "En Python les seules commandes permettant d'orienter le déroulement d'un programme sont **if**, **elif** et **else**. Ce qui vous l'aurez surement deviné peut se traduire par **si**, **sinon si**, **sinon**. \n",
    "\n",
    "\n",
    "```python\n",
    "if une_première_condition:\n",
    "    action_associée_a_la_premiere_condition\n",
    "elif une_autre_condition:\n",
    "    action_associée_a_la_seconde_condition\n",
    "else:\n",
    "    action_effectuée_par_défaut\n",
    "```\n",
    "\n",
    "Bien entendu la syntaxe permet d'avoir autant de **elif** que nécessaire, autant voulant dire de __0 à N__. Vous ne pouvez en revanche avoir qu'un seul **else** et vous devez forcément commencer par un **if**. Les objets/variables conditions doivent être de type *booléen* ou *entier*. En effet Python peut assimiler un entier à un booléen en suivant la règle suivante si l'entier vaut **0** il est associé à **False**, s'il est différent de 0 il est associé à **True**.\n"
   ]
  },
  {
   "cell_type": "markdown",
   "metadata": {
    "lang": "en"
   },
   "source": [
    "### if ... elif ... else\n",
    "\n",
    "In Python the only commands used to orient the course of a program are **if**, **elif** and **else**. What you will surely have guessed can be translated by **if**, **if not if**, **if not**.\n",
    "\n",
    "\n",
    "```python\n",
    "if a _first_ condition:\n",
    "    action _associated_ with _the_ first _condition\n",
    "elif a_ other _condition:\n",
    "    action_ associated _has_ the _second_ condition\n",
    "else:\n",
    "    action _performed_ by _default\n",
    "```\n",
    "\n",
    "Of course, the syntax allows you to have as many **elif** as necessary, meaning from __0 to N__. However, you can only have one **else** and you must necessarily start with an **if**. Condition objects / variables must be of type *boolean* or *int*. Indeed Python can assimilate an integer to a boolean by following the following rule if the integer is equal to **0** it is associated with **False**, if it is different from 0 it is associated with **True**."
   ]
  },
  {
   "cell_type": "markdown",
   "metadata": {
    "lang": "fr",
    "slideshow": {
     "slide_type": "subslide"
    }
   },
   "source": [
    "> **Important** : règle syntaxique   \n",
    "> Vous l'avez peut être constaté :\n",
    "> * à la fin de chacune des lignes if, elif, else il y a le caractère \"**:**\"\n",
    "> * il n'y a pas de mot clé pour spéficier la fin de la structure de contrôle (pas de endif)\n",
    "> * les lignes de commandes situées au sein de la structure de contrôle (sous les commandes if, elif, else) sont indentées.  \n",
    ">\n",
    "\n",
    "Il s'agit là d'un concept fondamental en Python, tous les blocs d'instruction commencent par le caractère \"**:**\" et sont délimités par le niveau d'indentation du code. Par exemple : \n",
    "```python \n",
    "if une_condition:\n",
    "    ## Debut des instructions executées si la condition \"une_condition\" est vraie\n",
    "    a = 2\n",
    "    print(a)\n",
    "    b = 3\n",
    "    print(b)\n",
    "    ## Fin des instructions contenues dans le if\n",
    "### Reprise du code executé que l'on passe dans le if ou non\n",
    "a = 234\n",
    "b = a**3\n",
    "print( b )\n",
    "```"
   ]
  },
  {
   "cell_type": "markdown",
   "metadata": {
    "lang": "en"
   },
   "source": [
    "> **Important**: syntax rule\n",
    "> You may have noticed:\n",
    "> *at the end of each of the if, elif, else lines there is the character \"* *:* *\"\n",
    ">* there is no keyword to specify the end of the control structure (no endif)\n",
    "> *the command lines located within the control structure (under the if, elif, else commands) are indented.\n",
    ">\n",
    "\n",
    "This is a fundamental concept in Python, all instruction blocks begin with the character \"* *:* *\" and are delimited by the level of indentation of the code. For example :\n",
    "```python\n",
    "if a_condition:\n",
    "    ## Beginning of the instructions executed if the condition \"some_condition\" is true\n",
    "    a = 2\n",
    "    print (a)\n",
    "    b = 3\n",
    "    print (b)\n",
    "    ## End of the instructions contained in the if\n",
    "### Resumption of the executed code that we pass in the if or not\n",
    "a = 234\n",
    "b = a* * 3\n",
    "print (b)\n",
    "```"
   ]
  },
  {
   "cell_type": "markdown",
   "metadata": {
    "lang": "fr",
    "slideshow": {
     "slide_type": "subslide"
    }
   },
   "source": [
    "En suivant cette règle d'indentation il est tout à fait possible d'imbriquer plusieurs blocs d'instructions if, elif, else les uns dans les autres. Par exemple : \n",
    "\n",
    "```python\n",
    "if condition_1:\n",
    "    if sous_condition_11:\n",
    "        une_action\n",
    "    elif sous_condition_12:\n",
    "        une_autre_action\n",
    "    else:\n",
    "        encore_une_autre_action\n",
    "elif condition_2:\n",
    "    if sous_condition_21:\n",
    "        pass\n",
    "    elif:\n",
    "        une_action\n",
    "else:\n",
    "    une_action\n",
    "```    \n",
    "\n",
    "Vous voyez au passage apparaitre le mot clé `pass`. Ce dernier dans les fait ne sert à rien, puisqu'il n'effectue aucune action. Son seul intérêt et de permettre de respecter les règles de syntaxe. Dans le cas précédent il permet de définir un bloc **elif** associé à un bloc **if** qui n'effectue aucune action. "
   ]
  },
  {
   "cell_type": "markdown",
   "metadata": {
    "lang": "en"
   },
   "source": [
    "By following this indentation rule it is quite possible to nest several blocks of if, elif, else statements within each other. For example :\n",
    "\n",
    "```python\n",
    "if condition _1:\n",
    "    if under_ condition _11:\n",
    "        a_ action\n",
    "    elif under _condition_ 12:\n",
    "        one _other_ action\n",
    "    else:\n",
    "        yet _one_ other _action\n",
    "elif condition_ 2:\n",
    "    if under _condition_ 21:\n",
    "        pass\n",
    "    elif:\n",
    "        a _action\n",
    "else:\n",
    "    a_ action\n",
    "```\n",
    "\n",
    "You see in passing the keyword `pass`. The latter in fact is useless, since it does not perform any action. Its only interest is to allow to respect the rules of syntax. In the previous case, it is used to define a **elif** block associated with a **if** block which does not perform any action."
   ]
  },
  {
   "cell_type": "markdown",
   "metadata": {
    "lang": "fr",
    "slideshow": {
     "slide_type": "subslide"
    }
   },
   "source": [
    "*Remargue sur l'indentation :*  \n",
    "Pour les indentations de votre code vous pouvez utiliser :\n",
    "* La touche tabulation \n",
    "* Un nombre arbitraire d'espaces (généralement 4)  \n",
    "Cependant attention il ne faut en aucun cas mélanger tabulation et espace dans votre code, car sinon vous aurez une erreur à l'exécution du code. La plupart des éditeurs de texte remplace automatique les tabulations par 4 espaces. Cependant certains éditeurs sous Windows notamment ne le font pas ce qui peut engendrer des erreurs. Le message d'erreur retourné par Python est assez explicite et est de la forme\n",
    "\n",
    "```python\n",
    "TabError : inconsistent use of tabs and spaces in indentation\n",
    "```"
   ]
  },
  {
   "cell_type": "markdown",
   "metadata": {
    "lang": "en"
   },
   "source": [
    "*Note on indentation:*\n",
    "\n",
    "For the indentations of your code you can use:\n",
    "\n",
    "* The tab key\n",
    "* An arbitrary number of spaces (usually 4)\n",
    "However, be careful not to mix tabulation and space in your code, otherwise you will get an error during code execution. Most text editors automatically replace tabs with 4 spaces. However, some editors under Windows in particular do not do this, which can cause errors. The error message returned by Python is quite explicit and is of the form\n",
    "\n",
    "```python\n",
    "TabError: inconsistent use of tabs and spaces in indentation\n",
    "```"
   ]
  },
  {
   "cell_type": "code",
   "execution_count": null,
   "metadata": {},
   "outputs": [],
   "source": []
  }
 ],
 "metadata": {
  "celltoolbar": "Diaporama",
  "kernelspec": {
   "display_name": "Python 3 (ipykernel)",
   "language": "python",
   "name": "python3"
  },
  "language_info": {
   "codemirror_mode": {
    "name": "ipython",
    "version": 3
   },
   "file_extension": ".py",
   "mimetype": "text/x-python",
   "name": "python",
   "nbconvert_exporter": "python",
   "pygments_lexer": "ipython3",
   "version": "3.9.6"
  },
  "nbTranslate": {
   "displayLangs": [
    "*"
   ],
   "hotkey": "alt-t",
   "langInMainMenu": true,
   "sourceLang": "fr",
   "targetLang": "en",
   "useGoogleTranslate": true
  },
  "rise": {
   "autolaunch": true,
   "slideNumber": "c/t",
   "theme": "moon",
   "transition": "slide"
  }
 },
 "nbformat": 4,
 "nbformat_minor": 2
}
