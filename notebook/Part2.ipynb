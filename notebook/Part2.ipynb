{
 "cells": [
  {
   "cell_type": "markdown",
   "metadata": {
    "slideshow": {
     "slide_type": "slide"
    }
   },
   "source": [
    "# Cours de Programmation\n",
    "---------------\n",
    "## Introduction à Python pour le mécanicien des matériaux\n",
    "\n",
    "### @author : Basile Marchand (Centre des Matériaux - Mines ParisTech/CNRS/Université PSL*)"
   ]
  },
  {
   "cell_type": "markdown",
   "metadata": {
    "slideshow": {
     "slide_type": "subslide"
    }
   },
   "source": [
    "## 5 - Les conteneurs --- car une variable c'est bien mais un gros paquet c'est mieux "
   ]
  },
  {
   "cell_type": "markdown",
   "metadata": {
    "slideshow": {
     "slide_type": "subslide"
    }
   },
   "source": [
    "### 5.1 - En pratique - une variable contenant d'autres variables"
   ]
  },
  {
   "cell_type": "markdown",
   "metadata": {
    "slideshow": {
     "slide_type": "fragment"
    }
   },
   "source": [
    "Nous avons vu précédemment que l'on peut facilement avec Python définir des variables de type nombre, booléen ou encore chaine de caractères. C'est bien mais cependant c'est loin d'être suffisant pour pouvoir automatiser les tâches ou faire du calcul numérique. C'est pour cela que nous allons maintenant voir les conteneurs. Comme son nom l'indique un conteneur va être une variable dans laquelle nous allons ranger un ensemble de variables. Par exemple pour ranger l'ensemble des notes que vous aurez pour le projet du cours il me faudra une liste. \n",
    "\n",
    "Nous allons voir qu'il n'existe pas qu'un seul type de conteneur en Python mais plusieurs, dans le Python que je qualifierai de base ils sont aux nombre de quatre : \n",
    "* Les tuples\n",
    "* Les listes\n",
    "* Les dictionnaires\n",
    "* Les ensembles\n",
    "\n",
    "Dans le cadre de ce cours nous ne nous intéresserons qu'aux trois premiers, le derniers n'ayant que peu d'intérêt pour nos applications. Bien évidemment si plusieurs conteneurs existes, c'est parce que chacun à ses particularités et ses limites que l'on va présenter. "
   ]
  },
  {
   "cell_type": "markdown",
   "metadata": {
    "slideshow": {
     "slide_type": "subslide"
    }
   },
   "source": [
    "### 5.2 - Les tuples \n",
    "\n",
    "Il s'agit du premier conteneur Python et surement le plus utilisé. Vous vous en êtes d'ailleurs déjà servi sans vous en rendre compte. En francais on pourrait traduire la notion de tuple à celle de n-uplet. Il s'agit donc d'un ensemble de valeurs (homogène ou non), c'est-à-dire qu'un tuple peut stocker des objets de types différents. \n",
    "\n",
    "La syntaxe pour définir un tuple est la suivante : \n",
    "\n",
    "```python\n",
    "nom_du_tuple = (valeur1, valeur2, ..., valeurN)\n",
    "```\n",
    "\n",
    "Pour accéder à la valeur d'un tuple il suffit d'utiliser l'opérateur **[]** avec entre crochet l'indice de l'élément auquel on souhaite accéder.\n",
    "\n",
    "> **Attention :**\n",
    "> Dans tous les conteneurs Python les indices commencent à **zéro** ! C'est à dire que pour accéder un premier élément d'un tuple il faut demander l'élément d'indice 0.\n"
   ]
  },
  {
   "cell_type": "markdown",
   "metadata": {
    "slideshow": {
     "slide_type": "subslide"
    }
   },
   "source": [
    "Par exemple : "
   ]
  },
  {
   "cell_type": "code",
   "execution_count": 1,
   "metadata": {
    "slideshow": {
     "slide_type": "fragment"
    }
   },
   "outputs": [
    {
     "name": "stdout",
     "output_type": "stream",
     "text": [
      "10\n",
      "une_string\n",
      "1e-05\n",
      "False\n"
     ]
    }
   ],
   "source": [
    "un_tuple = (10, \"une_string\", 1.e-5, False)\n",
    "print(un_tuple[0])\n",
    "print(un_tuple[1])\n",
    "print(un_tuple[2])\n",
    "print(un_tuple[3])"
   ]
  },
  {
   "cell_type": "markdown",
   "metadata": {
    "slideshow": {
     "slide_type": "subslide"
    }
   },
   "source": [
    "On peut également extraire des sous-tuples en spécificant entre crochet **i:j:s** où : \n",
    "* **i** est l'indice du premier élément que l'on souhaite récupérer\n",
    "* **j** est l'indice du dernier élément que l'on veut récupérer __+1__\n",
    "* **s** est le pas entre chaque éléments que l'on extrait\n",
    "\n",
    "Si vous ne précisez pas **i** par défaut Python prend i=0, si vous ne précisez pas j il prend j=taille du tuple et si vous ne précisez pas __s__ il prend __s=1__"
   ]
  },
  {
   "cell_type": "code",
   "execution_count": 2,
   "metadata": {
    "slideshow": {
     "slide_type": "fragment"
    }
   },
   "outputs": [
    {
     "name": "stdout",
     "output_type": "stream",
     "text": [
      "(10, 'une_string', 1e-05, False)\n",
      "('une_string', 1e-05)\n",
      "(10, 'une_string', 1e-05)\n",
      "(1e-05, False)\n",
      "(10, 1e-05)\n"
     ]
    }
   ],
   "source": [
    "print(un_tuple)\n",
    "print(un_tuple[1:3])\n",
    "print(un_tuple[:3])\n",
    "print(un_tuple[2:])\n",
    "print(un_tuple[::2])"
   ]
  },
  {
   "cell_type": "markdown",
   "metadata": {
    "slideshow": {
     "slide_type": "subslide"
    }
   },
   "source": [
    "Enfin si vous souhaitez connaitre la taille d'un tuple il suffit d'utiliser la commande **len** "
   ]
  },
  {
   "cell_type": "code",
   "execution_count": 3,
   "metadata": {
    "slideshow": {
     "slide_type": "fragment"
    }
   },
   "outputs": [
    {
     "name": "stdout",
     "output_type": "stream",
     "text": [
      "(10, 'une_string', 1e-05, False)\n",
      "4\n"
     ]
    }
   ],
   "source": [
    "print(un_tuple)\n",
    "print(len(un_tuple))"
   ]
  },
  {
   "cell_type": "markdown",
   "metadata": {
    "slideshow": {
     "slide_type": "subslide"
    }
   },
   "source": [
    "*Remarque* : nous n'avons pas vu dans cette partie comment modifier une valeur dans un tuple et c'est normal car ce n'est pas possible. \n",
    "L'une des particularités des tuples est qu'il s'agit de variables immutables, c'est-à-dire qu'une fois définit il n'est plus possible de le modifier. L'intérêt majeur que cela peut avoir est si vous souhaitez vous assurez que des valeurs seront constantes tout au long de l'exécution de votre code. \n",
    "\n",
    "Pour avoir des variables semblablent aux tuples mais pouvant être modifiés il faut utiliser des listes. "
   ]
  },
  {
   "cell_type": "markdown",
   "metadata": {
    "slideshow": {
     "slide_type": "subslide"
    }
   },
   "source": [
    "### 5.3 - Les listes\n",
    "\n",
    "Les listes sont le second conteneur utilisable de base dans Python. Il s'agit comme pour les tuples d'un ensemble de valeurs (homogènes ou non) qui pourront par la suite être modifiées. La définition d'une liste en Python se fait de manière très similaire à la construction d'un tuple si ce n'est que l'on remplace les parenthèses par des crochets.\n",
    "\n",
    "```python\n",
    "nom_de_la_liste = [valeur1, valeur2, ..., valeurN]\n",
    "```\n",
    "L'accès à la valeur d'une liste se fait de la même manière que pour les tuples, c'est-à-dire à l'aide des opérateurs **[]**. Et de même, on peut extraire une sous-liste à l'aide de la notation **i:j:s**. \n"
   ]
  },
  {
   "cell_type": "code",
   "execution_count": 4,
   "metadata": {
    "slideshow": {
     "slide_type": "fragment"
    }
   },
   "outputs": [
    {
     "name": "stdout",
     "output_type": "stream",
     "text": [
      "<class 'list'>\n"
     ]
    }
   ],
   "source": [
    "une_liste = [10, \"une_string\", 1.e-05, False]\n",
    "print(type(une_liste))"
   ]
  },
  {
   "cell_type": "code",
   "execution_count": 5,
   "metadata": {
    "slideshow": {
     "slide_type": "fragment"
    }
   },
   "outputs": [
    {
     "name": "stdout",
     "output_type": "stream",
     "text": [
      "10\n",
      "1e-05\n",
      "[1e-05, False]\n",
      "[10, 1e-05]\n"
     ]
    }
   ],
   "source": [
    "print(une_liste[0])\n",
    "print(une_liste[2])\n",
    "print(une_liste[2:])\n",
    "print(une_liste[::2])"
   ]
  },
  {
   "cell_type": "markdown",
   "metadata": {
    "slideshow": {
     "slide_type": "subslide"
    }
   },
   "source": [
    "Pour connaitre la taille d'une liste il suffit d'utiliser la même commande que pour les tuples, à savoir **len**"
   ]
  },
  {
   "cell_type": "code",
   "execution_count": 6,
   "metadata": {
    "slideshow": {
     "slide_type": "fragment"
    }
   },
   "outputs": [
    {
     "name": "stdout",
     "output_type": "stream",
     "text": [
      "4\n"
     ]
    }
   ],
   "source": [
    "print(len(une_liste))"
   ]
  },
  {
   "cell_type": "markdown",
   "metadata": {
    "slideshow": {
     "slide_type": "subslide"
    }
   },
   "source": [
    "Parmis les autres actions réalisables sur les listes et pouvant faciliter la vie, il y a l'utilisation du mot clé **in** qui permet de tester si un élément est dans la liste ou non "
   ]
  },
  {
   "cell_type": "code",
   "execution_count": 7,
   "metadata": {
    "slideshow": {
     "slide_type": "fragment"
    }
   },
   "outputs": [
    {
     "name": "stdout",
     "output_type": "stream",
     "text": [
      "False\n",
      "True\n"
     ]
    }
   ],
   "source": [
    "print( 3 in une_liste )\n",
    "print( \"une_string\" in une_liste )"
   ]
  },
  {
   "cell_type": "markdown",
   "metadata": {
    "slideshow": {
     "slide_type": "fragment"
    }
   },
   "source": [
    "Pour accéder à l'indice d'un élément dans une liste il suffit d'utiliser la commande **index**"
   ]
  },
  {
   "cell_type": "code",
   "execution_count": 8,
   "metadata": {
    "slideshow": {
     "slide_type": "fragment"
    }
   },
   "outputs": [
    {
     "data": {
      "text/plain": [
       "1"
      ]
     },
     "execution_count": 8,
     "metadata": {},
     "output_type": "execute_result"
    }
   ],
   "source": [
    "une_liste.index(\"une_string\")"
   ]
  },
  {
   "cell_type": "markdown",
   "metadata": {
    "slideshow": {
     "slide_type": "subslide"
    }
   },
   "source": [
    "On peut également concaténer des listes à l'aide de l'opérateur **+**. Il faut bien se souvenir que la somme de deux listes ne retourne pas la somme terme à terme des deux listes mais la concaténation."
   ]
  },
  {
   "cell_type": "code",
   "execution_count": 9,
   "metadata": {
    "slideshow": {
     "slide_type": "fragment"
    }
   },
   "outputs": [
    {
     "name": "stdout",
     "output_type": "stream",
     "text": [
      "[1, 2, 3, 4, 5, 6]\n"
     ]
    }
   ],
   "source": [
    "liste_a = [1,2,3]\n",
    "liste_b = [4,5,6]\n",
    "print( liste_a + liste_b )"
   ]
  },
  {
   "cell_type": "markdown",
   "metadata": {
    "slideshow": {
     "slide_type": "subslide"
    }
   },
   "source": [
    "Pour finir nous allons voir comment modifier les valeurs au sein d'une liste. Pour cela on utilise enore une fois l'opérateur **[]** mais on le fait suivre d'une opération d'affectation, c'est-à-dire qu'il est suivi d'un __=__ une valeur. On peut également modifier des sous-listes en utilisant la notation **i:j:s**."
   ]
  },
  {
   "cell_type": "code",
   "execution_count": 10,
   "metadata": {
    "slideshow": {
     "slide_type": "fragment"
    }
   },
   "outputs": [
    {
     "name": "stdout",
     "output_type": "stream",
     "text": [
      "[10, 'une_string', 1e-05, False]\n"
     ]
    }
   ],
   "source": [
    "print(une_liste)"
   ]
  },
  {
   "cell_type": "code",
   "execution_count": 11,
   "metadata": {
    "slideshow": {
     "slide_type": "fragment"
    }
   },
   "outputs": [
    {
     "name": "stdout",
     "output_type": "stream",
     "text": [
      "[-1, 'une_string', 1e-05, False]\n"
     ]
    }
   ],
   "source": [
    "une_liste[0] = -1\n",
    "print(une_liste)"
   ]
  },
  {
   "cell_type": "code",
   "execution_count": 12,
   "metadata": {
    "slideshow": {
     "slide_type": "subslide"
    }
   },
   "outputs": [
    {
     "name": "stdout",
     "output_type": "stream",
     "text": [
      "[-1, 'une_string', 1e-05, [0, 1]]\n"
     ]
    }
   ],
   "source": [
    "une_liste[3] = [0,1]\n",
    "print(une_liste)"
   ]
  },
  {
   "cell_type": "code",
   "execution_count": 13,
   "metadata": {
    "slideshow": {
     "slide_type": "fragment"
    }
   },
   "outputs": [
    {
     "name": "stdout",
     "output_type": "stream",
     "text": [
      "[0, 1, 1e-05, [0, 1]]\n"
     ]
    }
   ],
   "source": [
    "une_liste[:2] = [0,1]\n",
    "print(une_liste)"
   ]
  },
  {
   "cell_type": "markdown",
   "metadata": {
    "slideshow": {
     "slide_type": "subslide"
    }
   },
   "source": [
    "Cependant vous avez peut-être constaté que pour le moment nous n'avons fait que changer les valeurs dans la liste sans changer sa taille. Pour ajouter des éléments dans une liste en l'agrandissant il faut utiliser les fonctions :\n",
    "* append qui ajoute un élément à la fin de la liste \n",
    "* insert qui ajoute un élément à une position donnée"
   ]
  },
  {
   "cell_type": "code",
   "execution_count": 14,
   "metadata": {
    "slideshow": {
     "slide_type": "fragment"
    }
   },
   "outputs": [
    {
     "name": "stdout",
     "output_type": "stream",
     "text": [
      "[0, 1, 1e-05, [0, 1]]\n"
     ]
    }
   ],
   "source": [
    "print(une_liste)"
   ]
  },
  {
   "cell_type": "code",
   "execution_count": 15,
   "metadata": {
    "slideshow": {
     "slide_type": "fragment"
    }
   },
   "outputs": [
    {
     "name": "stdout",
     "output_type": "stream",
     "text": [
      "[0, 1, 1e-05, [0, 1], 10000]\n"
     ]
    }
   ],
   "source": [
    "une_liste.append( 10000 )\n",
    "print(une_liste)"
   ]
  },
  {
   "cell_type": "code",
   "execution_count": 16,
   "metadata": {
    "slideshow": {
     "slide_type": "fragment"
    }
   },
   "outputs": [
    {
     "name": "stdout",
     "output_type": "stream",
     "text": [
      "Help on built-in function insert:\n",
      "\n",
      "insert(...) method of builtins.list instance\n",
      "    L.insert(index, object) -- insert object before index\n",
      "\n",
      "[0, 1, 'new_item', 1e-05, [0, 1], 10000]\n"
     ]
    }
   ],
   "source": [
    "help(une_liste.insert)\n",
    "une_liste.insert(2, \"new_item\")\n",
    "print(une_liste)"
   ]
  },
  {
   "cell_type": "markdown",
   "metadata": {
    "slideshow": {
     "slide_type": "subslide"
    }
   },
   "source": [
    "Et si l'on veut supprimer des éléments d'une liste on peut utiliser la commande **remove** ou alors le mot clé **del** pour delete."
   ]
  },
  {
   "cell_type": "code",
   "execution_count": 17,
   "metadata": {
    "slideshow": {
     "slide_type": "fragment"
    }
   },
   "outputs": [
    {
     "name": "stdout",
     "output_type": "stream",
     "text": [
      "[0, 1, 'new_item', [0, 1], 10000]\n"
     ]
    }
   ],
   "source": [
    "une_liste.remove(1.e-5)\n",
    "print(une_liste)\n",
    " "
   ]
  },
  {
   "cell_type": "code",
   "execution_count": 18,
   "metadata": {
    "slideshow": {
     "slide_type": "fragment"
    }
   },
   "outputs": [
    {
     "name": "stdout",
     "output_type": "stream",
     "text": [
      "[0, 'new_item', [0, 1], 10000]\n"
     ]
    }
   ],
   "source": [
    "del une_liste[1]\n",
    "print(une_liste)"
   ]
  },
  {
   "cell_type": "markdown",
   "metadata": {
    "slideshow": {
     "slide_type": "subslide"
    }
   },
   "source": [
    "**Attention :**\n",
    "Il faut faire très attention avec les listes à une chose, lorsque que vous copiez une liste si vous ne le faites pas de la bonne manière vous n'aurez pas le comportement attendu et vous allez potentiellement mettre très longtemps à trouver la source du problème. Ce \"problème\" est lié au fait qu'en Python tout se fait par passage par référence, nous verons plus loin dans le cours ce que cela veut dire. \n",
    "\n",
    "Illustration : "
   ]
  },
  {
   "cell_type": "code",
   "execution_count": 19,
   "metadata": {
    "slideshow": {
     "slide_type": "fragment"
    }
   },
   "outputs": [
    {
     "name": "stdout",
     "output_type": "stream",
     "text": [
      "[10, 2, 3, 4, 5]\n",
      "[10, 2, 3, 4, 5]\n"
     ]
    }
   ],
   "source": [
    "liste_a = [1,2,3,4,5]\n",
    "liste_b = liste_a      ### On pense faire une copie de liste_a dans liste_b \n",
    "liste_b[0] = 10\n",
    "print(liste_b)\n",
    "print(liste_a)"
   ]
  },
  {
   "cell_type": "markdown",
   "metadata": {
    "slideshow": {
     "slide_type": "subslide"
    }
   },
   "source": [
    "On constate alors que la modification que l'on a fait dans liste_b se répercute aussi sur liste_a. Et cela est tout à fait normal, car si l'on regarde les adresses mémoire de chacunes des variables liste_a et liste_b nous allons qu'elles sont identiques. "
   ]
  },
  {
   "cell_type": "code",
   "execution_count": 20,
   "metadata": {
    "slideshow": {
     "slide_type": "fragment"
    }
   },
   "outputs": [
    {
     "name": "stdout",
     "output_type": "stream",
     "text": [
      "0x7fa214d15588\n",
      "0x7fa214d15588\n"
     ]
    }
   ],
   "source": [
    "print(hex(id(liste_a)))\n",
    "print(hex(id(liste_b)))"
   ]
  },
  {
   "cell_type": "markdown",
   "metadata": {
    "slideshow": {
     "slide_type": "subslide"
    }
   },
   "source": [
    "Pourquoi ce comportement étrange ? Car pour Python lorsque vous écrivez \n",
    "\n",
    "```python\n",
    "liste_b = liste_a\n",
    "```\n",
    "\n",
    "Il comprend, créé moi une variable nommée liste_b pointant vers la même zone mémoire que liste_a et donc quand vous utilisez la variable liste_b vous accédez en réalité au même case mémoire que liste_a. \n",
    "\n",
    "Si vous ne souhaitez pas ce comportement, il faut être un peu plus explicite et procéder de la manière suivante : \n"
   ]
  },
  {
   "cell_type": "code",
   "execution_count": 21,
   "metadata": {
    "slideshow": {
     "slide_type": "fragment"
    }
   },
   "outputs": [
    {
     "name": "stdout",
     "output_type": "stream",
     "text": [
      "[10, 2, 3, 4, 5]\n",
      "[1, 2, 3, 4, 5]\n"
     ]
    }
   ],
   "source": [
    "liste_a = [1,2,3,4,5]\n",
    "liste_b = liste_a.copy()\n",
    "## ou bien \n",
    "liste_b = liste_a[:]\n",
    "liste_b[0] = 10\n",
    "print(liste_b)\n",
    "print(liste_a)"
   ]
  },
  {
   "cell_type": "markdown",
   "metadata": {
    "slideshow": {
     "slide_type": "subslide"
    }
   },
   "source": [
    "### 5.4 Les dictionnaires"
   ]
  },
  {
   "cell_type": "markdown",
   "metadata": {
    "slideshow": {
     "slide_type": "fragment"
    }
   },
   "source": [
    "Nous allons à présent voir le dernier conteneur nativement disponible dans Python que l'on étudie dans le cadre de ce cours, à savoir les dictionnaires. \n",
    "\n",
    "Les dictionnaires sont des conteneurs assez différents dans listes et des tuples dans le sens où il ne sont pas ordonnés et il n'y pas pas la notion d'indice. L'accès aux éléments se fait à l'aide d'une clé. En effet les dictionnaire Python repose sur des doublets (clé, valeur). Chaque clé d'un dictionnaire doit nécessairement être unique et de type **int** ou **string**. La syntaxe pour définir un dictionnaire est la suivante : \n",
    "\n",
    "```python\n",
    "un_dictionnaire = {cle1: valeur, cle2:valeur, ...}\n",
    "```\n",
    "L'accès aux valeurs d'un dictionnaire se fait en utilisant l'opérateur **[]** auquel on fournit la clé de l'élément que l'on souhaite récupérer."
   ]
  },
  {
   "cell_type": "code",
   "execution_count": 22,
   "metadata": {
    "slideshow": {
     "slide_type": "subslide"
    }
   },
   "outputs": [
    {
     "name": "stdout",
     "output_type": "stream",
     "text": [
      "{'cle1': 1, 'cle2': 2, 1035: False}\n",
      "1\n",
      "False\n"
     ]
    }
   ],
   "source": [
    "un_dict = {\"cle1\": 1, \"cle2\": 2, 1035: False}\n",
    "print(un_dict)\n",
    "print(un_dict[\"cle1\"])\n",
    "print(un_dict[1035])"
   ]
  },
  {
   "cell_type": "markdown",
   "metadata": {
    "slideshow": {
     "slide_type": "fragment"
    }
   },
   "source": [
    "L'intérêt des dictionnaires est multiple et ses applications sont nombreuses. La modification d'un élément du dictionnaire se fait tout simplement en faisant l'élément considéré d'une opération d'affectation avec la nouvelle valeur. "
   ]
  },
  {
   "cell_type": "code",
   "execution_count": 23,
   "metadata": {
    "slideshow": {
     "slide_type": "fragment"
    }
   },
   "outputs": [
    {
     "name": "stdout",
     "output_type": "stream",
     "text": [
      "{'cle1': 1, 'cle2': 2, 1035: False}\n",
      "{'cle1': 18, 'cle2': 2, 1035: False}\n"
     ]
    }
   ],
   "source": [
    "print(un_dict)\n",
    "un_dict[\"cle1\"] = 18\n",
    "print(un_dict)"
   ]
  },
  {
   "cell_type": "markdown",
   "metadata": {
    "slideshow": {
     "slide_type": "subslide"
    }
   },
   "source": [
    "Si vous souhaitez ajouter de nouvelles entrées dans un dictionnaire la chose est très simple. Il suffit de procéder commer pour la modification d'une valeur puisque si la clé que l'on donne n'existe pas elle est automatiquement créée."
   ]
  },
  {
   "cell_type": "code",
   "execution_count": 24,
   "metadata": {
    "slideshow": {
     "slide_type": "fragment"
    }
   },
   "outputs": [
    {
     "name": "stdout",
     "output_type": "stream",
     "text": [
      "{'cle1': 18, 'cle2': 2, 1035: False}\n",
      "{'cle1': 18, 'cle2': 2, 1035: False, 'new_key': 'new_val'}\n"
     ]
    }
   ],
   "source": [
    "print(un_dict)\n",
    "un_dict[\"new_key\"] = \"new_val\"\n",
    "print(un_dict)"
   ]
  },
  {
   "cell_type": "markdown",
   "metadata": {
    "slideshow": {
     "slide_type": "subslide"
    }
   },
   "source": [
    "Enfin pour se faciliter la vie avec les dictionnaires il y a quelques astuces à connaitres. Par exemple pour récupérer la liste des clés dans le dictionnaire "
   ]
  },
  {
   "cell_type": "code",
   "execution_count": 25,
   "metadata": {
    "slideshow": {
     "slide_type": "fragment"
    }
   },
   "outputs": [
    {
     "name": "stdout",
     "output_type": "stream",
     "text": [
      "dict_keys(['cle1', 'cle2', 1035, 'new_key'])\n"
     ]
    }
   ],
   "source": [
    "print( un_dict.keys() )"
   ]
  },
  {
   "cell_type": "markdown",
   "metadata": {
    "slideshow": {
     "slide_type": "fragment"
    }
   },
   "source": [
    "Pour récupérer l'ensemble des valeurs stockées dans le dictionnaire : "
   ]
  },
  {
   "cell_type": "code",
   "execution_count": 26,
   "metadata": {
    "slideshow": {
     "slide_type": "fragment"
    }
   },
   "outputs": [
    {
     "name": "stdout",
     "output_type": "stream",
     "text": [
      "dict_values([18, 2, False, 'new_val'])\n"
     ]
    }
   ],
   "source": [
    "print(un_dict.values())"
   ]
  },
  {
   "cell_type": "markdown",
   "metadata": {
    "slideshow": {
     "slide_type": "fragment"
    }
   },
   "source": [
    "Et enfin pour récupérer l'ensemble des doublets clé, valeur dans une liste : "
   ]
  },
  {
   "cell_type": "code",
   "execution_count": 27,
   "metadata": {
    "slideshow": {
     "slide_type": "fragment"
    }
   },
   "outputs": [
    {
     "name": "stdout",
     "output_type": "stream",
     "text": [
      "dict_items([('cle1', 18), ('cle2', 2), (1035, False), ('new_key', 'new_val')])\n"
     ]
    }
   ],
   "source": [
    "print(un_dict.items())"
   ]
  },
  {
   "cell_type": "markdown",
   "metadata": {
    "slideshow": {
     "slide_type": "subslide"
    }
   },
   "source": [
    "L'utilisation de ces méthodes peut s'accompagner du mot clé **in** par exemple : "
   ]
  },
  {
   "cell_type": "code",
   "execution_count": 28,
   "metadata": {
    "slideshow": {
     "slide_type": "fragment"
    }
   },
   "outputs": [
    {
     "name": "stdout",
     "output_type": "stream",
     "text": [
      "new_val\n"
     ]
    }
   ],
   "source": [
    "if \"new_key\" in un_dict.keys():\n",
    "    print( un_dict[\"new_key\"] )"
   ]
  },
  {
   "cell_type": "markdown",
   "metadata": {
    "slideshow": {
     "slide_type": "subslide"
    }
   },
   "source": [
    "### 5.5 Pas plus ? Pas de matrices-vecteurs à la Matlab ?\n",
    "\n",
    "Nous venons donc de faire le tour des principaux containers disponibles nativement dans Python. La question que vous devez certainement vous poser est comment je fais pour faire de la simulation avec Python donc gérer des matrices, vecteurs, ... En effet en Python natif il n'y a pas de notion de vecteurs ou de matrices comme dans Matlab qui ne gère que ça. \n",
    "\n",
    "Mais cependant pas d'affolement, car des gens ont fait le travail. Nous verrons un peu plus tard que Python dispose d'un certain nombre de module additionels et que parmis ces module il y a Numpy qui définit la notion de vecteur et matrice. \n",
    "\n",
    "\n"
   ]
  },
  {
   "cell_type": "markdown",
   "metadata": {
    "slideshow": {
     "slide_type": "slide"
    }
   },
   "source": [
    "## 6 - Les boucles --- ou comment tirer parti de la stupidité de l'ordinateur"
   ]
  },
  {
   "cell_type": "markdown",
   "metadata": {
    "slideshow": {
     "slide_type": "subslide"
    }
   },
   "source": [
    "### Dans quel intérêt ?"
   ]
  },
  {
   "cell_type": "markdown",
   "metadata": {
    "slideshow": {
     "slide_type": "fragment"
    }
   },
   "source": [
    "Une grosse partie des programmes informatiques nécessite le traitement répétitif de données, généralement stockées dans des listes ou des tableaux. Pour effectuer ces traitements il est donc nécessaire d'avoir des commandes de répétitions à disposition. Comme l'intégralité des langages de programmation (à ma connaissance) Python dispose de deux types de commandes pour répéter un ensemble d'instruction : \n",
    "* La boucle **for** qui permet de répéter N fois une série d'instruction.\n",
    "* La boucle **while** qui permet de répéter une série d'instruction tant qu'une certaine condition est vraie. \n"
   ]
  },
  {
   "cell_type": "markdown",
   "metadata": {
    "slideshow": {
     "slide_type": "subslide"
    }
   },
   "source": [
    "### Boucles *for*\n",
    "\n",
    "La boucle, dite boucle *for*, permet de répéter une opération **N** fois avec N un entier connu avant l'entrée dans la boucle. Il s'agit donc d'une boucle adaptée lorsque l'on sait à l'avance le nombre de fois que l'on doit répéter le bloc d'instruction. \n",
    "\n",
    "La syntaxe Python de la boucle for est la suivante : \n",
    "\n",
    "```python\n",
    "for i in un_iterable:\n",
    "    instruction_1\n",
    "    instruction_2\n",
    "```\n",
    "\n",
    "**Remarque :** on retrouve dans la syntaxe de la boucle for quelque chose de similaire à celle du *if* à savoir une première ligne se terminant avec le caractère **:** et ensuite un bloc d'instruction indenté. \n",
    "\n",
    "Vous pouvez remarquer que la première ligne fait intervenir ce que j'appelle un **itérable**. Il s'agit d'objets Python sur lesquels on peut itérer. Vous n'êtes pas plus avancé je sais. En pratique il s'agit d'objet particulier qui permettent de parcourir tous les éléments contenus automatiquement à l'aide d'une boucle *for* entre autres. Dans le cadre de ce cours je ne rentrerai pas dans le détail au sujet des itérateurs, je vais juste vous donner une liste des itérables que vous pouvez manipuler. "
   ]
  },
  {
   "cell_type": "markdown",
   "metadata": {
    "slideshow": {
     "slide_type": "subslide"
    }
   },
   "source": [
    "Le premier itérable, le plus simple c'est une liste. On peut facilement parcourir les éléments d'une liste à l'aide de la boucle *for*. En effet nous pouvons écrire le code suivant : "
   ]
  },
  {
   "cell_type": "code",
   "execution_count": 29,
   "metadata": {
    "slideshow": {
     "slide_type": "fragment"
    }
   },
   "outputs": [
    {
     "name": "stdout",
     "output_type": "stream",
     "text": [
      "1\n",
      "2\n",
      "3\n",
      "4\n",
      "5\n"
     ]
    }
   ],
   "source": [
    "ma_liste = [1,2,3,4,5]\n",
    "\n",
    "for x in ma_liste:\n",
    "    print(x)"
   ]
  },
  {
   "cell_type": "markdown",
   "metadata": {
    "slideshow": {
     "slide_type": "subslide"
    }
   },
   "source": [
    "La même chose est possible avec un tuple évidemment. "
   ]
  },
  {
   "cell_type": "code",
   "execution_count": 30,
   "metadata": {
    "slideshow": {
     "slide_type": "fragment"
    }
   },
   "outputs": [
    {
     "name": "stdout",
     "output_type": "stream",
     "text": [
      "1\n",
      "2\n",
      "3\n",
      "4\n",
      "5\n"
     ]
    }
   ],
   "source": [
    "mon_tuple = (1,2,3,4,5)\n",
    "for x in mon_tuple:\n",
    "    print(x)"
   ]
  },
  {
   "cell_type": "markdown",
   "metadata": {
    "slideshow": {
     "slide_type": "subslide"
    }
   },
   "source": [
    "Parfois nous n'avons pas besoin d'écrire une boucle pour parcourir les éléments d'une liste mais juste pour répéter N fois une opération donnée, avec N un entier positif. Dans ce cas il faut utiliser la commande **range** qui va vous générer un itérable. La syntaxe de la commande range est la suivante : \n",
    "```python\n",
    "range(A,B,S)\n",
    "```\n",
    "\n",
    "où les paramètres sont : \n",
    "* A : (int) la valeur de départ de l'itérable, par défaut A=0\n",
    "* B : (int) la valeur finale de l'itérable __+1__, pas de valeur par défaut\n",
    "* S : (int) le pas entre deux itérés, par défaut S=1\n",
    "\n",
    "Par exemple : "
   ]
  },
  {
   "cell_type": "code",
   "execution_count": 31,
   "metadata": {
    "slideshow": {
     "slide_type": "fragment"
    }
   },
   "outputs": [
    {
     "name": "stdout",
     "output_type": "stream",
     "text": [
      "0\n",
      "1\n",
      "2\n",
      "3\n",
      "4\n"
     ]
    }
   ],
   "source": [
    "for i in range(0,5):  ## S=1 implicitement\n",
    "    print(i)"
   ]
  },
  {
   "cell_type": "code",
   "execution_count": 32,
   "metadata": {
    "slideshow": {
     "slide_type": "subslide"
    }
   },
   "outputs": [
    {
     "name": "stdout",
     "output_type": "stream",
     "text": [
      "0\n",
      "1\n",
      "2\n"
     ]
    }
   ],
   "source": [
    "for i in range(3):  ## A=0, S=1 implicitement\n",
    "    print(i)"
   ]
  },
  {
   "cell_type": "code",
   "execution_count": 33,
   "metadata": {
    "slideshow": {
     "slide_type": "fragment"
    }
   },
   "outputs": [
    {
     "name": "stdout",
     "output_type": "stream",
     "text": [
      "0\n",
      "2\n",
      "4\n",
      "6\n",
      "8\n"
     ]
    }
   ],
   "source": [
    "for i in range(0,10,2):\n",
    "    print(i)"
   ]
  },
  {
   "cell_type": "markdown",
   "metadata": {
    "slideshow": {
     "slide_type": "subslide"
    }
   },
   "source": [
    "Vous pourriez alors me dire pourquoi ne pas utiliser range(len(ma_liste)) pour parcourir une liste ? Oui en effet ça fonctionne comme vous pouvez le voir ci-dessous : "
   ]
  },
  {
   "cell_type": "code",
   "execution_count": 34,
   "metadata": {
    "slideshow": {
     "slide_type": "fragment"
    }
   },
   "outputs": [
    {
     "name": "stdout",
     "output_type": "stream",
     "text": [
      "1\n",
      "2\n",
      "3\n",
      "4\n",
      "5\n"
     ]
    }
   ],
   "source": [
    "for i in range(len(ma_liste)):\n",
    "    print(ma_liste[i])"
   ]
  },
  {
   "cell_type": "markdown",
   "metadata": {
    "slideshow": {
     "slide_type": "subslide"
    }
   },
   "source": [
    "Mais cette syntaxe n'est pas du tout recommandée, elle est même à proscrire pour plusieurs raisons.\n",
    "* C'est lourd et moche\n",
    "* Ce n'est pas optimisé. C'est-à-dire que si len(ma_liste)>> 1 votre code va être lent. \n",
    "\n",
    "Si vous faites cela pour accéder à la fois à la valeur de votre itérable et son index sachez que Python à tout fait pour vous. Il existe en effet la commande **enumerate** dont la syntaxe est la suivante : \n",
    "\n",
    "```python\n",
    "for i,x in enumerate(un_iterable):\n",
    "    instruction\n",
    "```\n",
    "Dans la pratique cela permet d'écrire : "
   ]
  },
  {
   "cell_type": "code",
   "execution_count": 35,
   "metadata": {
    "slideshow": {
     "slide_type": "fragment"
    }
   },
   "outputs": [
    {
     "name": "stdout",
     "output_type": "stream",
     "text": [
      "ma_liste[0] = 1\n",
      "ma_liste[1] = 2\n",
      "ma_liste[2] = 3\n",
      "ma_liste[3] = 4\n",
      "ma_liste[4] = 5\n"
     ]
    }
   ],
   "source": [
    "for i,x in enumerate(ma_liste):\n",
    "    print(\"ma_liste[{}] = {}\".format(i,x))"
   ]
  },
  {
   "cell_type": "markdown",
   "metadata": {
    "slideshow": {
     "slide_type": "subslide"
    }
   },
   "source": [
    "Et enfin si vous souhaitez parcourir plusieurs listes de même tailles simultanément là aussi il y a une astuce, la commande **zip** dont la syntaxe est la suivante : \n",
    "\n",
    "```python\n",
    "for x,y,z in zip(list_x, list_y, list_z):\n",
    "    instruction\n",
    "```"
   ]
  },
  {
   "cell_type": "code",
   "execution_count": 36,
   "metadata": {
    "slideshow": {
     "slide_type": "subslide"
    }
   },
   "outputs": [
    {
     "name": "stdout",
     "output_type": "stream",
     "text": [
      "x=0, y=10, z=20\n",
      "x=1, y=11, z=21\n",
      "x=2, y=12, z=22\n",
      "x=3, y=13, z=23\n",
      "x=4, y=14, z=24\n"
     ]
    }
   ],
   "source": [
    "list_x = [0,1,2,3,4]\n",
    "list_y = [10,11,12,13,14]\n",
    "list_z = [20,21,22,23,24]\n",
    "\n",
    "for x,y,z in zip(list_x, list_y, list_z):\n",
    "    print(\"x={}, y={}, z={}\".format(x, y, z))"
   ]
  },
  {
   "cell_type": "markdown",
   "metadata": {
    "slideshow": {
     "slide_type": "subslide"
    }
   },
   "source": [
    "Bien entendu il est tout à fait possible de combiner les commandes **zip** et **enumerate**. Cependant attention à la syntaxe (placement des parenthèses à gauche du **in**)."
   ]
  },
  {
   "cell_type": "code",
   "execution_count": 37,
   "metadata": {
    "slideshow": {
     "slide_type": "fragment"
    }
   },
   "outputs": [
    {
     "name": "stdout",
     "output_type": "stream",
     "text": [
      "0 => x=0, y=10, z=20\n",
      "1 => x=1, y=11, z=21\n",
      "2 => x=2, y=12, z=22\n",
      "3 => x=3, y=13, z=23\n",
      "4 => x=4, y=14, z=24\n"
     ]
    }
   ],
   "source": [
    "for i,(x,y,z) in enumerate(zip(list_x, list_y, list_z)):\n",
    "    print(\"{} => x={}, y={}, z={}\".format(i, x, y, z))"
   ]
  },
  {
   "cell_type": "markdown",
   "metadata": {
    "slideshow": {
     "slide_type": "subslide"
    }
   },
   "source": [
    "#### Les mots clés *break* et *continue*"
   ]
  },
  {
   "cell_type": "markdown",
   "metadata": {
    "slideshow": {
     "slide_type": "fragment"
    }
   },
   "source": [
    "Dans le langage Python il existe deux mots clés particuliers destinés à modifier le comportement d'une boucle *for* (ou *while* comme nous le verrons par la suite) il s'agit de : \n",
    "* __break__ : qui permet d'interrompre une boucle prématurément\n",
    "* __continue__ : qui permet de passer à l'itérer suivant sans exécuter le code qui suit le continue\n",
    "\n",
    "Concrètement le comportement de ces deux mots clé est le suivant : "
   ]
  },
  {
   "cell_type": "code",
   "execution_count": 38,
   "metadata": {
    "slideshow": {
     "slide_type": "subslide"
    }
   },
   "outputs": [
    {
     "name": "stdout",
     "output_type": "stream",
     "text": [
      "x = 1\n",
      "x = 2\n"
     ]
    }
   ],
   "source": [
    "ma_liste = [1,2,3,4,5]\n",
    "\n",
    "for x in ma_liste:\n",
    "    if x == 3:\n",
    "        break\n",
    "    print(\"x = {}\".format(x))"
   ]
  },
  {
   "cell_type": "code",
   "execution_count": 39,
   "metadata": {
    "slideshow": {
     "slide_type": "fragment"
    }
   },
   "outputs": [
    {
     "name": "stdout",
     "output_type": "stream",
     "text": [
      "x = 1\n",
      "x = 2\n",
      "x = 4\n",
      "x = 5\n"
     ]
    }
   ],
   "source": [
    "for x in ma_liste:\n",
    "    if x == 3:\n",
    "        continue\n",
    "    print(\"x = {}\".format(x))"
   ]
  },
  {
   "cell_type": "markdown",
   "metadata": {
    "slideshow": {
     "slide_type": "subslide"
    }
   },
   "source": [
    "#### Une utilisation un peu particulière du *for* --- Les \"comprehension lists\""
   ]
  },
  {
   "cell_type": "markdown",
   "metadata": {
    "slideshow": {
     "slide_type": "fragment"
    }
   },
   "source": [
    "La mot clé **for** peut également servir sous une forme légèrement différente à construire ce que l'on appelle des \"comprehension list\". L'idée est de définir est remplir une list en une seule ligne de commande. L'intérêt est bien entendu d'avoir un code plus conçis mais également d'avoir une syntaxe qui soit plus proche de celle utilisée en mathématique. \n",
    "\n",
    "La syntaxe Python pour définir une comprehension list est la suivante : \n",
    "\n",
    "```python\n",
    "nom_de_ma_liste = [ expression(x) for x in iterable if condition(x) ]\n",
    "```\n",
    "\n",
    "Le test avec le `if condition(x)` est optionel. "
   ]
  },
  {
   "cell_type": "markdown",
   "metadata": {
    "slideshow": {
     "slide_type": "subslide"
    }
   },
   "source": [
    "Par exemple imaginons que je veuille construire la liste définie par : \n",
    "$$ S = \\left\\lbrace x \\in [0,10[ \\;\\; \\backslash \\;\\; x^2 \\;\\; \\right\\rbrace $$\n",
    "avec une comprehension list cela se traduit par le code suivant : "
   ]
  },
  {
   "cell_type": "code",
   "execution_count": 40,
   "metadata": {
    "slideshow": {
     "slide_type": "fragment"
    }
   },
   "outputs": [
    {
     "name": "stdout",
     "output_type": "stream",
     "text": [
      "[0, 1, 4, 9, 16, 25, 36, 49, 64, 81]\n"
     ]
    }
   ],
   "source": [
    "la_liste = [ x**2 for x in range(10) ]\n",
    "print(la_liste)"
   ]
  },
  {
   "cell_type": "markdown",
   "metadata": {
    "slideshow": {
     "slide_type": "fragment"
    }
   },
   "source": [
    "Et si l'on veut maintenant ajouter une condition, par exemple pour construire : \n",
    "$$ S = \\left\\lbrace x \\in [0,10[ \\;\\; \\backslash \\;\\; x^2 < 30 \\;\\; \\right\\rbrace $$\n",
    "Il suffit d'écrire cela sous la forme suivante : "
   ]
  },
  {
   "cell_type": "code",
   "execution_count": 41,
   "metadata": {
    "slideshow": {
     "slide_type": "fragment"
    }
   },
   "outputs": [
    {
     "name": "stdout",
     "output_type": "stream",
     "text": [
      "[0, 1, 4, 9, 16, 25]\n"
     ]
    }
   ],
   "source": [
    "la_liste = [ x**2 for x in range(10) if x**2 < 30 ]\n",
    "print(la_liste) "
   ]
  },
  {
   "cell_type": "markdown",
   "metadata": {
    "slideshow": {
     "slide_type": "subslide"
    }
   },
   "source": [
    "### La boucle *while*"
   ]
  },
  {
   "cell_type": "markdown",
   "metadata": {
    "slideshow": {
     "slide_type": "subslide"
    }
   },
   "source": [
    "La boucle dite boucle *while* permet en informatique de répéter une série d'instruction tant qu'une certaine condition (spécifier par le développeur lors de l'écriture de la boucle) est vérifiée. De ce fait la boucle *while* est adaptée lorsque l'on ne sait pas à l'avance le nombre de fois que l'on va devoir répéter le bloc d'instruction. Un exemple typique sont les méthodes de résolution des problèmes de minimisation où la boucle de convergence ne doit s'arréter qu'une fois la solution trouvée. \n",
    "\n",
    "La syntaxe Python de la boucle while est la suivante :    \n",
    "```python \n",
    "while condition:\n",
    "    instruction_1\n",
    "    instruction_2\n",
    "```\n",
    "\n",
    "La condition doit nécessairement être un booléen qui va dépendre de ce qui est effectué par les instructions. Tant que cette condition est vraie alors les instructions sont répétées et lorsque la condition devient fausse la boucle s'arrète. "
   ]
  },
  {
   "cell_type": "markdown",
   "metadata": {
    "slideshow": {
     "slide_type": "subslide"
    }
   },
   "source": [
    "Par exemple : "
   ]
  },
  {
   "cell_type": "code",
   "execution_count": 42,
   "metadata": {
    "slideshow": {
     "slide_type": "fragment"
    }
   },
   "outputs": [
    {
     "name": "stdout",
     "output_type": "stream",
     "text": [
      "Il y a eu 5 ( => x=21.1137767453526) execution du bloc avant que la condition ne deviennent fausse\n"
     ]
    }
   ],
   "source": [
    "x = 1.1\n",
    "n_iter = 0\n",
    "while x<10:\n",
    "    x = x**2\n",
    "    n_iter +=1\n",
    "    \n",
    "print(\"Il y a eu {} ( => x={}) execution du bloc avant que la condition ne deviennent fausse\".format(n_iter, x))\n",
    "    \n"
   ]
  },
  {
   "cell_type": "markdown",
   "metadata": {
    "slideshow": {
     "slide_type": "subslide"
    }
   },
   "source": [
    "Bien entendu la condition d'arrêt de la boucle *while* peut-être aussi complex que nécessaire et faire appel à de fonctions Python. Par exemple"
   ]
  },
  {
   "cell_type": "code",
   "execution_count": 43,
   "metadata": {
    "slideshow": {
     "slide_type": "fragment"
    }
   },
   "outputs": [
    {
     "name": "stdout",
     "output_type": "stream",
     "text": [
      "La boucle s'est arrétée pour i=9 avec ma_liste[9]=0.00027557319223985895\n",
      "La liste vaut [100, 100.0, 50.0, 16.666666666666668, 4.166666666666667, 0.8333333333333334, 0.1388888888888889, 0.019841269841269844, 0.0024801587301587305, 0.00027557319223985895]\n"
     ]
    }
   ],
   "source": [
    "ma_liste = [100,]\n",
    "i = 0\n",
    "while len(ma_liste)<100 and ma_liste[i]>0.001:\n",
    "    ma_liste.append( ma_liste[i] / (i+1) )\n",
    "    i += 1\n",
    "    \n",
    "print(\"La boucle s'est arrétée pour i={0} avec ma_liste[{0}]={1}\".format(i, ma_liste[i]))\n",
    "print( \"La liste vaut {}\".format(ma_liste))"
   ]
  },
  {
   "cell_type": "markdown",
   "metadata": {
    "slideshow": {
     "slide_type": "subslide"
    }
   },
   "source": [
    "De la même manière que pour les listes, on peut utiliser le mot clé *break* dans une boucle *while* pour en stopper l'exécution prématurément. "
   ]
  },
  {
   "cell_type": "code",
   "execution_count": 44,
   "metadata": {
    "slideshow": {
     "slide_type": "skip"
    }
   },
   "outputs": [
    {
     "name": "stdout",
     "output_type": "stream",
     "text": [
      "La boucle s'est arrétée pour i=6 avec ma_liste[6]=0.1388888888888889\n",
      "La liste vaut [100, 100.0, 50.0, 16.666666666666668, 4.166666666666667, 0.8333333333333334, 0.1388888888888889]\n"
     ]
    }
   ],
   "source": [
    "ma_liste = [100,]\n",
    "i = 0\n",
    "while len(ma_liste)<100 and ma_liste[i]>0.001:\n",
    "    ma_liste.append( ma_liste[i] / (i+1) )\n",
    "    i += 1\n",
    "    if i>5: break\n",
    "    \n",
    "print(\"La boucle s'est arrétée pour i={0} avec ma_liste[{0}]={1}\".format(i, ma_liste[i]))\n",
    "print( \"La liste vaut {}\".format(ma_liste))"
   ]
  },
  {
   "cell_type": "markdown",
   "metadata": {
    "slideshow": {
     "slide_type": "slide"
    }
   },
   "source": [
    "## 6 - Organisons un peu tout ça !"
   ]
  },
  {
   "cell_type": "markdown",
   "metadata": {
    "slideshow": {
     "slide_type": "subslide"
    }
   },
   "source": [
    "### Ranger son code dans des fonctions"
   ]
  },
  {
   "cell_type": "markdown",
   "metadata": {
    "slideshow": {
     "slide_type": "fragment"
    }
   },
   "source": [
    "Dans les parties précédentes nous avons donc vu comment manipuler les objets de base Python, comment répéter des opérations, etc ... Cependant vous l'avez vu avec les différents exercices (je suppose) vos fichiers Python ont vitre tendances à devenir un peu brouillons et on peut rapidement s'emmeler les pinceaux. De plus comme nous l'avons vu dans la partie sur les boucles, une grosse part d'un programme informatique consiste à répéter un grand nombre de fois une série d'instruction. L'idéal afin d'avoir un code clair et facilement exploitable est de répartir les différentes série d'instruction en fonctions et c'est ce que nous allons faire."
   ]
  },
  {
   "cell_type": "markdown",
   "metadata": {
    "slideshow": {
     "slide_type": "subslide"
    }
   },
   "source": [
    "### Qu'est ce qu'une fonction ?\n",
    "\n",
    "En mathématique on définit une fonction $f$ comme étant une application qui à une entrée $x$ vivant dans un certain espace $x\\in E$ associe une sortie $y$ vivant dans un certain espace $y\\in V$. \n",
    "\n",
    "$$ x \\rightarrow y = f(x) $$\n",
    "\n",
    "Et bien en informatique c'est la même chose, la seule différence se situe au niveau du vocabulaire. En effet on peut définir une fonction `f` en informatique comme étant une instruction qui a un argument `x` d'un certain type (int, float, list, dict, ...) associe une sortie `y` d'un certain type.   \n",
    "\n",
    "```python\n",
    "y = f(x)\n",
    "```\n",
    "\n",
    "De la même manière, tout comme il existe en mathématique des fonctions de plusieurs variables les fonctions informatiques peuvent elles aussi prendre plusieurs arguments en entrée. \n",
    "\n",
    "```python\n",
    "y = f(x,y,z)\n",
    "```\n",
    "\n"
   ]
  },
  {
   "cell_type": "markdown",
   "metadata": {
    "slideshow": {
     "slide_type": "subslide"
    }
   },
   "source": [
    "Comment définit-on des fonctions en Python ? C'est tout simple cela se fait à l'aide de l'instruction `def`. La syntaxe est la suivante : \n",
    "\n",
    "```python\n",
    "def nom_de_ma_function(arg1, arg2, ..., argN):\n",
    "    instruction_1\n",
    "    instruction_2\n",
    "    ret = ...\n",
    "    return ret\n",
    "```\n",
    "\n",
    "Par exemple si on veux définir la fonction `somme` prenant en entrée une liste et retournant la somme de ses éléments on peut écrire : \n",
    "\n"
   ]
  },
  {
   "cell_type": "code",
   "execution_count": 45,
   "metadata": {
    "slideshow": {
     "slide_type": "fragment"
    }
   },
   "outputs": [
    {
     "name": "stdout",
     "output_type": "stream",
     "text": [
      "la_somme = 45\n"
     ]
    }
   ],
   "source": [
    "\n",
    "## Définition de la fonction \n",
    "def somme(ma_liste):\n",
    "    s = 0\n",
    "    for x in ma_liste:\n",
    "        s += x\n",
    "    return s\n",
    "\n",
    "une_liste = [ x for x in range(10) ]\n",
    "la_somme = somme( une_liste )   ## Appel de la fonction \n",
    "print(\"la_somme = {}\".format(la_somme))"
   ]
  },
  {
   "cell_type": "markdown",
   "metadata": {
    "slideshow": {
     "slide_type": "subslide"
    }
   },
   "source": [
    "__Plusieurs remarques :__\n",
    "* Il faut bien distinguer la phase de *définition de la fonction* (partie du code où l'on définit la fonction en spécifiant la série d'instruction que cette dernière sera amenée à réaliser) de la phase *d'appel de la fonction* (partie du code où l'on exécute la série d'instruction contenue dans la fonction). \n",
    "* Le nom de l'argument `ma_liste` dans la définition de la fonction est complètement indépendant du nom de la variable que je donne lorsque j'appelle la fonction. Le nom `ma_liste` ne me sert que d'identifieur pour manipuler ma variable d'entrée au sein de la fonction\n"
   ]
  },
  {
   "cell_type": "markdown",
   "metadata": {
    "slideshow": {
     "slide_type": "subslide"
    }
   },
   "source": [
    "L'écriture d'une fonction de plusieurs variables suit la même logique que précédemment. Par exemple si l'on souhaite implémenter une fonction `moyenne_ponderee` on peut procéder de la manière suivante : "
   ]
  },
  {
   "cell_type": "code",
   "execution_count": 46,
   "metadata": {
    "slideshow": {
     "slide_type": "fragment"
    }
   },
   "outputs": [
    {
     "name": "stdout",
     "output_type": "stream",
     "text": [
      "La moyenne pondérée est : 13.625\n"
     ]
    }
   ],
   "source": [
    "def moyenne_ponderee( valeurs, ponderations ):\n",
    "    s = 0\n",
    "    s_w = 0\n",
    "    for x, w in zip(valeurs, ponderations):\n",
    "        s += w*x\n",
    "        s_w += w\n",
    "    return s/s_w\n",
    "\n",
    "notes = [12,9,17,15]\n",
    "poids = [1, 2, 2, 3]\n",
    "\n",
    "s = moyenne_ponderee(notes, poids)\n",
    "print(\"La moyenne pondérée est : {}\".format(s))"
   ]
  },
  {
   "cell_type": "markdown",
   "metadata": {
    "slideshow": {
     "slide_type": "subslide"
    }
   },
   "source": [
    "#### Fonction et variable la même chose ou pas ? \n",
    "\n"
   ]
  },
  {
   "cell_type": "code",
   "execution_count": 47,
   "metadata": {
    "slideshow": {
     "slide_type": "fragment"
    }
   },
   "outputs": [
    {
     "name": "stdout",
     "output_type": "stream",
     "text": [
      "La moyenne pondérée est : 13.625\n"
     ]
    }
   ],
   "source": [
    "mean_weight = moyenne_ponderee\n",
    "s_bis = mean_weight(notes, poids)\n",
    "print(\"La moyenne pondérée est : {}\".format(s_bis))\n",
    "\n"
   ]
  },
  {
   "cell_type": "markdown",
   "metadata": {
    "slideshow": {
     "slide_type": "fragment"
    }
   },
   "source": [
    "On obtient bien le même résultat car si on regarde l'adresse mémoire des functions et bien ce sont les mêmes dans les deux cas. "
   ]
  },
  {
   "cell_type": "code",
   "execution_count": 48,
   "metadata": {
    "slideshow": {
     "slide_type": "fragment"
    }
   },
   "outputs": [
    {
     "name": "stdout",
     "output_type": "stream",
     "text": [
      "Adresse de moyenne_ponderee : 0x7fa210b5a510\n",
      "Adresse de mean_weight : 0x7fa210b5a510\n",
      "\n"
     ]
    }
   ],
   "source": [
    "print(\"\"\"Adresse de moyenne_ponderee : {}\n",
    "Adresse de mean_weight : {}\n",
    "\"\"\".format(hex(id(moyenne_ponderee)), hex(id(mean_weight))))"
   ]
  },
  {
   "cell_type": "markdown",
   "metadata": {
    "slideshow": {
     "slide_type": "subslide"
    }
   },
   "source": [
    "Ainsi fonctions et variables ont des aspects communs, cela implique donc que l'on peut également passer une fonction en argument d'une autre fonction !! "
   ]
  },
  {
   "cell_type": "code",
   "execution_count": 49,
   "metadata": {
    "slideshow": {
     "slide_type": "fragment"
    }
   },
   "outputs": [
    {
     "name": "stdout",
     "output_type": "stream",
     "text": [
      "sig = 2000.0\n"
     ]
    }
   ],
   "source": [
    "def elastique(eto, params):\n",
    "    young = params[0]\n",
    "    return young*eto\n",
    "\n",
    "        \n",
    "def calcul_stress(U, L, model, params):\n",
    "    eto = U/L\n",
    "    sig = model(eto, params)\n",
    "    return sig\n",
    "    \n",
    "params = (200000.,)\n",
    "disp   = 0.01\n",
    "l_init = 1.\n",
    "\n",
    "sig = calcul_stress(disp, l_init, elastique, params)\n",
    "print(\"sig = {}\".format(sig))\n",
    "\n",
    "\n"
   ]
  },
  {
   "cell_type": "markdown",
   "metadata": {
    "slideshow": {
     "slide_type": "subslide"
    }
   },
   "source": [
    "Une question que vous vous poser surement, ou pas, est comment faire si je veux que la fonction que je définis retourne plusieurs variables en sortie ? La réponse est simple il suffit de retourner un tuple dans lequel on stocke les différentes variables que l'on veut récupérer. Par exemple si dans l'exemple précédent je souhaite récupérer la contrainte et la déformation il suffit de modifier la fonction `calcul_stress` de la manière suivante : "
   ]
  },
  {
   "cell_type": "code",
   "execution_count": 50,
   "metadata": {
    "slideshow": {
     "slide_type": "fragment"
    }
   },
   "outputs": [
    {
     "name": "stdout",
     "output_type": "stream",
     "text": [
      "sig = 2000.0 , eto = 0.01\n"
     ]
    }
   ],
   "source": [
    "def calcul_stress_2(U, L, model, params):\n",
    "    eto = U/L\n",
    "    sig = model(eto, params)\n",
    "    return sig, eto\n",
    "\n",
    "params = (200000.,)\n",
    "disp   = 0.01\n",
    "l_init = 1.\n",
    "\n",
    "retour = calcul_stress_2(disp, l_init, elastique, params)\n",
    "print(\"sig = {} , eto = {}\".format(retour[0], retour[1]))"
   ]
  },
  {
   "cell_type": "markdown",
   "metadata": {
    "slideshow": {
     "slide_type": "subslide"
    }
   },
   "source": [
    "Là vous avez envie de me dire ce n'est pas forcément pratique de devoir manipuler un tuple ensuite. Et je ne pourrai qu'être d'accord avec vous et même ajouter que cela nuit à la lisibilité du code. \n",
    "Mais pas d'inquiétude parce que Python est plutôt bien pensé. En effet vous pouvez automatiquement éclater un tuple en plusieurs variables et ce dès la sortie de la fonction. Il suffit d'appeler la fonction de la manière suivante :"
   ]
  },
  {
   "cell_type": "code",
   "execution_count": 51,
   "metadata": {
    "slideshow": {
     "slide_type": "fragment"
    }
   },
   "outputs": [
    {
     "name": "stdout",
     "output_type": "stream",
     "text": [
      "sig = 2000.0 , eto = 0.01\n"
     ]
    }
   ],
   "source": [
    "contrainte, deformation= calcul_stress_2(disp, l_init, elastique, params)\n",
    "print(\"sig = {} , eto = {}\".format(contrainte, deformation))"
   ]
  },
  {
   "cell_type": "markdown",
   "metadata": {
    "slideshow": {
     "slide_type": "fragment"
    }
   },
   "source": [
    "Cependant **attention** il faut que le nombre de variable soit cohérent entre ce qu'il y a dans le `return` de la fonction et ce que vous mettez à gauche du `=` lors de l'appel à la fonction. Car si ce n'est pas le cas, Python interpretera cela comme une erreur"
   ]
  },
  {
   "cell_type": "markdown",
   "metadata": {
    "slideshow": {
     "slide_type": "fragment"
    }
   },
   "source": [
    "```python \n",
    ">>> contrainte, deformation, variable_en_trop = calcul_stress_2(disp, l_init, elastique, params)\n",
    "---------------------------------------------------------------------------\n",
    "ValueError                                Traceback (most recent call last)\n",
    "<ipython-input-52-ae3d4eb02d50> in <module>()\n",
    "----> 1 contrainte, deformation, variable_en_trop = calcul_stress_2(disp, l_init, elastique, params)\n",
    "\n",
    "ValueError: not enough values to unpack (expected 3, got 2)\n",
    "```"
   ]
  },
  {
   "cell_type": "markdown",
   "metadata": {
    "slideshow": {
     "slide_type": "subslide"
    }
   },
   "source": [
    "Dans le même esprit on peut se demander comment faire si l'on souhaite définir une fonction avec des arguments ayant des valeurs par défauts. Pour cela il suffit tout simplement de donner une valeur aux arguments en questions lors de la définition de la fonction. Par exemple si l'on souhaite créé une fonction `incremente` qui par défaut incrémente de **1** un nombre mais peu également l'incrémenter d'une autre valeur spécifiée par l'utilisateur il suffit de procéder de la manière suivante : "
   ]
  },
  {
   "cell_type": "code",
   "execution_count": null,
   "metadata": {
    "slideshow": {
     "slide_type": "fragment"
    }
   },
   "outputs": [],
   "source": [
    "def incremente(x, incr=1):\n",
    "    return x+incr\n",
    "\n",
    "a = 1\n",
    "print(incremente(a))\n",
    "print(incremente(a, 100))"
   ]
  },
  {
   "cell_type": "markdown",
   "metadata": {
    "slideshow": {
     "slide_type": "fragment"
    }
   },
   "source": [
    "**Attention :** règle de syntaxe\n",
    "Les arguments ayant des valeurs par défaut doivent nécessairement être positionnés en dernier lors de la définition de la fonction. Par exemple la syntaxe suivante est fausse : "
   ]
  },
  {
   "cell_type": "markdown",
   "metadata": {
    "slideshow": {
     "slide_type": "fragment"
    }
   },
   "source": [
    "```python\n",
    ">>> def incremente_error(incr=1, x):\n",
    ">>>     return x+incr\n",
    "    \n",
    "def incremente_error(incr=1, x):\n",
    "SyntaxError: non-default argument follows default argument\n",
    "\n",
    "```"
   ]
  },
  {
   "cell_type": "markdown",
   "metadata": {
    "slideshow": {
     "slide_type": "subslide"
    }
   },
   "source": [
    "Lorsque vous avez plusieurs arguments ayant des valeurs par défauts, la règle pour l'appel de la fonction lorsque vous souhaitez spécifier un ou plusieurs arguments à une valeur autre ue sa valeur par défaut est la suivante  :\n",
    "> Les valeurs des arguments doivent être données dans le même ordre que celui établi pour la définition de la fonction   \n",
    "**ou**  \n",
    "> Les valeurs des arguments doivent être précédées du nom de l'argument suivi du symbole **=**"
   ]
  },
  {
   "cell_type": "code",
   "execution_count": null,
   "metadata": {
    "slideshow": {
     "slide_type": "fragment"
    }
   },
   "outputs": [],
   "source": [
    "def formule(x, a=1, b=0):\n",
    "    return a*x + b\n",
    "\n",
    "# Si on specifie tous les arguments \n",
    "\n",
    "print( formule( 1.876, 10., 2.) )\n",
    "# ou \n",
    "print( formule( 1.876, a=10., b=2.) )\n",
    "\n",
    "# Specification partielle \n",
    "print( formule( 1.876, b=2.) )\n"
   ]
  },
  {
   "cell_type": "markdown",
   "metadata": {
    "slideshow": {
     "slide_type": "subslide"
    }
   },
   "source": [
    "Pour finir au sujet des fonctions il ne reste qu'un seul point à aborder, à savoir comment définir des fonctions prenant un nombre d'argument variable. En effet il peut être utile parfois de définir de telle fonctions. Pour faire cela il existe une première solution, qui ne fait appel à aucune syntaxe particulière et qui est de définir votre fonction comme prenant en entrée un tuple dans lequel avant l'appel de votre fonction vous rangerez tous vos argument. Cela donnerait par exemple : "
   ]
  },
  {
   "cell_type": "code",
   "execution_count": null,
   "metadata": {
    "slideshow": {
     "slide_type": "fragment"
    }
   },
   "outputs": [],
   "source": [
    "def fonction_arg_variable( args ):\n",
    "    print(\"La fonction est appelée avec {} arguments qui ont pour valeurs {}\".format( len(args), args))\n",
    "    \n",
    "une_variable = 1\n",
    "une_autre = False\n",
    "encore_une_autre = [1,2,3]\n",
    "func_args = (une_variable, une_autre, encore_une_autre)\n",
    "fonction_arg_variable( func_args )\n",
    "func_args_2  = (une_variable, encore_une_autre)\n",
    "fonction_arg_variable( func_args_2 )"
   ]
  },
  {
   "cell_type": "markdown",
   "metadata": {
    "slideshow": {
     "slide_type": "subslide"
    }
   },
   "source": [
    "Vous pourriez alors me dire que oui ça fait le travail attendu mais ce n'est quand même pas très pratique car il faut définir à la main un tuple avant chaque appel de la fonction. Et vous auriez raison de me dire ça. C'est pour cette raison qu'il existe dans la Python la syntaxe `*args` qui va nous permettre d'avoir le même comportement que précédemment tout en se passant de l'étape de définition d'un tuple. Si on reprends l'exemple précédent : "
   ]
  },
  {
   "cell_type": "code",
   "execution_count": null,
   "metadata": {
    "slideshow": {
     "slide_type": "fragment"
    }
   },
   "outputs": [],
   "source": [
    "def fonction_arg_variable_star( *args ):\n",
    "    print(\"La fonction est appelée avec {} arguments qui ont pour valeurs {}\".format( len(args), args))\n",
    "    \n",
    "une_variable = 1\n",
    "une_autre = False\n",
    "encore_une_autre = [1,2,3]\n",
    "### On appelle directement la fonction avec les arguments\n",
    "### sans creer de tuple\n",
    "fonction_arg_variable_star( une_variable, une_autre, encore_une_autre )\n",
    "fonction_arg_variable_star( une_variable, encore_une_autre )"
   ]
  },
  {
   "cell_type": "markdown",
   "metadata": {
    "slideshow": {
     "slide_type": "subslide"
    }
   },
   "source": [
    "Enfin il existe un autre moyen de définir une fonction avec un nombre d'arguments variables il s'agit de la syntaxe `**kwargs`. Cette seconde syntaxe permet de résoudre un problème associé à `*args` qui est que lors de l'appel d'une fonction définit en utilisant `*args` il faut nécessaire donner les arguments dans le sens prévu dans la définition de la fonction pour que cette dernière ait le comportement attendu. Illustration : "
   ]
  },
  {
   "cell_type": "code",
   "execution_count": null,
   "metadata": {
    "slideshow": {
     "slide_type": "fragment"
    }
   },
   "outputs": [],
   "source": [
    "def fonction_args(exposant, *args):\n",
    "    \"\"\" La fonction est implémenté de telle sorte que :\n",
    "        exposant -> un float \n",
    "        args[1] -> un booléen \n",
    "        args[2:] -> des flottants \n",
    "    \"\"\"\n",
    "    if len(args) < 1:\n",
    "        return exposant**exposant\n",
    "    if args[0] is True:\n",
    "        s = 0\n",
    "        for x in args[1:]:\n",
    "            s += x**exposant\n",
    "        return s\n",
    "    else:\n",
    "        s=0\n",
    "        for x in args[1:]:\n",
    "            s += x**(1./exposant)\n",
    "        return s\n",
    "\n",
    "### Appel de la fonction avec uniquement argument positionnel\n",
    "print( fonction_args(2.) )\n",
    "### Appel de la fonction avec tous les arguments (dans le bon sens donc comportement correct)\n",
    "print( fonction_args(2., True, 1.,2.,3.,4.) )\n",
    "### Appel de la fonction avec tous les arguments (les deux premiers sont inversés donc comportement incorrect)\n",
    "print( fonction_args(True, 2., 1.,2.,3.,4.) )\n",
    "    "
   ]
  },
  {
   "cell_type": "markdown",
   "metadata": {
    "slideshow": {
     "slide_type": "subslide"
    }
   },
   "source": [
    "L'utilisation de la syntaxe `kwargs` se fait comme illustré ci-dessous : "
   ]
  },
  {
   "cell_type": "code",
   "execution_count": null,
   "metadata": {
    "slideshow": {
     "slide_type": "fragment"
    }
   },
   "outputs": [],
   "source": [
    "def fonction_arg_variable_nommes( **kwargs ):\n",
    "    print(\"La fonction est appelée avec {} arguments qui ont pour valeurs {}\".format( len(kwargs), kwargs))\n",
    "    print(\"kwargs est de type : {}\".format(type(kwargs)))\n",
    "    \n",
    "une_variable = 1\n",
    "une_autre = False\n",
    "encore_une_autre = [1,2,3]\n",
    "### On appelle directement la fonction avec les arguments\n",
    "### sans creer de tuple\n",
    "fonction_arg_variable_nommes( mon_arg_1=une_variable, mon_arg_2=une_autre, mon_arg_3=encore_une_autre )\n",
    "fonction_arg_variable_nommes( mon_arg_1=une_variable, mon_arg_3=encore_une_autre )"
   ]
  },
  {
   "cell_type": "markdown",
   "metadata": {
    "slideshow": {
     "slide_type": "fragment"
    }
   },
   "source": [
    "On constate alors que l'object `kwargs` est un dictionnaire dont les clés sont en fait les noms données aux variables lors de l'appel de la fonction. "
   ]
  },
  {
   "cell_type": "markdown",
   "metadata": {
    "slideshow": {
     "slide_type": "subslide"
    }
   },
   "source": [
    "#### Les fonctions anonymes "
   ]
  },
  {
   "cell_type": "markdown",
   "metadata": {
    "slideshow": {
     "slide_type": "fragment"
    }
   },
   "source": [
    "Il existe dans les faits une seconde manière de définir des fonctions en Python, c'est ce que l'on appel les fonctions anonymes ou lambda fonctions. La syntaxe de définition de ces fonctions anonymes est la suivante : \n",
    "\n",
    "```python\n",
    "ma_fonction_anonyme = lambda arg1, arg2, arg3: valeur_de_retour\n",
    "```\n",
    "\n",
    "On constate que la syntaxe est relativement différente de celle du mot clé `def`. Le cadre d'utilisation de ce type de fonction est la définition de fonction courte et essentiellement des fonctions mathématiques. On constate en effet qu'avec cette syntaxe on est très proche de ce que l'on pourrait écrire sur une feuille. \n"
   ]
  },
  {
   "cell_type": "markdown",
   "metadata": {
    "slideshow": {
     "slide_type": "subslide"
    }
   },
   "source": [
    "Par exemple si l'on programme la fonction `rms` (pour Root Mean Square) de trois variables qui s'exprime mathématiquement par :\n",
    "$$ rms(x,y,z) = \\left( \\frac{1}{3} \\left[ x^2 + y^2 + z^2 \\right]  \\right)^{\\frac{1}{2}} $$\n",
    "\n",
    "on peut écrire une fonction anonyme : "
   ]
  },
  {
   "cell_type": "code",
   "execution_count": null,
   "metadata": {
    "slideshow": {
     "slide_type": "fragment"
    }
   },
   "outputs": [],
   "source": [
    "rms = lambda x,y,z: (1./3. * (x**2+y**2+z**2) )**(1./2.)\n",
    "\n",
    "print(rms(1,2,1))\n"
   ]
  },
  {
   "cell_type": "markdown",
   "metadata": {
    "slideshow": {
     "slide_type": "subslide"
    }
   },
   "source": [
    "#### La portée des variables \n",
    "\n",
    "Pour finir cette présentation de la syntaxe et des règles de définition d'une fonction dans Python nous allons voir ce que l'on appel la portée des variables. Tout d'abord nous pouvons voir dans l'exemple qui suit qu'une variable définit dans une fonction n'est utilisable qu'au sein de cette dernière. Aux yeux du monde extérieur elle n'existe pas. "
   ]
  },
  {
   "cell_type": "markdown",
   "metadata": {
    "slideshow": {
     "slide_type": "subslide"
    }
   },
   "source": [
    "```python\n",
    "\n",
    ">>> def add_2(a):\n",
    ">>>    b = 2      ### La variable b est créée dans la fonction \n",
    ">>>    c = a + b\n",
    ">>>    print( \"c = {}\".format(c) )\n",
    "    \n",
    ">>> une_valeur = 1.\n",
    "\n",
    ">>> add_2( une_valeur )\n",
    "\n",
    "c = 3.0\n",
    "\n",
    ">>> print( b )     ### Erreur : en dehors de la fonction b n'existe pas\n",
    "\n",
    "---------------------------------------------------------------------------\n",
    "NameError                                 Traceback (most recent call last)\n",
    "<ipython-input-53-7c321ed8f944> in <module>()\n",
    "      9 add_2( une_valeur )\n",
    "     10 \n",
    "---> 11 print( b )     ### Erreur : en dehors de la fonction b n'existe pas\n",
    "\n",
    "NameError: name 'b' is not defined\n",
    "\n",
    "```\n"
   ]
  },
  {
   "cell_type": "markdown",
   "metadata": {
    "slideshow": {
     "slide_type": "subslide"
    }
   },
   "source": [
    "L'exemple suivant permet d'illustrer le fait qu'au sein d'une fonction, Python voit l'ensemble des variables étant définit dans le bloc d'instruction appelant la fonction en question."
   ]
  },
  {
   "cell_type": "code",
   "execution_count": 3,
   "metadata": {},
   "outputs": [],
   "source": [
    "def add_3(a):\n",
    "    c = a + d\n",
    "    print(\"c = {}\".format(c))\n",
    "    \n",
    "une_valeur = 1"
   ]
  },
  {
   "cell_type": "markdown",
   "metadata": {
    "slideshow": {
     "slide_type": "fragment"
    }
   },
   "source": [
    "```python \n",
    "    \n",
    ">>> add_3(une_valeur)\n",
    "\n",
    "---------------------------------------------------------------------------\n",
    "NameError                                 Traceback (most recent call last)\n",
    "<ipython-input-54-43a5a1054963> in <module>()\n",
    "      4 \n",
    "      5 une_valeur = 1\n",
    "----> 6 add_3(une_valeur)\n",
    "\n",
    "<ipython-input-54-43a5a1054963> in add_3(a)\n",
    "      1 def add_3(a):\n",
    "----> 2     c = a + d\n",
    "      3     print(\"c = {}\".format(c))\n",
    "      4 \n",
    "      5 une_valeur = 1\n",
    "\n",
    "NameError: name 'd' is not defined\n",
    "\n",
    "```"
   ]
  },
  {
   "cell_type": "markdown",
   "metadata": {
    "slideshow": {
     "slide_type": "subslide"
    }
   },
   "source": [
    "Si l'on définit en dehors du code la variable `d` avant l'appel à la fonction `add_3` on constate alors qu'il n'y a plus d'erreur lors de l'éxécution du code. "
   ]
  },
  {
   "cell_type": "code",
   "execution_count": 4,
   "metadata": {
    "slideshow": {
     "slide_type": "fragment"
    }
   },
   "outputs": [
    {
     "name": "stdout",
     "output_type": "stream",
     "text": [
      "c = 11\n"
     ]
    }
   ],
   "source": [
    "d = 10\n",
    "add_3(une_valeur)"
   ]
  },
  {
   "cell_type": "raw",
   "metadata": {
    "slideshow": {
     "slide_type": "subslide"
    }
   },
   "source": [
    "En revanche Python ne peut pas modifier la valeur associée aux variables définit à l'extérieur de la fonction. Il ne les voit qu'en lecture seule. Dans l'exemple suivant on voit que le fait de vouloir modifier `e` engendre une erreur lors de l'exécution du code. "
   ]
  },
  {
   "cell_type": "markdown",
   "metadata": {
    "slideshow": {
     "slide_type": "fragment"
    }
   },
   "source": [
    "```python \n",
    "\n",
    "def add_4(a):\n",
    "    c = a + e\n",
    "    print(\"c = {}\".format(c))\n",
    "    e = 0\n",
    "\n",
    "\n",
    "e = 10\n",
    "add_4(une_valeur)\n",
    "print(e)\n",
    "\n",
    "---------------------------------------------------------------------------\n",
    "UnboundLocalError                         Traceback (most recent call last)\n",
    "<ipython-input-56-703da7c8669b> in <module>()\n",
    "      6 \n",
    "      7 e = 10\n",
    "----> 8 add_4(une_valeur)\n",
    "      9 print(e)\n",
    "\n",
    "<ipython-input-56-703da7c8669b> in add_4(a)\n",
    "      1 def add_4(a):\n",
    "----> 2     c = a + e\n",
    "      3     print(\"c = {}\".format(c))\n",
    "      4     e = 0\n",
    "      5 \n",
    "\n",
    "UnboundLocalError: local variable 'e' referenced before assignment\n",
    "\n",
    "```"
   ]
  },
  {
   "cell_type": "markdown",
   "metadata": {
    "slideshow": {
     "slide_type": "subslide"
    }
   },
   "source": [
    "> **Remarque :** \n",
    "> Il existe le mot clé `global` en Python qui permet d'outrepasser les règles de portée des variables présentées précédemment. On ne parlera pas ici du fonctionnement `global` car son utilisation est très fortement déconseillée car cela engendre des codes brouillons, très compliqués à maintenir et faire évoluer et surtout avec un comportement potentiellement imprévisible. "
   ]
  },
  {
   "cell_type": "markdown",
   "metadata": {
    "slideshow": {
     "slide_type": "subslide"
    }
   },
   "source": [
    "### Poussons plus loin et rangeons les fonctions"
   ]
  },
  {
   "cell_type": "markdown",
   "metadata": {
    "slideshow": {
     "slide_type": "fragment"
    }
   },
   "source": [
    "Nous venons donc de voir comment on peut organiser notre code en fonctions afin d'avoir un programme simple et réutilisable. Pour des petits codes à usage unique cela et tout à fait suffisant. En revanche vous pouvez facilement imaginer que pour un programme complexe ayant de nombreuses fonctionnalité il est nécessaire de pousser plus loin l'organisation et l'architecture du code. \n",
    "\n",
    "Pour aller plus loin dans l'organisation du code l'idée est de ranger vos fonctions dans des fichiers. De plus le principe est de faire une répartition \"intéligente\" de vos fonctions par catégorie. Par exemple un fichier pour toutes les fonctions de calcul/traitement de données, un fichier pour toutes les fonctions d'écritures des sorties, un fichier pour toutes les fonctions d'affichage et de visualisation, etc.\n",
    "\n",
    "Pour répartir vos fonctions dans des fichiers c'est très simple. Il suffit de créer un fichier avec l'extension `.py` et d'y placer à l'intérieure les définitions de vos fonctions. \n",
    "\n",
    "> **Attention :** \n",
    "> Pour le nommage de vos fichiers il y a quelques règles à respecter. Tout d'abord il est absolument interdit d'utiliser des espaces ainsi que des caractères spéciaux (é, è, à, !, ?, ...) dans vos noms de fichiers. \n",
    "> Ensuite la convention PEP8 recommande de nommer les fichiers avec un nom commencant par une lettre minuscule. \n",
    "\n",
    "\n",
    "Par exemple créons un fichier `mesFonctions.py` dans lequel nous allons ranger un certains nombre de fonctions Python. "
   ]
  },
  {
   "cell_type": "code",
   "execution_count": 5,
   "metadata": {
    "slideshow": {
     "slide_type": "subslide"
    }
   },
   "outputs": [
    {
     "name": "stdout",
     "output_type": "stream",
     "text": [
      "Overwriting mesFonctions.py\n"
     ]
    }
   ],
   "source": [
    "%%file mesFonctions.py\n",
    "\n",
    "##### File : mesFonctions.py \n",
    "\n",
    "def fonction_calcul():\n",
    "    return None\n",
    "\n",
    "\n",
    "##### end of file test.py \n"
   ]
  },
  {
   "cell_type": "code",
   "execution_count": 6,
   "metadata": {
    "slideshow": {
     "slide_type": "fragment"
    }
   },
   "outputs": [
    {
     "name": "stdout",
     "output_type": "stream",
     "text": [
      "_build\t    media\t     Part3.ipynb\n",
      "conf.py     mesFonctions.py  Part4.ipynb\n",
      "index.rst   Part1.ipynb      sphinx_ipypublish_all.ext.custom.json\n",
      "index.rst~  Part1.ipynb~\n",
      "Makefile    Part2.ipynb\n",
      "\n",
      "##### File : mesFonctions.py \n",
      "\n",
      "def fonction_calcul():\n",
      "    return None\n",
      "\n",
      "\n",
      "##### end of file test.py \n"
     ]
    }
   ],
   "source": [
    "!ls \n",
    "!cat mesFonctions.py"
   ]
  },
  {
   "cell_type": "markdown",
   "metadata": {
    "slideshow": {
     "slide_type": "subslide"
    }
   },
   "source": [
    "Maintenant la question que l'on peut se poser c'est comment fait-on pour dire à Python qu'il y a un fichier `mesFonctions.py` contenant un ensemble de fonctions que je veux utiliser dans mon programme principale ? La réponse est simple il suffit d'utiliser le mot clé `import`. Le mot clé `import` dispose de quatre modes d'utilisations : \n",
    "\n",
    "Le premier se traduit par la syntaxe ci-dessous. Dans ce cas il est nécessaire de spécifier le nom `mesFonctions` à chaque fois que l'on veut utiliser une fonction contenue dans le fichier `mesFonctions.py` \n",
    "```python \n",
    "import mesFonctions\n",
    "...\n",
    "mesFonctions.uneFonctionDuFichier( args )\n",
    "```\n",
    "\n",
    "La seconde syntaxe possible est directement liée au fait qu'en générale un développeur est fainéant et cherche à écrire le moins de caractère possible. Pour cette raison on peut renommer les modules de fonctions. \n",
    "\n",
    "```python \n",
    "import mesFonctions as mf\n",
    "...\n",
    "mf.uneFonctionDuFichier( args )\n",
    "```\n",
    "\n",
    "La troisième syntaxe permet de spécifier au moment de l'import quelles fonctions nous allons utiliser et donc ne chargé que ces dernières. \n",
    "\n",
    "```python \n",
    "from mesFonctions import uneFonctionDuFichier, uneAutreFonction\n",
    "...\n",
    "uneFonctionDuFichier( args )\n",
    "...\n",
    "uneAutreFonction( args2 )\n",
    "```\n",
    "\n",
    "Enfin la dernière syntaxe possible est celle qui permet d'importer toutes les fonctions contenues dans un fichier et de les utiliser par la suite sans avoir besoin de remettre le prefix du fichier devant. \n",
    "```python \n",
    "from mesFonctions import *\n",
    "...\n",
    "uneFonctionDuFichier( args )\n",
    "...\n",
    "uneAutreFonction( args2 )\n",
    "\n",
    "```\n",
    "\n",
    "> **Attention :** bien que le dernier mode d'utilisation puisse paraitre commode c'est une fausse bonne idée de l'utiliser. Un exemple simple si dans deux fichiers se trouve une fonction ayant le même nom mais ne faisant pas la même chose. Si vous utilisez la syntaxe `from ... import *` et bien l'une des deux fonctions sera écrasée par l'autre et donc inaccessible. \n",
    "\n"
   ]
  },
  {
   "cell_type": "markdown",
   "metadata": {
    "slideshow": {
     "slide_type": "subslide"
    }
   },
   "source": [
    "Pour que l'utilisation du mot clé `import` se fasse sans problème il faut bien faire attention à où se situe le fichier `mesFonctions.py` par rapport au fichier principal, c'est à dire celui où est écrit la ligne d'`import`.\n",
    "\n",
    "Si les deux fichiers sont côtes à côtes il n'y a aucun problèmes, l'`import` va se dérouler sans encombre (sous réserve qu'il n'y ait pas d'erreur de syntaxe dans le fichier `mesFonction.py`. \n",
    "\n",
    "En revanche si le fichier `mesFonctions.py` ne se situe pas dans le même dossier que le fichier `script_principal.py` si vous ne faites rien l'`import` va échouer. En effet il faut aider Python pour qu'il trouve le fichier `mesFonctions.py` si il ne se trouve pas à côté. Pour cela il est nécessaire d'étendre le `PYTHONPATH`.  \n",
    "\n"
   ]
  },
  {
   "cell_type": "markdown",
   "metadata": {
    "slideshow": {
     "slide_type": "fragment"
    }
   },
   "source": [
    "Sous Linux ou Mac OS une manière simple d'étendre le PYTHONPATH est d'utiliser les variables d'environnement. Pour cela il suffit de tapper dans une console la ligne de commande suivante :\n",
    "\n",
    "```bash\n",
    "export PYTHONPATH=/chemin/vers/le/dossier:$PYTHONPATH\n",
    "```"
   ]
  },
  {
   "cell_type": "markdown",
   "metadata": {
    "slideshow": {
     "slide_type": "fragment"
    }
   },
   "source": [
    "Une autre solution, peut-être plus simple, est d'étendre votre PATH au sein de votre programme principal Python. Cela se fait de la manière suivante :"
   ]
  },
  {
   "cell_type": "code",
   "execution_count": 7,
   "metadata": {
    "slideshow": {
     "slide_type": "fragment"
    }
   },
   "outputs": [],
   "source": [
    "import sys\n",
    "\n",
    "sys.path.append(\"/chemin/vers/le/dossier/\")"
   ]
  },
  {
   "cell_type": "markdown",
   "metadata": {
    "slideshow": {
     "slide_type": "slide"
    }
   },
   "source": [
    "## 7 - Les modules Python"
   ]
  },
  {
   "cell_type": "markdown",
   "metadata": {
    "slideshow": {
     "slide_type": "subslide"
    }
   },
   "source": [
    "### Qu'est ce qu'un module et où les trouver ?\n",
    "\n",
    "Nous avons vu dans la partie précédente que l'on peut répartir du code Python dans des fichiers. Donc bien entendu des gens ce sont mis à faire cela et à redistribuer leurs code sur Internet etde cette manière sont nées les modules. Donc un module c'est un ensemble de fonctionnalités additionelles que l'on peut importer dans un code Python, à l'aide de la commande `import`. Et donc au fil des années une énorme librairie de modules Open Source s'est développée grace notamment à une communauté d'utilisateur Python très active. \n",
    "\n",
    "Parmis l'ensemble de tous les modules disponibles il est nécessaire de distinguer deux catégories : \n",
    "* Les modules de la librairie standard Python, il s'agit d'un ensemble restreint installé par défaut avec Python peu importe votre installation. \n",
    "* Les modules autres qui eux ne sont pas disponible par défaut et nécessite d'être installé pour que vous puissiez les utiliser. \n",
    "\n"
   ]
  },
  {
   "cell_type": "markdown",
   "metadata": {
    "slideshow": {
     "slide_type": "subslide"
    }
   },
   "source": [
    "### La librairie standard Python\n",
    "\n",
    "La librairie standard Python regroupe un peu plus d'une 100 de modules en tout genre, pour avoir la liste des module disponible vous pouvez vous rendre sur le site officiel de [Python](https://docs.python.org/3/library/index.html). Nous n'allons bien entendu pas tous les aborder, d'autant plus qu'un grand nombre d'entre eux ne nous seront pas utiles. Nous allons uniquement nous focaliser sur les quelques modules de la librairies standard qui peuvent vous servir dans la vie de tous les jours. \n"
   ]
  },
  {
   "cell_type": "markdown",
   "metadata": {
    "slideshow": {
     "slide_type": "subslide"
    }
   },
   "source": [
    "#### Les modules math et cmath\n",
    "\n",
    "Le premier module qui va très certainement vous servir un jour est le module `math`. Comme son nom l'indique il s'agit d'un module définissant un certain nombre de fonctions mathématiques. Le chargement de ce module se fait bien entendu à l'aide de la commande `import` suivant l'une des 4 syntaxes présentées dans la partie précédente. \n",
    "\n",
    "Parmis les fonctions définies il y a `sin`, `cos`, `log`, `exp` et bien d'autres. Pour une liste exhaustive des fonctions contenues dans le module `math` vous pouvez : \n",
    "* vous rendre à l'adresse suivante https://docs.python.org/3/library/math.html\n",
    "* taper `help(math)` dans un prompt Python ou un Notebook. \n",
    "```python \n",
    "import math\n",
    "help(math)\n",
    "```\n",
    "Le module `math` définit également un certain nombre de constante mathématique  : "
   ]
  },
  {
   "cell_type": "code",
   "execution_count": 8,
   "metadata": {
    "slideshow": {
     "slide_type": "fragment"
    }
   },
   "outputs": [
    {
     "name": "stdout",
     "output_type": "stream",
     "text": [
      "math.pi : 3.141592653589793\n",
      "math.e  : 2.718281828459045\n"
     ]
    }
   ],
   "source": [
    "import math\n",
    "print(\"math.pi : {}\".format(math.pi))\n",
    "print(\"math.e  : {}\".format(math.e))"
   ]
  },
  {
   "cell_type": "markdown",
   "metadata": {
    "slideshow": {
     "slide_type": "fragment"
    }
   },
   "source": [
    "Il existe une variante du module `math` dédiée au traitement des nombres complexes, il s'agit du module `cmath`."
   ]
  },
  {
   "cell_type": "markdown",
   "metadata": {
    "slideshow": {
     "slide_type": "subslide"
    }
   },
   "source": [
    "#### Le module os\n",
    "\n",
    "Le module `os` permet d'intéragir avec le système d'exploitation de l'ordinateur. Le grand intérêt de ce module est qu'il a été conçu de telle sorte que peu importe le système d'exploitation que vous utilisez (Windows, Mac OS ou Linux) les fonctions du module sont les mêmes (bien que à un niveau plus bas ce ne soit pas du tout le cas). Cela permet notamment de concevoir des programmes qui soient multi-plateforme. Parmis les fonctions utiles du module il y a entre autre : \n",
    "\n",
    "* `os.listdir` qui permet de lister tous les fichiers/dossiers d'un répertoire. \n",
    "* `os.isdir` qui permet de tester si le chemin donné correspond à un dossier ou non.\n",
    "* `os.mkdir` qui permet de créer un dossier\n",
    "* et bien d'autres ... \n"
   ]
  },
  {
   "cell_type": "markdown",
   "metadata": {
    "slideshow": {
     "slide_type": "subslide"
    }
   },
   "source": [
    "Parmis les fonctionnalités utiles disponible dans le module `os` il y celles relatives à la gestion de chemins. Pour utiliser ces fonctionnalités il faut charger le sous-module `os.path`. Pourquoi se préoccuper des chemins de fichiers me direz vous. C'est toujours pour des raisons de compatibilité entre les systèmes d'exploitations. En effet sur les systèmes Linux et Mac OS (basé sur un Linux) les chemin de fichiers/dossiers sont de la forme `/voici/un/chemin`. Tandis que sur les Windows les chemins sont de la forme `C:\\un\\chemin\\windows`. La fonction la plus utilisée du module `os.path` est la fonction `join`. Ci dessous un exemple d'utilisation."
   ]
  },
  {
   "cell_type": "code",
   "execution_count": null,
   "metadata": {
    "slideshow": {
     "slide_type": "fragment"
    }
   },
   "outputs": [],
   "source": [
    "import os.path\n",
    "\n",
    "un_chemin = os.path.join(\"partie_1\", \"partie_2\")\n",
    "\n",
    "print( un_chemin )\n",
    "\n",
    "chemin, fichier = os.path.split(\"/un/chemin/vers/un_fichier.txt\")\n",
    "print(chemin)\n",
    "print(fichier)\n"
   ]
  },
  {
   "cell_type": "markdown",
   "metadata": {
    "slideshow": {
     "slide_type": "subslide"
    }
   },
   "source": [
    "### Et plein d'autres choses\n",
    "\n",
    "Ce n'est là qu'une très brève revue de toutes les possibilitées offertes par la librairie standard Python. Je vous invite fortemenent, si vous êtes curieux évidemment, à aller faire un tour sur [https://docs.python.org/3/library/](https://docs.python.org/3/library/) pour avoir une vision plus globale des possibilités offertes par le langage. Vous y trouverez entre autre des modules pour les interfaces graphiques, pour la mise en place de server tcp, la gestion d'argument d'entrée d'un programme, .... "
   ]
  },
  {
   "cell_type": "code",
   "execution_count": null,
   "metadata": {},
   "outputs": [],
   "source": []
  },
  {
   "cell_type": "code",
   "execution_count": null,
   "metadata": {},
   "outputs": [],
   "source": []
  }
 ],
 "metadata": {
  "celltoolbar": "Slideshow",
  "kernelspec": {
   "display_name": "Python 3",
   "language": "python",
   "name": "python3"
  },
  "language_info": {
   "codemirror_mode": {
    "name": "ipython",
    "version": 3
   },
   "file_extension": ".py",
   "mimetype": "text/x-python",
   "name": "python",
   "nbconvert_exporter": "python",
   "pygments_lexer": "ipython3",
   "version": "3.7.4"
  }
 },
 "nbformat": 4,
 "nbformat_minor": 2
}
