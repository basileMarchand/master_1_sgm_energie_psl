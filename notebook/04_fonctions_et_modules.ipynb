{
 "cells": [
  {
   "cell_type": "markdown",
   "metadata": {
    "lang": "en"
   },
   "source": [
    "# Functions and modules\n",
    "\n",
    "**Basile Marchand (Materials Center - Mines ParisTech / CNRS / PSL University)**"
   ]
  },
  {
   "cell_type": "markdown",
   "metadata": {
    "lang": "en"
   },
   "source": [
    "## Let's organize all of this!"
   ]
  },
  {
   "cell_type": "markdown",
   "metadata": {
    "lang": "en"
   },
   "source": [
    "### Store your code in functions"
   ]
  },
  {
   "cell_type": "markdown",
   "metadata": {
    "lang": "en"
   },
   "source": [
    "In the previous parts we have therefore seen how to handle basic Python objects, how to repeat operations, etc ... However you have seen it with the different exercises (I suppose) your Python files have seen tendencies to become a bit messy. and you can quickly get tangled up in your brushes. In addition, as we saw in the section on loops, a large part of a computer program consists of repeating a series of instructions a large number of times. The ideal in order to have a clear and easily exploitable code is to divide the different series of instructions into functions and that is what we are going to do."
   ]
  },
  {
   "cell_type": "markdown",
   "metadata": {
    "lang": "en"
   },
   "source": [
    "### What is a function?\n",
    "\n",
    "In mathematics we define a function $f$ as being an application which to an input $x$ living in a certain space $x\\in E$ associates an output $y$ living in a certain space $y\\in V$.\n",
    "\n",
    "$$ x \\rightarrow y = f(x) $$\n",
    "\n",
    "Well in computer science it's the same thing, the only difference is in the vocabulary. Indeed we can define a function `f` in computer science as being an instruction which has an argument` x` of a certain type (int, float, list, dict, ...) associates an output `y` of a certain type.\n",
    "\n",
    "``` python\n",
    "y = f (x)\n",
    "```\n",
    "\n",
    "Likewise, just as there are functions of several variables in mathematics, computer functions can also take several arguments as input.\n",
    "\n",
    "``` python\n",
    "y = f (x, y, z)\n",
    "```"
   ]
  },
  {
   "cell_type": "markdown",
   "metadata": {
    "lang": "en"
   },
   "source": [
    "How do you define functions in Python? It is quite simple that is done using the `def` instruction. The syntax is as follows:\n",
    "\n",
    "```python\n",
    "def name_of_my_function(arg1, arg2, ..., argN):\n",
    "    instruction_ 1\n",
    "    instruction_2\n",
    "    ret = ...\n",
    "    return ret\n",
    "```\n",
    "\n",
    "For example, if we want to define the `sum` function taking as input a list and returning the sum of its elements, we can write:"
   ]
  },
  {
   "cell_type": "code",
   "execution_count": 27,
   "metadata": {
    "slideshow": {
     "slide_type": "fragment"
    }
   },
   "outputs": [
    {
     "name": "stdout",
     "output_type": "stream",
     "text": [
      "la_somme = 1045\n",
      "la_somme = {}\n",
      "la_somme = 1045\n"
     ]
    }
   ],
   "source": [
    "\n",
    "## Définition de la fonction \n",
    "def somme(ma_liste):\n",
    "    s = 0\n",
    "    for x in ma_liste:\n",
    "        s += x\n",
    "    return s\n",
    "\n",
    "une_liste = [ x+100 for x in range(10) ]\n",
    "la_somme = somme( une_liste )   ## Appel de la fonction \n",
    "print(\"la_somme = {}\".format(la_somme))\n",
    "print(\"la_somme = {}\")\n",
    "print(f\"la_somme = {la_somme}\")"
   ]
  },
  {
   "cell_type": "markdown",
   "metadata": {
    "lang": "en"
   },
   "source": [
    "__Several remarks:__\n",
    "* We must distinguish between the phase of* definition of the function *(part of the code where the function is defined by specifying the series of instructions that the latter will be required to carry out) from the phase *call of the function* (part of the code where the series of instructions contained in the function are executed).\n",
    "* The name of the `my_list` argument in the function definition is completely independent of the variable name I give when I call the function. The name `my_list` is only used as an identifier to handle my input variable within the function"
   ]
  },
  {
   "cell_type": "markdown",
   "metadata": {
    "lang": "en"
   },
   "source": [
    "Writing a function of several variables follows the same logic as before. For example, if we want to implement an `average_weighted` function, we can proceed as follows:"
   ]
  },
  {
   "cell_type": "code",
   "execution_count": 28,
   "metadata": {
    "slideshow": {
     "slide_type": "fragment"
    }
   },
   "outputs": [
    {
     "name": "stdout",
     "output_type": "stream",
     "text": [
      "La moyenne pondérée est : 13.625\n"
     ]
    }
   ],
   "source": [
    "def moyenne_ponderee( valeurs, ponderations ):\n",
    "    s = 0\n",
    "    s_w = 0\n",
    "    for x, w in zip(valeurs, ponderations):\n",
    "        s += w*x\n",
    "        s_w += w\n",
    "    return s/s_w\n",
    "\n",
    "notes = [12,9,17,15]\n",
    "poids = [1, 2, 2, 3]\n",
    "\n",
    "s = moyenne_ponderee(notes, poids)\n",
    "print(\"La moyenne pondérée est : {}\".format(s))"
   ]
  },
  {
   "cell_type": "markdown",
   "metadata": {
    "lang": "en"
   },
   "source": [
    "### Function and variable the same or not?"
   ]
  },
  {
   "cell_type": "code",
   "execution_count": 29,
   "metadata": {
    "slideshow": {
     "slide_type": "fragment"
    }
   },
   "outputs": [
    {
     "name": "stdout",
     "output_type": "stream",
     "text": [
      "La moyenne pondérée est : 13.625\n"
     ]
    }
   ],
   "source": [
    "mean_weight = moyenne_ponderee\n",
    "s_bis = mean_weight(notes, poids)\n",
    "print(\"La moyenne pondérée est : {}\".format(s_bis))\n",
    "\n"
   ]
  },
  {
   "cell_type": "markdown",
   "metadata": {
    "lang": "en"
   },
   "source": [
    "We get the same result because if we look at the memory address of the functions, they are the same in both cases."
   ]
  },
  {
   "cell_type": "code",
   "execution_count": 30,
   "metadata": {
    "slideshow": {
     "slide_type": "fragment"
    }
   },
   "outputs": [
    {
     "name": "stdout",
     "output_type": "stream",
     "text": [
      "Adresse de moyenne_ponderee : 0x7fd0d4366e60\n",
      "Adresse de mean_weight : 0x7fd0d4366e60\n",
      "\n"
     ]
    }
   ],
   "source": [
    "print(\"\"\"Adresse de moyenne_ponderee : {}\n",
    "Adresse de mean_weight : {}\n",
    "\"\"\".format(hex(id(moyenne_ponderee)), hex(id(mean_weight))))"
   ]
  },
  {
   "cell_type": "markdown",
   "metadata": {
    "lang": "en"
   },
   "source": [
    "Thus functions and variables have common aspects, so this implies that we can also pass a function as an argument of another function !!"
   ]
  },
  {
   "cell_type": "code",
   "execution_count": 7,
   "metadata": {},
   "outputs": [
    {
     "name": "stdout",
     "output_type": "stream",
     "text": [
      "[0.0, 1.0, 1.4142135623730951, 1.7320508075688772, 2.0, 2.23606797749979, 2.449489742783178, 2.6457513110645907, 2.8284271247461903, 3.0]\n",
      "[0.0, 1.0, 2.0000000000000004, 2.9999999999999996, 4.0, 5.000000000000001, 5.999999999999999, 7.000000000000001, 8.000000000000002, 9.0]\n"
     ]
    }
   ],
   "source": [
    "def square(x):\n",
    "    return x*x\n",
    "\n",
    "\n",
    "def for_each(func, iterable):\n",
    "    res = []\n",
    "    for x in iterable:\n",
    "        res.append( func(x) )\n",
    "\n",
    "    return res\n",
    "\n",
    "inp = [ x**0.5 for x in range(10) ]\n",
    "inp2 = for_each( square, inp )\n",
    "print(inp)\n",
    "print(inp2)"
   ]
  },
  {
   "cell_type": "markdown",
   "metadata": {
    "lang": "en"
   },
   "source": [
    "One question you might or might not ask yourself is what if I want the function I define to return multiple output variables? The answer is simple, it suffices to return a tuple in which we store the different variables that we want to recover. For example if in the previous example I want to retrieve the result list and its size (no interest you will tell me), just modify the `for_each` function as follows:"
   ]
  },
  {
   "cell_type": "code",
   "execution_count": 8,
   "metadata": {
    "slideshow": {
     "slide_type": "fragment"
    }
   },
   "outputs": [
    {
     "name": "stdout",
     "output_type": "stream",
     "text": [
      "[0.0, 1.0, 2.0000000000000004, 2.9999999999999996]\n",
      "4\n"
     ]
    }
   ],
   "source": [
    "def for_each2(func, iterable):\n",
    "    res = []\n",
    "    for x in iterable:\n",
    "        res.append( func(x) )\n",
    "\n",
    "    return res, len(res)\n",
    "\n",
    "inp = [ x**0.5 for x in range(4) ]\n",
    "out = for_each2( square, inp )\n",
    "print(out[0])\n",
    "print(out[1])"
   ]
  },
  {
   "cell_type": "markdown",
   "metadata": {
    "lang": "en"
   },
   "source": [
    "There you want to tell me that it is not necessarily practical to have to handle a tuple afterwards. And I can only agree with you and even add that this affects the readability of the code.\n",
    "But don't worry because Python is pretty well thought out. In fact, you can automatically split a tuple into several variables as soon as you exit the function. All you have to do is call the function as follows:"
   ]
  },
  {
   "cell_type": "code",
   "execution_count": 9,
   "metadata": {
    "slideshow": {
     "slide_type": "fragment"
    }
   },
   "outputs": [
    {
     "name": "stdout",
     "output_type": "stream",
     "text": [
      "liste = [0.0, 1.0, 2.0000000000000004, 2.9999999999999996] , taille = 4\n"
     ]
    }
   ],
   "source": [
    "ret, taille = for_each2(square, inp)\n",
    "print(\"liste = {} , taille = {}\".format(ret, taille))"
   ]
  },
  {
   "cell_type": "markdown",
   "metadata": {
    "lang": "en"
   },
   "source": [
    "However **be careful** the number of variables must be consistent between what is in the `return` of the function and what you put to the left of the` = `during the call to function. Because if this is not the case, Python will interpret it as an error"
   ]
  },
  {
   "cell_type": "markdown",
   "metadata": {
    "slideshow": {
     "slide_type": "fragment"
    }
   },
   "source": [
    "```python \n",
    ">>> ret, taille, variable_en_trop = for_each2(square, inp)\n",
    "---------------------------------------------------------------------------\n",
    "ValueError                                Traceback (most recent call last)\n",
    "<ipython-input-52-ae3d4eb02d50> in <module>()\n",
    "----> 1 ret, taille, variable_en_trop = for_each2(square, inp)\n",
    "\n",
    "ValueError: not enough values to unpack (expected 3, got 2)\n",
    "```"
   ]
  },
  {
   "cell_type": "markdown",
   "metadata": {
    "lang": "en"
   },
   "source": [
    "In the same spirit one can wonder how to do if one wishes to define a function with arguments having default values. To do this, it suffices quite simply to give a value to the arguments in question when defining the function. For example, if you want to create an `incremente` function which by default increments a number by **1** but can also increment it by another value specified by the user, just proceed to the following way:"
   ]
  },
  {
   "cell_type": "code",
   "execution_count": 35,
   "metadata": {
    "slideshow": {
     "slide_type": "fragment"
    }
   },
   "outputs": [
    {
     "name": "stdout",
     "output_type": "stream",
     "text": [
      "2\n",
      "101\n"
     ]
    }
   ],
   "source": [
    "def incremente(x, incr=1):    \n",
    "    return x+incr\n",
    "\n",
    "a = 1\n",
    "print(incremente(a))\n",
    "print(incremente(a, 100))"
   ]
  },
  {
   "cell_type": "markdown",
   "metadata": {
    "lang": "en"
   },
   "source": [
    "**Warning:** syntax rule\n",
    "Arguments with default values ​​must necessarily be positioned last when defining the function. For example the following syntax is false:"
   ]
  },
  {
   "cell_type": "markdown",
   "metadata": {
    "slideshow": {
     "slide_type": "fragment"
    }
   },
   "source": [
    "```python\n",
    ">>> def incremente_error(incr=1, x):\n",
    ">>>     return x+incr\n",
    "    \n",
    "def incremente_error(incr=1, x):\n",
    "SyntaxError: non-default argument follows default argument\n",
    "\n",
    "```"
   ]
  },
  {
   "cell_type": "markdown",
   "metadata": {
    "lang": "en"
   },
   "source": [
    "When you have multiple arguments with default values, the rule for calling the function when you want to specify one or more arguments to a value other than its default value is as follows:\n",
    "> The values ​​of the arguments must be given in the same order as that established for the definition of the function\n",
    "**or**\n",
    "> The values ​​of the arguments must be preceded by the name of the argument followed by the symbol **=**"
   ]
  },
  {
   "cell_type": "code",
   "execution_count": 37,
   "metadata": {
    "slideshow": {
     "slide_type": "fragment"
    }
   },
   "outputs": [
    {
     "name": "stdout",
     "output_type": "stream",
     "text": [
      "20.759999999999998\n",
      "20.759999999999998\n",
      "3.752\n",
      "3.876\n"
     ]
    }
   ],
   "source": [
    "def formule(x, a=1, b=0):\n",
    "    return a*x + b\n",
    "\n",
    "# Si on specifie tous les arguments \n",
    "\n",
    "print( formule( 1.876, 10., 2.) )\n",
    "# ou \n",
    "print( formule( 1.876, a=10., b=2.) )\n",
    "\n",
    "# Specification partielle \n",
    "print( formule( 1.876, 2.) )\n",
    "print( formule( 1.876, b=2.) )\n"
   ]
  },
  {
   "cell_type": "markdown",
   "metadata": {
    "lang": "en"
   },
   "source": [
    "To finish on the subject of functions there is only one point left to cover, namely how to define functions taking a variable number of arguments. Indeed it can sometimes be useful to define such functions. To do this there is a first solution, which does not use any particular syntax and which is to define your function as taking as input a tuple in which before calling your function you will store all your arguments. This would give for example:"
   ]
  },
  {
   "cell_type": "code",
   "execution_count": 12,
   "metadata": {
    "slideshow": {
     "slide_type": "fragment"
    }
   },
   "outputs": [
    {
     "name": "stdout",
     "output_type": "stream",
     "text": [
      "La fonction est appelée avec 3 arguments qui ont pour valeurs (1, False, [1, 2, 3])\n",
      "La fonction est appelée avec 2 arguments qui ont pour valeurs (1, [1, 2, 3])\n"
     ]
    }
   ],
   "source": [
    "def fonction_arg_variable( args ):\n",
    "    print(\"La fonction est appelée avec {} arguments qui ont pour valeurs {}\".format( len(args), args))\n",
    "    \n",
    "une_variable = 1\n",
    "une_autre = False\n",
    "encore_une_autre = [1,2,3]\n",
    "func_args = (une_variable, une_autre, encore_une_autre)\n",
    "fonction_arg_variable( func_args )\n",
    "func_args_2  = (une_variable, encore_une_autre)\n",
    "fonction_arg_variable( func_args_2 )"
   ]
  },
  {
   "cell_type": "markdown",
   "metadata": {
    "lang": "en"
   },
   "source": [
    "You could then tell me that yes it does the expected job but it is still not very practical because you have to define a tuple by hand before each call of the function. And you would be right to tell me that. It is for this reason that there is in Python the syntax `* args` which will allow us to have the same behavior as before while avoiding the step of defining a tuple. If we take the previous example:"
   ]
  },
  {
   "cell_type": "code",
   "execution_count": 13,
   "metadata": {
    "slideshow": {
     "slide_type": "fragment"
    }
   },
   "outputs": [
    {
     "name": "stdout",
     "output_type": "stream",
     "text": [
      "La fonction est appelée avec 3 arguments qui ont pour valeurs (1, False, [1, 2, 3])\n",
      "La fonction est appelée avec 2 arguments qui ont pour valeurs (1, [1, 2, 3])\n"
     ]
    }
   ],
   "source": [
    "def fonction_arg_variable_star( *args ):\n",
    "    print(\"La fonction est appelée avec {} arguments qui ont pour valeurs {}\".format( len(args), args))\n",
    "    \n",
    "une_variable = 1\n",
    "une_autre = False\n",
    "encore_une_autre = [1,2,3]\n",
    "### On appelle directement la fonction avec les arguments\n",
    "### sans creer de tuple\n",
    "fonction_arg_variable_star( une_variable, une_autre, encore_une_autre )\n",
    "fonction_arg_variable_star( une_variable, encore_une_autre )"
   ]
  },
  {
   "cell_type": "markdown",
   "metadata": {
    "lang": "en"
   },
   "source": [
    "Finally there is another way to define a function with a number of variable arguments it is the syntax `** kwargs`. This second syntax solves a problem associated with `*args` which is that when calling a function defined using`* args` it is necessary to give the arguments in the sense provided in the definition of the function so that it has the expected behavior. Drawing :"
   ]
  },
  {
   "cell_type": "code",
   "execution_count": 14,
   "metadata": {
    "slideshow": {
     "slide_type": "fragment"
    }
   },
   "outputs": [
    {
     "name": "stdout",
     "output_type": "stream",
     "text": [
      "4.0\n",
      "30.0\n",
      "10.0\n"
     ]
    }
   ],
   "source": [
    "def fonction_args(exposant, *args):\n",
    "    \"\"\" La fonction est implémenté de telle sorte que :\n",
    "        exposant -> un float \n",
    "        args[1] -> un booléen \n",
    "        args[2:] -> des flottants \n",
    "    \"\"\"\n",
    "    if len(args) < 1:\n",
    "        return exposant**exposant\n",
    "    if args[0] is True:\n",
    "        s = 0\n",
    "        for x in args[1:]:\n",
    "            s += x**exposant\n",
    "        return s\n",
    "    else:\n",
    "        s=0\n",
    "        for x in args[1:]:\n",
    "            s += x**(1./exposant)\n",
    "        return s\n",
    "\n",
    "### Appel de la fonction avec uniquement argument positionnel\n",
    "print( fonction_args(2.) )\n",
    "### Appel de la fonction avec tous les arguments (dans le bon sens donc comportement correct)\n",
    "print( fonction_args(2., True, 1.,2.,3.,4.) )\n",
    "### Appel de la fonction avec tous les arguments (les deux premiers sont inversés donc comportement incorrect)\n",
    "print( fonction_args(True, 2., 1.,2.,3.,4.) )\n",
    "    "
   ]
  },
  {
   "cell_type": "markdown",
   "metadata": {
    "lang": "en"
   },
   "source": [
    "The use of the `kwargs` syntax is done as shown below:"
   ]
  },
  {
   "cell_type": "code",
   "execution_count": 15,
   "metadata": {
    "slideshow": {
     "slide_type": "fragment"
    }
   },
   "outputs": [
    {
     "name": "stdout",
     "output_type": "stream",
     "text": [
      "La fonction est appelée avec 3 arguments qui ont pour valeurs {'mon_arg_1': 1, 'mon_arg_2': False, 'mon_arg_3': [1, 2, 3]}\n",
      "kwargs est de type : <class 'dict'>\n",
      "La fonction est appelée avec 2 arguments qui ont pour valeurs {'mon_arg_1': 1, 'mon_arg_3': [1, 2, 3]}\n",
      "kwargs est de type : <class 'dict'>\n"
     ]
    }
   ],
   "source": [
    "def fonction_arg_variable_nommes( **kwargs ):\n",
    "    print(\"La fonction est appelée avec {} arguments qui ont pour valeurs {}\".format( len(kwargs), kwargs))\n",
    "    print(\"kwargs est de type : {}\".format(type(kwargs)))\n",
    "    \n",
    "une_variable = 1\n",
    "une_autre = False\n",
    "encore_une_autre = [1,2,3]\n",
    "### On appelle directement la fonction avec les arguments\n",
    "### sans creer de tuple\n",
    "fonction_arg_variable_nommes( mon_arg_1=une_variable, mon_arg_2=une_autre, mon_arg_3=encore_une_autre )\n",
    "fonction_arg_variable_nommes( mon_arg_1=une_variable, mon_arg_3=encore_une_autre )"
   ]
  },
  {
   "cell_type": "markdown",
   "metadata": {
    "lang": "en"
   },
   "source": [
    "We then see that the `kwargs` object is a dictionary whose keys are in fact the names given to the variables when the function is called."
   ]
  },
  {
   "cell_type": "markdown",
   "metadata": {
    "lang": "en"
   },
   "source": [
    "### Anonymous functions"
   ]
  },
  {
   "cell_type": "markdown",
   "metadata": {
    "lang": "en"
   },
   "source": [
    "There is in fact a second way to define functions in Python, this is what we call anonymous functions or lambda functions. The syntax for defining these anonymous functions is as follows:\n",
    "\n",
    "`` python\n",
    "my _function_ anonymous = lambda arg1, arg2, arg3: value _of_ return\n",
    "`` ``\n",
    "\n",
    "We can see that the syntax is relatively different from that of the `def` keyword. The framework for using this type of function is the definition of short function and essentially mathematical functions. We see that with this syntax we are very close to what we could write on a sheet."
   ]
  },
  {
   "cell_type": "markdown",
   "metadata": {
    "lang": "en"
   },
   "source": [
    "For example if we program the function `rms` (for Root Mean Square) of three variables which is expressed mathematically by:\n",
    "$$ rms(x,y,z) = \\left( \\frac{1}{3} \\left[ x^2 + y^2 + z^2 \\right]  \\right)^{\\frac{1}{2}} $$\n",
    "\n",
    "we can write an anonymous function:"
   ]
  },
  {
   "cell_type": "code",
   "execution_count": 16,
   "metadata": {
    "slideshow": {
     "slide_type": "fragment"
    }
   },
   "outputs": [
    {
     "name": "stdout",
     "output_type": "stream",
     "text": [
      "1.4142135623730951\n"
     ]
    }
   ],
   "source": [
    "rms = lambda x,y,z: (1./3. * (x**2+y**2+z**2) )**(1./2.)\n",
    "\n",
    "print(rms(1,2,1))\n"
   ]
  },
  {
   "cell_type": "markdown",
   "metadata": {
    "lang": "en"
   },
   "source": [
    "### The scope of variables\n",
    "\n",
    "To finish this presentation of the syntax and the rules for defining a function in Python, we will see what we call the scope of variables. First of all we can see in the following example that a variable defined in a function can only be used within the latter. In the eyes of the outside world it does not exist."
   ]
  },
  {
   "cell_type": "markdown",
   "metadata": {
    "slideshow": {
     "slide_type": "subslide"
    }
   },
   "source": [
    "```python\n",
    "\n",
    ">>> def add_2(a):\n",
    ">>>    b = 2      ### La variable b est créée dans la fonction \n",
    ">>>    c = a + b\n",
    ">>>    print( \"c = {}\".format(c) )\n",
    "    \n",
    ">>> une_valeur = 1.\n",
    "\n",
    ">>> add_2( une_valeur )\n",
    "\n",
    "c = 3.0\n",
    "\n",
    ">>> print( b )     ### Erreur : en dehors de la fonction b n'existe pas\n",
    "\n",
    "---------------------------------------------------------------------------\n",
    "NameError                                 Traceback (most recent call last)\n",
    "<ipython-input-53-7c321ed8f944> in <module>()\n",
    "      9 add_2( une_valeur )\n",
    "     10 \n",
    "---> 11 print( b )     ### Erreur : en dehors de la fonction b n'existe pas\n",
    "\n",
    "NameError: name 'b' is not defined\n",
    "\n",
    "```\n"
   ]
  },
  {
   "cell_type": "markdown",
   "metadata": {
    "lang": "en"
   },
   "source": [
    "The following example illustrates the fact that within a function, Python sees all the variables being defined in the instruction block calling the function in question."
   ]
  },
  {
   "cell_type": "code",
   "execution_count": 1,
   "metadata": {},
   "outputs": [],
   "source": [
    "def add_3(a):\n",
    "    c = a + d\n",
    "    print(\"c = {}\".format(c))\n",
    "    \n",
    "une_valeur = 1"
   ]
  },
  {
   "cell_type": "markdown",
   "metadata": {
    "slideshow": {
     "slide_type": "fragment"
    }
   },
   "source": [
    "```python \n",
    "    \n",
    ">>> add_3(une_valeur)\n",
    "\n",
    "---------------------------------------------------------------------------\n",
    "NameError                                 Traceback (most recent call last)\n",
    "<ipython-input-54-43a5a1054963> in <module>()\n",
    "      4 \n",
    "      5 une_valeur = 1\n",
    "----> 6 add_3(une_valeur)\n",
    "\n",
    "<ipython-input-54-43a5a1054963> in add_3(a)\n",
    "      1 def add_3(a):\n",
    "----> 2     c = a + d\n",
    "      3     print(\"c = {}\".format(c))\n",
    "      4 \n",
    "      5 une_valeur = 1\n",
    "\n",
    "NameError: name 'd' is not defined\n",
    "\n",
    "```"
   ]
  },
  {
   "cell_type": "markdown",
   "metadata": {
    "lang": "en"
   },
   "source": [
    "If we define the variable `d` outside the code before the call to the` add_3` function, we see that there is no longer an error when executing the code."
   ]
  },
  {
   "cell_type": "code",
   "execution_count": 2,
   "metadata": {
    "slideshow": {
     "slide_type": "fragment"
    }
   },
   "outputs": [
    {
     "name": "stdout",
     "output_type": "stream",
     "text": [
      "c = 11\n"
     ]
    }
   ],
   "source": [
    "d = 10\n",
    "add_3(une_valeur)"
   ]
  },
  {
   "cell_type": "raw",
   "metadata": {
    "lang": "fr",
    "slideshow": {
     "slide_type": "subslide"
    }
   },
   "source": [
    "En revanche Python ne peut pas modifier la valeur associée aux variables définit à l'extérieur de la fonction. Il ne les voit qu'en lecture seule. Dans l'exemple suivant on voit que le fait de vouloir modifier `e` engendre une erreur lors de l'exécution du code. "
   ]
  },
  {
   "cell_type": "markdown",
   "metadata": {
    "lang": "en"
   },
   "source": [
    "On the other hand, Python cannot modify the value associated with the variables defined outside the function. He only sees them in read-only mode. In the following example we see that the fact of wanting to modify `e` generates an error during the execution of the code."
   ]
  },
  {
   "cell_type": "markdown",
   "metadata": {
    "slideshow": {
     "slide_type": "fragment"
    }
   },
   "source": [
    "```python \n",
    "\n",
    "def add_4(a):\n",
    "    c = a + e\n",
    "    print(\"c = {}\".format(c))\n",
    "    e = 0\n",
    "\n",
    "\n",
    "e = 10\n",
    "add_4(une_valeur)\n",
    "print(e)\n",
    "\n",
    "---------------------------------------------------------------------------\n",
    "UnboundLocalError                         Traceback (most recent call last)\n",
    "<ipython-input-56-703da7c8669b> in <module>()\n",
    "      6 \n",
    "      7 e = 10\n",
    "----> 8 add_4(une_valeur)\n",
    "      9 print(e)\n",
    "\n",
    "<ipython-input-56-703da7c8669b> in add_4(a)\n",
    "      1 def add_4(a):\n",
    "----> 2     c = a + e\n",
    "      3     print(\"c = {}\".format(c))\n",
    "      4     e = 0\n",
    "      5 \n",
    "\n",
    "UnboundLocalError: local variable 'e' referenced before assignment\n",
    "\n",
    "```"
   ]
  },
  {
   "cell_type": "markdown",
   "metadata": {
    "lang": "en"
   },
   "source": [
    "> **Note:**\n",
    "> There is the keyword `global` in Python which allows to override the rules of scope of variables presented previously. We will not talk about `global` operation here because its use is strongly discouraged because it generates rough codes, very complicated to maintain and develop and especially with potentially unpredictable behavior."
   ]
  },
  {
   "cell_type": "markdown",
   "metadata": {
    "lang": "en"
   },
   "source": [
    "### Let's take it a step further and put the functions away"
   ]
  },
  {
   "cell_type": "markdown",
   "metadata": {
    "lang": "en"
   },
   "source": [
    "We have just seen how we can organize our code into functions in order to have a simple and reusable program. For small single-use codes this is quite sufficient. On the other hand you can easily imagine that for a complex program having many functions it is necessary to push the organization and the architecture of the code further.\n",
    "\n",
    "To go further in the organization of the code, the idea is to store your functions in files. In addition, the principle is to make an \"intelligent\" distribution of your functions by category. For example a file for all calculation / data processing functions, a file for all output writing functions, a file for all display and visualization functions, etc.\n",
    "\n",
    "To distribute your functions in files is very simple. All you have to do is create a file with the extension `.py` and place the definitions of your functions inside it.\n",
    "\n",
    "> **Attention:**\n",
    "> For the naming of your files there are some rules to follow. First of all, it is absolutely forbidden to use spaces as well as special characters (é, è, à,!,?, ...) in your file names.\n",
    "> Then the PEP8 convention recommends naming the files with a name starting with a lowercase letter.\n",
    "\n",
    "\n",
    "For example, let's create a file `myFunctions.py` in which we will store a number of Python functions."
   ]
  },
  {
   "cell_type": "code",
   "execution_count": 19,
   "metadata": {
    "slideshow": {
     "slide_type": "subslide"
    }
   },
   "outputs": [
    {
     "name": "stdout",
     "output_type": "stream",
     "text": [
      "Overwriting mesFonctions.py\n"
     ]
    }
   ],
   "source": [
    "%%file mesFonctions.py\n",
    "\n",
    "##### File : mesFonctions.py \n",
    "\n",
    "def fonction_calcul():\n",
    "    return None\n",
    "\n",
    "\n",
    "##### end of file test.py \n"
   ]
  },
  {
   "cell_type": "code",
   "execution_count": 20,
   "metadata": {
    "slideshow": {
     "slide_type": "fragment"
    }
   },
   "outputs": [
    {
     "name": "stdout",
     "output_type": "stream",
     "text": [
      "01_introduction_et_setup.ipynb\tMakefile\n",
      "02_variables_et_controle.ipynb\tmedia\n",
      "03_conteneurs_et_boucles.ipynb\tmesFonctions.py\n",
      "04_fonctions_et_modules.ipynb\tPart1.ipynb~\n",
      "05_classes_et_poo_base.ipynb\tPart3.ipynb\n",
      "_build\t\t\t\tPart3_nbfiles\n",
      "conf.py\t\t\t\tPart4.ipynb\n",
      "conf.py~\t\t\tPart4_nbfiles\n",
      "data\t\t\t\trise.css\n",
      "index.rst\t\t\tsphinx_ipypublish_all.ext.custom.json\n",
      "index.rst~\t\t\tXX_exercices.ipynb\n",
      "\n",
      "##### File : mesFonctions.py \n",
      "\n",
      "def fonction_calcul():\n",
      "    return None\n",
      "\n",
      "\n",
      "##### end of file test.py \n"
     ]
    }
   ],
   "source": [
    "!ls \n",
    "!cat mesFonctions.py"
   ]
  },
  {
   "cell_type": "markdown",
   "metadata": {
    "lang": "en"
   },
   "source": [
    "Now the question we can ask ourselves is how do we tell Python that there is a `myFunctions.py` file containing a set of functions that I want to use in my main program? The answer is simple, just use the keyword `import`. The `import` keyword has four modes of use:\n",
    "\n",
    "The first translates to the syntax below. In this case it is necessary to specify the name `myFunctions` each time you want to use a function contained in the file` myFonctions.py`\n",
    "```python\n",
    "import myFunctions\n",
    "...\n",
    "myFunctions.aFunctionOfFile (args)\n",
    "```\n",
    "\n",
    "The second possible syntax is directly linked to the fact that in general a developer is lazy and tries to write as few characters as possible. For this reason, the function modules can be renamed.\n",
    "\n",
    "```python\n",
    "import myFunctions as mf\n",
    "...\n",
    "mf.aFunctionOfFile (args)\n",
    "```\n",
    "\n",
    "The third syntax allows you to specify at the time of import which functions we are going to use and therefore only load these functions.\n",
    "\n",
    "```python\n",
    "from myFunctions imports oneFunctionOfFile, anotherFunction\n",
    "...\n",
    "someFunctionOfFile (args)\n",
    "...\n",
    "someOtherFunction (args2)\n",
    "```\n",
    "\n",
    "Finally, the last possible syntax is that which allows you to import all the functions contained in a file and to use them subsequently without having to put the prefix of the file back in front.\n",
    "```python\n",
    "from myFunctions import *...\n",
    "someFunctionOfFile (args)\n",
    "...\n",
    "someOtherFunction (args2)\n",
    "\n",
    "```\n",
    "\n",
    ">**Warning:** although the last mode of use may seem convenient it is a bad idea to use it. A simple example if in two files there is a function with the same name but not doing the same thing. If you use the `from ... import*` syntax, one of the two functions will be overwritten by the other and therefore inaccessible."
   ]
  },
  {
   "cell_type": "markdown",
   "metadata": {
    "lang": "en"
   },
   "source": [
    "So that the use of the key word `import` is done without problem, it is necessary to pay attention to where the file` mesFonctions.py` is located in relation to the main file, i.e. the one where the line of is written. `import`.\n",
    "\n",
    "If the two files are side by side there are no problems, the `import` will proceed without a hitch (provided that there is no syntax error in the` myFunction.py` file .\n",
    "\n",
    "On the other hand, if the `myFunctions.py` file is not located in the same folder as the` script_principal.py` file if you do nothing the `import` will fail. Indeed, we must help Python so that it finds the file `myFunctions.py` if it is not next to it. For this it is necessary to extend the `PYTHONPATH`."
   ]
  },
  {
   "cell_type": "markdown",
   "metadata": {
    "lang": "en"
   },
   "source": [
    "Under Linux or Mac OS an easy way to extend PYTHONPATH is to use environment variables. To do this, simply type the following command line in a console:\n",
    "\n",
    "``` bash\n",
    "export PYTHONPATH=/path/to/the/folder:$PYTHONPATH\n",
    "```"
   ]
  },
  {
   "cell_type": "markdown",
   "metadata": {
    "lang": "en"
   },
   "source": [
    "Another, perhaps simpler, solution is to extend your PATH within your main Python program. This is done in the following way:"
   ]
  },
  {
   "cell_type": "code",
   "execution_count": 21,
   "metadata": {
    "slideshow": {
     "slide_type": "fragment"
    }
   },
   "outputs": [],
   "source": [
    "import sys\n",
    "\n",
    "sys.path.append(\"/chemin/vers/le/dossier/\")"
   ]
  },
  {
   "cell_type": "markdown",
   "metadata": {
    "lang": "en"
   },
   "source": [
    "## Python modules"
   ]
  },
  {
   "cell_type": "markdown",
   "metadata": {
    "lang": "en"
   },
   "source": [
    "### What is a module and where can I find them?\n",
    "\n",
    "We saw in the previous part that we can distribute Python code in files. So of course people started doing that and redistributing their code on the Internet and in this way the modules were born. So a module is a set of additional features that can be imported into Python code, using the `import` command. And so over the years a huge library of Open Source modules has grown thanks in particular to a very active Python user community.\n",
    "\n",
    "Among all the available modules, it is necessary to distinguish two categories:\n",
    "*Modules from the standard Python library, this is a restricted set installed by default with Python regardless of your installation.* Other modules which are not available by default and need to be installed for you to use them."
   ]
  },
  {
   "cell_type": "markdown",
   "metadata": {
    "lang": "en"
   },
   "source": [
    "### The standard Python library\n",
    "\n",
    "The standard Python library includes a little over 100 modules of all kinds, to have the list of available modules you can go to the official site of [Python] (https://docs.python.org/3/ library / index.html). We will not of course cover all of them, especially since many of them will not be useful to us. We will only focus on the few modules of the standard library that can be useful to you in everyday life."
   ]
  },
  {
   "cell_type": "markdown",
   "metadata": {
    "lang": "en"
   },
   "source": [
    "___The math and cmath modules___\n",
    "\n",
    "The first module that will certainly be of use to you one day is the `math` module. As its name suggests, it is a module defining a number of mathematical functions. The loading of this module is of course done using the `import` command according to one of the 4 syntaxes presented in the previous part.\n",
    "\n",
    "Among the functions defined there are `sin`,` cos`, `log`,` exp` and many others. For an exhaustive list of functions contained in the `math` module you can:\n",
    "* go to the following address https://docs.python.org/3/library/math.html\n",
    "* type `help (math)` in a Python or Notebook prompt.\n",
    "`` python\n",
    "import math\n",
    "help (math)\n",
    "`` ``\n",
    "The `math` module also defines a number of mathematical constant:"
   ]
  },
  {
   "cell_type": "code",
   "execution_count": 22,
   "metadata": {
    "slideshow": {
     "slide_type": "fragment"
    }
   },
   "outputs": [
    {
     "name": "stdout",
     "output_type": "stream",
     "text": [
      "math.pi : 3.141592653589793\n",
      "math.e  : 2.718281828459045\n"
     ]
    }
   ],
   "source": [
    "import math\n",
    "print(\"math.pi : {}\".format(math.pi))\n",
    "print(\"math.e  : {}\".format(math.e))"
   ]
  },
  {
   "cell_type": "markdown",
   "metadata": {
    "lang": "en"
   },
   "source": [
    "There is a variant of the `math` module dedicated to the treatment of complex numbers, it is the` cmath` module."
   ]
  },
  {
   "cell_type": "markdown",
   "metadata": {
    "lang": "en"
   },
   "source": [
    "___The os module___\n",
    "\n",
    "The `os` module allows you to interact with the computer's operating system. The great thing about this module is that it has been designed so that no matter what operating system you are using (Windows, Mac OS or Linux) the functions of the module are the same (although at a lower level this is not the case at all). This makes it possible in particular to design programs that are cross-platform. Among the useful functions of the module there are among others:\n",
    "\n",
    "*`os.listdir` which allows to list all the files / folders of a directory.* `os.isdir` which allows to test if the given path corresponds to a folder or not.\n",
    "*`os.mkdir` which allows to create a folder* and many others ..."
   ]
  },
  {
   "cell_type": "markdown",
   "metadata": {
    "lang": "en"
   },
   "source": [
    "Among the useful features available in the `os` module there are those relating to path management. To use these features you have to load the `os.path` submodule. Why bother with file paths you will tell me. This is always for reasons of compatibility between operating systems. Indeed on Linux and Mac OS systems (based on Linux) the file / folder paths are of the form `/here/a/path`. While on Windows the paths are of the form `C:\\un\\path\\windows`. The most used function of the `os.path` module is the` join` function. Below is an example of use."
   ]
  },
  {
   "cell_type": "code",
   "execution_count": 23,
   "metadata": {
    "lang": "fr",
    "slideshow": {
     "slide_type": "fragment"
    }
   },
   "outputs": [
    {
     "name": "stdout",
     "output_type": "stream",
     "text": [
      "partie_1/partie_2\n",
      "/un/chemin/vers\n",
      "un_fichier.txt\n"
     ]
    }
   ],
   "source": [
    "import os.path\n",
    "\n",
    "un_chemin = os.path.join(\"partie_1\", \"partie_2\")\n",
    "\n",
    "print( un_chemin )\n",
    "\n",
    "chemin, fichier = os.path.split(\"/un/chemin/vers/un_fichier.txt\")\n",
    "print(chemin)\n",
    "print(fichier)\n"
   ]
  },
  {
   "cell_type": "markdown",
   "metadata": {
    "lang": "en"
   },
   "source": [
    "### And many other things\n",
    "\n",
    "This is only a very brief review of all the possibilities offered by the standard Python library. I strongly urge you, if you are obviously curious, to take a look at [https://docs.python.org/3/library/ Danemark(https://docs.python.org/3/library/) for have a more global vision of the possibilities offered by language. You will find, among other things, modules for graphical interfaces, for setting up server tcp, managing program input arguments, etc."
   ]
  }
 ],
 "metadata": {
  "celltoolbar": "Slideshow",
  "kernelspec": {
   "display_name": "Python 3 (ipykernel)",
   "language": "python",
   "name": "python3"
  },
  "language_info": {
   "codemirror_mode": {
    "name": "ipython",
    "version": 3
   },
   "file_extension": ".py",
   "mimetype": "text/x-python",
   "name": "python",
   "nbconvert_exporter": "python",
   "pygments_lexer": "ipython3",
   "version": "3.9.6"
  },
  "nbTranslate": {
   "displayLangs": [],
   "hotkey": "alt-t",
   "langInMainMenu": true,
   "sourceLang": "fr",
   "targetLang": "en",
   "useGoogleTranslate": true
  },
  "rise": {
   "autolaunch": true,
   "slideNumber": "c/t",
   "theme": "moon",
   "transition": "slide"
  }
 },
 "nbformat": 4,
 "nbformat_minor": 2
}
