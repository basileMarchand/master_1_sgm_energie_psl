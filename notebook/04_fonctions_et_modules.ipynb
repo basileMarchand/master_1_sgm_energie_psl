{
 "cells": [
  {
   "cell_type": "markdown",
   "metadata": {
    "slideshow": {
     "slide_type": "slide"
    }
   },
   "source": [
    "# Fonctions et modules\n",
    "\n",
    "**Basile Marchand (Centre des Matériaux - Mines ParisTech/CNRS/Université PSL)**"
   ]
  },
  {
   "cell_type": "markdown",
   "metadata": {
    "slideshow": {
     "slide_type": "slide"
    }
   },
   "source": [
    "## Organisons un peu tout ça !"
   ]
  },
  {
   "cell_type": "markdown",
   "metadata": {
    "slideshow": {
     "slide_type": "subslide"
    }
   },
   "source": [
    "### Ranger son code dans des fonctions"
   ]
  },
  {
   "cell_type": "markdown",
   "metadata": {
    "slideshow": {
     "slide_type": "fragment"
    }
   },
   "source": [
    "Dans les parties précédentes nous avons donc vu comment manipuler les objets de base Python, comment répéter des opérations, etc ... Cependant vous l'avez vu avec les différents exercices (je suppose) vos fichiers Python ont vitre tendances à devenir un peu brouillons et on peut rapidement s'emmeler les pinceaux. De plus comme nous l'avons vu dans la partie sur les boucles, une grosse part d'un programme informatique consiste à répéter un grand nombre de fois une série d'instruction. L'idéal afin d'avoir un code clair et facilement exploitable est de répartir les différentes série d'instruction en fonctions et c'est ce que nous allons faire."
   ]
  },
  {
   "cell_type": "markdown",
   "metadata": {
    "slideshow": {
     "slide_type": "subslide"
    }
   },
   "source": [
    "### Qu'est ce qu'une fonction ?\n",
    "\n",
    "En mathématique on définit une fonction $f$ comme étant une application qui à une entrée $x$ vivant dans un certain espace $x\\in E$ associe une sortie $y$ vivant dans un certain espace $y\\in V$. \n",
    "\n",
    "$$ x \\rightarrow y = f(x) $$\n",
    "\n",
    "Et bien en informatique c'est la même chose, la seule différence se situe au niveau du vocabulaire. En effet on peut définir une fonction `f` en informatique comme étant une instruction qui a un argument `x` d'un certain type (int, float, list, dict, ...) associe une sortie `y` d'un certain type.   \n",
    "\n",
    "```python\n",
    "y = f(x)\n",
    "```\n",
    "\n",
    "De la même manière, tout comme il existe en mathématique des fonctions de plusieurs variables les fonctions informatiques peuvent elles aussi prendre plusieurs arguments en entrée. \n",
    "\n",
    "```python\n",
    "y = f(x,y,z)\n",
    "```\n",
    "\n"
   ]
  },
  {
   "cell_type": "markdown",
   "metadata": {
    "slideshow": {
     "slide_type": "subslide"
    }
   },
   "source": [
    "Comment définit-on des fonctions en Python ? C'est tout simple cela se fait à l'aide de l'instruction `def`. La syntaxe est la suivante : \n",
    "\n",
    "```python\n",
    "def nom_de_ma_function(arg1, arg2, ..., argN):\n",
    "    instruction_1\n",
    "    instruction_2\n",
    "    ret = ...\n",
    "    return ret\n",
    "```\n",
    "\n",
    "Par exemple si on veux définir la fonction `somme` prenant en entrée une liste et retournant la somme de ses éléments on peut écrire : \n",
    "\n"
   ]
  },
  {
   "cell_type": "code",
   "execution_count": 1,
   "metadata": {
    "slideshow": {
     "slide_type": "fragment"
    }
   },
   "outputs": [
    {
     "name": "stdout",
     "output_type": "stream",
     "text": [
      "la_somme = 45\n"
     ]
    }
   ],
   "source": [
    "\n",
    "## Définition de la fonction \n",
    "def somme(ma_liste):\n",
    "    s = 0\n",
    "    for x in ma_liste:\n",
    "        s += x\n",
    "    return s\n",
    "\n",
    "une_liste = [ x for x in range(10) ]\n",
    "la_somme = somme( une_liste )   ## Appel de la fonction \n",
    "print(\"la_somme = {}\".format(la_somme))"
   ]
  },
  {
   "cell_type": "markdown",
   "metadata": {
    "slideshow": {
     "slide_type": "subslide"
    }
   },
   "source": [
    "__Plusieurs remarques :__\n",
    "* Il faut bien distinguer la phase de *définition de la fonction* (partie du code où l'on définit la fonction en spécifiant la série d'instruction que cette dernière sera amenée à réaliser) de la phase *d'appel de la fonction* (partie du code où l'on exécute la série d'instruction contenue dans la fonction). \n",
    "* Le nom de l'argument `ma_liste` dans la définition de la fonction est complètement indépendant du nom de la variable que je donne lorsque j'appelle la fonction. Le nom `ma_liste` ne me sert que d'identifieur pour manipuler ma variable d'entrée au sein de la fonction\n"
   ]
  },
  {
   "cell_type": "markdown",
   "metadata": {
    "slideshow": {
     "slide_type": "subslide"
    }
   },
   "source": [
    "L'écriture d'une fonction de plusieurs variables suit la même logique que précédemment. Par exemple si l'on souhaite implémenter une fonction `moyenne_ponderee` on peut procéder de la manière suivante : "
   ]
  },
  {
   "cell_type": "code",
   "execution_count": 2,
   "metadata": {
    "slideshow": {
     "slide_type": "fragment"
    }
   },
   "outputs": [
    {
     "name": "stdout",
     "output_type": "stream",
     "text": [
      "La moyenne pondérée est : 13.625\n"
     ]
    }
   ],
   "source": [
    "def moyenne_ponderee( valeurs, ponderations ):\n",
    "    s = 0\n",
    "    s_w = 0\n",
    "    for x, w in zip(valeurs, ponderations):\n",
    "        s += w*x\n",
    "        s_w += w\n",
    "    return s/s_w\n",
    "\n",
    "notes = [12,9,17,15]\n",
    "poids = [1, 2, 2, 3]\n",
    "\n",
    "s = moyenne_ponderee(notes, poids)\n",
    "print(\"La moyenne pondérée est : {}\".format(s))"
   ]
  },
  {
   "cell_type": "markdown",
   "metadata": {
    "slideshow": {
     "slide_type": "subslide"
    }
   },
   "source": [
    "### Fonction et variable la même chose ou pas ? \n",
    "\n"
   ]
  },
  {
   "cell_type": "code",
   "execution_count": 3,
   "metadata": {
    "slideshow": {
     "slide_type": "fragment"
    }
   },
   "outputs": [
    {
     "name": "stdout",
     "output_type": "stream",
     "text": [
      "La moyenne pondérée est : 13.625\n"
     ]
    }
   ],
   "source": [
    "mean_weight = moyenne_ponderee\n",
    "s_bis = mean_weight(notes, poids)\n",
    "print(\"La moyenne pondérée est : {}\".format(s_bis))\n",
    "\n"
   ]
  },
  {
   "cell_type": "markdown",
   "metadata": {
    "slideshow": {
     "slide_type": "fragment"
    }
   },
   "source": [
    "On obtient bien le même résultat car si on regarde l'adresse mémoire des functions et bien ce sont les mêmes dans les deux cas. "
   ]
  },
  {
   "cell_type": "code",
   "execution_count": 4,
   "metadata": {
    "slideshow": {
     "slide_type": "fragment"
    }
   },
   "outputs": [
    {
     "name": "stdout",
     "output_type": "stream",
     "text": [
      "Adresse de moyenne_ponderee : 0x7f6f946f28c0\n",
      "Adresse de mean_weight : 0x7f6f946f28c0\n",
      "\n"
     ]
    }
   ],
   "source": [
    "print(\"\"\"Adresse de moyenne_ponderee : {}\n",
    "Adresse de mean_weight : {}\n",
    "\"\"\".format(hex(id(moyenne_ponderee)), hex(id(mean_weight))))"
   ]
  },
  {
   "cell_type": "markdown",
   "metadata": {
    "slideshow": {
     "slide_type": "subslide"
    }
   },
   "source": [
    "Ainsi fonctions et variables ont des aspects communs, cela implique donc que l'on peut également passer une fonction en argument d'une autre fonction !! "
   ]
  },
  {
   "cell_type": "code",
   "execution_count": 8,
   "metadata": {},
   "outputs": [
    {
     "name": "stdout",
     "output_type": "stream",
     "text": [
      "[0.0, 1.0, 1.4142135623730951, 1.7320508075688772, 2.0, 2.23606797749979, 2.449489742783178, 2.6457513110645907, 2.8284271247461903, 3.0]\n",
      "[0.0, 1.0, 2.0000000000000004, 2.9999999999999996, 4.0, 5.000000000000001, 5.999999999999999, 7.000000000000001, 8.000000000000002, 9.0]\n"
     ]
    }
   ],
   "source": [
    "def square(x):\n",
    "    return x*x\n",
    "\n",
    "\n",
    "def for_each(func, iterable):\n",
    "    res = []\n",
    "    for x in iterable:\n",
    "        res.append( func(x) )\n",
    "\n",
    "    return res\n",
    "\n",
    "inp = [ x**0.5 for x in range(10) ]\n",
    "inp2 = for_each( square, inp )\n",
    "print(inp)\n",
    "print(inp2)"
   ]
  },
  {
   "cell_type": "markdown",
   "metadata": {
    "slideshow": {
     "slide_type": "subslide"
    }
   },
   "source": [
    "Une question que vous vous poser surement, ou pas, est comment faire si je veux que la fonction que je définis retourne plusieurs variables en sortie ? La réponse est simple il suffit de retourner un tuple dans lequel on stocke les différentes variables que l'on veut récupérer. Par exemple si dans l'exemple précédent je souhaite récupérer la contrainte et la déformation il suffit de modifier la fonction `calcul_stress` de la manière suivante : "
   ]
  },
  {
   "cell_type": "code",
   "execution_count": 9,
   "metadata": {
    "slideshow": {
     "slide_type": "fragment"
    }
   },
   "outputs": [
    {
     "name": "stdout",
     "output_type": "stream",
     "text": [
      "[0.0, 1.0, 2.0000000000000004, 2.9999999999999996]\n",
      "4\n"
     ]
    }
   ],
   "source": [
    "def for_each2(func, iterable):\n",
    "    res = []\n",
    "    for x in iterable:\n",
    "        res.append( func(x) )\n",
    "\n",
    "    return res, len(res)\n",
    "\n",
    "inp = [ x**0.5 for x in range(4) ]\n",
    "out = for_each2( square, inp )\n",
    "print(out[0])\n",
    "print(out[1])"
   ]
  },
  {
   "cell_type": "markdown",
   "metadata": {
    "slideshow": {
     "slide_type": "subslide"
    }
   },
   "source": [
    "Là vous avez envie de me dire ce n'est pas forcément pratique de devoir manipuler un tuple ensuite. Et je ne pourrai qu'être d'accord avec vous et même ajouter que cela nuit à la lisibilité du code. \n",
    "Mais pas d'inquiétude parce que Python est plutôt bien pensé. En effet vous pouvez automatiquement éclater un tuple en plusieurs variables et ce dès la sortie de la fonction. Il suffit d'appeler la fonction de la manière suivante :"
   ]
  },
  {
   "cell_type": "code",
   "execution_count": 10,
   "metadata": {
    "slideshow": {
     "slide_type": "fragment"
    }
   },
   "outputs": [
    {
     "name": "stdout",
     "output_type": "stream",
     "text": [
      "liste = [0.0, 1.0, 2.0000000000000004, 2.9999999999999996] , taille = 4\n"
     ]
    }
   ],
   "source": [
    "ret, taille = for_each2(square, inp)\n",
    "print(\"liste = {} , taille = {}\".format(ret, taille))"
   ]
  },
  {
   "cell_type": "markdown",
   "metadata": {
    "slideshow": {
     "slide_type": "fragment"
    }
   },
   "source": [
    "Cependant **attention** il faut que le nombre de variable soit cohérent entre ce qu'il y a dans le `return` de la fonction et ce que vous mettez à gauche du `=` lors de l'appel à la fonction. Car si ce n'est pas le cas, Python interpretera cela comme une erreur"
   ]
  },
  {
   "cell_type": "markdown",
   "metadata": {
    "slideshow": {
     "slide_type": "fragment"
    }
   },
   "source": [
    "```python \n",
    ">>> ret, taille, variable_en_trop = for_each2(square, inp)\n",
    "---------------------------------------------------------------------------\n",
    "ValueError                                Traceback (most recent call last)\n",
    "<ipython-input-52-ae3d4eb02d50> in <module>()\n",
    "----> 1 ret, taille, variable_en_trop = for_each2(square, inp)\n",
    "\n",
    "ValueError: not enough values to unpack (expected 3, got 2)\n",
    "```"
   ]
  },
  {
   "cell_type": "markdown",
   "metadata": {
    "slideshow": {
     "slide_type": "subslide"
    }
   },
   "source": [
    "Dans le même esprit on peut se demander comment faire si l'on souhaite définir une fonction avec des arguments ayant des valeurs par défauts. Pour cela il suffit tout simplement de donner une valeur aux arguments en questions lors de la définition de la fonction. Par exemple si l'on souhaite créé une fonction `incremente` qui par défaut incrémente de **1** un nombre mais peu également l'incrémenter d'une autre valeur spécifiée par l'utilisateur il suffit de procéder de la manière suivante : "
   ]
  },
  {
   "cell_type": "code",
   "execution_count": 6,
   "metadata": {
    "slideshow": {
     "slide_type": "fragment"
    }
   },
   "outputs": [
    {
     "name": "stdout",
     "output_type": "stream",
     "text": [
      "2\n",
      "101\n"
     ]
    }
   ],
   "source": [
    "def incremente(x, incr=1):\n",
    "    return x+incr\n",
    "\n",
    "a = 1\n",
    "print(incremente(a))\n",
    "print(incremente(a, 100))"
   ]
  },
  {
   "cell_type": "markdown",
   "metadata": {
    "slideshow": {
     "slide_type": "fragment"
    }
   },
   "source": [
    "**Attention :** règle de syntaxe\n",
    "Les arguments ayant des valeurs par défaut doivent nécessairement être positionnés en dernier lors de la définition de la fonction. Par exemple la syntaxe suivante est fausse : "
   ]
  },
  {
   "cell_type": "markdown",
   "metadata": {
    "slideshow": {
     "slide_type": "fragment"
    }
   },
   "source": [
    "```python\n",
    ">>> def incremente_error(incr=1, x):\n",
    ">>>     return x+incr\n",
    "    \n",
    "def incremente_error(incr=1, x):\n",
    "SyntaxError: non-default argument follows default argument\n",
    "\n",
    "```"
   ]
  },
  {
   "cell_type": "markdown",
   "metadata": {
    "slideshow": {
     "slide_type": "subslide"
    }
   },
   "source": [
    "Lorsque vous avez plusieurs arguments ayant des valeurs par défauts, la règle pour l'appel de la fonction lorsque vous souhaitez spécifier un ou plusieurs arguments à une valeur autre ue sa valeur par défaut est la suivante  :\n",
    "> Les valeurs des arguments doivent être données dans le même ordre que celui établi pour la définition de la fonction   \n",
    "**ou**  \n",
    "> Les valeurs des arguments doivent être précédées du nom de l'argument suivi du symbole **=**"
   ]
  },
  {
   "cell_type": "code",
   "execution_count": 7,
   "metadata": {
    "slideshow": {
     "slide_type": "fragment"
    }
   },
   "outputs": [
    {
     "name": "stdout",
     "output_type": "stream",
     "text": [
      "20.759999999999998\n",
      "20.759999999999998\n",
      "3.876\n"
     ]
    }
   ],
   "source": [
    "def formule(x, a=1, b=0):\n",
    "    return a*x + b\n",
    "\n",
    "# Si on specifie tous les arguments \n",
    "\n",
    "print( formule( 1.876, 10., 2.) )\n",
    "# ou \n",
    "print( formule( 1.876, a=10., b=2.) )\n",
    "\n",
    "# Specification partielle \n",
    "print( formule( 1.876, b=2.) )\n"
   ]
  },
  {
   "cell_type": "markdown",
   "metadata": {
    "slideshow": {
     "slide_type": "subslide"
    }
   },
   "source": [
    "Pour finir au sujet des fonctions il ne reste qu'un seul point à aborder, à savoir comment définir des fonctions prenant un nombre d'argument variable. En effet il peut être utile parfois de définir de telle fonctions. Pour faire cela il existe une première solution, qui ne fait appel à aucune syntaxe particulière et qui est de définir votre fonction comme prenant en entrée un tuple dans lequel avant l'appel de votre fonction vous rangerez tous vos argument. Cela donnerait par exemple : "
   ]
  },
  {
   "cell_type": "code",
   "execution_count": 8,
   "metadata": {
    "slideshow": {
     "slide_type": "fragment"
    }
   },
   "outputs": [
    {
     "name": "stdout",
     "output_type": "stream",
     "text": [
      "La fonction est appelée avec 3 arguments qui ont pour valeurs (1, False, [1, 2, 3])\n",
      "La fonction est appelée avec 2 arguments qui ont pour valeurs (1, [1, 2, 3])\n"
     ]
    }
   ],
   "source": [
    "def fonction_arg_variable( args ):\n",
    "    print(\"La fonction est appelée avec {} arguments qui ont pour valeurs {}\".format( len(args), args))\n",
    "    \n",
    "une_variable = 1\n",
    "une_autre = False\n",
    "encore_une_autre = [1,2,3]\n",
    "func_args = (une_variable, une_autre, encore_une_autre)\n",
    "fonction_arg_variable( func_args )\n",
    "func_args_2  = (une_variable, encore_une_autre)\n",
    "fonction_arg_variable( func_args_2 )"
   ]
  },
  {
   "cell_type": "markdown",
   "metadata": {
    "slideshow": {
     "slide_type": "subslide"
    }
   },
   "source": [
    "Vous pourriez alors me dire que oui ça fait le travail attendu mais ce n'est quand même pas très pratique car il faut définir à la main un tuple avant chaque appel de la fonction. Et vous auriez raison de me dire ça. C'est pour cette raison qu'il existe dans la Python la syntaxe `*args` qui va nous permettre d'avoir le même comportement que précédemment tout en se passant de l'étape de définition d'un tuple. Si on reprends l'exemple précédent : "
   ]
  },
  {
   "cell_type": "code",
   "execution_count": 9,
   "metadata": {
    "slideshow": {
     "slide_type": "fragment"
    }
   },
   "outputs": [
    {
     "name": "stdout",
     "output_type": "stream",
     "text": [
      "La fonction est appelée avec 3 arguments qui ont pour valeurs (1, False, [1, 2, 3])\n",
      "La fonction est appelée avec 2 arguments qui ont pour valeurs (1, [1, 2, 3])\n"
     ]
    }
   ],
   "source": [
    "def fonction_arg_variable_star( *args ):\n",
    "    print(\"La fonction est appelée avec {} arguments qui ont pour valeurs {}\".format( len(args), args))\n",
    "    \n",
    "une_variable = 1\n",
    "une_autre = False\n",
    "encore_une_autre = [1,2,3]\n",
    "### On appelle directement la fonction avec les arguments\n",
    "### sans creer de tuple\n",
    "fonction_arg_variable_star( une_variable, une_autre, encore_une_autre )\n",
    "fonction_arg_variable_star( une_variable, encore_une_autre )"
   ]
  },
  {
   "cell_type": "markdown",
   "metadata": {
    "slideshow": {
     "slide_type": "subslide"
    }
   },
   "source": [
    "Enfin il existe un autre moyen de définir une fonction avec un nombre d'arguments variables il s'agit de la syntaxe `**kwargs`. Cette seconde syntaxe permet de résoudre un problème associé à `*args` qui est que lors de l'appel d'une fonction définit en utilisant `*args` il faut nécessaire donner les arguments dans le sens prévu dans la définition de la fonction pour que cette dernière ait le comportement attendu. Illustration : "
   ]
  },
  {
   "cell_type": "code",
   "execution_count": 10,
   "metadata": {
    "slideshow": {
     "slide_type": "fragment"
    }
   },
   "outputs": [
    {
     "name": "stdout",
     "output_type": "stream",
     "text": [
      "4.0\n",
      "30.0\n",
      "10.0\n"
     ]
    }
   ],
   "source": [
    "def fonction_args(exposant, *args):\n",
    "    \"\"\" La fonction est implémenté de telle sorte que :\n",
    "        exposant -> un float \n",
    "        args[1] -> un booléen \n",
    "        args[2:] -> des flottants \n",
    "    \"\"\"\n",
    "    if len(args) < 1:\n",
    "        return exposant**exposant\n",
    "    if args[0] is True:\n",
    "        s = 0\n",
    "        for x in args[1:]:\n",
    "            s += x**exposant\n",
    "        return s\n",
    "    else:\n",
    "        s=0\n",
    "        for x in args[1:]:\n",
    "            s += x**(1./exposant)\n",
    "        return s\n",
    "\n",
    "### Appel de la fonction avec uniquement argument positionnel\n",
    "print( fonction_args(2.) )\n",
    "### Appel de la fonction avec tous les arguments (dans le bon sens donc comportement correct)\n",
    "print( fonction_args(2., True, 1.,2.,3.,4.) )\n",
    "### Appel de la fonction avec tous les arguments (les deux premiers sont inversés donc comportement incorrect)\n",
    "print( fonction_args(True, 2., 1.,2.,3.,4.) )\n",
    "    "
   ]
  },
  {
   "cell_type": "markdown",
   "metadata": {
    "slideshow": {
     "slide_type": "subslide"
    }
   },
   "source": [
    "L'utilisation de la syntaxe `kwargs` se fait comme illustré ci-dessous : "
   ]
  },
  {
   "cell_type": "code",
   "execution_count": 11,
   "metadata": {
    "slideshow": {
     "slide_type": "fragment"
    }
   },
   "outputs": [
    {
     "name": "stdout",
     "output_type": "stream",
     "text": [
      "La fonction est appelée avec 3 arguments qui ont pour valeurs {'mon_arg_1': 1, 'mon_arg_2': False, 'mon_arg_3': [1, 2, 3]}\n",
      "kwargs est de type : <class 'dict'>\n",
      "La fonction est appelée avec 2 arguments qui ont pour valeurs {'mon_arg_1': 1, 'mon_arg_3': [1, 2, 3]}\n",
      "kwargs est de type : <class 'dict'>\n"
     ]
    }
   ],
   "source": [
    "def fonction_arg_variable_nommes( **kwargs ):\n",
    "    print(\"La fonction est appelée avec {} arguments qui ont pour valeurs {}\".format( len(kwargs), kwargs))\n",
    "    print(\"kwargs est de type : {}\".format(type(kwargs)))\n",
    "    \n",
    "une_variable = 1\n",
    "une_autre = False\n",
    "encore_une_autre = [1,2,3]\n",
    "### On appelle directement la fonction avec les arguments\n",
    "### sans creer de tuple\n",
    "fonction_arg_variable_nommes( mon_arg_1=une_variable, mon_arg_2=une_autre, mon_arg_3=encore_une_autre )\n",
    "fonction_arg_variable_nommes( mon_arg_1=une_variable, mon_arg_3=encore_une_autre )"
   ]
  },
  {
   "cell_type": "markdown",
   "metadata": {
    "slideshow": {
     "slide_type": "fragment"
    }
   },
   "source": [
    "On constate alors que l'object `kwargs` est un dictionnaire dont les clés sont en fait les noms données aux variables lors de l'appel de la fonction. "
   ]
  },
  {
   "cell_type": "markdown",
   "metadata": {
    "slideshow": {
     "slide_type": "subslide"
    }
   },
   "source": [
    "### Les fonctions anonymes "
   ]
  },
  {
   "cell_type": "markdown",
   "metadata": {
    "slideshow": {
     "slide_type": "fragment"
    }
   },
   "source": [
    "Il existe dans les faits une seconde manière de définir des fonctions en Python, c'est ce que l'on appel les fonctions anonymes ou lambda fonctions. La syntaxe de définition de ces fonctions anonymes est la suivante : \n",
    "\n",
    "```python\n",
    "ma_fonction_anonyme = lambda arg1, arg2, arg3: valeur_de_retour\n",
    "```\n",
    "\n",
    "On constate que la syntaxe est relativement différente de celle du mot clé `def`. Le cadre d'utilisation de ce type de fonction est la définition de fonction courte et essentiellement des fonctions mathématiques. On constate en effet qu'avec cette syntaxe on est très proche de ce que l'on pourrait écrire sur une feuille. \n"
   ]
  },
  {
   "cell_type": "markdown",
   "metadata": {
    "slideshow": {
     "slide_type": "subslide"
    }
   },
   "source": [
    "Par exemple si l'on programme la fonction `rms` (pour Root Mean Square) de trois variables qui s'exprime mathématiquement par :\n",
    "$$ rms(x,y,z) = \\left( \\frac{1}{3} \\left[ x^2 + y^2 + z^2 \\right]  \\right)^{\\frac{1}{2}} $$\n",
    "\n",
    "on peut écrire une fonction anonyme : "
   ]
  },
  {
   "cell_type": "code",
   "execution_count": 12,
   "metadata": {
    "slideshow": {
     "slide_type": "fragment"
    }
   },
   "outputs": [
    {
     "name": "stdout",
     "output_type": "stream",
     "text": [
      "1.4142135623730951\n"
     ]
    }
   ],
   "source": [
    "rms = lambda x,y,z: (1./3. * (x**2+y**2+z**2) )**(1./2.)\n",
    "\n",
    "print(rms(1,2,1))\n"
   ]
  },
  {
   "cell_type": "markdown",
   "metadata": {
    "slideshow": {
     "slide_type": "subslide"
    }
   },
   "source": [
    "### La portée des variables \n",
    "\n",
    "Pour finir cette présentation de la syntaxe et des règles de définition d'une fonction dans Python nous allons voir ce que l'on appel la portée des variables. Tout d'abord nous pouvons voir dans l'exemple qui suit qu'une variable définit dans une fonction n'est utilisable qu'au sein de cette dernière. Aux yeux du monde extérieur elle n'existe pas. "
   ]
  },
  {
   "cell_type": "markdown",
   "metadata": {
    "slideshow": {
     "slide_type": "subslide"
    }
   },
   "source": [
    "```python\n",
    "\n",
    ">>> def add_2(a):\n",
    ">>>    b = 2      ### La variable b est créée dans la fonction \n",
    ">>>    c = a + b\n",
    ">>>    print( \"c = {}\".format(c) )\n",
    "    \n",
    ">>> une_valeur = 1.\n",
    "\n",
    ">>> add_2( une_valeur )\n",
    "\n",
    "c = 3.0\n",
    "\n",
    ">>> print( b )     ### Erreur : en dehors de la fonction b n'existe pas\n",
    "\n",
    "---------------------------------------------------------------------------\n",
    "NameError                                 Traceback (most recent call last)\n",
    "<ipython-input-53-7c321ed8f944> in <module>()\n",
    "      9 add_2( une_valeur )\n",
    "     10 \n",
    "---> 11 print( b )     ### Erreur : en dehors de la fonction b n'existe pas\n",
    "\n",
    "NameError: name 'b' is not defined\n",
    "\n",
    "```\n"
   ]
  },
  {
   "cell_type": "markdown",
   "metadata": {
    "slideshow": {
     "slide_type": "subslide"
    }
   },
   "source": [
    "L'exemple suivant permet d'illustrer le fait qu'au sein d'une fonction, Python voit l'ensemble des variables étant définit dans le bloc d'instruction appelant la fonction en question."
   ]
  },
  {
   "cell_type": "code",
   "execution_count": 13,
   "metadata": {},
   "outputs": [],
   "source": [
    "def add_3(a):\n",
    "    c = a + d\n",
    "    print(\"c = {}\".format(c))\n",
    "    \n",
    "une_valeur = 1"
   ]
  },
  {
   "cell_type": "markdown",
   "metadata": {
    "slideshow": {
     "slide_type": "fragment"
    }
   },
   "source": [
    "```python \n",
    "    \n",
    ">>> add_3(une_valeur)\n",
    "\n",
    "---------------------------------------------------------------------------\n",
    "NameError                                 Traceback (most recent call last)\n",
    "<ipython-input-54-43a5a1054963> in <module>()\n",
    "      4 \n",
    "      5 une_valeur = 1\n",
    "----> 6 add_3(une_valeur)\n",
    "\n",
    "<ipython-input-54-43a5a1054963> in add_3(a)\n",
    "      1 def add_3(a):\n",
    "----> 2     c = a + d\n",
    "      3     print(\"c = {}\".format(c))\n",
    "      4 \n",
    "      5 une_valeur = 1\n",
    "\n",
    "NameError: name 'd' is not defined\n",
    "\n",
    "```"
   ]
  },
  {
   "cell_type": "markdown",
   "metadata": {
    "slideshow": {
     "slide_type": "subslide"
    }
   },
   "source": [
    "Si l'on définit en dehors du code la variable `d` avant l'appel à la fonction `add_3` on constate alors qu'il n'y a plus d'erreur lors de l'éxécution du code. "
   ]
  },
  {
   "cell_type": "code",
   "execution_count": 14,
   "metadata": {
    "slideshow": {
     "slide_type": "fragment"
    }
   },
   "outputs": [
    {
     "name": "stdout",
     "output_type": "stream",
     "text": [
      "c = 11\n"
     ]
    }
   ],
   "source": [
    "d = 10\n",
    "add_3(une_valeur)"
   ]
  },
  {
   "cell_type": "raw",
   "metadata": {
    "slideshow": {
     "slide_type": "subslide"
    }
   },
   "source": [
    "En revanche Python ne peut pas modifier la valeur associée aux variables définit à l'extérieur de la fonction. Il ne les voit qu'en lecture seule. Dans l'exemple suivant on voit que le fait de vouloir modifier `e` engendre une erreur lors de l'exécution du code. "
   ]
  },
  {
   "cell_type": "markdown",
   "metadata": {
    "slideshow": {
     "slide_type": "fragment"
    }
   },
   "source": [
    "```python \n",
    "\n",
    "def add_4(a):\n",
    "    c = a + e\n",
    "    print(\"c = {}\".format(c))\n",
    "    e = 0\n",
    "\n",
    "\n",
    "e = 10\n",
    "add_4(une_valeur)\n",
    "print(e)\n",
    "\n",
    "---------------------------------------------------------------------------\n",
    "UnboundLocalError                         Traceback (most recent call last)\n",
    "<ipython-input-56-703da7c8669b> in <module>()\n",
    "      6 \n",
    "      7 e = 10\n",
    "----> 8 add_4(une_valeur)\n",
    "      9 print(e)\n",
    "\n",
    "<ipython-input-56-703da7c8669b> in add_4(a)\n",
    "      1 def add_4(a):\n",
    "----> 2     c = a + e\n",
    "      3     print(\"c = {}\".format(c))\n",
    "      4     e = 0\n",
    "      5 \n",
    "\n",
    "UnboundLocalError: local variable 'e' referenced before assignment\n",
    "\n",
    "```"
   ]
  },
  {
   "cell_type": "markdown",
   "metadata": {
    "slideshow": {
     "slide_type": "subslide"
    }
   },
   "source": [
    "> **Remarque :** \n",
    "> Il existe le mot clé `global` en Python qui permet d'outrepasser les règles de portée des variables présentées précédemment. On ne parlera pas ici du fonctionnement `global` car son utilisation est très fortement déconseillée car cela engendre des codes brouillons, très compliqués à maintenir et faire évoluer et surtout avec un comportement potentiellement imprévisible. "
   ]
  },
  {
   "cell_type": "markdown",
   "metadata": {
    "slideshow": {
     "slide_type": "subslide"
    }
   },
   "source": [
    "### Poussons plus loin et rangeons les fonctions"
   ]
  },
  {
   "cell_type": "markdown",
   "metadata": {
    "slideshow": {
     "slide_type": "fragment"
    }
   },
   "source": [
    "Nous venons donc de voir comment on peut organiser notre code en fonctions afin d'avoir un programme simple et réutilisable. Pour des petits codes à usage unique cela et tout à fait suffisant. En revanche vous pouvez facilement imaginer que pour un programme complexe ayant de nombreuses fonctionnalité il est nécessaire de pousser plus loin l'organisation et l'architecture du code. \n",
    "\n",
    "Pour aller plus loin dans l'organisation du code l'idée est de ranger vos fonctions dans des fichiers. De plus le principe est de faire une répartition \"intéligente\" de vos fonctions par catégorie. Par exemple un fichier pour toutes les fonctions de calcul/traitement de données, un fichier pour toutes les fonctions d'écritures des sorties, un fichier pour toutes les fonctions d'affichage et de visualisation, etc.\n",
    "\n",
    "Pour répartir vos fonctions dans des fichiers c'est très simple. Il suffit de créer un fichier avec l'extension `.py` et d'y placer à l'intérieure les définitions de vos fonctions. \n",
    "\n",
    "> **Attention :** \n",
    "> Pour le nommage de vos fichiers il y a quelques règles à respecter. Tout d'abord il est absolument interdit d'utiliser des espaces ainsi que des caractères spéciaux (é, è, à, !, ?, ...) dans vos noms de fichiers. \n",
    "> Ensuite la convention PEP8 recommande de nommer les fichiers avec un nom commencant par une lettre minuscule. \n",
    "\n",
    "\n",
    "Par exemple créons un fichier `mesFonctions.py` dans lequel nous allons ranger un certains nombre de fonctions Python. "
   ]
  },
  {
   "cell_type": "code",
   "execution_count": 5,
   "metadata": {
    "slideshow": {
     "slide_type": "subslide"
    }
   },
   "outputs": [
    {
     "name": "stdout",
     "output_type": "stream",
     "text": [
      "Overwriting mesFonctions.py\n"
     ]
    }
   ],
   "source": [
    "%%file mesFonctions.py\n",
    "\n",
    "##### File : mesFonctions.py \n",
    "\n",
    "def fonction_calcul():\n",
    "    return None\n",
    "\n",
    "\n",
    "##### end of file test.py \n"
   ]
  },
  {
   "cell_type": "code",
   "execution_count": 6,
   "metadata": {
    "slideshow": {
     "slide_type": "fragment"
    }
   },
   "outputs": [
    {
     "name": "stdout",
     "output_type": "stream",
     "text": [
      "_build\t    media\t     Part3.ipynb\n",
      "conf.py     mesFonctions.py  Part4.ipynb\n",
      "index.rst   Part1.ipynb      sphinx_ipypublish_all.ext.custom.json\n",
      "index.rst~  Part1.ipynb~\n",
      "Makefile    Part2.ipynb\n",
      "\n",
      "##### File : mesFonctions.py \n",
      "\n",
      "def fonction_calcul():\n",
      "    return None\n",
      "\n",
      "\n",
      "##### end of file test.py \n"
     ]
    }
   ],
   "source": [
    "!ls \n",
    "!cat mesFonctions.py"
   ]
  },
  {
   "cell_type": "markdown",
   "metadata": {
    "slideshow": {
     "slide_type": "subslide"
    }
   },
   "source": [
    "Maintenant la question que l'on peut se poser c'est comment fait-on pour dire à Python qu'il y a un fichier `mesFonctions.py` contenant un ensemble de fonctions que je veux utiliser dans mon programme principale ? La réponse est simple il suffit d'utiliser le mot clé `import`. Le mot clé `import` dispose de quatre modes d'utilisations : \n",
    "\n",
    "Le premier se traduit par la syntaxe ci-dessous. Dans ce cas il est nécessaire de spécifier le nom `mesFonctions` à chaque fois que l'on veut utiliser une fonction contenue dans le fichier `mesFonctions.py` \n",
    "```python \n",
    "import mesFonctions\n",
    "...\n",
    "mesFonctions.uneFonctionDuFichier( args )\n",
    "```\n",
    "\n",
    "La seconde syntaxe possible est directement liée au fait qu'en générale un développeur est fainéant et cherche à écrire le moins de caractère possible. Pour cette raison on peut renommer les modules de fonctions. \n",
    "\n",
    "```python \n",
    "import mesFonctions as mf\n",
    "...\n",
    "mf.uneFonctionDuFichier( args )\n",
    "```\n",
    "\n",
    "La troisième syntaxe permet de spécifier au moment de l'import quelles fonctions nous allons utiliser et donc ne chargé que ces dernières. \n",
    "\n",
    "```python \n",
    "from mesFonctions import uneFonctionDuFichier, uneAutreFonction\n",
    "...\n",
    "uneFonctionDuFichier( args )\n",
    "...\n",
    "uneAutreFonction( args2 )\n",
    "```\n",
    "\n",
    "Enfin la dernière syntaxe possible est celle qui permet d'importer toutes les fonctions contenues dans un fichier et de les utiliser par la suite sans avoir besoin de remettre le prefix du fichier devant. \n",
    "```python \n",
    "from mesFonctions import *\n",
    "...\n",
    "uneFonctionDuFichier( args )\n",
    "...\n",
    "uneAutreFonction( args2 )\n",
    "\n",
    "```\n",
    "\n",
    "> **Attention :** bien que le dernier mode d'utilisation puisse paraitre commode c'est une fausse bonne idée de l'utiliser. Un exemple simple si dans deux fichiers se trouve une fonction ayant le même nom mais ne faisant pas la même chose. Si vous utilisez la syntaxe `from ... import *` et bien l'une des deux fonctions sera écrasée par l'autre et donc inaccessible. \n",
    "\n"
   ]
  },
  {
   "cell_type": "markdown",
   "metadata": {
    "slideshow": {
     "slide_type": "subslide"
    }
   },
   "source": [
    "Pour que l'utilisation du mot clé `import` se fasse sans problème il faut bien faire attention à où se situe le fichier `mesFonctions.py` par rapport au fichier principal, c'est à dire celui où est écrit la ligne d'`import`.\n",
    "\n",
    "Si les deux fichiers sont côtes à côtes il n'y a aucun problèmes, l'`import` va se dérouler sans encombre (sous réserve qu'il n'y ait pas d'erreur de syntaxe dans le fichier `mesFonction.py`. \n",
    "\n",
    "En revanche si le fichier `mesFonctions.py` ne se situe pas dans le même dossier que le fichier `script_principal.py` si vous ne faites rien l'`import` va échouer. En effet il faut aider Python pour qu'il trouve le fichier `mesFonctions.py` si il ne se trouve pas à côté. Pour cela il est nécessaire d'étendre le `PYTHONPATH`.  \n",
    "\n"
   ]
  },
  {
   "cell_type": "markdown",
   "metadata": {
    "slideshow": {
     "slide_type": "fragment"
    }
   },
   "source": [
    "Sous Linux ou Mac OS une manière simple d'étendre le PYTHONPATH est d'utiliser les variables d'environnement. Pour cela il suffit de tapper dans une console la ligne de commande suivante :\n",
    "\n",
    "```bash\n",
    "export PYTHONPATH=/chemin/vers/le/dossier:$PYTHONPATH\n",
    "```"
   ]
  },
  {
   "cell_type": "markdown",
   "metadata": {
    "slideshow": {
     "slide_type": "fragment"
    }
   },
   "source": [
    "Une autre solution, peut-être plus simple, est d'étendre votre PATH au sein de votre programme principal Python. Cela se fait de la manière suivante :"
   ]
  },
  {
   "cell_type": "code",
   "execution_count": 7,
   "metadata": {
    "slideshow": {
     "slide_type": "fragment"
    }
   },
   "outputs": [],
   "source": [
    "import sys\n",
    "\n",
    "sys.path.append(\"/chemin/vers/le/dossier/\")"
   ]
  },
  {
   "cell_type": "markdown",
   "metadata": {
    "slideshow": {
     "slide_type": "slide"
    }
   },
   "source": [
    "## Les modules Python"
   ]
  },
  {
   "cell_type": "markdown",
   "metadata": {
    "slideshow": {
     "slide_type": "subslide"
    }
   },
   "source": [
    "### Qu'est ce qu'un module et où les trouver ?\n",
    "\n",
    "Nous avons vu dans la partie précédente que l'on peut répartir du code Python dans des fichiers. Donc bien entendu des gens ce sont mis à faire cela et à redistribuer leurs code sur Internet etde cette manière sont nées les modules. Donc un module c'est un ensemble de fonctionnalités additionelles que l'on peut importer dans un code Python, à l'aide de la commande `import`. Et donc au fil des années une énorme librairie de modules Open Source s'est développée grace notamment à une communauté d'utilisateur Python très active. \n",
    "\n",
    "Parmis l'ensemble de tous les modules disponibles il est nécessaire de distinguer deux catégories : \n",
    "* Les modules de la librairie standard Python, il s'agit d'un ensemble restreint installé par défaut avec Python peu importe votre installation. \n",
    "* Les modules autres qui eux ne sont pas disponible par défaut et nécessite d'être installé pour que vous puissiez les utiliser. \n",
    "\n"
   ]
  },
  {
   "cell_type": "markdown",
   "metadata": {
    "slideshow": {
     "slide_type": "subslide"
    }
   },
   "source": [
    "### La librairie standard Python\n",
    "\n",
    "La librairie standard Python regroupe un peu plus d'une 100 de modules en tout genre, pour avoir la liste des module disponible vous pouvez vous rendre sur le site officiel de [Python](https://docs.python.org/3/library/index.html). Nous n'allons bien entendu pas tous les aborder, d'autant plus qu'un grand nombre d'entre eux ne nous seront pas utiles. Nous allons uniquement nous focaliser sur les quelques modules de la librairies standard qui peuvent vous servir dans la vie de tous les jours. \n"
   ]
  },
  {
   "cell_type": "markdown",
   "metadata": {
    "slideshow": {
     "slide_type": "subslide"
    }
   },
   "source": [
    "___Les modules math et cmath___\n",
    "\n",
    "Le premier module qui va très certainement vous servir un jour est le module `math`. Comme son nom l'indique il s'agit d'un module définissant un certain nombre de fonctions mathématiques. Le chargement de ce module se fait bien entendu à l'aide de la commande `import` suivant l'une des 4 syntaxes présentées dans la partie précédente. \n",
    "\n",
    "Parmis les fonctions définies il y a `sin`, `cos`, `log`, `exp` et bien d'autres. Pour une liste exhaustive des fonctions contenues dans le module `math` vous pouvez : \n",
    "* vous rendre à l'adresse suivante https://docs.python.org/3/library/math.html\n",
    "* taper `help(math)` dans un prompt Python ou un Notebook. \n",
    "```python \n",
    "import math\n",
    "help(math)\n",
    "```\n",
    "Le module `math` définit également un certain nombre de constante mathématique  : "
   ]
  },
  {
   "cell_type": "code",
   "execution_count": 8,
   "metadata": {
    "slideshow": {
     "slide_type": "fragment"
    }
   },
   "outputs": [
    {
     "name": "stdout",
     "output_type": "stream",
     "text": [
      "math.pi : 3.141592653589793\n",
      "math.e  : 2.718281828459045\n"
     ]
    }
   ],
   "source": [
    "import math\n",
    "print(\"math.pi : {}\".format(math.pi))\n",
    "print(\"math.e  : {}\".format(math.e))"
   ]
  },
  {
   "cell_type": "markdown",
   "metadata": {
    "slideshow": {
     "slide_type": "fragment"
    }
   },
   "source": [
    "Il existe une variante du module `math` dédiée au traitement des nombres complexes, il s'agit du module `cmath`."
   ]
  },
  {
   "cell_type": "markdown",
   "metadata": {
    "slideshow": {
     "slide_type": "subslide"
    }
   },
   "source": [
    "___Le module os___\n",
    "\n",
    "Le module `os` permet d'intéragir avec le système d'exploitation de l'ordinateur. Le grand intérêt de ce module est qu'il a été conçu de telle sorte que peu importe le système d'exploitation que vous utilisez (Windows, Mac OS ou Linux) les fonctions du module sont les mêmes (bien que à un niveau plus bas ce ne soit pas du tout le cas). Cela permet notamment de concevoir des programmes qui soient multi-plateforme. Parmis les fonctions utiles du module il y a entre autre : \n",
    "\n",
    "* `os.listdir` qui permet de lister tous les fichiers/dossiers d'un répertoire. \n",
    "* `os.isdir` qui permet de tester si le chemin donné correspond à un dossier ou non.\n",
    "* `os.mkdir` qui permet de créer un dossier\n",
    "* et bien d'autres ... \n"
   ]
  },
  {
   "cell_type": "markdown",
   "metadata": {
    "slideshow": {
     "slide_type": "subslide"
    }
   },
   "source": [
    "Parmis les fonctionnalités utiles disponible dans le module `os` il y celles relatives à la gestion de chemins. Pour utiliser ces fonctionnalités il faut charger le sous-module `os.path`. Pourquoi se préoccuper des chemins de fichiers me direz vous. C'est toujours pour des raisons de compatibilité entre les systèmes d'exploitations. En effet sur les systèmes Linux et Mac OS (basé sur un Linux) les chemin de fichiers/dossiers sont de la forme `/voici/un/chemin`. Tandis que sur les Windows les chemins sont de la forme `C:\\un\\chemin\\windows`. La fonction la plus utilisée du module `os.path` est la fonction `join`. Ci dessous un exemple d'utilisation."
   ]
  },
  {
   "cell_type": "code",
   "execution_count": null,
   "metadata": {
    "slideshow": {
     "slide_type": "fragment"
    }
   },
   "outputs": [],
   "source": [
    "import os.path\n",
    "\n",
    "un_chemin = os.path.join(\"partie_1\", \"partie_2\")\n",
    "\n",
    "print( un_chemin )\n",
    "\n",
    "chemin, fichier = os.path.split(\"/un/chemin/vers/un_fichier.txt\")\n",
    "print(chemin)\n",
    "print(fichier)\n"
   ]
  },
  {
   "cell_type": "markdown",
   "metadata": {
    "slideshow": {
     "slide_type": "subslide"
    }
   },
   "source": [
    "### Et plein d'autres choses\n",
    "\n",
    "Ce n'est là qu'une très brève revue de toutes les possibilitées offertes par la librairie standard Python. Je vous invite fortemenent, si vous êtes curieux évidemment, à aller faire un tour sur [https://docs.python.org/3/library/](https://docs.python.org/3/library/) pour avoir une vision plus globale des possibilités offertes par le langage. Vous y trouverez entre autre des modules pour les interfaces graphiques, pour la mise en place de server tcp, la gestion d'argument d'entrée d'un programme, .... "
   ]
  },
  {
   "cell_type": "code",
   "execution_count": null,
   "metadata": {},
   "outputs": [],
   "source": []
  },
  {
   "cell_type": "code",
   "execution_count": null,
   "metadata": {},
   "outputs": [],
   "source": []
  }
 ],
 "metadata": {
  "celltoolbar": "Slideshow",
  "kernelspec": {
   "display_name": "Python 3",
   "language": "python",
   "name": "python3"
  },
  "language_info": {
   "codemirror_mode": {
    "name": "ipython",
    "version": 3
   },
   "file_extension": ".py",
   "mimetype": "text/x-python",
   "name": "python",
   "nbconvert_exporter": "python",
   "pygments_lexer": "ipython3",
   "version": "3.7.4"
  },
  "rise": {
   "autolaunch": true,
   "slideNumber": "c/t",
   "theme": "moon",
   "transition": "slide"
  }
 },
 "nbformat": 4,
 "nbformat_minor": 2
}
