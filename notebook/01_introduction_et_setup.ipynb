{
 "cells": [
  {
   "cell_type": "markdown",
   "metadata": {
    "slideshow": {
     "slide_type": "slide"
    }
   },
   "source": [
    "Cours de Programmation\n",
    "\n",
    "---------------\n",
    "\n",
    "# Python pour l'ingénierie\n",
    "\n",
    "**Basile Marchand (Centre des Matériaux - Mines ParisTech/CNRS/Université PSL)**"
   ]
  },
  {
   "cell_type": "markdown",
   "metadata": {
    "slideshow": {
     "slide_type": "slide"
    }
   },
   "source": [
    "## La programmation pour les informaticiens uniquement ?"
   ]
  },
  {
   "cell_type": "markdown",
   "metadata": {
    "slideshow": {
     "slide_type": "fragment"
    }
   },
   "source": [
    "### Un besoin pour le numéricien mais également l'expérimentateur"
   ]
  },
  {
   "cell_type": "markdown",
   "metadata": {
    "slideshow": {
     "slide_type": "subslide"
    }
   },
   "source": [
    "Étant données l'évolution des pratiques en mécanique il est inenvisageable pour un mécanicien, qu'il soit numéricien bien évidemment, mais également expérimentateur, de ne pas avoir des notions de bases en programmation. En effet la mécanique expérimentale ne se résume plus en un essai de traction sur une éprouvette unique avec pour seul moyen d'acquisition un extensomètre et la cellule d'effort de la machine de traction. Désormais les essais sont réalisés sur des séries, potentiellement importantes d'éprouvettes, avec des moyens d'acquisition conséquents tels que par exemple les appareils photos. Depuis quelques années la tendance est également au développement d'essais *in-situ* avec le suivi d'essai par tomographie.\n",
    "\n",
    "![](media/in-situ-avizo.png)\n",
    "\n",
    "On peut alors facilement imaginer que ces nouvelles méthodes d'acquisition génèrent des volumes de données brutes qui n'ont plus rien à voir avec ceux générés par un simple extensomètre. C'est le prix à payer pour accéder pour un même essai à une richesse d'information sans comparaison. Étant donné le volume d'information brut il est donc devenu inenvisageable de post-traiter les données expérimentales sans l'aide de l'informatique. \n"
   ]
  },
  {
   "cell_type": "markdown",
   "metadata": {
    "slideshow": {
     "slide_type": "subslide"
    }
   },
   "source": [
    "## Pourquoi python parmis tant de solutions différentes ?"
   ]
  },
  {
   "cell_type": "markdown",
   "metadata": {
    "slideshow": {
     "slide_type": "subslide"
    }
   },
   "source": [
    "Une question naturelle que l'on peut se poser est pourquoi apprendre le Python plutôt qu'un autre langage ? En effet dans le monde de l'informatique et de la programmation il existe toute une zoologie de langage de programmation (plusieurs centaines de langages). Pourquoi Python plus qu'un autre alors ? \n",
    "\n",
    "Le choix de Python est motivé par de nombreux aspects. La réponse courte à la question précédente est \"depuis 2015 le langage de programmation choisi par le ministère de l'éduction nationale est le Python\". En effet il y a quelques années ce cours aurait certainement été réalisé en utilisant Matlab qui avait alors le monopole de la programmation au niveau enseignement supérieur en France. Mais pour revenir au choix de Python ce dernier est motivé par le fait que : "
   ]
  },
  {
   "cell_type": "markdown",
   "metadata": {
    "slideshow": {
     "slide_type": "subslide"
    }
   },
   "source": [
    "**Python est Open Source, ...**\n",
    "\n",
    "Cela implique donc qu'il n'y a pas de licence payante nécessaire pour utiliser Python, contrairement à Matlab qui est un logiciel payant. N'importe qui peut donc installer Python sur son ordinateur personnel gratuitement, écrire et redistribuer des programmes Python librement. "
   ]
  },
  {
   "cell_type": "markdown",
   "metadata": {
    "slideshow": {
     "slide_type": "subslide"
    }
   },
   "source": [
    "**... dispose donc d'une communauté très grande et très active**\n",
    "\n",
    "Le langage Python étant open source il dispose d'une communauté de *geek* très étendue, allant du lycéen qui fait ça pour s'amuser le week-end à l'ingénieur de recherche en analyses de données chez Google. Il y a donc de nombreux forum sur lesquels la plupart des problèmes que vous rencontrerez ont déjà été débatus et résolus. L'un des forum les plus actifs étant stackoverflow. Donc si vous avez du mal à faire quelque chose n'hésitez pas à y faire un tour. \n",
    "Un autre aspect important de cette communauté très active, outre les forums et tuto, sont les modules disponibles. Nous le verrons dans la suite du cours mais Python *de base* ne sait pas faire énormément de chose, pour ce qui nous intéresse en tout cas. En revanche il existe un nombre exorbitant de modules additionnels développés par des personnes de tous horizons permettant d'enrichir le langage avec des fonctionnalitées additionnelles, par exemple le calcul matriciel, l'analyse d'image, le tracé de graphique, ... "
   ]
  },
  {
   "cell_type": "markdown",
   "metadata": {
    "slideshow": {
     "slide_type": "subslide"
    }
   },
   "source": [
    "**et enfin il est simple à apprendre puisque de haut niveau.**\n",
    "\n",
    "Pour finir une des raisons du choix de Python plutôt qu'autre chose est qu'il s'agit d'un langage dit de haut niveau par oppositon au langage de bas niveau (tels le FORTRAN, C, ... ). \n",
    "\n",
    "\n",
    "De plus Python est un langage interprété ce qui facilite l'apprentissage et le processus de développement débuggage. \n",
    "\n",
    "**Remarque :** Un langage de programmation est dit interprété, par opposition à compilé, lorsque le processus de conception se limite à : (i) écriture du programme ; (ii) exécution. Tandis qu'un langage compilé comporte lui une étape supplémentaire entre l'écriture et l'exécution, c'est l'étape de compilation. Cette étape de compilation a pour but de traduire le programme écrite par le programmeur (en C/C++/FORTRAN/...) en un ensemble d'instruction machine et c'est ensuite cette ensemble d'instruction qui est exécuté lorsque l'on lance le programme."
   ]
  },
  {
   "cell_type": "markdown",
   "metadata": {
    "slideshow": {
     "slide_type": "subslide"
    }
   },
   "source": [
    "## Pré-requis, objectifs et évaluation"
   ]
  },
  {
   "cell_type": "markdown",
   "metadata": {
    "slideshow": {
     "slide_type": "subslide"
    }
   },
   "source": [
    "L'objectif de ce cours est de vous donner les bases nécessaires en Python qui vous permettront par la suite : (i) d'être à l'aise pour réaliser des traitements de données expérimentales automatisés et performants ; (ii) d'être capable de réaliser des programmes de simulations numériques simples ; (iii) d'avoir une compréhension suffisante de Python pour vous permettre d'aller vous-même à la recherche d'informations sur les forums ou dans la documentation des modules additionels.\n",
    "\n",
    "Aucun pré-requis particulier n'est nécessaire pour la bonne compréhension du cours, si ce n'est savoir se servir un minimum d'un ordinateur. Le cours est décomposé en 6 séances de 3 heures. L'évaluation du module est faites en deux parties : \n",
    "* 30% de la note est sur la participation, l'assiduité et l'investissement au cours des TP\n",
    "* 70% de la note repose sur la réalisation en binôme d'un projet (dont le sujet sera donné à l'avant dernière séance) qui fera l'objet d'une soutenance (environ 20 minutes). \n",
    "\n"
   ]
  },
  {
   "cell_type": "markdown",
   "metadata": {
    "slideshow": {
     "slide_type": "slide"
    }
   },
   "source": [
    "## L'environement Python "
   ]
  },
  {
   "cell_type": "markdown",
   "metadata": {
    "slideshow": {
     "slide_type": "subslide"
    }
   },
   "source": [
    "### Installation"
   ]
  },
  {
   "cell_type": "markdown",
   "metadata": {
    "slideshow": {
     "slide_type": "subslide"
    }
   },
   "source": [
    "Pour utiliser Python il vous faut tout d'abord l'installer. Sur la plupart des systèmes d'exploitation Linux un Python est déjà installé de base, généralement la version 2.7, il est cependant recommandé de suivre les consignes d'installation qui vont suivre afin d'avoir un environement Python qui soit à l'identique de celui utilisé pour ce cours. \n",
    "\n",
    "La procédure d'installation est la même pour Linux, Mac OS ou Windows. Il existe bien entendu de nombreuses solutions possibles pour installer Python et toutes ses dépendances et extensions mais celle retenue içi (la plus simple de mon point de vue) est d'installer la distribution Python Anaconda www.anaconda.com. La distribution Anaconda est un programme d'intallation qui vous permet d'installer très simplement Python ainsi qu'une grande variété de modules scientifiques disponibles dans l'écosystème Python.  "
   ]
  },
  {
   "cell_type": "markdown",
   "metadata": {
    "slideshow": {
     "slide_type": "subslide"
    }
   },
   "source": [
    "### Utiilisation de python comme une calculatrice "
   ]
  },
  {
   "cell_type": "markdown",
   "metadata": {
    "slideshow": {
     "slide_type": "subslide"
    }
   },
   "source": [
    "Tout d'abord le mode d'utilisation de Python le plus simple qui soit est à la ligne de commande comme une calculatrice. Pour cela : \n",
    "* Sur windows : dans le menu->programme->Anaconda3\n",
    "* Sur Linux et Mac : ouvrir un terminal et taper python \n",
    "\n",
    "Vous avez alors une fenêtre minimaliste (appelée une console ou un terminal) avec un invite de commande (le prompt) constitué de 3 chevrons \">>>\" c'est à ce niveau que vous pouvez écrire des commandes Python. Mais pour le moment nous allons uniquement nous amuser à l'utiliser comme une calculatrice"
   ]
  },
  {
   "cell_type": "code",
   "execution_count": 1,
   "metadata": {
    "slideshow": {
     "slide_type": "fragment"
    }
   },
   "outputs": [
    {
     "data": {
      "text/plain": [
       "5"
      ]
     },
     "execution_count": 1,
     "metadata": {},
     "output_type": "execute_result"
    }
   ],
   "source": [
    "2+3"
   ]
  },
  {
   "cell_type": "code",
   "execution_count": 2,
   "metadata": {
    "slideshow": {
     "slide_type": "fragment"
    }
   },
   "outputs": [
    {
     "data": {
      "text/plain": [
       "22"
      ]
     },
     "execution_count": 2,
     "metadata": {},
     "output_type": "execute_result"
    }
   ],
   "source": [
    "4*3+10 ### Je peux mettre un commentaire derrière à l'aide du symbole #"
   ]
  },
  {
   "cell_type": "code",
   "execution_count": 3,
   "metadata": {
    "slideshow": {
     "slide_type": "fragment"
    }
   },
   "outputs": [
    {
     "data": {
      "text/plain": [
       "(-27.400000000000002, -6.7614)"
      ]
     },
     "execution_count": 3,
     "metadata": {},
     "output_type": "execute_result"
    }
   ],
   "source": [
    "2-7*4.2 , 19.1*-0.354"
   ]
  },
  {
   "cell_type": "markdown",
   "metadata": {
    "slideshow": {
     "slide_type": "fragment"
    }
   },
   "source": [
    "Pour sortir de l'invite de commande Python il vous suffit alors de tapper __exit()__ ou bien d'appuyer sur Ctrl+d"
   ]
  },
  {
   "cell_type": "markdown",
   "metadata": {
    "slideshow": {
     "slide_type": "subslide"
    }
   },
   "source": [
    "### Un environement plus *user-friendly*"
   ]
  },
  {
   "cell_type": "markdown",
   "metadata": {
    "slideshow": {
     "slide_type": "subslide"
    }
   },
   "source": [
    "La console est un peu austère me direz vous. En effet et c'est pour cela que Python dispose d'environment de développement (IDE) beaucoup plus sympatiques. L'un de ses environnements le plus utilisé est Spyder. L'environnement Spyder se présente comme une interface graphique ressemblant de loin à celle de Matlab/Scilab avec un explorateur de variables, un historique, un accès direct aux documentations des principaux modules Python, un gestionnaire de fichiers, ... \n",
    "\n",
    "\n",
    "Pour information, nous verrons par la suite que la plupart des applications Python sont écrites dans des fichiers texte (ayant une extension .py). Il est donc bien entendu possible d'utiliser n'importe quel éditeur de texte pour écrire vos scripts Python et d'exécuter ces derniers à la ligne de commande. \n",
    "\n",
    "Une alternative à Spyder est l'éditeur Visual Studio Code, qui offre de nombreuses fonctionnalités et permet également d'installer un très grand nombre de plugin additionnels. \n",
    "\n"
   ]
  },
  {
   "cell_type": "markdown",
   "metadata": {
    "slideshow": {
     "slide_type": "subslide"
    }
   },
   "source": [
    "### Pour les curieux ... Jupyter et les notebook "
   ]
  },
  {
   "cell_type": "markdown",
   "metadata": {
    "slideshow": {
     "slide_type": "subslide"
    }
   },
   "source": [
    "Enfin un dernier mode d'utilisation de Python possible est de passer par les Notebook (utilisé pour l'élaboration de ce cours). Le concept de Notebook introduit à la base par le logiciel Mathematica est d'avoir dans un seul fichier (dont le rendu sera géré ici par le navigateur web) différentes cellules pouvant être constituées : \n",
    "\n",
    "* de code Python qui sera interprété\n",
    "* des résultats affichés du code Python\n",
    "* d'images (statiques ou bien générées par du code Python)\n",
    "* de texte mis en forme et pouvant contenir des équations\n",
    "\n",
    "L'intérêt de cet outils est ainsi de pouvoir présenter avec de nombreuses explications et une mise en page clair un programme Python et ses résultats. \n",
    "\n",
    "Pour créer un notebook et surtout lancer l'interface permettant d'éditer ces derniers, il suffit de tapper dans votre console \n",
    "\n",
    "```\n",
    "jupyter notebook\n",
    "```\n",
    "\n",
    "Cela va alors automatiquement : (i) démarrer sur votre ordinateur un serveur local qui sera chargé de gérer vos notebook ; (ii) lancer votre navigateur web sur la page d'acceuil des notebook. \n"
   ]
  }
 ],
 "metadata": {
  "celltoolbar": "Diaporama",
  "kernelspec": {
   "display_name": "Python 3",
   "language": "python",
   "name": "python3"
  },
  "language_info": {
   "codemirror_mode": {
    "name": "ipython",
    "version": 3
   },
   "file_extension": ".py",
   "mimetype": "text/x-python",
   "name": "python",
   "nbconvert_exporter": "python",
   "pygments_lexer": "ipython3",
   "version": "3.7.4"
  },
  "rise": {
   "autolaunch": true,
   "slideNumber": "c/t",
   "theme": "moon",
   "transition": "slide"
  }
 },
 "nbformat": 4,
 "nbformat_minor": 2
}
