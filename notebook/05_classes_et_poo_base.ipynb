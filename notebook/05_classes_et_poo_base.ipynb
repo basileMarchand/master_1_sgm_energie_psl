{
 "cells": [
  {
   "cell_type": "markdown",
   "metadata": {},
   "source": [
    "# Classes, objet et paradigme POO\n",
    "\n",
    "-----------------------------------------\n",
    "\n",
    "***Basile Marchand (Centre des Matériaux - Mines ParisTech/CNRS/Université PSL)***"
   ]
  },
  {
   "cell_type": "markdown",
   "metadata": {},
   "source": [
    "## Python un langage objet"
   ]
  },
  {
   "cell_type": "markdown",
   "metadata": {},
   "source": [
    "### Les objets"
   ]
  },
  {
   "cell_type": "markdown",
   "metadata": {},
   "source": [
    "Nous allons à présent abordé un point essentiel, bien que l'on ne l'ait pas abordé jusqu'ici, je veux parler du fait que Python est un langage orienté **objets**. Cela veut dire que tout ce que l'on manipule dans le langage Python (listes, dictionnaires, chaîne de caractère, module, ...) est un objet.\n",
    "\n"
   ]
  },
  {
   "cell_type": "markdown",
   "metadata": {},
   "source": [
    "La question que vous vous posez alors est qu'est ce qu'un objet ? Il s'agit là d'un sujet vaste, pouvant être sujet à de nombreuses interprétations personnelles. Pour le moment nous nous contenterons de dire qu'un objet représente un type de variable contenant des variables (que l'on appelera par la suite **attributs**) ainsi que des fonctions (que l'on appelera par la suite **méthodes**). En d'autres mots nous pouvons voir les objets pour le moment comme étant des structures de données particulières. "
   ]
  },
  {
   "cell_type": "markdown",
   "metadata": {},
   "source": [
    "Pour ne rien vous cacher il faut avouer que python est un langage objet car toutes les variables que vous manipulez sont en réalité des objets. En effet toutes les variables, entiers, flottants, liste, fonctions, ... que vous avez manipulées jusqu'à maintenant étant sans que vous ne le sachiez des objets. "
   ]
  },
  {
   "cell_type": "markdown",
   "metadata": {},
   "source": [
    "### Quel intérêts de manipuler des objets ? "
   ]
  },
  {
   "cell_type": "markdown",
   "metadata": {},
   "source": [
    "Il faut bien être conscient que de nombreux langage de programmation ne dispose pas de la notion d'objet et il sont pourtant très utilisé. Alors quel intérêt y a-t-il a utiliser des objets ? Pour le moment nous pouvons surtout établir le fait que dans de nombreuses applications nous avons besoins de manipuler des données composites. \n",
    "\n",
    "Par exemple pour la gestion d'une *todo-list* il nous faut gérer des tâches. On peut définir ces tâches comme un ensemble de données : identifiant, descriptif, status, pourcentage d'avancement, ... Une solution pour implémenter cette structures de données peut-être d'utiliser des dictionnaires  "
   ]
  },
  {
   "cell_type": "code",
   "execution_count": 6,
   "metadata": {},
   "outputs": [],
   "source": [
    "task={\"id\": 0, \"description\": \"Finir le cours python à temps\", \"status\": \"en cours\", \"stats\": 50}"
   ]
  },
  {
   "cell_type": "markdown",
   "metadata": {},
   "source": [
    "Il s'agit d'une approche faisant l'affaire pour un programme simple mais qui devient rapidement un peu lourde pour des applications plus complexes. "
   ]
  },
  {
   "cell_type": "markdown",
   "metadata": {},
   "source": [
    "L'objet de cette section est donc de voir comment nous pouvons mettre en place un objet de type Task qui nous permettra de manipuler plus facilement les données associées à chaque tâchee. "
   ]
  },
  {
   "cell_type": "markdown",
   "metadata": {},
   "source": [
    "## Définir ses objets en python  "
   ]
  },
  {
   "cell_type": "markdown",
   "metadata": {},
   "source": [
    "### Le mot clé `class`"
   ]
  },
  {
   "cell_type": "markdown",
   "metadata": {},
   "source": [
    "Pour définir ses propres objets en Python on doit définir ce que l'on appelle une **classe**. Dans toute la suite on utilisera sans distinction le termes classe et objet. \n",
    "\n",
    "La syntaxe pour définir notre objet `Task` est la suivante : "
   ]
  },
  {
   "cell_type": "code",
   "execution_count": 3,
   "metadata": {},
   "outputs": [],
   "source": [
    "class Task:\n",
    "    def __init__(self, tid, desc):\n",
    "        self._tid = tid\n",
    "        self._description = desc\n",
    "        self._status = \"todo\"\n",
    "        self._stats = 0"
   ]
  },
  {
   "cell_type": "markdown",
   "metadata": {},
   "source": [
    "Une fois la classe définie on peut l'utiliser pour définir des objets. On parle alors d'instance de `Task`. Par exemple pour créer une variable `t1` instance de `Task` on procède de la manière suivante : "
   ]
  },
  {
   "cell_type": "code",
   "execution_count": 5,
   "metadata": {},
   "outputs": [
    {
     "name": "stdout",
     "output_type": "stream",
     "text": [
      "<__main__.Task object at 0x7f2bec359b50>\n"
     ]
    }
   ],
   "source": [
    "t1 = Task(0, \"Finir le cours python à temps\")\n",
    "print( t1 )"
   ]
  },
  {
   "cell_type": "markdown",
   "metadata": {},
   "source": [
    "La première chose a notée est que l'on définit une méthode `__init__`. Cette méthode est une méthode spéciale (reconaissable au double underscore), elle définit la manière dont on initialize la classe lorsque l'on crée une instance de cette dernière. Il est important de noter que la méthode `__init__(self, tid, desc)` est définie avec 3 arguments d'entrée alors qu'à l'instanciation de `Task` on ne fournit que deux arguments `0` et `\"Finir le cours python à temps\"`. Cela est normal. L'argument `self` est en fait un argument particulier en Python qui représente l'instance de l'objet que l'on est en train de manipuler, ici `t1`. "
   ]
  },
  {
   "cell_type": "markdown",
   "metadata": {},
   "source": [
    "Vous avez certainement remarqué que dans la méthode `__init__` nous utilisons cet argument `self` pour l'expression `self._tid = tid`. Cet ligne signifie que l'on affecte à l'attribut `name` de l'instance `Task` en cours de création, la valeur contenue dans la variable `tid` donnée en argument. De la même manière, on définit un attribut `_description` dans lequel on vient stocker la valeur de `desc` ainsi que deux attributs `_status` et `stats` avec chacun une valeur par défaut fixe. "
   ]
  },
  {
   "cell_type": "markdown",
   "metadata": {},
   "source": [
    "Nous verrons par la suite que cet argument `self` est toujours présent dans la définition des méthodes d'une classe et pas uniquement dans la méthode `__init__`.  "
   ]
  },
  {
   "cell_type": "markdown",
   "metadata": {},
   "source": [
    "### Attributs et méthodes "
   ]
  },
  {
   "cell_type": "markdown",
   "metadata": {},
   "source": [
    "Précédemment nous avons définit une class `Task` très simple comportant quatre attributs. Et nous avons créer une instance `t1` de cette classe. Un attribut peut donc être considéré comme une variable attaché à une instance de classe. Par exemple si l'on souhaite accéder à la valeur de l'attribut `_description` de l'instance `t1` il suffit de procéder de la manière suivante :  "
   ]
  },
  {
   "cell_type": "code",
   "execution_count": 8,
   "metadata": {},
   "outputs": [
    {
     "data": {
      "text/plain": [
       "'Finir le cours python à temps'"
      ]
     },
     "execution_count": 8,
     "metadata": {},
     "output_type": "execute_result"
    }
   ],
   "source": [
    "t1._description"
   ]
  },
  {
   "cell_type": "markdown",
   "metadata": {},
   "source": [
    "La question que vous vous posez peut-être est s'il est alors possible de définir des méthodes manipulant les attributs d'une instance. La réponse est **oui**, les objets c'est fait pour ça ! "
   ]
  },
  {
   "cell_type": "markdown",
   "metadata": {},
   "source": [
    "Par exemple regardons comment implément la méthode spéciale `__repr__`. Elle sert à quoi cette méthode ? Un exemple "
   ]
  },
  {
   "cell_type": "code",
   "execution_count": 9,
   "metadata": {},
   "outputs": [
    {
     "name": "stdout",
     "output_type": "stream",
     "text": [
      "<__main__.Task object at 0x7f2bec359b50>\n"
     ]
    }
   ],
   "source": [
    "print(t1)"
   ]
  },
  {
   "cell_type": "markdown",
   "metadata": {},
   "source": [
    "C'est quand même très moche non ? Et ça ne nous aide pas trop. La méthode `__repr__` est la méthode spéciale (reconnaissable au double underscore) qui est chargée de retourner une chaine de caractère lorsque l'on souhaite afficher un objet. Par exemple une implémentation possible est la suivante : "
   ]
  },
  {
   "cell_type": "code",
   "execution_count": 15,
   "metadata": {},
   "outputs": [],
   "source": [
    "class Task:\n",
    "    def __init__(self, tid, desc):\n",
    "        self._tid = tid\n",
    "        self._description = desc\n",
    "        self._status = \"todo\" ## todo, in progress or finished\n",
    "        self._stats = 0\n",
    "        \n",
    "    def __repr__(self):\n",
    "        return f\"{self._tid} [{self._stats} %] : {self._description}\""
   ]
  },
  {
   "cell_type": "code",
   "execution_count": 16,
   "metadata": {},
   "outputs": [
    {
     "name": "stdout",
     "output_type": "stream",
     "text": [
      "0 [0 %] : Finir le cours Python à temps\n"
     ]
    }
   ],
   "source": [
    "t2 = Task(0, \"Finir le cours Python à temps\")\n",
    "print(t2)"
   ]
  },
  {
   "cell_type": "markdown",
   "metadata": {},
   "source": [
    "Vous pouvez alors remarquer que l'on manipule les valeurs de l'instance `t2` dans la méthode `__repr__` à l'aide de l'attribut `self`. Une autre manière de voir les choses est de se dire que `Task` représente un espace de nom (namespace) dans lequel on range toutes les \"fonctions\" opérants sur des variables de type Task. Par exemple nous pouvons tout à fait écrire : "
   ]
  },
  {
   "cell_type": "code",
   "execution_count": 18,
   "metadata": {},
   "outputs": [
    {
     "data": {
      "text/plain": [
       "'0 [0 %] : Finir le cours Python à temps'"
      ]
     },
     "execution_count": 18,
     "metadata": {},
     "output_type": "execute_result"
    }
   ],
   "source": [
    "Task.__repr__(t2)"
   ]
  },
  {
   "cell_type": "markdown",
   "metadata": {},
   "source": [
    "Bien évidemment cette syntaxe est très rarement utilisée et ne présente pas d'intérêt particulier, ormis illustrer ici le fait que `self` représente bien l'instance de la classe. "
   ]
  },
  {
   "cell_type": "markdown",
   "metadata": {},
   "source": [
    "Pour le moment nous n'avons vu que des méthodes **spéciales**, c'est-à-dire des méthodes prédéfinie dans le langage Python et ayant une signification paraticulière. Mais nous pouvons bien évidemment définir des méthodes selon nos envies et nos humeurs. Par exemple implémentons dans notre objet task une méthode qui déclare une tâche terminée. "
   ]
  },
  {
   "cell_type": "code",
   "execution_count": 19,
   "metadata": {},
   "outputs": [],
   "source": [
    "class Task:\n",
    "    def __init__(self, tid, desc):\n",
    "        self._tid = tid\n",
    "        self._description = desc\n",
    "        self._status = \"todo\" ## todo, in progress or finished\n",
    "        self._stats = 0\n",
    "        \n",
    "    def __repr__(self):\n",
    "        return f\"{self._tid} [{self._stats} %] : {self._description}\"\n",
    "    \n",
    "    def setFinished(self):\n",
    "        self._status = \"finished\"\n",
    "        self._stats = 100"
   ]
  },
  {
   "cell_type": "code",
   "execution_count": 20,
   "metadata": {},
   "outputs": [
    {
     "name": "stdout",
     "output_type": "stream",
     "text": [
      "0 [0 %] : Finir le cours Python à temps\n",
      "0 [100 %] : Finir le cours Python à temps\n"
     ]
    }
   ],
   "source": [
    "t1 = Task(0, \"Finir le cours Python à temps\")\n",
    "print(t1)\n",
    "t1.setFinished()\n",
    "print(t1)"
   ]
  },
  {
   "cell_type": "markdown",
   "metadata": {},
   "source": [
    "Bien évidemment, tout ce que vous savez au sujet des fonctions Python est applicables et utilisables dans la définition des méthodes de vos classes. Par exemple si l'on souhaite implémenter une méthode `incrementStat` qui incrémente l'attribut `_stats` par défaut de 10 points. "
   ]
  },
  {
   "cell_type": "code",
   "execution_count": 23,
   "metadata": {},
   "outputs": [],
   "source": [
    "class Task:\n",
    "    def __init__(self, tid, desc):\n",
    "        self._tid = tid\n",
    "        self._description = desc\n",
    "        self._status = \"todo\" ## todo, in progress or finished\n",
    "        self._stats = 0\n",
    "        \n",
    "    def __repr__(self):\n",
    "        return f\"{self._tid} [{self._stats} %] : {self._description}\"\n",
    "    \n",
    "    def setFinished(self):\n",
    "        self._status = \"finished\"\n",
    "        self._stats = 100\n",
    "        \n",
    "    def update(self, incr=10):\n",
    "        self._stats += incr\n",
    "        if self._stats >= 100:\n",
    "            print(\"stats >= 100 we close the task\")\n",
    "            self.setFinished()"
   ]
  },
  {
   "cell_type": "code",
   "execution_count": 24,
   "metadata": {},
   "outputs": [
    {
     "name": "stdout",
     "output_type": "stream",
     "text": [
      "0 [10 %] : Finir le cours Python à temps\n",
      "0 [95 %] : Finir le cours Python à temps\n",
      "stats >= 100 we close the task\n",
      "0 [100 %] : Finir le cours Python à temps\n"
     ]
    }
   ],
   "source": [
    "t1 = Task(0, \"Finir le cours Python à temps\")\n",
    "t1.update() ; print(t1)\n",
    "t1.update(85) ## j'ai beaucoup travailler aujourd'hui\n",
    "print(t1)\n",
    "t1.update()\n",
    "print(t1)"
   ]
  },
  {
   "cell_type": "markdown",
   "metadata": {},
   "source": [
    "## Intégrer ses objets dans l'écosystème Python"
   ]
  },
  {
   "cell_type": "markdown",
   "metadata": {},
   "source": [
    "### Mais on est déjà dans Python !!"
   ]
  },
  {
   "cell_type": "code",
   "execution_count": null,
   "metadata": {},
   "outputs": [],
   "source": []
  },
  {
   "cell_type": "code",
   "execution_count": null,
   "metadata": {},
   "outputs": [],
   "source": []
  },
  {
   "cell_type": "code",
   "execution_count": null,
   "metadata": {},
   "outputs": [],
   "source": []
  },
  {
   "cell_type": "code",
   "execution_count": null,
   "metadata": {},
   "outputs": [],
   "source": []
  },
  {
   "cell_type": "code",
   "execution_count": null,
   "metadata": {},
   "outputs": [],
   "source": []
  },
  {
   "cell_type": "markdown",
   "metadata": {},
   "source": [
    "### Opérations booléennes, comparaisons"
   ]
  },
  {
   "cell_type": "code",
   "execution_count": null,
   "metadata": {},
   "outputs": [],
   "source": []
  },
  {
   "cell_type": "code",
   "execution_count": null,
   "metadata": {},
   "outputs": [],
   "source": []
  },
  {
   "cell_type": "markdown",
   "metadata": {},
   "source": [
    "### Boucle `for` ou la magie des itérateurs"
   ]
  },
  {
   "cell_type": "code",
   "execution_count": null,
   "metadata": {},
   "outputs": [],
   "source": []
  },
  {
   "cell_type": "code",
   "execution_count": null,
   "metadata": {},
   "outputs": [],
   "source": []
  },
  {
   "cell_type": "code",
   "execution_count": null,
   "metadata": {},
   "outputs": [],
   "source": []
  },
  {
   "cell_type": "markdown",
   "metadata": {},
   "source": [
    "### Opérateurs `+`, `-`, `*`, `/`"
   ]
  },
  {
   "cell_type": "code",
   "execution_count": null,
   "metadata": {},
   "outputs": [],
   "source": []
  },
  {
   "cell_type": "code",
   "execution_count": null,
   "metadata": {},
   "outputs": [],
   "source": []
  },
  {
   "cell_type": "code",
   "execution_count": null,
   "metadata": {},
   "outputs": [],
   "source": []
  },
  {
   "cell_type": "code",
   "execution_count": null,
   "metadata": {},
   "outputs": [],
   "source": []
  },
  {
   "cell_type": "markdown",
   "metadata": {},
   "source": [
    "## Héritage "
   ]
  },
  {
   "cell_type": "markdown",
   "metadata": {},
   "source": [
    "### Classe mère, classe fille, toute une famille"
   ]
  },
  {
   "cell_type": "code",
   "execution_count": null,
   "metadata": {},
   "outputs": [],
   "source": []
  },
  {
   "cell_type": "code",
   "execution_count": null,
   "metadata": {},
   "outputs": [],
   "source": []
  },
  {
   "cell_type": "markdown",
   "metadata": {},
   "source": [
    "### En fait tous vos objets sont des `object`"
   ]
  },
  {
   "cell_type": "code",
   "execution_count": null,
   "metadata": {},
   "outputs": [],
   "source": []
  },
  {
   "cell_type": "code",
   "execution_count": null,
   "metadata": {},
   "outputs": [],
   "source": []
  },
  {
   "cell_type": "markdown",
   "metadata": {},
   "source": [
    "### Attributs et méthodes publiques ou protégés"
   ]
  },
  {
   "cell_type": "markdown",
   "metadata": {},
   "source": [
    "## Quelques concepts avancés"
   ]
  },
  {
   "cell_type": "markdown",
   "metadata": {},
   "source": [
    "### L'attribut `__dict__`"
   ]
  },
  {
   "cell_type": "code",
   "execution_count": null,
   "metadata": {},
   "outputs": [],
   "source": []
  },
  {
   "cell_type": "code",
   "execution_count": null,
   "metadata": {},
   "outputs": [],
   "source": []
  },
  {
   "cell_type": "code",
   "execution_count": null,
   "metadata": {},
   "outputs": [],
   "source": []
  },
  {
   "cell_type": "code",
   "execution_count": null,
   "metadata": {},
   "outputs": [],
   "source": []
  },
  {
   "cell_type": "markdown",
   "metadata": {},
   "source": [
    "### Les décorateurs"
   ]
  },
  {
   "cell_type": "code",
   "execution_count": null,
   "metadata": {},
   "outputs": [],
   "source": []
  }
 ],
 "metadata": {
  "kernelspec": {
   "display_name": "Python 3",
   "language": "python",
   "name": "python3"
  },
  "language_info": {
   "codemirror_mode": {
    "name": "ipython",
    "version": 3
   },
   "file_extension": ".py",
   "mimetype": "text/x-python",
   "name": "python",
   "nbconvert_exporter": "python",
   "pygments_lexer": "ipython3",
   "version": "3.7.4"
  },
  "rise": {
   "autolaunch": true,
   "slideNumber": "c/t",
   "theme": "moon",
   "transition": "slide"
  }
 },
 "nbformat": 4,
 "nbformat_minor": 2
}
