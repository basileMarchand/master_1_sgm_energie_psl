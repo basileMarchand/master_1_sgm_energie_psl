{
 "cells": [
  {
   "cell_type": "markdown",
   "metadata": {
    "lang": "en"
   },
   "source": [
    "# Course exercises\n",
    "\n",
    "**Basile Marchand (Materials Center - Mines ParisTech / CNRS / PSL University)**"
   ]
  },
  {
   "cell_type": "markdown",
   "metadata": {
    "lang": "en"
   },
   "source": [
    "## Slicing exercise\n",
    "\n",
    "   1. create the string: I love python and numpy!\n",
    "   1.access the first and last character of the string 'I' and '!'\n",
    "   1. cut the chain to keep only \"love\"\n",
    "   1. reverse the chain:! ypmun dna nohtyp evol I\n",
    "   1. cut the chain to keep only \"Ilv pto ad nmy\""
   ]
  },
  {
   "cell_type": "markdown",
   "metadata": {
    "lang": "en"
   },
   "source": [
    "## Exercises on strings\n",
    "\n",
    "### Exercise 1\n",
    "   1. create a string in python\n",
    "   1. print the string and its length using an f-string\n",
    "   1. create another character string\n",
    "   1. concatenate the two strings\n",
    "   1. put the result in uppercase\n",
    "\n",
    "### Exercises 2\n",
    "\n",
    "   1. create a multi-line string and display it\n",
    "   1. split the string to obtain a list of lines (**split** method)\n",
    "   1. display each line using a for loop by prefixing it with its number"
   ]
  },
  {
   "cell_type": "markdown",
   "metadata": {
    "lang": "en"
   },
   "source": [
    "## Exercise on the lists\n",
    "\n",
    "   1. build a list containing an integer, a character string, a float, a boolean\n",
    "   1. modify the first element of the list\n",
    "   1. slice the list so as to keep only one element out of 2 from the beginning\n",
    "   1. test if an element is in the list\n",
    "   1. create a new list containing a list itself\n",
    "   1. concatenate the two lists\n",
    "   1. print with a **for** the elements of the list"
   ]
  },
  {
   "cell_type": "markdown",
   "metadata": {
    "lang": "en"
   },
   "source": [
    "## Exercise on dictionaries\n",
    "\n",
    "   1. create a dictionary with pairs of people described by name and age\n",
    "   1. display the type of a dictionary\n",
    "   1. test if a person is in the dictionary and if so modify his age\n",
    "   1. Apply the **items** function to the dictionary, what does it return?\n",
    "   1. print with a **for** the names and ages of all the people in the dictionary"
   ]
  },
  {
   "cell_type": "markdown",
   "metadata": {
    "lang": "en"
   },
   "source": [
    "## Exercises on functions"
   ]
  },
  {
   "cell_type": "markdown",
   "metadata": {
    "lang": "en"
   },
   "source": [
    "### Exercise 1"
   ]
  },
  {
   "cell_type": "markdown",
   "metadata": {
    "lang": "en"
   },
   "source": [
    "The objective of this first exercise is to carry out a Python program allowing an elementary examination of a large number of experimental results. The experimental tests in question are tensile tests on test specimens.\n",
    "\n",
    "The points of interest that are discussed in this exercise are as follows:\n",
    "\n",
    "1. Modularity of the code.\n",
    "1. Processing of text files\n",
    "1. Simple math function\n",
    "\n",
    "The expected operation for the program is as follows:\n",
    "\n",
    "1. The user provides as input the path to the folder containing all the experimental files\n",
    "1. The program lists all the files contained in this folder\n",
    "1. For each file:\n",
    "    *Reading data from file* Identification of maximum stress and strain at break\n",
    "    * Storage of these quantities in a container\n",
    "1. Calculation of the means of the maximum stress and the breaking stress\n",
    "1. Calculation of the variances of the maximum stress and the breaking stress\n",
    "1. Display of results in the console (with its own formatting)\n",
    "1. Write the results in a text file.\n",
    "\n",
    "\n",
    "The files containing the experimental data can be downloaded at the following address http://bmarchand.fr/download/data/tp1.tar.gz"
   ]
  },
  {
   "cell_type": "markdown",
   "metadata": {
    "lang": "en"
   },
   "source": [
    "### Exercise 2"
   ]
  },
  {
   "cell_type": "markdown",
   "metadata": {
    "lang": "en"
   },
   "source": [
    "In this second exercise the objective is to define an `evalPolynom` function which must allow:\n",
    "\n",
    "1. Evaluate an arbitrary order polynomial, defined by its coefficients, into a given `x` value.\n",
    "2. Return, if the user requests it, the values ​​of `M` successively derived from this polynomial evaluated at` x` as well.\n",
    "3. Display a clear help message via the `help` function"
   ]
  },
  {
   "cell_type": "markdown",
   "metadata": {
    "lang": "en"
   },
   "source": [
    "## Exercises on the classes"
   ]
  },
  {
   "cell_type": "markdown",
   "metadata": {
    "lang": "en"
   },
   "source": [
    "### Exercise 1"
   ]
  },
  {
   "cell_type": "markdown",
   "metadata": {
    "lang": "en"
   },
   "source": [
    "In this first exercise you will define a class `Vector2D` and` Vector3D` having:\n",
    "\n",
    "* for private attributes:\n",
    "    * `values` a list of doubles (2 values ​​for` Vector2D` and 3 values ​​for ̀`Vector3D`\n",
    "    * `size` an integer specifying the size of the vector\n",
    "    \n",
    "The desired behavior for these two objects is as follows:\n",
    "\n",
    "1. Be able to display the vector properly using print\n",
    "2. Return the size using the `len` function\n",
    "3. Access the values ​​contained in the `values` attribute\n",
    "4. Have all the usual operations* Sum of two ̀`Vector`\n",
    "    *Difference of two ̀`Vector`* Term-to-term multiplication of two ̀`Vector`\n",
    "    \n",
    "5. Make broadcasting, i.e. the sum of a `Vector2` and a` Vector3` must return a `Vector3` for which the last component is unchanged."
   ]
  },
  {
   "cell_type": "markdown",
   "metadata": {
    "lang": "en"
   },
   "source": [
    "### Exercise 2"
   ]
  },
  {
   "cell_type": "markdown",
   "metadata": {
    "lang": "en"
   },
   "source": [
    "**Note**:\n",
    "\n",
    "Don't you find that the previous exercise still involves a lot of copy and paste? You should in any case !!!\n",
    "\n",
    "The objective of this exercise is therefore to redo exercise 1 by using the concept *of inheritance* in order to minimize copy and paste."
   ]
  },
  {
   "cell_type": "markdown",
   "metadata": {
    "lang": "en"
   },
   "source": [
    "## Numpy exercise"
   ]
  },
  {
   "cell_type": "markdown",
   "metadata": {
    "lang": "en"
   },
   "source": [
    "### Data manipulation\n",
    "\n",
    "The objective here is to redo exercise 1 on functions by now using numpy as much as possible"
   ]
  },
  {
   "cell_type": "markdown",
   "metadata": {
    "lang": "en"
   },
   "source": [
    "### Image manipulation (thanks V. Roy for the subject)"
   ]
  },
  {
   "cell_type": "code",
   "execution_count": null,
   "metadata": {},
   "outputs": [],
   "source": [
    "import numpy as np\n",
    "from matplotlib import pyplot as plt"
   ]
  },
  {
   "cell_type": "markdown",
   "metadata": {
    "lang": "en"
   },
   "source": [
    "**concepts involved in this lab**\n",
    "\n",
    "on `numpy.ndarray` arrays\n",
    "* `reshape ()`, tests, boolean masks, *ufunc*, aggregation, linear operations on `numpy.ndarray`\n",
    "* the other concepts used are recalled (very briefly)\n",
    "\n",
    "for reading, writing and viewing images\n",
    "* use `plt.imread`,`plt.imshow`\n",
    "* use `plt.show()` between two `plt.imshow ()` in the same cell\n",
    "\n",
    "**note**\n",
    "\n",
    "* we use the basic functions on the `pyplot` images for simplicity\n",
    "* we do not mean here at all that they are the best\n",
    "  for example `matplotlib.pyplot.imsave` does not allow you to give the compression quality\n",
    "  while the `save` function of` PIL` allows it\n",
    "* you are free to use another library like `opencv`\n",
    "  if you know it well enough to get by (and install it), the pictures are just a pretext **don't forget to use the help in case of problem.**"
   ]
  },
  {
   "cell_type": "markdown",
   "metadata": {
    "lang": "en"
   },
   "source": [
    "#### Sum of RGB values ​​of an image"
   ]
  },
  {
   "cell_type": "markdown",
   "metadata": {
    "lang": "en"
   },
   "source": [
    "0. Read the image `media/les-mines.jpg`\n",
    "\n",
    "1. Create a new array `numpy.ndarray` by adding **with the operator` + `** the RGB values ​​of the pixels of your image\n",
    "\n",
    "2. Display the image (not terrible), its maximum and its type\n",
    "\n",
    "3. Create a new array `numpy.ndarray` by adding **with the aggregation function` np.sum`** the RGB values ​​of the pixels of your image\n",
    "\n",
    "4. Display the image, its maximum and its type\n",
    "\n",
    "5. Why this difference? Use the help `np.sum?`\n",
    "\n",
    "6. Make the image grayscale of type 8-bit unsigned integer\n",
    "(whichever way you prefer)\n",
    "\n",
    "7. Replace in the grayscale image,\n",
    "values> = to 127 by 255 and those lower by 0\n",
    "Display the image with a grayscale color map\n",
    "you can use the `numpy.where` function\n",
    "\n",
    "8. with the function `numpy.unique`\n",
    "look at the different values ​​you have in your black and white image"
   ]
  },
  {
   "cell_type": "markdown",
   "metadata": {
    "lang": "en"
   },
   "source": [
    "#### Sepia image"
   ]
  },
  {
   "cell_type": "markdown",
   "metadata": {
    "lang": "en"
   },
   "source": [
    "To change the R, G and B values ​​of a pixel to sepia\n",
    "(encoded here on an 8-bit unsigned integer)\n",
    "\n",
    "1. we transform the values $R$, $G$ and $B$ by the transformation  \n",
    "   $0.393\\, R + 0.769\\, G + 0.189\\, B$  \n",
    "   $0.349\\, R + 0.686\\, G + 0.168\\, B$  \n",
    "   $0.272\\, R + 0.534\\, G + 0.131\\, B$  \n",
    "   (attention the calculations must be done in floats not in uint8\n",
    "   so as not to have, for example, 256 becoming 0)\n",
    "1. then we threshold the values ​​which are greater than `255` to` 255`\n",
    "1. of course the image must then be submitted in the correct format\n",
    "   (uint8 or float between 0 and 1)"
   ]
  },
  {
   "cell_type": "markdown",
   "metadata": {
    "lang": "en"
   },
   "source": [
    "**Exercise**\n",
    "\n",
    "1. Make a function which takes an RGB image as argument and renders a sepia RGB image.\n",
    "\n",
    "1. Spend your patchwork of colors in sepia\n",
    "Read the `media/patchwork-all.jpg` file if you don't have a custom file\n",
    "2. Pass the image `media/les-mines.jpg` in sepia"
   ]
  },
  {
   "cell_type": "markdown",
   "metadata": {
    "lang": "en"
   },
   "source": [
    "#### Image compression by SVD"
   ]
  },
  {
   "cell_type": "markdown",
   "metadata": {
    "lang": "en"
   },
   "source": [
    "In this exercise the objective is to compress a grayscale image using an SVD (Singular Value Decomposition). The image to compress is as follows:"
   ]
  },
  {
   "cell_type": "markdown",
   "metadata": {},
   "source": [
    "![](data/carrie_fisher.png)"
   ]
  },
  {
   "cell_type": "markdown",
   "metadata": {
    "lang": "en"
   },
   "source": [
    "As a reminder, the SVD decomposition of a $\\mathbf{A} \\in \\mathbb{R}^{m\\times n}$ matrix is ​​written as follows:\n",
    "\n",
    "$$ \\mathbf{A} = \\mathbf{U}\\cdot\\mathbf{\\Sigma}\\cdot\\mathbf{V} $$\n",
    "\n",
    "With $\\mathbf{U}\\in \\mathbb{R}^{m\\times m}$, $\\mathbf{\\Sigma}\\in\\mathbb{R}^{m\\times n}$ is a diagonal matrix of singular values ​​and $\\mathbf{V} \\in \\mathbb{R}^{n\\times n}$."
   ]
  },
  {
   "cell_type": "markdown",
   "metadata": {
    "lang": "en"
   },
   "source": [
    "**Question 1:**\n",
    "\n",
    "Load the image of Carrie Fisher (you will find in the data folder a file carrie_fisher.npy containing the image or in the form of an np.ndarray) and calculate its decomposition into singular values.\n",
    "\n",
    "**Question 2:**\n",
    "\n",
    "Trace the evolution of the singular values ​​of the image.\n",
    "\n",
    "**Question 3:**\n",
    "\n",
    "For different truncations ($k=\\lbrace 1,5,10,15,20,30,50,100 \\rbrace$) reconstruct the image, display it and calculate the compression rate obtained."
   ]
  },
  {
   "cell_type": "markdown",
   "metadata": {
    "lang": "en"
   },
   "source": [
    "#### Solving a system of N springs"
   ]
  },
  {
   "cell_type": "code",
   "execution_count": 1,
   "metadata": {},
   "outputs": [
    {
     "data": {
      "text/html": [
       "\n",
       "        <iframe\n",
       "            width=\"600\"\n",
       "            height=\"300\"\n",
       "            src=\"./media/spring.pdf\"\n",
       "            frameborder=\"0\"\n",
       "            allowfullscreen\n",
       "        ></iframe>\n",
       "        "
      ],
      "text/plain": [
       "<IPython.lib.display.IFrame at 0x7fcb587a8110>"
      ]
     },
     "execution_count": 1,
     "metadata": {},
     "output_type": "execute_result"
    }
   ],
   "source": [
    "from IPython.display import IFrame\n",
    "\n",
    "IFrame(\"./media/spring.pdf\", width=600, height=300)"
   ]
  },
  {
   "cell_type": "markdown",
   "metadata": {
    "lang": "en"
   },
   "source": [
    "The objective is to determine by a matrix approach the response of the system to a $F$ effort.\n",
    "\n",
    "The formulation of the problem must therefore be reduced to the resolution of a problem of the form\n",
    "\n",
    "$$ \\mathbf{K} \\cdot \\mathbf{u} = \\mathbf{F}$$\n",
    "\n",
    "With $\\mathbf{K} \\in \\mathbb{R}^{M\\times M}$, $\\mathbf{u} \\in \\mathbb{R}^{M}$, $\\mathbf{F} \\in \\mathbb{R}^{M}$ and $M$ the number of points in the system."
   ]
  },
  {
   "cell_type": "markdown",
   "metadata": {
    "lang": "en"
   },
   "source": [
    "For that it is recalled that the potential energy of the system can be expressed in the following form:\n",
    "\n",
    "$$ E_p = \\frac{1}{2} \\sum_{i=1}^{N} \\left( u_{i,1} - u_{i,0} \\right)\\cdot  k_{i} \\cdot \\left( u_{i,1} - u_{i,0} \\right) $$\n",
    "\n",
    "With $u_{i,0}$ the displacement of the first attachment node of the $i$-th spring and $u_{i,1}$ the displacement of the second attachment node of the $i$-th spring.\n",
    "\n",
    "This potential energy can be written in the following matrix form:\n",
    "\n",
    "$$ E_p = \\frac{1}{2} \\mathbf{U}^T \\cdot \\mathbf{K} \\cdot \\mathbf{U} $$\n",
    "\n",
    "Then using the potential energy theorem we can write that\n",
    "\n",
    "$$ \\mathbf{K}\\cdot \\mathbf{U} = \\mathbf{F} $$"
   ]
  },
  {
   "cell_type": "markdown",
   "metadata": {
    "lang": "en"
   },
   "source": [
    "**Question 1:**\n",
    "\n",
    "\n",
    "From the expression of the potential energy of a spring define the elementary stiffness matrix."
   ]
  },
  {
   "cell_type": "markdown",
   "metadata": {
    "lang": "en"
   },
   "source": [
    "**Question 2:**\n",
    "\n",
    "Use the stiffness matrix of a spring to build the global $\\mathbf{K}$ matrix. To do this, use the notion of connectivity table. As a reminder, the connectivity table is a $L$ list such that the $i$-th element of $L$ is the doublet of the indices of the spring attachment points."
   ]
  },
  {
   "cell_type": "markdown",
   "metadata": {
    "lang": "en"
   },
   "source": [
    "**Question 3:**\n",
    "\n",
    "Build the right hand side $F$."
   ]
  },
  {
   "cell_type": "markdown",
   "metadata": {
    "lang": "en"
   },
   "source": [
    "**Question 4:**\n",
    "    \n",
    "Solve the linear system"
   ]
  },
  {
   "cell_type": "markdown",
   "metadata": {
    "lang": "en"
   },
   "source": [
    "**Bonus:**\n",
    "\n",
    "Using matplotlib, visualize the profile of the matrix $\\mathbf{K}$:\n",
    "\n",
    "```python\n",
    "import matplotlib.pyplot as plt\n",
    "plt.imshow (K)\n",
    "plt.colorbar ()\n",
    "plt.show ()\n",
    "```\n",
    "\n",
    "What can we conclude from this? What avenue of improvement is possible to accelerate the resolution of the problem?"
   ]
  },
  {
   "cell_type": "markdown",
   "metadata": {
    "lang": "en"
   },
   "source": [
    "## Scipy exercises"
   ]
  },
  {
   "cell_type": "markdown",
   "metadata": {
    "lang": "en"
   },
   "source": [
    "### EDO resolution"
   ]
  },
  {
   "cell_type": "markdown",
   "metadata": {
    "lang": "en"
   },
   "source": [
    "Consider a classical RC circuit defined by the following differential equation:\n",
    "\n",
    "$$ RC \\frac{du}{dt} + u = u_e $$\n",
    "\n",
    "$$ \\frac{du}{dt} = \\frac{u_e - u }{RC} $$\n",
    "\n",
    "\n",
    "With $R=1000\\Omega$, $C=10^{-6}F$ and $u(t=0) = 0$."
   ]
  },
  {
   "cell_type": "markdown",
   "metadata": {
    "lang": "en"
   },
   "source": [
    "**Question 1:**\n",
    "\n",
    "In the case where $u_e(t) = U_0$ with $U_0=10\\,V$ calculate the solution of the differential equation over the interval $[0, 0.005]$.\n",
    "\n",
    "**Question 2:**\n",
    "\n",
    "In the case where $u_e(t) = U_0 \\sin \\left( 2\\pi f t \\right)$ with $U_0=10\\,V$ and $f=100\\,Hz$ calculate the solution of the differential equation over the interval $[0, 5/f]$."
   ]
  },
  {
   "cell_type": "markdown",
   "metadata": {
    "lang": "en"
   },
   "source": [
    "### Solving a system of differential equation"
   ]
  },
  {
   "cell_type": "markdown",
   "metadata": {
    "lang": "en"
   },
   "source": [
    "Consider a classical RLC circuit defined by the following differential equation:\n",
    "\n",
    "$$LC\\frac{d^2u}{dt^2} + RC \\frac{du}{dt} + u = u_e $$"
   ]
  },
  {
   "cell_type": "markdown",
   "metadata": {
    "lang": "en"
   },
   "source": [
    "**Question 1:**\n",
    "\n",
    "Transform this second-order equation into a system of two first-order equations."
   ]
  },
  {
   "cell_type": "markdown",
   "metadata": {
    "lang": "en"
   },
   "source": [
    "**Question 2:**\n",
    "\n",
    "Determine the evolution of $u(t)$ over the interval $t \\in [0, 0.02]$ for $R=1000\\,\\Omega$, $F=10^{-6}\\,F$. It is up to you to choose the value of $L$ to solve: (i) in pseudo-periodic regime; (ii) aperiodic; (iii) critical."
   ]
  },
  {
   "cell_type": "markdown",
   "metadata": {
    "lang": "en"
   },
   "source": [
    "As a reminder :\n",
    "$$q = \\frac{1}{R} \\sqrt{ \\frac{L}{C} } \\; ; \\; \\begin{cases} \n",
    "q = \\dfrac{1}{2} & critical \\\\\n",
    "q < \\dfrac{1}{2} & aperiodic \\\\ \n",
    "q > \\dfrac{1}{2} & pseudo-periodic\n",
    "\\end{cases}\n",
    "$$"
   ]
  },
  {
   "cell_type": "markdown",
   "metadata": {
    "lang": "en"
   },
   "source": [
    "If we want by using `ipywidgets` (we have to install it via conda) we can make an interactive graph with the value of $L$."
   ]
  },
  {
   "cell_type": "markdown",
   "metadata": {
    "lang": "en"
   },
   "source": [
    "### Find the zero of a scalar function"
   ]
  },
  {
   "cell_type": "markdown",
   "metadata": {
    "lang": "en"
   },
   "source": [
    "Consider Kepler's equation:\n",
    "\n",
    "$$ x - e\\cdot \\sin x = m $$"
   ]
  },
  {
   "cell_type": "markdown",
   "metadata": {
    "lang": "en"
   },
   "source": [
    "**Question 1:**\n",
    "\n",
    "Using `scipy` find the solution of Kepler's equation in the case where $e=\\frac{1}{2}$ and $m=1$. Check that the solution found by scipy is correct."
   ]
  },
  {
   "cell_type": "markdown",
   "metadata": {
    "lang": "en"
   },
   "source": [
    "### Parameter identification --- RC circuit"
   ]
  },
  {
   "cell_type": "markdown",
   "metadata": {
    "lang": "en"
   },
   "source": [
    "Consider the RC circuit previously studied.\n",
    "\n",
    "We will try to identify the parameter R of the system from \"experimental\" data.\n",
    "The experimental data in question are given in the file `notebook / data / exp _data_ rc.dat`. If we represent these data we obtain the following curve:"
   ]
  },
  {
   "cell_type": "code",
   "execution_count": 5,
   "metadata": {},
   "outputs": [
    {
     "data": {
      "image/png": "[encoded data removed]",
      "text/plain": [
       "<Figure size 432x288 with 1 Axes>"
      ]
     },
     "metadata": {
      "needs_background": "light"
     },
     "output_type": "display_data"
    }
   ],
   "source": [
    "import matplotlib.pyplot as plt \n",
    "import numpy as np\n",
    "import pathlib as pl \n",
    "\n",
    "data = np.loadtxt(str(pl.Path(\".\") / \"data\" / \"exp_data_rc.dat\"))\n",
    "\n",
    "plt.plot( data[:,0], data[:,1])\n",
    "plt.xlabel(\"Time (s)\")\n",
    "plt.ylabel(\"U (V)\")\n",
    "plt.show()\n"
   ]
  },
  {
   "cell_type": "markdown",
   "metadata": {
    "lang": "en"
   },
   "source": [
    "These data are obtained with the following configuration:\n",
    "\n",
    "$$ u_e = 10\\,V\\, ; \\, C=10^{-6}\\,F\\, ; \\, R=?? $$"
   ]
  },
  {
   "cell_type": "markdown",
   "metadata": {
    "lang": "en"
   },
   "source": [
    "**Question 1:**\n",
    "Formulate the optimization problem to be solved to identify the parameter R?\n",
    "\n",
    "**Question 2:**\n",
    "Using `scipy.optimize` identify the value of the R parameter.\n",
    "\n",
    "**Question 3:**\n",
    "Represent on the same graph the experimental data and the result of the model for the identified value of $R$."
   ]
  },
  {
   "cell_type": "code",
   "execution_count": null,
   "metadata": {},
   "outputs": [],
   "source": []
  },
  {
   "cell_type": "code",
   "execution_count": null,
   "metadata": {},
   "outputs": [],
   "source": []
  }
 ],
 "metadata": {
  "kernelspec": {
   "display_name": "Python 3",
   "language": "python",
   "name": "python3"
  },
  "language_info": {
   "codemirror_mode": {
    "name": "ipython",
    "version": 3
   },
   "file_extension": ".py",
   "mimetype": "text/x-python",
   "name": "python",
   "nbconvert_exporter": "python",
   "pygments_lexer": "ipython3",
   "version": "3.7.4"
  },
  "nbTranslate": {
   "displayLangs": [
    "*"
   ],
   "hotkey": "alt-t",
   "langInMainMenu": true,
   "sourceLang": "fr",
   "targetLang": "en",
   "useGoogleTranslate": true
  }
 },
 "nbformat": 4,
 "nbformat_minor": 2
}
