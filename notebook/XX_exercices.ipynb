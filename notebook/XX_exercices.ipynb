{
 "cells": [
  {
   "cell_type": "markdown",
   "metadata": {},
   "source": [
    "# Exercices du cours\n",
    "\n",
    "**Basile Marchand (Centre des Matériaux - Mines ParisTech/CNRS/Université PSL)**"
   ]
  },
  {
   "cell_type": "markdown",
   "metadata": {},
   "source": [
    "## Exercice sur le slicing\n",
    "\n",
    "   1. créer la chaîne de caractères:  j'adore python et numpy !\n",
    "   1. accéder au premier et au dernier caractère de la chaîne 'j' et '!'\n",
    "   1. découper la chaîne pour ne garder que \"adore\"\n",
    "   1. renverser la chaîne: ! ypmun te nohtyp eroda'j\n",
    "   1. découper la chaîne pour ne garder que \"jaoepto tnmy!"
   ]
  },
  {
   "cell_type": "markdown",
   "metadata": {},
   "source": [
    "## Exercices sur les chaînes de caractères\n",
    "\n",
    "### Exercice 1\n",
    "   1. créer une chaîne de caractères en python\n",
    "   1. imprimer la chaîne et sa longueur en utilisant une f-string\n",
    "   1. créer une autre chaîne de caractères\n",
    "   1. concaténer les deux chaînes\n",
    "   1. mettre le résultat en majuscule\n",
    "\n",
    "### Exercices 2\n",
    "\n",
    "   1. créer une chaîne multi-lignes et l'afficher\n",
    "   1. découper la chaîne pour obtenir une liste des lignes (méthode **split**)\n",
    "   1. afficher chacune des lignes à l'aide d'une boucle for en la prefixant par son numéro"
   ]
  },
  {
   "cell_type": "markdown",
   "metadata": {},
   "source": [
    "## Exercice sur les listes\n",
    "\n",
    "   1. construire une liste contenant un entier, une chaînes de caractères, un flottant, la fonction *foo* precédente, un booléen\n",
    "   1. modifier le premier élément de la liste\n",
    "   1. slicer la liste de manière à n'en garder qu'un élément sur 2 à partir du début\n",
    "   1. tester si un élément est dans la liste\n",
    "   1. créer une nouvelle liste contenant elle même une liste\n",
    "   1. concaténer les deux listes\n",
    "   1. imprimer avec un **for** les éléments de la liste  "
   ]
  },
  {
   "cell_type": "markdown",
   "metadata": {},
   "source": [
    "## Exercice sur les dictionnaires\n",
    "\n",
    "   1. créer un dictionnaire avec des paires de personnes décrites par leur nom et leur age\n",
    "   1. afficher le type d'un dictionnaire\n",
    "   1. tester si une personne est dans le dictionnaire et si oui modifier son age\n",
    "   1. Apppliquer la fonction **items** au dictionnaire, que renvoie-t-elle ?\n",
    "   1. imprimer avec un **for** les noms et l'age de toutes les personnes du dictionnaire  "
   ]
  },
  {
   "cell_type": "code",
   "execution_count": null,
   "metadata": {},
   "outputs": [],
   "source": []
  }
 ],
 "metadata": {
  "kernelspec": {
   "display_name": "Python 3",
   "language": "python",
   "name": "python3"
  },
  "language_info": {
   "codemirror_mode": {
    "name": "ipython",
    "version": 3
   },
   "file_extension": ".py",
   "mimetype": "text/x-python",
   "name": "python",
   "nbconvert_exporter": "python",
   "pygments_lexer": "ipython3",
   "version": "3.7.4"
  }
 },
 "nbformat": 4,
 "nbformat_minor": 2
}
