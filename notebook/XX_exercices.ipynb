{
 "cells": [
  {
   "cell_type": "markdown",
   "metadata": {
    "lang": "en"
   },
   "source": [
    "# Course exercises\n",
    "\n",
    "**Basile Marchand (Materials Center - Mines ParisTech / CNRS / PSL University)**"
   ]
  },
  {
   "cell_type": "markdown",
   "metadata": {
    "lang": "en"
   },
   "source": [
    "## Slicing exercise\n",
    "\n",
    "   1. create the string: I love python and numpy!\n",
    "   1.access the first and last character of the string 'I' and '!'\n",
    "   1. cut the chain to keep only \"love\"\n",
    "   1. reverse the chain:! ypmun dna nohtyp evol I\n",
    "   1. cut the chain to keep only \"Ilv pto ad nmy\""
   ]
  },
  {
   "cell_type": "markdown",
   "metadata": {
    "lang": "en"
   },
   "source": [
    "## Exercises on strings\n",
    "\n",
    "### Exercise 1\n",
    "   1. create a string in python\n",
    "   1. print the string and its length using an f-string\n",
    "   1. create another character string\n",
    "   1. concatenate the two strings\n",
    "   1. put the result in uppercase\n",
    "\n",
    "### Exercises 2\n",
    "\n",
    "   1. create a multi-line string and display it\n",
    "   1. split the string to obtain a list of lines (**split** method)\n",
    "   1. display each line using a for loop by prefixing it with its number"
   ]
  },
  {
   "cell_type": "markdown",
   "metadata": {
    "lang": "en"
   },
   "source": [
    "## Exercise on the lists\n",
    "\n",
    "   1. build a list containing an integer, a character string, a float, a boolean\n",
    "   1. modify the first element of the list\n",
    "   1. slice the list so as to keep only one element out of 2 from the beginning\n",
    "   1. test if an element is in the list\n",
    "   1. create a new list containing a list itself\n",
    "   1. concatenate the two lists\n",
    "   1. print with a **for** the elements of the list"
   ]
  },
  {
   "cell_type": "markdown",
   "metadata": {
    "lang": "en"
   },
   "source": [
    "## Exercise on dictionaries\n",
    "\n",
    "   1. create a dictionary with pairs of people described by name and age\n",
    "   1. display the type of a dictionary\n",
    "   1. test if a person is in the dictionary and if so modify his age\n",
    "   1. Apply the **items** function to the dictionary, what does it return?\n",
    "   1. print with a **for** the names and ages of all the people in the dictionary"
   ]
  },
  {
   "cell_type": "markdown",
   "metadata": {
    "lang": "en"
   },
   "source": [
    "## Exercises on functions"
   ]
  },
  {
   "cell_type": "markdown",
   "metadata": {
    "lang": "en"
   },
   "source": [
    "### Exercise 1"
   ]
  },
  {
   "cell_type": "markdown",
   "metadata": {
    "lang": "en"
   },
   "source": [
    "The objective of this first exercise is to carry out a Python program allowing an elementary examination of a large number of experimental results. The experimental tests in question are tensile tests on test specimens.\n",
    "\n",
    "The points of interest that are discussed in this exercise are as follows:\n",
    "\n",
    "1. Modularity of the code.\n",
    "1. Processing of text files\n",
    "1. Simple math function\n",
    "\n",
    "The expected operation for the program is as follows:\n",
    "\n",
    "1. The user provides as input the path to the folder containing all the experimental files\n",
    "1. The program lists all the files contained in this folder\n",
    "1. For each file:\n",
    "    *Reading data from file* Identification of maximum stress and strain at break\n",
    "    * Storage of these quantities in a container\n",
    "1. Calculation of the means of the maximum stress and the breaking stress\n",
    "1. Calculation of the variances of the maximum stress and the breaking stress\n",
    "1. Display of results in the console (with its own formatting)\n",
    "1. Write the results in a text file.\n",
    "\n",
    "\n",
    "The files containing the experimental data can be downloaded at the following address http://bmarchand.fr/download/data/tp1.tar.gz"
   ]
  },
  {
   "cell_type": "markdown",
   "metadata": {
    "lang": "en"
   },
   "source": [
    "### Exercise 2"
   ]
  },
  {
   "cell_type": "markdown",
   "metadata": {
    "lang": "en"
   },
   "source": [
    "In this second exercise the objective is to define an `evalPolynom` function which must allow:\n",
    "\n",
    "1. Evaluate an arbitrary order polynomial, defined by its coefficients, into a given `x` value.\n",
    "2. Return, if the user requests it, the values ​​of `M` successively derived from this polynomial evaluated at` x` as well.\n",
    "3. Display a clear help message via the `help` function"
   ]
  },
  {
   "cell_type": "markdown",
   "metadata": {
    "lang": "en"
   },
   "source": [
    "## Exercises on the classes"
   ]
  },
  {
   "cell_type": "markdown",
   "metadata": {
    "lang": "en"
   },
   "source": [
    "### Exercise 1"
   ]
  },
  {
   "cell_type": "markdown",
   "metadata": {
    "lang": "en"
   },
   "source": [
    "In this first exercise you will define a class `Vector2D` and` Vector3D` having:\n",
    "\n",
    "* for private attributes:\n",
    "    * `values` a list of doubles (2 values ​​for` Vector2D` and 3 values ​​for ̀`Vector3D`\n",
    "    * `size` an integer specifying the size of the vector\n",
    "    \n",
    "The desired behavior for these two objects is as follows:\n",
    "\n",
    "1. Be able to display the vector properly using print\n",
    "2. Return the size using the `len` function\n",
    "3. Access the values ​​contained in the `values` attribute\n",
    "4. Have all the usual operations* Sum of two ̀`Vector`\n",
    "    *Difference of two ̀`Vector`* Term-to-term multiplication of two ̀`Vector`\n",
    "    \n",
    "5. Make broadcasting, i.e. the sum of a `Vector2` and a` Vector3` must return a `Vector3` for which the last component is unchanged."
   ]
  },
  {
   "cell_type": "markdown",
   "metadata": {
    "lang": "en"
   },
   "source": [
    "### Exercise 2"
   ]
  },
  {
   "cell_type": "markdown",
   "metadata": {
    "lang": "en"
   },
   "source": [
    "**Note**:\n",
    "\n",
    "Don't you find that the previous exercise still involves a lot of copy and paste? You should in any case !!!\n",
    "\n",
    "The objective of this exercise is therefore to redo exercise 1 by using the concept *of inheritance* in order to minimize copy and paste."
   ]
  }
 ],
 "metadata": {
  "kernelspec": {
   "display_name": "Python 3 (ipykernel)",
   "language": "python",
   "name": "python3"
  },
  "language_info": {
   "codemirror_mode": {
    "name": "ipython",
    "version": 3
   },
   "file_extension": ".py",
   "mimetype": "text/x-python",
   "name": "python",
   "nbconvert_exporter": "python",
   "pygments_lexer": "ipython3",
   "version": "3.9.6"
  },
  "nbTranslate": {
   "displayLangs": [],
   "hotkey": "alt-t",
   "langInMainMenu": true,
   "sourceLang": "fr",
   "targetLang": "en",
   "useGoogleTranslate": true
  }
 },
 "nbformat": 4,
 "nbformat_minor": 2
}
