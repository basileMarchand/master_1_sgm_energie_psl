{
 "cells": [
  {
   "cell_type": "markdown",
   "metadata": {
    "slideshow": {
     "slide_type": "slide"
    }
   },
   "source": [
    "## Variables et structures de contrôle\n",
    "\n",
    "**Basile Marchand (Centre des Matériaux - Mines ParisTech/CNRS/Université PSL)**"
   ]
  },
  {
   "cell_type": "markdown",
   "metadata": {
    "slideshow": {
     "slide_type": "slide"
    }
   },
   "source": [
    "### 3 - Définir et manipuler des variables "
   ]
  },
  {
   "cell_type": "markdown",
   "metadata": {
    "slideshow": {
     "slide_type": "subslide"
    }
   },
   "source": [
    "#### 3.1 - Concrètement une variable c'est quoi ? "
   ]
  },
  {
   "cell_type": "markdown",
   "metadata": {
    "slideshow": {
     "slide_type": "subslide"
    }
   },
   "source": [
    "De manière générale en informatique une variable est un symbole associé à une valeur. La valeur en question peut être de tous types. Suivant le langage de programmation considéré une variable peut être typée (c'est à dire qu'à sa déclaration on lui associe un type immutable) ou non (c'est-à-dire que la valeur associée à la variable peut changer de type au cours de l'exécution du programme). Python est un langage de programmation non-typé. En d'autres mots si l'on déclare une variable A contenant une chaine de caractère on peut plus loin dans le programme lui associer à la place un nombre par exemple."
   ]
  },
  {
   "cell_type": "markdown",
   "metadata": {
    "slideshow": {
     "slide_type": "subslide"
    }
   },
   "source": [
    "La langage Python, par rapport à des lanagages de bas niveau tel le C, simplifie grandement la manipulation des variables. En effet classiquemet pour créer une variable on distingue l'opération de déclaration de l'opération d'affectation. Typiquement en C++ la première étape consiste à déclarer une variable A avec son type. Et dans un second temps à l'aide de l'opérateur `=` on affecte  à cette variable une valeur du type correspondant. Par exemple pour définir un entier en c++ :   \n",
    "```c\n",
    "int un_entier;\n",
    "un_entier = 1;\n",
    "```"
   ]
  },
  {
   "cell_type": "markdown",
   "metadata": {
    "slideshow": {
     "slide_type": "fragment"
    }
   },
   "source": [
    "En Python l'étape de déclaration est incluse dans l'affectation. En effet puisque les variables ne sont pas typés en Python elles ne peuvent pas être déclarées à l'avance. En toute rigeur si cela est possible mais ne sert strictement à rien étant donnés les mécanismes internes du langage. "
   ]
  },
  {
   "cell_type": "markdown",
   "metadata": {
    "slideshow": {
     "slide_type": "subslide"
    }
   },
   "source": [
    "La question que l'on peut alors se poser est où se situe concrètement la valeur associée à la variable dans l'ordinateur ? Dans un fichier ? Et non elle se situe dans la mémoire vive RAM. Comment cela fonctionne : \n",
    "Lorsque dans un code Python on créé une variable A associée à une valeur d'un certain type (nombre flottant par exemple) la machinerie du langage va automatiquement demandée à l'ordinateur de lui donner une case dans la mémoire (la taille de la case dépend du type de la valeur que l'on veut y stocker). Le langage Python récupère alors un pointeur vers la case mémoire allouée (une adresse mémoire) et il associe à cette adresse mémoire la variable que l'on va manipuler. \n",
    "Le langage Python est dis de haut niveau entre autre à cause de ce processus de création en mémoire des variables qui est automatisé et transparent pour l'utilisateur. Contrairement au langage de bas niveau, comme le C ou le FORTRAN par exemple où le programmeur doit explicitement demandé l'allocation d'une case mémoire avant d'y stocker une valeur. "
   ]
  },
  {
   "cell_type": "markdown",
   "metadata": {
    "slideshow": {
     "slide_type": "subslide"
    }
   },
   "source": [
    "*Astuce :* pour connaitre l'adresse en mémoire d'une variable en Python il suffit de faire :"
   ]
  },
  {
   "cell_type": "code",
   "execution_count": 1,
   "metadata": {
    "scrolled": true,
    "slideshow": {
     "slide_type": "fragment"
    }
   },
   "outputs": [
    {
     "data": {
      "text/plain": [
       "'0x7f4fb458f210'"
      ]
     },
     "execution_count": 1,
     "metadata": {},
     "output_type": "execute_result"
    }
   ],
   "source": [
    "ma_variable = 12.4    # on définit une variable nommée ma_variable et l'on y associe la valeur 12.4\n",
    "hex(id(ma_variable))  # on demande l'adresse mémoire en hexadecimal"
   ]
  },
  {
   "cell_type": "markdown",
   "metadata": {
    "slideshow": {
     "slide_type": "subslide"
    }
   },
   "source": [
    "#### 3.2 - Comment définit-t-on une variable ? Peut-on tout définir comme variable ?"
   ]
  },
  {
   "cell_type": "markdown",
   "metadata": {
    "slideshow": {
     "slide_type": "subslide"
    }
   },
   "source": [
    "En Python, comme dans un certains nombre d'autre langage, l'affectation d'une valeur à une variable (qui au passage en Python créé la variable si elle n'existe pas) se fait à l'aide du symbole **=**\n",
    "La syntaxe valable pour tous les types est la suivante : \n",
    "```python\n",
    "nom_de_la_variable = valeur_associée\n",
    "```\n",
    "\n",
    "Par exemple : "
   ]
  },
  {
   "cell_type": "code",
   "execution_count": 2,
   "metadata": {
    "slideshow": {
     "slide_type": "fragment"
    }
   },
   "outputs": [],
   "source": [
    "var1 = 1.3"
   ]
  },
  {
   "cell_type": "markdown",
   "metadata": {
    "slideshow": {
     "slide_type": "subslide"
    }
   },
   "source": [
    "Remarque concernant le nommage des variables : la **PEP8**\n",
    "\n",
    "Le nommage des variables est un élément important, quelque soit le langage de programmation. En effet un mauvais choix dans le nom des variables n'affecte pas le fonctionnement du code mais il engendre : \n",
    "* Des erreurs de programmation.\n",
    "* Un code difficilement lisible est compréhensible. \n",
    "* Un code difficile à maintenir et à faire évoluer.\n",
    "\n",
    "Le premier point le plus important est donc qu'il faut toujours nommer les variables de telle sorte que l'on sache juste avec son nom ce à quoi elle fait référence. \n",
    "\n",
    "Il existe pour Python des recommendations \"officielles\" concernant le nommage des variables, il s'agit de la [PEP8](https://www.python.org/dev/peps/pep-0008/). \n",
    "\n",
    "Parmis les divers recommendations contenues dans la PEP8, celle concernant le nommage des variables stipule que : \n",
    "\n",
    "* Les noms de variables commencent par une lettre minuscule\n",
    "* Si le nom se compose de plusieurs mots, ces derniers sont séparés par des **_**\n",
    "```python\n",
    "ma_variable\n",
    "```"
   ]
  },
  {
   "cell_type": "markdown",
   "metadata": {
    "slideshow": {
     "slide_type": "subslide"
    }
   },
   "source": [
    "*Astuce :* pour connaitre le type d'une variable il suffit d'utiliser "
   ]
  },
  {
   "cell_type": "code",
   "execution_count": 3,
   "metadata": {
    "slideshow": {
     "slide_type": "fragment"
    }
   },
   "outputs": [
    {
     "data": {
      "text/plain": [
       "float"
      ]
     },
     "execution_count": 3,
     "metadata": {},
     "output_type": "execute_result"
    }
   ],
   "source": [
    "type(ma_variable)"
   ]
  },
  {
   "cell_type": "markdown",
   "metadata": {
    "slideshow": {
     "slide_type": "subslide"
    }
   },
   "source": [
    "#### 3.3 - Les types de base (donc pas les seuls possibles) !\n",
    "\n",
    "Nous allons à présent passer en revue les différents types de base disponibles en Python. _De base_ car, nous le verrons plus tard dans le cours, Python permet de définir de nouveaux types additionels. Nous verrons également que l'utilisation de modules complémentaires permet de manipuler d'autre types tels que les matrices par exemple. \n"
   ]
  },
  {
   "cell_type": "markdown",
   "metadata": {
    "slideshow": {
     "slide_type": "subslide"
    }
   },
   "source": [
    "#### Les nombres : entiers, flottants et complexes\n",
    "\n",
    "Comme tout langage informatique Python permet la manipulation des nombres de tous types, entiers, flottants et complexes. \n",
    "\n",
    "**Les entiers** sont des objets de type **int** (pour integer). "
   ]
  },
  {
   "cell_type": "code",
   "execution_count": 4,
   "metadata": {
    "slideshow": {
     "slide_type": "fragment"
    }
   },
   "outputs": [],
   "source": [
    "un_entier = 127;\n",
    "## ou bien \n",
    "un_entier = int(127)\n",
    "\n",
    "un_entier, un_autre = 128,25"
   ]
  },
  {
   "cell_type": "markdown",
   "metadata": {
    "slideshow": {
     "slide_type": "subslide"
    }
   },
   "source": [
    "Toutes les opérations usuelles addition, soustraction, multiplication, division et élévation à la puissance sont déjà définies et utilisables sur les entiers."
   ]
  },
  {
   "cell_type": "code",
   "execution_count": 5,
   "metadata": {
    "slideshow": {
     "slide_type": "fragment"
    }
   },
   "outputs": [
    {
     "name": "stdout",
     "output_type": "stream",
     "text": [
      "4\n",
      "-2\n",
      "3\n",
      "0.3333333333333333\n",
      "0\n",
      "1\n",
      "1\n"
     ]
    }
   ],
   "source": [
    "a = 1\n",
    "b = 3\n",
    "\n",
    "print(a+b)  ## Addition\n",
    "print(a-b)  ## Soustraction\n",
    "print(a*b)  ## Multiplication\n",
    "print(a/b)  ## Division\n",
    "print(a//b) ## Division entière\n",
    "print(a%b)  ## Reste de la division entière\n",
    "print(a**b) ## a à la puissance b"
   ]
  },
  {
   "cell_type": "markdown",
   "metadata": {
    "slideshow": {
     "slide_type": "subslide"
    }
   },
   "source": [
    "**Attention** : En Python 2.X la division **/** de deux entiers retourne en réalité la division entière tandis qu'en Python 3.X il s'agit bien d'une division flottante. "
   ]
  },
  {
   "cell_type": "code",
   "execution_count": 6,
   "metadata": {
    "slideshow": {
     "slide_type": "fragment"
    }
   },
   "outputs": [
    {
     "name": "stdout",
     "output_type": "stream",
     "text": [
      "a/b = 0\n"
     ]
    }
   ],
   "source": [
    "%%python2\n",
    "a = 1 \n",
    "b = 3\n",
    "print(\"a/b = {}\".format( a/b ))"
   ]
  },
  {
   "cell_type": "markdown",
   "metadata": {
    "slideshow": {
     "slide_type": "subslide"
    }
   },
   "source": [
    "Les **réels** sont des objects de type **float** pour flottant"
   ]
  },
  {
   "cell_type": "code",
   "execution_count": 7,
   "metadata": {
    "slideshow": {
     "slide_type": "fragment"
    }
   },
   "outputs": [
    {
     "data": {
      "text/plain": [
       "float"
      ]
     },
     "execution_count": 7,
     "metadata": {},
     "output_type": "execute_result"
    }
   ],
   "source": [
    "un_flottant = 1.34\n",
    "type(un_flottant)"
   ]
  },
  {
   "cell_type": "markdown",
   "metadata": {
    "slideshow": {
     "slide_type": "fragment"
    }
   },
   "source": [
    "Les flottants se définissent en Python suivant la même logique que les entiers, attention la virgule est représentée par un point. "
   ]
  },
  {
   "cell_type": "code",
   "execution_count": 8,
   "metadata": {
    "slideshow": {
     "slide_type": "fragment"
    }
   },
   "outputs": [],
   "source": [
    "a = 1.2387\n",
    "## ou bien \n",
    "a = float(1.2387)"
   ]
  },
  {
   "cell_type": "markdown",
   "metadata": {
    "slideshow": {
     "slide_type": "fragment"
    }
   },
   "source": [
    "On peut également définir $0.000123$ par $1.23 e^{-4}$ de la manière suivante"
   ]
  },
  {
   "cell_type": "code",
   "execution_count": 9,
   "metadata": {
    "slideshow": {
     "slide_type": "fragment"
    }
   },
   "outputs": [
    {
     "data": {
      "text/plain": [
       "0.000123"
      ]
     },
     "execution_count": 9,
     "metadata": {},
     "output_type": "execute_result"
    }
   ],
   "source": [
    "1.23e-4"
   ]
  },
  {
   "cell_type": "markdown",
   "metadata": {
    "slideshow": {
     "slide_type": "subslide"
    }
   },
   "source": [
    "Comme pour les entiers toutes les opérations usuelles sont définies et utilisables en Python "
   ]
  },
  {
   "cell_type": "code",
   "execution_count": 10,
   "metadata": {
    "slideshow": {
     "slide_type": "fragment"
    }
   },
   "outputs": [
    {
     "name": "stdout",
     "output_type": "stream",
     "text": [
      "3.6900000000000004\n",
      "-1.2100000000000002\n",
      "3.0380000000000003\n",
      "0.5061224489795918\n",
      "1.6938819049274374\n"
     ]
    }
   ],
   "source": [
    "a = 1.24\n",
    "b = 2.45\n",
    "\n",
    "print(a+b)   ## Addition\n",
    "print(a-b)   ## Soustraction\n",
    "print(a*b)   ## Multiplication\n",
    "print(a/b)   ## Division\n",
    "print(a**b)  ## a puissance b"
   ]
  },
  {
   "cell_type": "markdown",
   "metadata": {
    "slideshow": {
     "slide_type": "subslide"
    }
   },
   "source": [
    "Lorsque l'on mélange les types au sein d'expressions Python se charge automatiquement de faire la conversion des opérandes dans le type approprié. \n",
    "\n",
    "Par exemple la somme d'un entier et d'un flottant retourne un flottant"
   ]
  },
  {
   "cell_type": "code",
   "execution_count": 11,
   "metadata": {
    "slideshow": {
     "slide_type": "fragment"
    }
   },
   "outputs": [
    {
     "name": "stdout",
     "output_type": "stream",
     "text": [
      "<class 'int'>\n",
      "<class 'float'>\n",
      "4.0\n",
      "<class 'float'>\n"
     ]
    }
   ],
   "source": [
    "a = 2\n",
    "print(type(a))\n",
    "b = 2.\n",
    "print(type(b))\n",
    "c = a + b\n",
    "print(c)\n",
    "print(type(c))"
   ]
  },
  {
   "cell_type": "markdown",
   "metadata": {
    "slideshow": {
     "slide_type": "subslide"
    }
   },
   "source": [
    "Les **complexes** se définissent par un doublet de deux nombres la partie réelle et la partie imaginaire. En Python la définition de ce doublet peut se faire de deux manière différentes "
   ]
  },
  {
   "cell_type": "code",
   "execution_count": 12,
   "metadata": {
    "slideshow": {
     "slide_type": "fragment"
    }
   },
   "outputs": [],
   "source": [
    "## Utilisation du constructeur \"complex\"\n",
    "un_complex = complex(1,1)   # correspond à 1+1i\n",
    "## Utilisation de la constante \"j\"\n",
    "un_complex = 1+1j"
   ]
  },
  {
   "cell_type": "markdown",
   "metadata": {
    "slideshow": {
     "slide_type": "fragment"
    }
   },
   "source": [
    "*Attention* : il n'y a pas d'opérateur __*__ entre le 1 et le j si vous essayez de mettre cet opérateur dans la définition d'un complex cela entrainera une erreur "
   ]
  },
  {
   "cell_type": "markdown",
   "metadata": {
    "slideshow": {
     "slide_type": "fragment"
    }
   },
   "source": [
    "```python \n",
    ">>> x=1\n",
    ">>> y=2\n",
    ">>> c = x+y*j\n",
    "\n",
    "---------------------------------------------------------------------------\n",
    "NameError                                 Traceback (most recent call last)\n",
    "<ipython-input-26-b894b6a64e03> in <module>()\n",
    "      1 x=1\n",
    "      2 y=2\n",
    "----> 3 c = x+y*j\n",
    "\n",
    "NameError: name 'j' is not defined\n",
    "```"
   ]
  },
  {
   "cell_type": "markdown",
   "metadata": {
    "slideshow": {
     "slide_type": "subslide"
    }
   },
   "source": [
    "*Astuce* : si vous souhaitez manipuler des complexes faisant intervenir des variables sans devoir réécrire la commande **complex** à chaque fois le plus simple est de procéder de la manière suivante "
   ]
  },
  {
   "cell_type": "code",
   "execution_count": 13,
   "metadata": {
    "slideshow": {
     "slide_type": "fragment"
    }
   },
   "outputs": [
    {
     "name": "stdout",
     "output_type": "stream",
     "text": [
      "(1+2j)\n"
     ]
    }
   ],
   "source": [
    "i = 1j\n",
    "x = 1\n",
    "y = 2\n",
    "\n",
    "c = x+i*y\n",
    "print(c)\n"
   ]
  },
  {
   "cell_type": "markdown",
   "metadata": {
    "slideshow": {
     "slide_type": "subslide"
    }
   },
   "source": [
    "Bien évidemment les opérations de bases sur les nombres complexes existent déjà en Python. "
   ]
  },
  {
   "cell_type": "code",
   "execution_count": 14,
   "metadata": {
    "slideshow": {
     "slide_type": "fragment"
    }
   },
   "outputs": [
    {
     "name": "stdout",
     "output_type": "stream",
     "text": [
      "(3+4.45j)\n",
      "(-1-2.45j)\n",
      "(-1.4500000000000002+5.45j)\n",
      "(0.3427134098412199-0.09118063197610438j)\n"
     ]
    }
   ],
   "source": [
    "c1 = 1+1j\n",
    "c2 = 2+3.45j\n",
    "\n",
    "print(c1+c2)\n",
    "print(c1-c2)\n",
    "print(c1*c2)\n",
    "print(c1/c2)"
   ]
  },
  {
   "cell_type": "markdown",
   "metadata": {
    "slideshow": {
     "slide_type": "subslide"
    }
   },
   "source": [
    "Mais il y a également d'autre opérations spécifiques disponibles"
   ]
  },
  {
   "cell_type": "code",
   "execution_count": 15,
   "metadata": {
    "slideshow": {
     "slide_type": "fragment"
    }
   },
   "outputs": [
    {
     "name": "stdout",
     "output_type": "stream",
     "text": [
      "1.0\n",
      "1.0\n",
      "(1-1j)\n",
      "1.4142135623730951\n"
     ]
    }
   ],
   "source": [
    "print(c1.real)        ## Partie réelle\n",
    "print(c1.imag)        ## Partie imaginaire\n",
    "print(c1.conjugate()) ## Conjuguée de c1\n",
    "print(abs(c1))        ## Module de c1"
   ]
  },
  {
   "cell_type": "markdown",
   "metadata": {
    "slideshow": {
     "slide_type": "subslide"
    }
   },
   "source": [
    "#### Les booléens"
   ]
  },
  {
   "cell_type": "markdown",
   "metadata": {
    "slideshow": {
     "slide_type": "fragment"
    }
   },
   "source": [
    "Le type **booléen** est utiliser en Python pour l'écriture d'expressions logiques, de tests. Le type booléen ne peut prendre que deux valeurs **True** ou **False**. "
   ]
  },
  {
   "cell_type": "code",
   "execution_count": 16,
   "metadata": {
    "slideshow": {
     "slide_type": "fragment"
    }
   },
   "outputs": [],
   "source": [
    "un_vrai = True\n",
    "un_faux = False"
   ]
  },
  {
   "cell_type": "markdown",
   "metadata": {
    "slideshow": {
     "slide_type": "fragment"
    }
   },
   "source": [
    "Afin de construire des expressions logiques on dispose en Python des opérateurs logiques suivants : \n",
    "* Opérateurs de comparaisons (applicables aux nombres entiers et flottants) : >,>=,<,<=,==,!=\n",
    "* Connecteurs : and, or, not, == ou is, in"
   ]
  },
  {
   "cell_type": "markdown",
   "metadata": {
    "slideshow": {
     "slide_type": "subslide"
    }
   },
   "source": [
    "Ci-dessous quelques exemples d'expressions logiques : "
   ]
  },
  {
   "cell_type": "code",
   "execution_count": 17,
   "metadata": {
    "slideshow": {
     "slide_type": "fragment"
    }
   },
   "outputs": [
    {
     "name": "stdout",
     "output_type": "stream",
     "text": [
      "True\n",
      "False\n",
      "True\n",
      "False\n",
      "True\n",
      "False\n",
      "True\n"
     ]
    }
   ],
   "source": [
    "a = 2.3\n",
    "b = 10\n",
    "\n",
    "print( a <= b)\n",
    "print( a >= b)\n",
    "print( (a <= b) is True )\n",
    "print( (a <= b) == False )\n",
    "print( (a <= b) or (a > b) )\n",
    "print( ( (a <= b) or (a > b) ) and ( a>b ) )\n",
    "print( not (b>10.))"
   ]
  },
  {
   "cell_type": "markdown",
   "metadata": {
    "slideshow": {
     "slide_type": "subslide"
    }
   },
   "source": [
    "#### Les chaines de caractères"
   ]
  },
  {
   "cell_type": "markdown",
   "metadata": {
    "slideshow": {
     "slide_type": "fragment"
    }
   },
   "source": [
    "Le dernier type natif en Python est le type **string** pour les chaînes de caractères. Les chaînes de caractères en Python peuvent se définir de trois manières différentes. "
   ]
  },
  {
   "cell_type": "code",
   "execution_count": 18,
   "metadata": {
    "slideshow": {
     "slide_type": "fragment"
    }
   },
   "outputs": [],
   "source": [
    "une_string = \"Hell World\"\n",
    "### ou bien \n",
    "une_string = 'Hello World'\n",
    "### ou encore\n",
    "une_string = \"\"\"Hello World\"\"\""
   ]
  },
  {
   "cell_type": "markdown",
   "metadata": {
    "slideshow": {
     "slide_type": "subslide"
    }
   },
   "source": [
    "Ces trois méthodes de définitions ont toutes un intérêt. La première permet de définir des chaînes de caractères contenant des apostrophes. La seconde permet de définir des chaines de caractères contenant des guillemets. Enfin la dernière permet quant à elle de conserver le formatage de la chaîne de caractères lorsque l'on affiche cette dernière avec la command **print** par exemple"
   ]
  },
  {
   "cell_type": "code",
   "execution_count": 19,
   "metadata": {
    "slideshow": {
     "slide_type": "fragment"
    }
   },
   "outputs": [
    {
     "name": "stdout",
     "output_type": "stream",
     "text": [
      "Bonjour tout le monde, comment allez vous ?\n",
      "Bonjour tout le monde, \n",
      "comment allez vous ? \n"
     ]
    }
   ],
   "source": [
    "une_chaine_sans_formatage = \"Bonjour tout le monde, comment allez vous ?\"\n",
    "print( une_chaine_sans_formatage )\n",
    "une_chaine_avec_formatage = \"\"\"Bonjour tout le monde, \n",
    "comment allez vous ? \"\"\"\n",
    "print( une_chaine_avec_formatage )"
   ]
  },
  {
   "cell_type": "markdown",
   "metadata": {
    "slideshow": {
     "slide_type": "fragment"
    }
   },
   "source": [
    "*Remarque :* la dernière méthode d'écriture d'une chaîne de caractère, basée sur les triples guillemets, permet également de définir des blocs de commentaires. "
   ]
  },
  {
   "cell_type": "markdown",
   "metadata": {
    "slideshow": {
     "slide_type": "subslide"
    }
   },
   "source": [
    "**Manipulation des chaînes de caractères**"
   ]
  },
  {
   "cell_type": "markdown",
   "metadata": {
    "slideshow": {
     "slide_type": "fragment"
    }
   },
   "source": [
    "Nous allons à présent voir comment l'on peut manipuler les chaînes de caractères. Cela peut paraitre accessoire mais pour le traitement de données expérimentales une grosse partie du travail est le traitement de fichier et donc de chaines de caractères représentant leurs contenus. Il est donc primordial de savoir traiter rapidement et efficacement des chaînes de caractères. Voici  ci dessous quelques opérations élémentaires sur les chaines de caractères. "
   ]
  },
  {
   "cell_type": "code",
   "execution_count": 20,
   "metadata": {
    "slideshow": {
     "slide_type": "subslide"
    }
   },
   "outputs": [],
   "source": [
    "chaine_a = \"debut\"\n",
    "chaine_b = \"fin\""
   ]
  },
  {
   "cell_type": "markdown",
   "metadata": {
    "slideshow": {
     "slide_type": "fragment"
    }
   },
   "source": [
    "*Concaténation de chaînes de caractères :*"
   ]
  },
  {
   "cell_type": "code",
   "execution_count": 21,
   "metadata": {
    "slideshow": {
     "slide_type": "fragment"
    }
   },
   "outputs": [
    {
     "name": "stdout",
     "output_type": "stream",
     "text": [
      "debutfin\n",
      "debut fin\n"
     ]
    }
   ],
   "source": [
    "res = chaine_a + chaine_b \n",
    "print(res)\n",
    "res = chaine_a + \" \" + chaine_b\n",
    "print(res)"
   ]
  },
  {
   "cell_type": "markdown",
   "metadata": {
    "slideshow": {
     "slide_type": "fragment"
    }
   },
   "source": [
    "*Formattage d'une chaine de caractère :*"
   ]
  },
  {
   "cell_type": "code",
   "execution_count": 22,
   "metadata": {
    "slideshow": {
     "slide_type": "fragment"
    }
   },
   "outputs": [
    {
     "name": "stdout",
     "output_type": "stream",
     "text": [
      "Une chaine de caractère avec un entier 1 un flottant 2.34 et un booléen False\n"
     ]
    }
   ],
   "source": [
    "ma_chaine = \"Une chaine de caractère avec un entier {} un flottant {} et un booléen {}\".format(1,2.34,False)\n",
    "print( ma_chaine )"
   ]
  },
  {
   "cell_type": "code",
   "execution_count": 23,
   "metadata": {
    "slideshow": {
     "slide_type": "fragment"
    }
   },
   "outputs": [
    {
     "name": "stdout",
     "output_type": "stream",
     "text": [
      "Une chaine de caractère avec un entier 1 un flottant 2.34 et un booléen False\n"
     ]
    }
   ],
   "source": [
    "ma_chaine = \"Une chaine de caractère avec un entier {2} un flottant {1} et un booléen {0}\".format(False,2.34,1)\n",
    "print( ma_chaine )"
   ]
  },
  {
   "cell_type": "markdown",
   "metadata": {
    "slideshow": {
     "slide_type": "subslide"
    }
   },
   "source": [
    "*Trouver si une sous-chaîne est dans une chaîne :*"
   ]
  },
  {
   "cell_type": "code",
   "execution_count": 24,
   "metadata": {
    "slideshow": {
     "slide_type": "fragment"
    }
   },
   "outputs": [
    {
     "name": "stdout",
     "output_type": "stream",
     "text": [
      "True\n"
     ]
    }
   ],
   "source": [
    "sous_chaine = \"bu\"\n",
    "print( sous_chaine in chaine_a )\n"
   ]
  },
  {
   "cell_type": "markdown",
   "metadata": {
    "slideshow": {
     "slide_type": "subslide"
    }
   },
   "source": [
    "*Séparer une chaine en un ensemble de chaîne au niveau d'un charactère donné :*"
   ]
  },
  {
   "cell_type": "code",
   "execution_count": 25,
   "metadata": {
    "slideshow": {
     "slide_type": "fragment"
    }
   },
   "outputs": [
    {
     "name": "stdout",
     "output_type": "stream",
     "text": [
      "debutfin\n",
      "['debu', 'fin']\n",
      "debu\n",
      "fin\n"
     ]
    }
   ],
   "source": [
    "res = chaine_a + chaine_b\n",
    "print(res)\n",
    "after_split = res.split(\"t\")\n",
    "print(after_split)\n",
    "print(after_split[0])\n",
    "print(after_split[1])"
   ]
  },
  {
   "cell_type": "markdown",
   "metadata": {
    "slideshow": {
     "slide_type": "slide"
    }
   },
   "source": [
    "### 4 - Les structures de contrôles"
   ]
  },
  {
   "cell_type": "markdown",
   "metadata": {
    "slideshow": {
     "slide_type": "subslide"
    }
   },
   "source": [
    "#### Principe\n",
    "Le derniers point abordé dans cette première partie est ce que l'on appelle en informatique les structures de contrôles. \n",
    "Nous avons vu précédemment que l'on peut facilement écrire des expressions logiques portant sur des variables. Ce que l'on n'a pas vu pour le moment c'est à quoi le résultat des ces expressions logiques peut servir dans le code et c'est là qu'interviennent les structures de contrôle. \n",
    "En effet l'intérêt d'un programme informatique est généralement de réaliser un certain nombre de tâches/actions. Mais suivant les valeurs d'entrées du programmes les actions à effectuer ne sont potentiellement pas les même c'est donc pour cela que l'on a besoin de mettre en place des expressions logiques associées aux structures de contrôle afin **d'aiguiller** le programme et le flux de traitement. \n",
    "\n",
    "Concrètement, imaginons que je fasse un programme qui en fonction de notes me dise automatiquement si un élève valide mon module ou doit aller en rattrapage. Une fois la note calculée, il faut que je teste si cette dernière est supérieur ou égale à 10 ou bien si elle est inférieure à 10 car suivant le cas considérer le programme ne doit pas afficher le même message. C'est donc en cela que consiste l'utilisation des structures de contrôles. "
   ]
  },
  {
   "cell_type": "markdown",
   "metadata": {
    "slideshow": {
     "slide_type": "subslide"
    }
   },
   "source": [
    "#### if ... elif ... else\n",
    "\n",
    "En Python les seules commandes permettant d'orienter le déroulement d'un programme sont **if**, **elif** et **else**. Ce qui vous l'aurez surement deviné peut se traduire par **si**, **sinon si**, **sinon**. \n",
    "\n",
    "\n",
    "```python\n",
    "if une_première_condition:\n",
    "    action_associée_a_la_premiere_condition\n",
    "elif une_autre_condition:\n",
    "    action_associée_a_la_seconde_condition\n",
    "else:\n",
    "    action_effectuée_par_défaut\n",
    "```\n",
    "\n",
    "Bien entendu la syntaxe permet d'avoir autant de **elif** que nécessaire, autant voulant dire de __0 à N__. Vous ne pouvez en revanche avoir qu'un seul **else** et vous devez forcément commencer par un **if**. Les objets/variables conditions doivent être de type *booléen* ou *entier*. En effet Python peut assimiler un entier à un booléen en suivant la règle suivante si l'entier vaut **0** il est associé à **False**, s'il est différent de 0 il est associé à **True**.\n"
   ]
  },
  {
   "cell_type": "markdown",
   "metadata": {
    "slideshow": {
     "slide_type": "subslide"
    }
   },
   "source": [
    "> **Important** : règle syntaxique   \n",
    "> Vous l'avez peut être constaté :\n",
    "> * à la fin de chacune des lignes if, elif, else il y a le caractère \"**:**\"\n",
    "> * il n'y a pas de mot clé pour spéficier la fin de la structure de contrôle (pas de endif)\n",
    "> * les lignes de commandes situées au sein de la structure de contrôle (sous les commandes if, elif, else) sont indentées.  \n",
    ">\n",
    "> Il s'agit là d'un concept fondamental en Python, tous les blocs d'instruction commencent par le caractère \"**:**\" et sont délimités par le niveau d'indentation du code. Par exemple : \n",
    ">```python \n",
    ">if une_condition:\n",
    ">    ## Debut des instructions executées si la condition \"une_condition\" est vraie\n",
    ">    a = 2\n",
    ">    print(a)\n",
    ">    b = 3\n",
    ">    print(b)\n",
    ">    ## Fin des instructions contenues dans le if\n",
    ">### Reprise du code executé que l'on passe dans le if ou non\n",
    ">a = 234\n",
    ">b = a**3\n",
    ">print( b )\n",
    ">```"
   ]
  },
  {
   "cell_type": "markdown",
   "metadata": {
    "slideshow": {
     "slide_type": "subslide"
    }
   },
   "source": [
    "En suivant cette règle d'indentation il est tout à fait possible d'imbriquer plusieurs blocs d'instructions if, elif, else les uns dans les autres. Par exemple : \n",
    "\n",
    "```python\n",
    "if condition_1:\n",
    "    if sous_condition_11:\n",
    "        une_action\n",
    "    elif sous_condition_12:\n",
    "        une_autre_action\n",
    "    else:\n",
    "        encore_une_autre_action\n",
    "elif condition_2:\n",
    "    if sous_condition_21:\n",
    "        pass\n",
    "    elif:\n",
    "        une_action\n",
    "else:\n",
    "    une_action\n",
    "```    \n",
    "\n",
    "Vous voyez au passage apparaitre le mot clé `pass`. Ce dernier dans les fait ne sert à rien, puisqu'il n'effectue aucune action. Son seul intérêt et de permettre de respecter les règles de syntaxe. Dans le cas précédent il permet de définir un bloc **elif** associé à un bloc **if** qui n'effectue aucune action. "
   ]
  },
  {
   "cell_type": "markdown",
   "metadata": {
    "slideshow": {
     "slide_type": "subslide"
    }
   },
   "source": [
    "*Remargue sur l'indentation :*  \n",
    "Pour les indentations de votre code vous pouvez utiliser :\n",
    "* La touche tabulation \n",
    "* Un nombre arbitraire d'espaces (généralement 4)  \n",
    "Cependant attention il ne faut en aucun cas mélanger tabulation et espace dans votre code, car sinon vous aurez une erreur à l'exécution du code. La plupart des éditeurs de texte remplace automatique les tabulations par 4 espaces. Cependant certains éditeurs sous Windows notamment ne le font pas ce qui peut engendrer des erreurs. Le message d'erreur retourné par Python est assez explicite et est de la forme\n",
    "\n",
    "```python\n",
    "TabError : inconsistent use of tabs and spaces in indentation\n",
    "```"
   ]
  },
  {
   "cell_type": "code",
   "execution_count": null,
   "metadata": {
    "slideshow": {
     "slide_type": "subslide"
    }
   },
   "outputs": [],
   "source": []
  },
  {
   "cell_type": "code",
   "execution_count": null,
   "metadata": {},
   "outputs": [],
   "source": []
  }
 ],
 "metadata": {
  "celltoolbar": "Diaporama",
  "kernelspec": {
   "display_name": "Python 3",
   "language": "python",
   "name": "python3"
  },
  "language_info": {
   "codemirror_mode": {
    "name": "ipython",
    "version": 3
   },
   "file_extension": ".py",
   "mimetype": "text/x-python",
   "name": "python",
   "nbconvert_exporter": "python",
   "pygments_lexer": "ipython3",
   "version": "3.7.4"
  }
 },
 "nbformat": 4,
 "nbformat_minor": 2
}
