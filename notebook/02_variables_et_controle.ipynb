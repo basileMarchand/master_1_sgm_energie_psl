{
 "cells": [
  {
   "cell_type": "markdown",
   "metadata": {
    "lang": "en"
   },
   "source": [
    "# Variables and control structures\n",
    "\n",
    "**Basile Marchand (Materials Center - Mines ParisTech / CNRS / PSL University)**"
   ]
  },
  {
   "cell_type": "markdown",
   "metadata": {
    "lang": "en"
   },
   "source": [
    "## Define and manipulate variables"
   ]
  },
  {
   "cell_type": "markdown",
   "metadata": {
    "lang": "en"
   },
   "source": [
    "### Concretely, what is a variable?"
   ]
  },
  {
   "cell_type": "markdown",
   "metadata": {
    "lang": "en"
   },
   "source": [
    "Generally in computer science, a variable is a symbol associated with a value. The value in question can be of any type. Depending on the programming language considered, a variable can be typed (i.e. when it is declared an immutable type is associated with it) or not (i.e. the value associated with the variable can change type during program execution). Python is an untyped programming language. In other words, if you declare a variable A containing a character string, you can later in the program associate it with a number for example."
   ]
  },
  {
   "cell_type": "markdown",
   "metadata": {
    "lang": "en"
   },
   "source": [
    "The Python language, compared to low level lanagages such as C, greatly simplifies the manipulation of variables. Classically, to create a variable, a distinction is made between the declaration operation and the assignment operation. Typically in C ++ the first step consists in declaring a variable A with its type. And secondly, using the `=` operator, we assign this variable a value of the corresponding type. For example to define an integer in C ++:\n",
    "\n",
    "``` c\n",
    "int an integer;\n",
    "an integer = 1;\n",
    "```"
   ]
  },
  {
   "cell_type": "markdown",
   "metadata": {
    "lang": "en"
   },
   "source": [
    "In Python the declaration step is included in the assignment. Indeed since the variables are not typed in Python they cannot be declared in advance. Strictly if it is possible, but is strictly useless given the internal mechanisms of the language."
   ]
  },
  {
   "cell_type": "markdown",
   "metadata": {
    "lang": "en"
   },
   "source": [
    "The question that can then be asked is where is the value associated with the variable located in the computer? In a file? And no, it is located in the RAM. How does it work :\n",
    "When in a Python code we create a variable A associated with a value of a certain type (floating number for example) the language machinery will automatically ask the computer to give it a box in the memory (the size of the box depends on the type of value we want to store there). The Python language then recovers a pointer to the allocated memory box (a memory address) and it associates with this memory address the variable that we are going to handle.\n",
    "The Python language is said to be high level among other things because of this process of creating variables in memory which is automated and transparent for the user. Unlike the low-level language, such as C or FORTRAN for example where the programmer must explicitly request the allocation of a memory slot before storing a value there."
   ]
  },
  {
   "cell_type": "markdown",
   "metadata": {
    "lang": "en"
   },
   "source": [
    "*Tip:* to know the address in memory of a variable in Python just do:"
   ]
  },
  {
   "cell_type": "code",
   "execution_count": 16,
   "metadata": {
    "scrolled": true,
    "slideshow": {
     "slide_type": "fragment"
    }
   },
   "outputs": [
    {
     "data": {
      "text/plain": [
       "'0x7f55e25e2f10'"
      ]
     },
     "execution_count": 16,
     "metadata": {},
     "output_type": "execute_result"
    }
   ],
   "source": [
    "ma_variable = 12.4    # on définit une variable nommée ma_variable et l'on y associe la valeur 12.4\n",
    "hex(id(ma_variable))  # on demande l'adresse mémoire en hexadecimal"
   ]
  },
  {
   "cell_type": "markdown",
   "metadata": {
    "lang": "en"
   },
   "source": [
    "### How do you define a variable? Can we define everything as a variable?"
   ]
  },
  {
   "cell_type": "markdown",
   "metadata": {
    "lang": "en"
   },
   "source": [
    "In Python, as in a number of other languages, the assignment of a value to a variable (which in passing in Python creates the variable if it does not exist) is done using the symbol **=**\n",
    "The syntax valid for all types is as follows:\n",
    "\n",
    "``` python\n",
    "name_of_the_variable = associated_value\n",
    "```\n",
    "\n",
    "For example :"
   ]
  },
  {
   "cell_type": "code",
   "execution_count": 2,
   "metadata": {
    "slideshow": {
     "slide_type": "fragment"
    }
   },
   "outputs": [],
   "source": [
    "var1 = 1.3"
   ]
  },
  {
   "cell_type": "markdown",
   "metadata": {
    "lang": "en"
   },
   "source": [
    "Note concerning the naming of variables: the **PEP8**\n",
    "\n",
    "The naming of variables is an important element, whatever the programming language. Indeed a bad choice in the name of the variables does not affect the operation of the code but it generates:\n",
    "\n",
    "* Programming errors.\n",
    "* Code that is difficult to read is understandable.\n",
    "* A code that is difficult to maintain and develop.\n",
    "\n",
    "The first most important point is therefore that you always have to name the variables in such a way that we know exactly with its name what it refers to.\n",
    "\n",
    "There are \"official\" recommendations for Python on variable naming, this is [PEP8](https://www.python.org/dev/peps/pep-0008/).\n",
    "\n",
    "Among the various recommendations contained in PEP8, the one concerning the naming of variables states that:\n",
    "* Variable names start with a lowercase letter\n",
    "* If the name consists of several words, they are separated by **_** \n",
    "\n",
    "```python\n",
    "my_variable\n",
    "```"
   ]
  },
  {
   "cell_type": "markdown",
   "metadata": {
    "lang": "en"
   },
   "source": [
    "*Tip:* to know the type of a variable just use"
   ]
  },
  {
   "cell_type": "code",
   "execution_count": 3,
   "metadata": {
    "slideshow": {
     "slide_type": "fragment"
    }
   },
   "outputs": [
    {
     "data": {
      "text/plain": [
       "float"
      ]
     },
     "execution_count": 3,
     "metadata": {},
     "output_type": "execute_result"
    }
   ],
   "source": [
    "type(ma_variable)"
   ]
  },
  {
   "cell_type": "markdown",
   "metadata": {
    "lang": "en"
   },
   "source": [
    "## The basic types (so not the only ones possible)!\n",
    "\n",
    "We will now go over the different base types available in Python. _Basic_ because, as we will see later in the course, Python allows you to define additional new types. We will also see that the use of complementary modules makes it possible to handle other types such as matrices for example."
   ]
  },
  {
   "cell_type": "markdown",
   "metadata": {
    "lang": "en"
   },
   "source": [
    "### Numbers: integers, floats and complexes\n",
    "\n",
    "Like any computer language, Python allows the manipulation of numbers of all types, integers, floats and complexes.\n",
    "\n",
    "**Integers** are objects of type **int** (for integer)."
   ]
  },
  {
   "cell_type": "code",
   "execution_count": 1,
   "metadata": {
    "slideshow": {
     "slide_type": "fragment"
    }
   },
   "outputs": [],
   "source": [
    "un_entier = 127\n",
    "## ou bien \n",
    "un_entier = int(127)\n",
    "\n",
    "un_entier, un_autre = 128,25"
   ]
  },
  {
   "cell_type": "markdown",
   "metadata": {
    "lang": "en"
   },
   "source": [
    "All the usual operations addition, subtraction, multiplication, division and raising to the power are already defined and can be used on integers."
   ]
  },
  {
   "cell_type": "code",
   "execution_count": 23,
   "metadata": {
    "scrolled": true,
    "slideshow": {
     "slide_type": "fragment"
    }
   },
   "outputs": [
    {
     "name": "stdout",
     "output_type": "stream",
     "text": [
      "4\n",
      "-2\n",
      "3\n",
      "0.3333333333333333\n",
      "0\n",
      "1\n",
      "1\n"
     ]
    }
   ],
   "source": [
    "a = 1\n",
    "b = 3\n",
    "\n",
    "print(a+b)  ## Addition\n",
    "print(a-b)  ## Soustraction\n",
    "print(a*b)  ## Multiplication\n",
    "print(a/b)  ## Division\n",
    "print(a//b) ## Division entière\n",
    "print(a%b)  ## Reste de la division entière\n",
    "print(a**b) ## a à la puissance b"
   ]
  },
  {
   "cell_type": "markdown",
   "metadata": {
    "lang": "en"
   },
   "source": [
    "**Warning**: In Python 2.X the division **/** of two integers actually returns the whole division while in Python 3.X it is indeed a floating division."
   ]
  },
  {
   "cell_type": "code",
   "execution_count": 2,
   "metadata": {
    "slideshow": {
     "slide_type": "fragment"
    }
   },
   "outputs": [
    {
     "name": "stdout",
     "output_type": "stream",
     "text": [
      "a/b = 0\n"
     ]
    }
   ],
   "source": [
    "%%python2\n",
    "a = 1 \n",
    "b = 3\n",
    "print(\"a/b = {}\".format( a/b ))"
   ]
  },
  {
   "cell_type": "markdown",
   "metadata": {
    "lang": "en"
   },
   "source": [
    "The **reals** are objects of type **float** for float"
   ]
  },
  {
   "cell_type": "code",
   "execution_count": 7,
   "metadata": {
    "slideshow": {
     "slide_type": "fragment"
    }
   },
   "outputs": [
    {
     "data": {
      "text/plain": [
       "float"
      ]
     },
     "execution_count": 7,
     "metadata": {},
     "output_type": "execute_result"
    }
   ],
   "source": [
    "un_flottant = 1.34\n",
    "type(un_flottant)"
   ]
  },
  {
   "cell_type": "markdown",
   "metadata": {
    "lang": "en"
   },
   "source": [
    "Floats are defined in Python using the same logic as integers, beware the comma is represented by a point."
   ]
  },
  {
   "cell_type": "code",
   "execution_count": 8,
   "metadata": {
    "slideshow": {
     "slide_type": "fragment"
    }
   },
   "outputs": [],
   "source": [
    "a = 1.2387\n",
    "## ou bien \n",
    "a = float(1.2387)"
   ]
  },
  {
   "cell_type": "markdown",
   "metadata": {
    "lang": "en"
   },
   "source": [
    "We can also define $0.000123$ by $1.23 e^{-4}$ as follows"
   ]
  },
  {
   "cell_type": "code",
   "execution_count": 13,
   "metadata": {
    "slideshow": {
     "slide_type": "fragment"
    }
   },
   "outputs": [
    {
     "data": {
      "text/plain": [
       "0.000123"
      ]
     },
     "execution_count": 13,
     "metadata": {},
     "output_type": "execute_result"
    }
   ],
   "source": [
    "1.23e-4"
   ]
  },
  {
   "cell_type": "markdown",
   "metadata": {
    "lang": "en"
   },
   "source": [
    "As for integers all the usual operations are defined and usable in Python"
   ]
  },
  {
   "cell_type": "code",
   "execution_count": 14,
   "metadata": {
    "slideshow": {
     "slide_type": "fragment"
    }
   },
   "outputs": [
    {
     "name": "stdout",
     "output_type": "stream",
     "text": [
      "3.6900000000000004\n",
      "-1.2100000000000002\n",
      "3.0380000000000003\n",
      "0.5061224489795918\n",
      "1.6938819049274374\n"
     ]
    }
   ],
   "source": [
    "a = 1.24\n",
    "b = 2.45\n",
    "\n",
    "print(a+b)   ## Addition\n",
    "print(a-b)   ## Soustraction\n",
    "print(a*b)   ## Multiplication\n",
    "print(a/b)   ## Division\n",
    "print(a**b)  ## a puissance b"
   ]
  },
  {
   "cell_type": "markdown",
   "metadata": {
    "lang": "en"
   },
   "source": [
    "When mixing types within expressions Python automatically takes care of converting the operands into the appropriate type.\n",
    "\n",
    "For example the sum of an integer and a float returns a float"
   ]
  },
  {
   "cell_type": "code",
   "execution_count": 7,
   "metadata": {
    "slideshow": {
     "slide_type": "fragment"
    }
   },
   "outputs": [
    {
     "name": "stdout",
     "output_type": "stream",
     "text": [
      "<class 'int'>\n",
      "<class 'float'>\n",
      "4.0\n",
      "<class 'float'>\n",
      "0.1\n",
      "0.2\n",
      "0.30000000000000004\n"
     ]
    }
   ],
   "source": [
    "a = 2\n",
    "print(type(a))\n",
    "b = 2.\n",
    "print(type(b))\n",
    "c = a + b\n",
    "print(c)\n",
    "print(type(c))\n",
    "\n",
    "a = 0.1\n",
    "b = 0.2\n",
    "c=a+b\n",
    "print(a)\n",
    "print(b)\n",
    "print(c)"
   ]
  },
  {
   "cell_type": "markdown",
   "metadata": {
    "lang": "en"
   },
   "source": [
    "The **complexes** are defined by a doublet of two numbers the real part and the imaginary part. In Python the definition of this doublet can be done in two different ways"
   ]
  },
  {
   "cell_type": "code",
   "execution_count": 15,
   "metadata": {
    "slideshow": {
     "slide_type": "fragment"
    }
   },
   "outputs": [],
   "source": [
    "## Utilisation du constructeur \"complex\"\n",
    "un_complex = complex(1,1)   # correspond à 1+1i\n",
    "## Utilisation de la constante \"j\"\n",
    "un_complex = 1+1j"
   ]
  },
  {
   "cell_type": "markdown",
   "metadata": {
    "lang": "en"
   },
   "source": [
    "*Warning*: there is no operator __*__ between the 1 and the j if you try to put this operator in the definition of a complex it will cause an error"
   ]
  },
  {
   "cell_type": "markdown",
   "metadata": {
    "slideshow": {
     "slide_type": "fragment"
    }
   },
   "source": [
    "```python \n",
    ">>> x=1\n",
    ">>> y=2\n",
    ">>> c = x+y*j\n",
    "\n",
    "---------------------------------------------------------------------------\n",
    "NameError                                 Traceback (most recent call last)\n",
    "<ipython-input-26-b894b6a64e03> in <module>()\n",
    "      1 x=1\n",
    "      2 y=2\n",
    "----> 3 c = x+y*j\n",
    "\n",
    "NameError: name 'j' is not defined\n",
    "```"
   ]
  },
  {
   "cell_type": "markdown",
   "metadata": {
    "lang": "en"
   },
   "source": [
    "*Tip*: if you want to handle complexes involving variables without having to rewrite the **complex** command each time, the easiest way is to proceed as follows"
   ]
  },
  {
   "cell_type": "code",
   "execution_count": 13,
   "metadata": {
    "slideshow": {
     "slide_type": "fragment"
    }
   },
   "outputs": [
    {
     "name": "stdout",
     "output_type": "stream",
     "text": [
      "(1+2j)\n"
     ]
    }
   ],
   "source": [
    "i = 1j\n",
    "x = 1\n",
    "y = 2\n",
    "\n",
    "c = x+i*y\n",
    "print(c)\n"
   ]
  },
  {
   "cell_type": "markdown",
   "metadata": {
    "lang": "en"
   },
   "source": [
    "Obviously basic operations on complex numbers already exist in Python."
   ]
  },
  {
   "cell_type": "code",
   "execution_count": 14,
   "metadata": {
    "slideshow": {
     "slide_type": "fragment"
    }
   },
   "outputs": [
    {
     "name": "stdout",
     "output_type": "stream",
     "text": [
      "(3+4.45j)\n",
      "(-1-2.45j)\n",
      "(-1.4500000000000002+5.45j)\n",
      "(0.3427134098412199-0.09118063197610438j)\n"
     ]
    }
   ],
   "source": [
    "c1 = 1+1j\n",
    "c2 = 2+3.45j\n",
    "\n",
    "print(c1+c2)\n",
    "print(c1-c2)\n",
    "print(c1*c2)\n",
    "print(c1/c2)"
   ]
  },
  {
   "cell_type": "markdown",
   "metadata": {
    "lang": "en"
   },
   "source": [
    "But there are also other specific operations available"
   ]
  },
  {
   "cell_type": "code",
   "execution_count": 15,
   "metadata": {
    "slideshow": {
     "slide_type": "fragment"
    }
   },
   "outputs": [
    {
     "name": "stdout",
     "output_type": "stream",
     "text": [
      "1.0\n",
      "1.0\n",
      "(1-1j)\n",
      "1.4142135623730951\n"
     ]
    }
   ],
   "source": [
    "print(c1.real)        ## Partie réelle\n",
    "print(c1.imag)        ## Partie imaginaire\n",
    "print(c1.conjugate()) ## Conjuguée de c1\n",
    "print(abs(c1))        ## Module de c1"
   ]
  },
  {
   "cell_type": "markdown",
   "metadata": {
    "lang": "en"
   },
   "source": [
    "### Booleans"
   ]
  },
  {
   "cell_type": "markdown",
   "metadata": {
    "lang": "en"
   },
   "source": [
    "The **boolean** type is used in Python for writing logical expressions, tests. The Boolean type can only take two values ​​**True** or **False**."
   ]
  },
  {
   "cell_type": "code",
   "execution_count": 16,
   "metadata": {
    "slideshow": {
     "slide_type": "fragment"
    }
   },
   "outputs": [],
   "source": [
    "un_vrai = True\n",
    "un_faux = False"
   ]
  },
  {
   "cell_type": "markdown",
   "metadata": {
    "lang": "en"
   },
   "source": [
    "In order to build logical expressions we have in Python the following logical operators:\n",
    "\n",
    "* Comparison operators (applicable to integers and floating point numbers):>,>=, <, <=, ==,!=\n",
    "* Connectors: and, or, not, == or is, in"
   ]
  },
  {
   "cell_type": "markdown",
   "metadata": {
    "lang": "en"
   },
   "source": [
    "Below are some examples of logical expressions:"
   ]
  },
  {
   "cell_type": "code",
   "execution_count": 17,
   "metadata": {
    "slideshow": {
     "slide_type": "fragment"
    }
   },
   "outputs": [
    {
     "name": "stdout",
     "output_type": "stream",
     "text": [
      "True\n",
      "False\n",
      "True\n",
      "False\n",
      "True\n",
      "False\n",
      "True\n"
     ]
    }
   ],
   "source": [
    "a = 2.3\n",
    "b = 10\n",
    "\n",
    "print( a <= b)\n",
    "print( a >= b)\n",
    "print( (a <= b) is True )\n",
    "print( (a <= b) == False )\n",
    "print( (a <= b) or (a > b) )\n",
    "print( ( (a <= b) or (a > b) ) and ( a>b ) )\n",
    "print( not (b>10.))"
   ]
  },
  {
   "cell_type": "markdown",
   "metadata": {
    "lang": "en"
   },
   "source": [
    "### The strings"
   ]
  },
  {
   "cell_type": "markdown",
   "metadata": {
    "lang": "en"
   },
   "source": [
    "The last native type in Python is the **string** type for strings. Strings in Python can be defined in three different ways."
   ]
  },
  {
   "cell_type": "code",
   "execution_count": 18,
   "metadata": {
    "slideshow": {
     "slide_type": "fragment"
    }
   },
   "outputs": [],
   "source": [
    "une_string = \"Hell World\"\n",
    "### ou bien \n",
    "une_string = 'Hello World'\n",
    "### ou encore\n",
    "une_string = \"\"\"Hello World\"\"\""
   ]
  },
  {
   "cell_type": "markdown",
   "metadata": {
    "lang": "en"
   },
   "source": [
    "These three methods of definitions all have an interest. The first allows you to define character strings containing apostrophes. The second allows you to define character strings containing quotes. Finally, the last allows to keep the formatting of the character string when it is displayed with the command **print** for example"
   ]
  },
  {
   "cell_type": "code",
   "execution_count": 19,
   "metadata": {
    "scrolled": true,
    "slideshow": {
     "slide_type": "fragment"
    }
   },
   "outputs": [
    {
     "name": "stdout",
     "output_type": "stream",
     "text": [
      "Bonjour tout le monde, comment allez vous ?\n",
      "Bonjour tout le monde, \n",
      "comment allez vous ? \n"
     ]
    }
   ],
   "source": [
    "une_chaine_sans_formatage = \"Bonjour tout le monde, comment allez vous ?\"\n",
    "print( une_chaine_sans_formatage )\n",
    "une_chaine_avec_formatage = \"\"\"Bonjour tout le monde, \n",
    "comment allez vous ? \"\"\"\n",
    "print( une_chaine_avec_formatage )"
   ]
  },
  {
   "cell_type": "markdown",
   "metadata": {
    "lang": "en"
   },
   "source": [
    "*Note:* the last method of writing a character string, based on triple quotes, also allows you to define comment blocks."
   ]
  },
  {
   "cell_type": "markdown",
   "metadata": {
    "lang": "en"
   },
   "source": [
    "**Handling character strings**"
   ]
  },
  {
   "cell_type": "markdown",
   "metadata": {
    "lang": "en"
   },
   "source": [
    "We will now see how we can handle character strings. This may seem incidental but for the processing of experimental data a large part of the work is the processing of files and therefore of strings representing their contents. It is therefore essential to know how to process character strings quickly and efficiently. Here below are some elementary operations on character strings."
   ]
  },
  {
   "cell_type": "code",
   "execution_count": 10,
   "metadata": {
    "slideshow": {
     "slide_type": "subslide"
    }
   },
   "outputs": [],
   "source": [
    "chaine_a = \"debut\"\n",
    "chaine_b = \"fin\""
   ]
  },
  {
   "cell_type": "markdown",
   "metadata": {
    "lang": "en"
   },
   "source": [
    "*Concatenation of character strings:*"
   ]
  },
  {
   "cell_type": "code",
   "execution_count": 5,
   "metadata": {
    "slideshow": {
     "slide_type": "fragment"
    }
   },
   "outputs": [
    {
     "name": "stdout",
     "output_type": "stream",
     "text": [
      "debutfin\n",
      "debut fin\n"
     ]
    }
   ],
   "source": [
    "res = chaine_a + chaine_b \n",
    "print(res)\n",
    "res = chaine_a + \" \" + chaine_b\n",
    "print(res)"
   ]
  },
  {
   "cell_type": "markdown",
   "metadata": {
    "lang": "en"
   },
   "source": [
    "*Formatting a character string:*"
   ]
  },
  {
   "cell_type": "code",
   "execution_count": 6,
   "metadata": {
    "scrolled": true,
    "slideshow": {
     "slide_type": "fragment"
    }
   },
   "outputs": [
    {
     "name": "stdout",
     "output_type": "stream",
     "text": [
      "Une chaine de caractère avec un entier 1 un flottant 2.34 et un booléen False\n"
     ]
    }
   ],
   "source": [
    "ma_chaine = \"Une chaine de caractère avec un entier {} un flottant {} et un booléen {}\".format(1,2.34,False)\n",
    "print( ma_chaine )"
   ]
  },
  {
   "cell_type": "code",
   "execution_count": 7,
   "metadata": {
    "slideshow": {
     "slide_type": "fragment"
    }
   },
   "outputs": [
    {
     "name": "stdout",
     "output_type": "stream",
     "text": [
      "Une chaine de caractère avec un entier 1 un flottant 2.34 et un booléen False\n"
     ]
    }
   ],
   "source": [
    "ma_chaine = \"Une chaine de caractère avec un entier {2} un flottant {1} et un booléen {0}\".format(False,2.34,1)\n",
    "print( ma_chaine )"
   ]
  },
  {
   "cell_type": "markdown",
   "metadata": {
    "lang": "en"
   },
   "source": [
    "Since Python 3.6 it is possible to format a string more concisely using the following syntax:\n",
    "\n",
    "```python\n",
    "\n",
    "f \"a string {variable} and / or {python expression}\"\n",
    "\n",
    "```"
   ]
  },
  {
   "cell_type": "code",
   "execution_count": 8,
   "metadata": {
    "slideshow": {
     "slide_type": "fragment"
    }
   },
   "outputs": [
    {
     "name": "stdout",
     "output_type": "stream",
     "text": [
      "pi=3.14 et pi*pi=9.8596\n"
     ]
    }
   ],
   "source": [
    "pi=3.14\n",
    "print( f\"pi={pi} et pi*pi={pi*pi}\")"
   ]
  },
  {
   "cell_type": "markdown",
   "metadata": {
    "lang": "en"
   },
   "source": [
    "*Find if a substring is in a string:*"
   ]
  },
  {
   "cell_type": "code",
   "execution_count": 11,
   "metadata": {
    "slideshow": {
     "slide_type": "fragment"
    }
   },
   "outputs": [
    {
     "name": "stdout",
     "output_type": "stream",
     "text": [
      "True\n"
     ]
    }
   ],
   "source": [
    "sous_chaine = \"bu\"\n",
    "print( sous_chaine in chaine_a )\n"
   ]
  },
  {
   "cell_type": "markdown",
   "metadata": {
    "lang": "en"
   },
   "source": [
    "*Separate a string into a set of strings at the level of a given character:*"
   ]
  },
  {
   "cell_type": "code",
   "execution_count": 11,
   "metadata": {
    "slideshow": {
     "slide_type": "fragment"
    }
   },
   "outputs": [
    {
     "name": "stdout",
     "output_type": "stream",
     "text": [
      "debut_fin\n",
      "['debut', 'fin']\n",
      "debut\n",
      "fin\n"
     ]
    }
   ],
   "source": [
    "res = chaine_a + \"_\" + chaine_b\n",
    "print(res)\n",
    "after_split = res.split(\"_\")\n",
    "print(after_split)\n",
    "print(after_split[0])\n",
    "print(after_split[1])"
   ]
  },
  {
   "cell_type": "markdown",
   "metadata": {
    "lang": "en"
   },
   "source": [
    "_Join a list of string with a given delimiter:_"
   ]
  },
  {
   "cell_type": "code",
   "execution_count": 12,
   "metadata": {
    "slideshow": {
     "slide_type": "fragment"
    }
   },
   "outputs": [
    {
     "name": "stdout",
     "output_type": "stream",
     "text": [
      "['debut', 'fin']\n"
     ]
    },
    {
     "data": {
      "text/plain": [
       "'debut-fin'"
      ]
     },
     "execution_count": 12,
     "metadata": {},
     "output_type": "execute_result"
    }
   ],
   "source": [
    "print(after_split)\n",
    "\"-\".join(after_split)"
   ]
  },
  {
   "cell_type": "markdown",
   "metadata": {
    "lang": "en"
   },
   "source": [
    "*Find out the size of a list*"
   ]
  },
  {
   "cell_type": "code",
   "execution_count": 18,
   "metadata": {
    "slideshow": {
     "slide_type": "fragment"
    }
   },
   "outputs": [
    {
     "name": "stdout",
     "output_type": "stream",
     "text": [
      "debut\n"
     ]
    },
    {
     "data": {
      "text/plain": [
       "5"
      ]
     },
     "execution_count": 18,
     "metadata": {},
     "output_type": "execute_result"
    }
   ],
   "source": [
    "print(chaine_a) \n",
    "len(chaine_a)"
   ]
  },
  {
   "cell_type": "markdown",
   "metadata": {
    "lang": "en"
   },
   "source": [
    "*Extract a sub-part (slice)*"
   ]
  },
  {
   "cell_type": "code",
   "execution_count": 20,
   "metadata": {
    "slideshow": {
     "slide_type": "fragment"
    }
   },
   "outputs": [
    {
     "data": {
      "text/plain": [
       "'eb'"
      ]
     },
     "execution_count": 20,
     "metadata": {},
     "output_type": "execute_result"
    }
   ],
   "source": [
    "chaine_a[1:3]"
   ]
  },
  {
   "cell_type": "code",
   "execution_count": 21,
   "metadata": {
    "slideshow": {
     "slide_type": "fragment"
    }
   },
   "outputs": [
    {
     "data": {
      "text/plain": [
       "'dbt'"
      ]
     },
     "execution_count": 21,
     "metadata": {},
     "output_type": "execute_result"
    }
   ],
   "source": [
    "chaine_a[::2]"
   ]
  },
  {
   "cell_type": "markdown",
   "metadata": {
    "lang": "en"
   },
   "source": [
    "***Slicing in general***\n",
    "\n",
    "In general, the syntax for extracting a slice is of the form:\n",
    "\n",
    "    start:end:step\n",
    "    \n",
    "\n",
    "With default:\n",
    "\n",
    "    start = 0\n",
    "    end = len (obj)\n",
    "    step = 1\n",
    "    \n",
    "    \n",
    ">**Attention**  \n",
    "> In the slice the value of `end` is **excluded**"
   ]
  },
  {
   "cell_type": "markdown",
   "metadata": {
    "lang": "en"
   },
   "source": [
    "## Control structures"
   ]
  },
  {
   "cell_type": "markdown",
   "metadata": {
    "lang": "en"
   },
   "source": [
    "### Principle\n",
    "The last point addressed in this first part is what we call in computer science the structures of controls.\n",
    "We saw previously that one can easily write logical expressions relating to variables. What we haven't seen yet is what the result of these logical expressions can be used for in the code and that's where the control structures come in.\n",
    "Indeed, the interest of a computer program is generally to perform a certain number of tasks / actions. But depending on the input values ​​of the program, the actions to be performed are potentially not the same, which is why we need to set up logical expressions associated with the control structures in order to **steer** the program and the processing flow.\n",
    "\n",
    "Concretely, let's imagine that I make a program which, according to grades, automatically tells me if a student validates my module or must go to catch-up. Once the score has been calculated, I have to test whether it is greater than or equal to 10 or if it is less than 10 because, depending on the case, consider the program should not display the same message. This is what the use of control structures consists of."
   ]
  },
  {
   "cell_type": "markdown",
   "metadata": {
    "lang": "en"
   },
   "source": [
    "### if ... elif ... else\n",
    "\n",
    "In Python the only commands used to orient the course of a program are **if**, **elif** and **else**. What you will surely have guessed can be translated by **if**, **if not if**, **if not**.\n",
    "\n",
    "\n",
    "```python\n",
    "if a _first_ condition:\n",
    "    action _associated_ with _the_ first _condition\n",
    "elif a_ other _condition:\n",
    "    action_ associated _has_ the _second_ condition\n",
    "else:\n",
    "    action _performed_ by _default\n",
    "```\n",
    "\n",
    "Of course, the syntax allows you to have as many **elif** as necessary, meaning from __0 to N__. However, you can only have one **else** and you must necessarily start with an **if**. Condition objects / variables must be of type *boolean* or *int*. Indeed Python can assimilate an integer to a boolean by following the following rule if the integer is equal to **0** it is associated with **False**, if it is different from 0 it is associated with **True**."
   ]
  },
  {
   "cell_type": "markdown",
   "metadata": {
    "lang": "en"
   },
   "source": [
    "> **Important**: syntax rule\n",
    "> You may have noticed:\n",
    "> *at the end of each of the if, elif, else lines there is the character \"* *:* *\"\n",
    ">* there is no keyword to specify the end of the control structure (no endif)\n",
    "> *the command lines located within the control structure (under the if, elif, else commands) are indented.\n",
    ">\n",
    "\n",
    "This is a fundamental concept in Python, all instruction blocks begin with the character \"* *:* *\" and are delimited by the level of indentation of the code. For example :\n",
    "```python\n",
    "if a_condition:\n",
    "    ## Beginning of the instructions executed if the condition \"some_condition\" is true\n",
    "    a = 2\n",
    "    print (a)\n",
    "    b = 3\n",
    "    print (b)\n",
    "    ## End of the instructions contained in the if\n",
    "### Resumption of the executed code that we pass in the if or not\n",
    "a = 234\n",
    "b = a* * 3\n",
    "print (b)\n",
    "```"
   ]
  },
  {
   "cell_type": "markdown",
   "metadata": {
    "lang": "en"
   },
   "source": [
    "By following this indentation rule it is quite possible to nest several blocks of if, elif, else statements within each other. For example :\n",
    "\n",
    "```python\n",
    "if condition _1:\n",
    "    if under_ condition _11:\n",
    "        a_ action\n",
    "    elif under _condition_ 12:\n",
    "        one _other_ action\n",
    "    else:\n",
    "        yet _one_ other _action\n",
    "elif condition_ 2:\n",
    "    if under _condition_ 21:\n",
    "        pass\n",
    "    elif:\n",
    "        a _action\n",
    "else:\n",
    "    a_ action\n",
    "```\n",
    "\n",
    "You see in passing the keyword `pass`. The latter in fact is useless, since it does not perform any action. Its only interest is to allow to respect the rules of syntax. In the previous case, it is used to define a **elif** block associated with a **if** block which does not perform any action."
   ]
  },
  {
   "cell_type": "markdown",
   "metadata": {
    "lang": "en"
   },
   "source": [
    "*Note on indentation:*\n",
    "\n",
    "For the indentations of your code you can use:\n",
    "\n",
    "* The tab key\n",
    "* An arbitrary number of spaces (usually 4)\n",
    "However, be careful not to mix tabulation and space in your code, otherwise you will get an error during code execution. Most text editors automatically replace tabs with 4 spaces. However, some editors under Windows in particular do not do this, which can cause errors. The error message returned by Python is quite explicit and is of the form\n",
    "\n",
    "```python\n",
    "TabError: inconsistent use of tabs and spaces in indentation\n",
    "```"
   ]
  },
  {
   "cell_type": "code",
   "execution_count": null,
   "metadata": {},
   "outputs": [],
   "source": []
  }
 ],
 "metadata": {
  "celltoolbar": "Diaporama",
  "kernelspec": {
   "display_name": "Python 3 (ipykernel)",
   "language": "python",
   "name": "python3"
  },
  "language_info": {
   "codemirror_mode": {
    "name": "ipython",
    "version": 3
   },
   "file_extension": ".py",
   "mimetype": "text/x-python",
   "name": "python",
   "nbconvert_exporter": "python",
   "pygments_lexer": "ipython3",
   "version": "3.9.6"
  },
  "nbTranslate": {
   "displayLangs": [
    "*"
   ],
   "hotkey": "alt-t",
   "langInMainMenu": true,
   "sourceLang": "fr",
   "targetLang": "en",
   "useGoogleTranslate": true
  },
  "rise": {
   "autolaunch": true,
   "slideNumber": "c/t",
   "theme": "moon",
   "transition": "slide"
  }
 },
 "nbformat": 4,
 "nbformat_minor": 2
}
