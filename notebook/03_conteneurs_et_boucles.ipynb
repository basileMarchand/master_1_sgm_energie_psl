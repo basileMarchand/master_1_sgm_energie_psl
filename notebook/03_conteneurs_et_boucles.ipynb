{
 "cells": [
  {
   "cell_type": "markdown",
   "metadata": {
    "lang": "en"
   },
   "source": [
    "# Containers and loops\n",
    "\n",
    "*** Basile Marchand (Materials Center - Mines ParisTech / CNRS / PSL University)** *"
   ]
  },
  {
   "cell_type": "markdown",
   "metadata": {
    "lang": "en"
   },
   "source": [
    "## Containers --- because a variable is good but a large package is better"
   ]
  },
  {
   "cell_type": "markdown",
   "metadata": {
    "lang": "en"
   },
   "source": [
    "### In practice - a variable containing other variables"
   ]
  },
  {
   "cell_type": "markdown",
   "metadata": {
    "lang": "en"
   },
   "source": [
    "We have seen previously that we can easily with Python define variables of type number, boolean or character string. It is good but however it is far from being sufficient to be able to automate the tasks or to make numerical calculation. This is why we are now going to see the containers. As its name suggests, a container will be a variable in which we will store a set of variables. For example, to store all the notes you will have for the course project, I will need a list.\n",
    "\n",
    "We will see that there is not only one type of container in Python but several, in Python that I will call basic there are four:\n",
    "* Tuples\n",
    "* Lists\n",
    "* Dictionaries\n",
    "* The sets\n",
    "\n",
    "Within the framework of this course we will only be interested in the first three, the last having little interest for our applications. Obviously if several containers exist, it is because each one has its particularities and its limits that we are going to present."
   ]
  },
  {
   "cell_type": "markdown",
   "metadata": {
    "lang": "en"
   },
   "source": [
    "### Tuples\n",
    "\n",
    "It is the first Python container and probably the most used. You have already used it without realizing it. In French we could translate the notion of tuple to that of tuple. It is therefore a set of values ​​(homogeneous or not), that is to say that a tuple can store objects of different types.\n",
    "\n",
    "The syntax for defining a tuple is as follows:\n",
    "\n",
    "```python\n",
    "name_of_tuple = (value1, value2, ..., valueN)\n",
    "```\n",
    "\n",
    "To access the value of a tuple, all you have to do is use the operator **[]** with the index of the element you want to access between brackets.\n",
    "\n",
    "> **Attention:**\n",
    "> In all Python containers the indices start at **zero**! That is, to access a first element of a tuple, you must request the element with index 0."
   ]
  },
  {
   "cell_type": "markdown",
   "metadata": {
    "lang": "en"
   },
   "source": [
    "For example :"
   ]
  },
  {
   "cell_type": "code",
   "execution_count": 1,
   "metadata": {
    "slideshow": {
     "slide_type": "fragment"
    }
   },
   "outputs": [
    {
     "name": "stdout",
     "output_type": "stream",
     "text": [
      "10\n",
      "une_string\n",
      "1e-05\n",
      "False\n"
     ]
    }
   ],
   "source": [
    "un_tuple = (10, \"une_string\", 1.e-5, False)\n",
    "print(un_tuple[0])\n",
    "print(un_tuple[1])\n",
    "print(un_tuple[2])\n",
    "print(un_tuple[3])"
   ]
  },
  {
   "cell_type": "markdown",
   "metadata": {
    "lang": "en"
   },
   "source": [
    "We can also extract sub-tuples by specifying between brackets **i:j:s** where:\n",
    "* **i** is the index of the first element that we want to retrieve\n",
    "* **j** is the index of the last element that we want to recover __+1__ \n",
    "* **s** is the step between each element that is extracted\n",
    "\n",
    "If you don't specify **i** by default Python takes i=0, if you don't specify j it takes j=size of the tuple and if you don't specify __s__ it takes __s = 1__"
   ]
  },
  {
   "cell_type": "code",
   "execution_count": 2,
   "metadata": {
    "slideshow": {
     "slide_type": "fragment"
    }
   },
   "outputs": [
    {
     "name": "stdout",
     "output_type": "stream",
     "text": [
      "(10, 'une_string', 1e-05, False)\n",
      "('une_string', 1e-05)\n",
      "(10, 'une_string', 1e-05)\n",
      "(1e-05, False)\n",
      "(10, 1e-05)\n"
     ]
    }
   ],
   "source": [
    "print(un_tuple)\n",
    "print(un_tuple[1:3])\n",
    "print(un_tuple[:3])\n",
    "print(un_tuple[2:])\n",
    "print(un_tuple[::2])"
   ]
  },
  {
   "cell_type": "markdown",
   "metadata": {
    "lang": "en"
   },
   "source": [
    "Finally, if you want to know the size of a tuple, just use the command **len**"
   ]
  },
  {
   "cell_type": "code",
   "execution_count": 3,
   "metadata": {
    "slideshow": {
     "slide_type": "fragment"
    }
   },
   "outputs": [
    {
     "name": "stdout",
     "output_type": "stream",
     "text": [
      "(10, 'une_string', 1e-05, False)\n",
      "4\n"
     ]
    }
   ],
   "source": [
    "print(un_tuple)\n",
    "print(len(un_tuple))"
   ]
  },
  {
   "cell_type": "markdown",
   "metadata": {
    "lang": "en"
   },
   "source": [
    "*Note*: in this part we have not seen how to modify a value in a tuple and it is normal because it is not possible.\n",
    "One of the peculiarities of tuples is that they are immutable variables, that is to say that once defined it is no longer possible to modify it. The major benefit this can have is if you want to make sure that values ​​will be constant throughout the execution of your code.\n",
    "\n",
    "To have variables similar to tuples but which can be modified, you have to use lists."
   ]
  },
  {
   "cell_type": "markdown",
   "metadata": {
    "lang": "en"
   },
   "source": [
    "### The lists\n",
    "\n",
    "Lists are the second basic usable container in Python. As with tuples, it is a set of values ​​(homogeneous or not) which can subsequently be modified. The definition of a list in Python is done in a very similar way to the construction of a tuple except that one replaces the parentheses by brackets.\n",
    "\n",
    "```python\n",
    "name_of_the_list = [value1, value2, ..., valueN]\n",
    "```\n",
    "Access to the value of a list is done in the same way as for tuples, ie using the operators **[]**. Similarly, we can extract a sublist using the notation **i:j:s**."
   ]
  },
  {
   "cell_type": "code",
   "execution_count": 4,
   "metadata": {
    "slideshow": {
     "slide_type": "fragment"
    }
   },
   "outputs": [
    {
     "name": "stdout",
     "output_type": "stream",
     "text": [
      "<class 'list'>\n"
     ]
    }
   ],
   "source": [
    "une_liste = [10, \"une_string\", 1.e-05, False]\n",
    "print(type(une_liste))"
   ]
  },
  {
   "cell_type": "code",
   "execution_count": 5,
   "metadata": {
    "slideshow": {
     "slide_type": "fragment"
    }
   },
   "outputs": [
    {
     "name": "stdout",
     "output_type": "stream",
     "text": [
      "10\n",
      "1e-05\n",
      "[1e-05, False]\n",
      "[10, 1e-05]\n"
     ]
    }
   ],
   "source": [
    "print(une_liste[0])\n",
    "print(une_liste[2])\n",
    "print(une_liste[2:])\n",
    "print(une_liste[::2])"
   ]
  },
  {
   "cell_type": "markdown",
   "metadata": {
    "lang": "en"
   },
   "source": [
    "To know the size of a list, just use the same command as for tuples, namely **len**"
   ]
  },
  {
   "cell_type": "code",
   "execution_count": 6,
   "metadata": {
    "slideshow": {
     "slide_type": "fragment"
    }
   },
   "outputs": [
    {
     "name": "stdout",
     "output_type": "stream",
     "text": [
      "4\n"
     ]
    }
   ],
   "source": [
    "print(len(une_liste))"
   ]
  },
  {
   "cell_type": "markdown",
   "metadata": {
    "lang": "en"
   },
   "source": [
    "Among the other actions that can be carried out on the lists and that can make life easier, there is the use of the keyword **in** which allows to test if an element is in the list or not"
   ]
  },
  {
   "cell_type": "code",
   "execution_count": 7,
   "metadata": {
    "slideshow": {
     "slide_type": "fragment"
    }
   },
   "outputs": [
    {
     "name": "stdout",
     "output_type": "stream",
     "text": [
      "False\n",
      "True\n"
     ]
    }
   ],
   "source": [
    "print( 3 in une_liste )\n",
    "print( \"une_string\" in une_liste )"
   ]
  },
  {
   "cell_type": "markdown",
   "metadata": {
    "lang": "en"
   },
   "source": [
    "To access the index of an element in a list, just use the command **index**"
   ]
  },
  {
   "cell_type": "code",
   "execution_count": 8,
   "metadata": {
    "slideshow": {
     "slide_type": "fragment"
    }
   },
   "outputs": [
    {
     "data": {
      "text/plain": [
       "1"
      ]
     },
     "execution_count": 8,
     "metadata": {},
     "output_type": "execute_result"
    }
   ],
   "source": [
    "une_liste.index(\"une_string\")"
   ]
  },
  {
   "cell_type": "markdown",
   "metadata": {
    "lang": "en"
   },
   "source": [
    "Lists can also be concatenated using the **+** operator. It should be remembered that the sum of two lists does not return the sum term by term of the two lists but the concatenation."
   ]
  },
  {
   "cell_type": "code",
   "execution_count": 9,
   "metadata": {
    "slideshow": {
     "slide_type": "fragment"
    }
   },
   "outputs": [
    {
     "name": "stdout",
     "output_type": "stream",
     "text": [
      "[1, 2, 3, 4, 5, 6]\n"
     ]
    }
   ],
   "source": [
    "liste_a = [1,2,3]\n",
    "liste_b = [4,5,6]\n",
    "print( liste_a + liste_b )"
   ]
  },
  {
   "cell_type": "markdown",
   "metadata": {
    "lang": "en"
   },
   "source": [
    "Finally we will see how to modify the values within a list. To do this, we use the operator **[]** once again, but it is followed by an assignment operation, i.e. it is followed by a __=__ a value. You can also modify sublists using the notation **i:j:s**."
   ]
  },
  {
   "cell_type": "code",
   "execution_count": 10,
   "metadata": {
    "slideshow": {
     "slide_type": "fragment"
    }
   },
   "outputs": [
    {
     "name": "stdout",
     "output_type": "stream",
     "text": [
      "[10, 'une_string', 1e-05, False]\n"
     ]
    }
   ],
   "source": [
    "print(une_liste)"
   ]
  },
  {
   "cell_type": "code",
   "execution_count": 11,
   "metadata": {
    "slideshow": {
     "slide_type": "fragment"
    }
   },
   "outputs": [
    {
     "name": "stdout",
     "output_type": "stream",
     "text": [
      "[-1, 'une_string', 1e-05, False]\n"
     ]
    }
   ],
   "source": [
    "une_liste[0] = -1\n",
    "print(une_liste)"
   ]
  },
  {
   "cell_type": "code",
   "execution_count": 12,
   "metadata": {
    "slideshow": {
     "slide_type": "subslide"
    }
   },
   "outputs": [
    {
     "name": "stdout",
     "output_type": "stream",
     "text": [
      "[-1, 'une_string', 1e-05, [0, 1]]\n"
     ]
    }
   ],
   "source": [
    "une_liste[3] = [0,1]\n",
    "print(une_liste)"
   ]
  },
  {
   "cell_type": "code",
   "execution_count": 13,
   "metadata": {
    "slideshow": {
     "slide_type": "fragment"
    }
   },
   "outputs": [
    {
     "name": "stdout",
     "output_type": "stream",
     "text": [
      "[0, 1, 1e-05, [0, 1]]\n"
     ]
    }
   ],
   "source": [
    "une_liste[:2] = [0,1]\n",
    "print(une_liste)"
   ]
  },
  {
   "cell_type": "markdown",
   "metadata": {
    "lang": "en"
   },
   "source": [
    "However you may have noticed that for the moment we have only changed the values in the list without changing its size. To add elements to a list by enlarging it, you must use the functions:\n",
    "\n",
    "* append which adds an element at the end of the list\n",
    "* insert which adds an element at a given position"
   ]
  },
  {
   "cell_type": "code",
   "execution_count": 14,
   "metadata": {
    "slideshow": {
     "slide_type": "fragment"
    }
   },
   "outputs": [
    {
     "name": "stdout",
     "output_type": "stream",
     "text": [
      "[0, 1, 1e-05, [0, 1]]\n"
     ]
    }
   ],
   "source": [
    "print(une_liste)"
   ]
  },
  {
   "cell_type": "code",
   "execution_count": 15,
   "metadata": {
    "slideshow": {
     "slide_type": "fragment"
    }
   },
   "outputs": [
    {
     "name": "stdout",
     "output_type": "stream",
     "text": [
      "[0, 1, 1e-05, [0, 1], 10000]\n"
     ]
    }
   ],
   "source": [
    "une_liste.append( 10000 )\n",
    "print(une_liste)"
   ]
  },
  {
   "cell_type": "code",
   "execution_count": 16,
   "metadata": {
    "slideshow": {
     "slide_type": "fragment"
    }
   },
   "outputs": [
    {
     "name": "stdout",
     "output_type": "stream",
     "text": [
      "Help on built-in function insert:\n",
      "\n",
      "insert(...) method of builtins.list instance\n",
      "    L.insert(index, object) -- insert object before index\n",
      "\n",
      "[0, 1, 'new_item', 1e-05, [0, 1], 10000]\n"
     ]
    }
   ],
   "source": [
    "help(une_liste.insert)\n",
    "une_liste.insert(2, \"new_item\")\n",
    "print(une_liste)"
   ]
  },
  {
   "cell_type": "markdown",
   "metadata": {
    "lang": "en"
   },
   "source": [
    "And if you want to remove elements from a list, you can use the command **remove** or the keyword **del** for delete."
   ]
  },
  {
   "cell_type": "code",
   "execution_count": 17,
   "metadata": {
    "slideshow": {
     "slide_type": "fragment"
    }
   },
   "outputs": [
    {
     "name": "stdout",
     "output_type": "stream",
     "text": [
      "[0, 1, 'new_item', [0, 1], 10000]\n"
     ]
    }
   ],
   "source": [
    "une_liste.remove(1.e-5)\n",
    "print(une_liste)\n",
    " "
   ]
  },
  {
   "cell_type": "code",
   "execution_count": 18,
   "metadata": {
    "slideshow": {
     "slide_type": "fragment"
    }
   },
   "outputs": [
    {
     "name": "stdout",
     "output_type": "stream",
     "text": [
      "[0, 'new_item', [0, 1], 10000]\n"
     ]
    }
   ],
   "source": [
    "del une_liste[1]\n",
    "print(une_liste)"
   ]
  },
  {
   "cell_type": "markdown",
   "metadata": {
    "lang": "en"
   },
   "source": [
    "**Attention:**\n",
    "You have to be very careful with one-thing lists, when you copy a list if you don't do it the right way you won't have the expected behavior and you will potentially take a very long time to find the source of the problem. This \"problem\" is linked to the fact that in Python everything is done by passage by reference, we will see later in the course what this means.\n",
    "\n",
    "Drawing :"
   ]
  },
  {
   "cell_type": "code",
   "execution_count": 1,
   "metadata": {
    "slideshow": {
     "slide_type": "fragment"
    }
   },
   "outputs": [
    {
     "name": "stdout",
     "output_type": "stream",
     "text": [
      "[10, 2, 3, 4, 5]\n",
      "[10, 2, 3, 4, 5]\n"
     ]
    }
   ],
   "source": [
    "liste_a = [1,2,3,4,5]\n",
    "liste_b = liste_a      ### On pense faire une copie de liste_a dans liste_b \n",
    "liste_b[0] = 10\n",
    "print(liste_b)\n",
    "print(liste_a)"
   ]
  },
  {
   "cell_type": "markdown",
   "metadata": {
    "lang": "en"
   },
   "source": [
    "We then see that the modification we made in list _b also has repercussions on list_ a. And this is quite normal, because if we look at the memory addresses of each of the list _a and list_ b variables we will see that they are identical."
   ]
  },
  {
   "cell_type": "code",
   "execution_count": 20,
   "metadata": {
    "slideshow": {
     "slide_type": "fragment"
    }
   },
   "outputs": [
    {
     "name": "stdout",
     "output_type": "stream",
     "text": [
      "0x7fa214d15588\n",
      "0x7fa214d15588\n"
     ]
    }
   ],
   "source": [
    "print(hex(id(liste_a)))\n",
    "print(hex(id(liste_b)))"
   ]
  },
  {
   "cell_type": "markdown",
   "metadata": {
    "lang": "en"
   },
   "source": [
    "Why this strange behavior? Because for Python when you write\n",
    "\n",
    "```python\n",
    "list_b = list_a\n",
    "```\n",
    "\n",
    "It includes, created for me a variable named list _b pointing to the same memory area as list_ a and therefore when you use the list variable list_b you actually access the same memory cell as list_a.\n",
    "\n",
    "If you don't want this behavior, you have to be a little more explicit and proceed as follows:"
   ]
  },
  {
   "cell_type": "code",
   "execution_count": 21,
   "metadata": {
    "slideshow": {
     "slide_type": "fragment"
    }
   },
   "outputs": [
    {
     "name": "stdout",
     "output_type": "stream",
     "text": [
      "[10, 2, 3, 4, 5]\n",
      "[1, 2, 3, 4, 5]\n"
     ]
    }
   ],
   "source": [
    "liste_a = [1,2,3,4,5]\n",
    "liste_b = liste_a.copy()\n",
    "## ou bien \n",
    "liste_b = liste_a[:]\n",
    "liste_b[0] = 10\n",
    "print(liste_b)\n",
    "print(liste_a)"
   ]
  },
  {
   "cell_type": "markdown",
   "metadata": {
    "lang": "en"
   },
   "source": [
    "### Dictionaries"
   ]
  },
  {
   "cell_type": "markdown",
   "metadata": {
    "lang": "en"
   },
   "source": [
    "We will now see the last container natively available in Python that we will study in this course, namely dictionaries.\n",
    "\n",
    "Dictionaries are quite different containers in lists and tuples in the sense that they are not ordered and there is no notion of index. Access to the elements is done using a key. Indeed the Python dictionary is based on doublets (key, value). Each key in a dictionary must be unique and of type **int** or **string**. The syntax for defining a dictionary is as follows:\n",
    "\n",
    "```python\n",
    "un_dictionary = {key1: value, key2: value, ...}\n",
    "```\n",
    "The access to the values ​​of a dictionary is done by using the operator **[]** to which one provides the key of the element which one wishes to recover."
   ]
  },
  {
   "cell_type": "code",
   "execution_count": 22,
   "metadata": {
    "slideshow": {
     "slide_type": "subslide"
    }
   },
   "outputs": [
    {
     "name": "stdout",
     "output_type": "stream",
     "text": [
      "{'cle1': 1, 'cle2': 2, 1035: False}\n",
      "1\n",
      "False\n"
     ]
    }
   ],
   "source": [
    "un_dict = {\"cle1\": 1, \"cle2\": 2, 1035: False}\n",
    "print(un_dict)\n",
    "print(un_dict[\"cle1\"])\n",
    "print(un_dict[1035])"
   ]
  },
  {
   "cell_type": "markdown",
   "metadata": {
    "lang": "en"
   },
   "source": [
    "The interest of dictionaries is multiple and its applications are numerous. The modification of an element of the dictionary is done quite simply by making the element considered an assignment operation with the new value."
   ]
  },
  {
   "cell_type": "code",
   "execution_count": 23,
   "metadata": {
    "slideshow": {
     "slide_type": "fragment"
    }
   },
   "outputs": [
    {
     "name": "stdout",
     "output_type": "stream",
     "text": [
      "{'cle1': 1, 'cle2': 2, 1035: False}\n",
      "{'cle1': 18, 'cle2': 2, 1035: False}\n"
     ]
    }
   ],
   "source": [
    "print(un_dict)\n",
    "un_dict[\"cle1\"] = 18\n",
    "print(un_dict)"
   ]
  },
  {
   "cell_type": "markdown",
   "metadata": {
    "lang": "en"
   },
   "source": [
    "If you want to add new entries to a dictionary it is very easy. It suffices to proceed commercial for the modification of a value since if the key which one gives does not exist it is automatically created."
   ]
  },
  {
   "cell_type": "code",
   "execution_count": 24,
   "metadata": {
    "slideshow": {
     "slide_type": "fragment"
    }
   },
   "outputs": [
    {
     "name": "stdout",
     "output_type": "stream",
     "text": [
      "{'cle1': 18, 'cle2': 2, 1035: False}\n",
      "{'cle1': 18, 'cle2': 2, 1035: False, 'new_key': 'new_val'}\n"
     ]
    }
   ],
   "source": [
    "print(un_dict)\n",
    "un_dict[\"new_key\"] = \"new_val\"\n",
    "print(un_dict)"
   ]
  },
  {
   "cell_type": "markdown",
   "metadata": {
    "lang": "en"
   },
   "source": [
    "Finally to make your life easier with the dictionaries there are a few tips to know. For example to retrieve the list of keys in the dictionary"
   ]
  },
  {
   "cell_type": "code",
   "execution_count": 25,
   "metadata": {
    "slideshow": {
     "slide_type": "fragment"
    }
   },
   "outputs": [
    {
     "name": "stdout",
     "output_type": "stream",
     "text": [
      "dict_keys(['cle1', 'cle2', 1035, 'new_key'])\n"
     ]
    }
   ],
   "source": [
    "print( un_dict.keys() )"
   ]
  },
  {
   "cell_type": "markdown",
   "metadata": {
    "lang": "en"
   },
   "source": [
    "To retrieve all the values ​​stored in the dictionary:"
   ]
  },
  {
   "cell_type": "code",
   "execution_count": 26,
   "metadata": {
    "slideshow": {
     "slide_type": "fragment"
    }
   },
   "outputs": [
    {
     "name": "stdout",
     "output_type": "stream",
     "text": [
      "dict_values([18, 2, False, 'new_val'])\n"
     ]
    }
   ],
   "source": [
    "print(un_dict.values())"
   ]
  },
  {
   "cell_type": "markdown",
   "metadata": {
    "lang": "en"
   },
   "source": [
    "And finally to retrieve all the key and value doublets in a list:"
   ]
  },
  {
   "cell_type": "code",
   "execution_count": 27,
   "metadata": {
    "slideshow": {
     "slide_type": "fragment"
    }
   },
   "outputs": [
    {
     "name": "stdout",
     "output_type": "stream",
     "text": [
      "dict_items([('cle1', 18), ('cle2', 2), (1035, False), ('new_key', 'new_val')])\n"
     ]
    }
   ],
   "source": [
    "print(un_dict.items())"
   ]
  },
  {
   "cell_type": "markdown",
   "metadata": {
    "lang": "en"
   },
   "source": [
    "The use of these methods can be accompanied by the keyword **in** for example:"
   ]
  },
  {
   "cell_type": "code",
   "execution_count": 28,
   "metadata": {
    "slideshow": {
     "slide_type": "fragment"
    }
   },
   "outputs": [
    {
     "name": "stdout",
     "output_type": "stream",
     "text": [
      "new_val\n"
     ]
    }
   ],
   "source": [
    "if \"new_key\" in un_dict.keys():\n",
    "    print( un_dict[\"new_key\"] )"
   ]
  },
  {
   "cell_type": "markdown",
   "metadata": {
    "lang": "en"
   },
   "source": [
    "### No more ? No Matlab-style vector matrices?\n",
    "\n",
    "We have therefore just taken a tour of the main containers available natively in Python. The question you must certainly ask yourself is how I do to simulate with Python therefore manage matrices, vectors, ... Indeed in native Python there is no notion of vectors or matrices as in Matlab which only manages that.\n",
    "\n",
    "But no panic, however, because people did the job. We will see a little later that Python has a certain number of additional modules and that among these modules there is Numpy which defines the notion of vector and matrix."
   ]
  },
  {
   "cell_type": "markdown",
   "metadata": {
    "lang": "en"
   },
   "source": [
    "## Loops --- or how to take advantage of computer stupidity"
   ]
  },
  {
   "cell_type": "markdown",
   "metadata": {
    "lang": "en"
   },
   "source": [
    "### In what interest?"
   ]
  },
  {
   "cell_type": "markdown",
   "metadata": {
    "lang": "en"
   },
   "source": [
    "Much of computer programs require repetitive processing of data, usually stored in lists or tables. To perform these treatments, it is therefore necessary to have repeat commands available. Like all programming languages ​​(to my knowledge) Python has two types of commands to repeat a set of statements:\n",
    "* The **for** loop which allows you to repeat a series of instructions N times.\n",
    "* The **while** loop which allows you to repeat a series of instructions as long as a certain condition is true."
   ]
  },
  {
   "cell_type": "markdown",
   "metadata": {
    "lang": "en"
   },
   "source": [
    "### Loops *for*\n",
    "\n",
    "The loop, known as the *for* loop, allows you to repeat an operation **N** times with N a known integer before entering the loop. It is therefore a suitable loop when you know in advance the number of times you have to repeat the instruction block.\n",
    "\n",
    "The Python syntax for the for loop is as follows:\n",
    "\n",
    "```python\n",
    "for i in an _iterable:\n",
    "    instruction_ 1\n",
    "    instruction_2\n",
    "```\n",
    "\n",
    "**Note:** we find in the syntax of the for loop something similar to that of the *if*, namely a first line ending with the character **:** and then an indented instruction block.\n",
    "\n",
    "You may notice that the first line involves what I call an **iterable**. These are Python objects that we can iterate on. You are no further ahead I know. In practice, this is a special object that allows you to browse all the elements contained automatically using a *for* loop among others. In the context of this course I will not go into detail about iterators, I will just give you a list of iterables that you can handle."
   ]
  },
  {
   "cell_type": "markdown",
   "metadata": {
    "lang": "en"
   },
   "source": [
    "The first iterable, the simplest is a list. You can easily browse the elements of a list using the *for* loop. Indeed we can write the following code:"
   ]
  },
  {
   "cell_type": "code",
   "execution_count": 2,
   "metadata": {
    "slideshow": {
     "slide_type": "fragment"
    }
   },
   "outputs": [
    {
     "name": "stdout",
     "output_type": "stream",
     "text": [
      "1\n",
      "2\n",
      "3\n",
      "4\n",
      "5\n"
     ]
    }
   ],
   "source": [
    "ma_liste = [1,2,3,4,5]\n",
    "\n",
    "for x in ma_liste:\n",
    "    print(x)"
   ]
  },
  {
   "cell_type": "markdown",
   "metadata": {
    "lang": "en"
   },
   "source": [
    "The same is possible with a tuple of course."
   ]
  },
  {
   "cell_type": "code",
   "execution_count": 30,
   "metadata": {
    "slideshow": {
     "slide_type": "fragment"
    }
   },
   "outputs": [
    {
     "name": "stdout",
     "output_type": "stream",
     "text": [
      "1\n",
      "2\n",
      "3\n",
      "4\n",
      "5\n"
     ]
    }
   ],
   "source": [
    "mon_tuple = (1,2,3,4,5)\n",
    "for x in mon_tuple:\n",
    "    print(x)"
   ]
  },
  {
   "cell_type": "markdown",
   "metadata": {
    "lang": "en"
   },
   "source": [
    "Sometimes we don't need to write a loop to iterate through the elements of a list but just to repeat a given operation N times, with N a positive integer. In this case you must use the **range** command which will generate an iterable. The syntax of the range command is as follows:\n",
    "\n",
    "```python\n",
    "range (A, B, S)\n",
    "```\n",
    "\n",
    "where the parameters are:\n",
    "* A: (int) the starting value of the iterable, by default A = 0* B: (int) the final value of the iterable __+1__, no default value\n",
    "* S: (int) the step between two iterated, by default S = 1\n",
    "\n",
    "For example :"
   ]
  },
  {
   "cell_type": "code",
   "execution_count": 31,
   "metadata": {
    "slideshow": {
     "slide_type": "fragment"
    }
   },
   "outputs": [
    {
     "name": "stdout",
     "output_type": "stream",
     "text": [
      "0\n",
      "1\n",
      "2\n",
      "3\n",
      "4\n"
     ]
    }
   ],
   "source": [
    "for i in range(0,5):  ## S=1 implicitement\n",
    "    print(i)"
   ]
  },
  {
   "cell_type": "code",
   "execution_count": 32,
   "metadata": {
    "slideshow": {
     "slide_type": "subslide"
    }
   },
   "outputs": [
    {
     "name": "stdout",
     "output_type": "stream",
     "text": [
      "0\n",
      "1\n",
      "2\n"
     ]
    }
   ],
   "source": [
    "for i in range(3):  ## A=0, S=1 implicitement\n",
    "    print(i)"
   ]
  },
  {
   "cell_type": "code",
   "execution_count": 33,
   "metadata": {
    "slideshow": {
     "slide_type": "fragment"
    }
   },
   "outputs": [
    {
     "name": "stdout",
     "output_type": "stream",
     "text": [
      "0\n",
      "2\n",
      "4\n",
      "6\n",
      "8\n"
     ]
    }
   ],
   "source": [
    "for i in range(0,10,2):\n",
    "    print(i)"
   ]
  },
  {
   "cell_type": "markdown",
   "metadata": {
    "lang": "en"
   },
   "source": [
    "Then you could tell me why not use range (len (my_list)) to iterate through a list? Yes indeed it works as you can see below:"
   ]
  },
  {
   "cell_type": "code",
   "execution_count": 4,
   "metadata": {
    "slideshow": {
     "slide_type": "fragment"
    }
   },
   "outputs": [
    {
     "name": "stdout",
     "output_type": "stream",
     "text": [
      "1\n",
      "2\n",
      "3\n",
      "4\n",
      "5\n",
      "1\n",
      "2\n",
      "3\n",
      "4\n",
      "5\n"
     ]
    }
   ],
   "source": [
    "for i in range(len(ma_liste)):\n",
    "    print(ma_liste[i])\n",
    "    \n",
    "    \n",
    "for x in ma_liste:\n",
    "    print(x)"
   ]
  },
  {
   "cell_type": "markdown",
   "metadata": {
    "lang": "en"
   },
   "source": [
    "But this syntax is not recommended at all, it is even to be avoided for several reasons.\n",
    "\n",
    "* It's heavy and ugly\n",
    "* It is not optimized. That is, if len (my _list) >> 1 your code will be slow.\n",
    "\n",
    "If you are doing this to access both the value of your iterable and its index know that Python does everything for you. There is indeed the **enumerate** command whose syntax is as follows:\n",
    "\n",
    "```python\n",
    "for i, x in enumerate(an_ iterable):\n",
    "    instruction\n",
    "```\n",
    "\n",
    "In practice, this makes it possible to write:"
   ]
  },
  {
   "cell_type": "code",
   "execution_count": 35,
   "metadata": {
    "slideshow": {
     "slide_type": "fragment"
    }
   },
   "outputs": [
    {
     "name": "stdout",
     "output_type": "stream",
     "text": [
      "ma_liste[0] = 1\n",
      "ma_liste[1] = 2\n",
      "ma_liste[2] = 3\n",
      "ma_liste[3] = 4\n",
      "ma_liste[4] = 5\n"
     ]
    }
   ],
   "source": [
    "for i,x in enumerate(ma_liste):\n",
    "    print(\"ma_liste[{}] = {}\".format(i,x))"
   ]
  },
  {
   "cell_type": "markdown",
   "metadata": {
    "lang": "en"
   },
   "source": [
    "And finally if you want to browse several lists of the same sizes simultaneously there is also a trick, the **zip** command whose syntax is as follows:\n",
    "\n",
    "```python\n",
    "for x, y, z in zip(list_x, list_y, list_z):\n",
    "    instruction\n",
    "```"
   ]
  },
  {
   "cell_type": "code",
   "execution_count": 5,
   "metadata": {
    "slideshow": {
     "slide_type": "subslide"
    }
   },
   "outputs": [
    {
     "name": "stdout",
     "output_type": "stream",
     "text": [
      "x=0, y=10, z=20\n",
      "x=1, y=11, z=21\n",
      "x=2, y=12, z=22\n",
      "x=3, y=13, z=23\n",
      "x=4, y=14, z=24\n"
     ]
    }
   ],
   "source": [
    "list_x = [0,1,2,3,4]\n",
    "list_y = [10,11,12,13,14]\n",
    "list_z = [20,21,22,23,24]\n",
    "\n",
    "for x,y,z in zip(list_x, list_y, list_z):\n",
    "    print(\"x={}, y={}, z={}\".format(x, y, z))"
   ]
  },
  {
   "cell_type": "markdown",
   "metadata": {
    "lang": "en"
   },
   "source": [
    "Of course, it is quite possible to combine the **zip** and **enumerate** commands. However, pay attention to the syntax (placement of parentheses to the left of the **in**)."
   ]
  },
  {
   "cell_type": "code",
   "execution_count": 37,
   "metadata": {
    "slideshow": {
     "slide_type": "fragment"
    }
   },
   "outputs": [
    {
     "name": "stdout",
     "output_type": "stream",
     "text": [
      "0 => x=0, y=10, z=20\n",
      "1 => x=1, y=11, z=21\n",
      "2 => x=2, y=12, z=22\n",
      "3 => x=3, y=13, z=23\n",
      "4 => x=4, y=14, z=24\n"
     ]
    }
   ],
   "source": [
    "for i,(x,y,z) in enumerate(zip(list_x, list_y, list_z)):\n",
    "    print(\"{} => x={}, y={}, z={}\".format(i, x, y, z))"
   ]
  },
  {
   "cell_type": "markdown",
   "metadata": {
    "lang": "en"
   },
   "source": [
    "### The keywords *break* and *continue*"
   ]
  },
  {
   "cell_type": "markdown",
   "metadata": {
    "lang": "en"
   },
   "source": [
    "In the Python language there are two particular keywords intended to modify the behavior of a *for* loop (or *while* as we will see later) they are:\n",
    "* __break__: which allows to interrupt a loop prematurely\n",
    "* __continue__: which allows you to go to the next iteration without executing the code that follows the continue\n",
    "\n",
    "Concretely the behavior of these two key words is the following one:"
   ]
  },
  {
   "cell_type": "code",
   "execution_count": 6,
   "metadata": {
    "slideshow": {
     "slide_type": "subslide"
    }
   },
   "outputs": [
    {
     "name": "stdout",
     "output_type": "stream",
     "text": [
      "x = 1\n",
      "x = 2\n"
     ]
    }
   ],
   "source": [
    "ma_liste = [1,2,3,4,5]\n",
    "\n",
    "for x in ma_liste:\n",
    "    if x == 3:\n",
    "        break\n",
    "    print(\"x = {}\".format(x))"
   ]
  },
  {
   "cell_type": "code",
   "execution_count": 39,
   "metadata": {
    "slideshow": {
     "slide_type": "fragment"
    }
   },
   "outputs": [
    {
     "name": "stdout",
     "output_type": "stream",
     "text": [
      "x = 1\n",
      "x = 2\n",
      "x = 4\n",
      "x = 5\n"
     ]
    }
   ],
   "source": [
    "for x in ma_liste:\n",
    "    if x == 3:\n",
    "        continue\n",
    "    print(\"x = {}\".format(x))"
   ]
  },
  {
   "cell_type": "markdown",
   "metadata": {
    "lang": "en"
   },
   "source": [
    "### A somewhat peculiar use of *for* --- The \"comprehension lists\""
   ]
  },
  {
   "cell_type": "markdown",
   "metadata": {
    "lang": "en"
   },
   "source": [
    "The **for** keyword can also be used in a slightly different form to construct what are called \"comprehension lists\". The idea is to define is to fill a list in a single command line. The interest is of course to have a more designed code but also to have a syntax which is closer to that used in mathematics.\n",
    "\n",
    "The Python syntax for defining a list comprehension is as follows:\n",
    "\n",
    "```python\n",
    "name_of_my_list = [expression(x) for x in iterable if condition(x)]\n",
    "```\n",
    "\n",
    "The test with the `if condition(x)` is optional."
   ]
  },
  {
   "cell_type": "markdown",
   "metadata": {
    "lang": "en"
   },
   "source": [
    "For example, let's say I want to build the list defined by:\n",
    "$$ S = \\left\\lbrace x \\in [0,10[ \\;\\; \\backslash \\;\\; x^2 \\;\\; \\right\\rbrace $$\n",
    "with a list comprehension this results in the following code:"
   ]
  },
  {
   "cell_type": "code",
   "execution_count": 40,
   "metadata": {
    "slideshow": {
     "slide_type": "fragment"
    }
   },
   "outputs": [
    {
     "name": "stdout",
     "output_type": "stream",
     "text": [
      "[0, 1, 4, 9, 16, 25, 36, 49, 64, 81]\n"
     ]
    }
   ],
   "source": [
    "la_liste = [ x**2 for x in range(10) ]\n",
    "print(la_liste)"
   ]
  },
  {
   "cell_type": "markdown",
   "metadata": {
    "lang": "en"
   },
   "source": [
    "And if we now want to add a condition, for example to build:\n",
    "$$ S = \\left\\lbrace x \\in [0,10[ \\;\\; \\backslash \\;\\; x^2 < 30 \\;\\; \\right\\rbrace $$\n",
    "Just write this in the following form:"
   ]
  },
  {
   "cell_type": "code",
   "execution_count": 41,
   "metadata": {
    "slideshow": {
     "slide_type": "fragment"
    }
   },
   "outputs": [
    {
     "name": "stdout",
     "output_type": "stream",
     "text": [
      "[0, 1, 4, 9, 16, 25]\n"
     ]
    }
   ],
   "source": [
    "la_liste = [ x**2 for x in range(10) if x**2 < 30 ]\n",
    "print(la_liste) "
   ]
  },
  {
   "cell_type": "markdown",
   "metadata": {
    "lang": "en"
   },
   "source": [
    "### The *while* loop"
   ]
  },
  {
   "cell_type": "markdown",
   "metadata": {
    "lang": "en"
   },
   "source": [
    "The so-called *while* loop allows in computer science to repeat a series of instructions as long as a certain condition (specified by the developer when writing the loop) is verified. Therefore the *while* loop is suitable when you do not know in advance the number of times you will have to repeat the instruction block. A typical example are the methods of solving minimization problems where the convergence loop must not stop until the solution has been found.\n",
    "\n",
    "The Python syntax for the while loop is as follows:\n",
    "```python\n",
    "while condition:\n",
    "    instruction _1\n",
    "    instruction_ 2\n",
    "```\n",
    "\n",
    "The condition must necessarily be a boolean which will depend on what is done by the instructions. As long as this condition is true then the instructions are repeated and when the condition becomes false the loop stops."
   ]
  },
  {
   "cell_type": "markdown",
   "metadata": {
    "lang": "en"
   },
   "source": [
    "For example :"
   ]
  },
  {
   "cell_type": "code",
   "execution_count": 7,
   "metadata": {
    "slideshow": {
     "slide_type": "fragment"
    }
   },
   "outputs": [
    {
     "name": "stdout",
     "output_type": "stream",
     "text": [
      "Il y a eu 5 ( => x=21.1137767453526) execution du bloc avant que la condition ne deviennent fausse\n"
     ]
    }
   ],
   "source": [
    "x = 1.1\n",
    "n_iter = 0\n",
    "while x<10:\n",
    "    x = x**2\n",
    "    n_iter +=1\n",
    "    \n",
    "print(\"Il y a eu {} ( => x={}) execution du bloc avant que la condition ne deviennent fausse\".format(n_iter, x))\n",
    "    \n"
   ]
  },
  {
   "cell_type": "markdown",
   "metadata": {
    "lang": "en"
   },
   "source": [
    "Of course, the stop condition of the *while* loop can be as complex as necessary and call on Python functions. For example"
   ]
  },
  {
   "cell_type": "code",
   "execution_count": 8,
   "metadata": {
    "slideshow": {
     "slide_type": "fragment"
    }
   },
   "outputs": [
    {
     "name": "stdout",
     "output_type": "stream",
     "text": [
      "La boucle s'est arrétée pour i=9 avec ma_liste[9]=0.00027557319223985895\n",
      "La liste vaut [100, 100.0, 50.0, 16.666666666666668, 4.166666666666667, 0.8333333333333334, 0.1388888888888889, 0.019841269841269844, 0.0024801587301587305, 0.00027557319223985895]\n"
     ]
    }
   ],
   "source": [
    "ma_liste = [100,]\n",
    "i = 0\n",
    "while len(ma_liste)<100 and ma_liste[i]>0.001:\n",
    "    ma_liste.append( ma_liste[i] / (i+1) )\n",
    "    i += 1\n",
    "    \n",
    "print(\"La boucle s'est arrétée pour i={0} avec ma_liste[{0}]={1}\".format(i, ma_liste[i]))\n",
    "print( \"La liste vaut {}\".format(ma_liste))"
   ]
  },
  {
   "cell_type": "markdown",
   "metadata": {
    "lang": "en"
   },
   "source": [
    "In the same way as for lists, we can use the keyword *break* in a *while* loop to stop execution prematurely."
   ]
  },
  {
   "cell_type": "code",
   "execution_count": 1,
   "metadata": {
    "slideshow": {
     "slide_type": "skip"
    }
   },
   "outputs": [
    {
     "name": "stdout",
     "output_type": "stream",
     "text": [
      "La boucle s'est arrétée pour i=6 avec ma_liste[6]=0.1388888888888889\n",
      "La liste vaut [100, 100.0, 50.0, 16.666666666666668, 4.166666666666667, 0.8333333333333334, 0.1388888888888889]\n"
     ]
    }
   ],
   "source": [
    "ma_liste = [100,]\n",
    "i = 0\n",
    "while len(ma_liste)<100 and ma_liste[i]>0.001:\n",
    "    ma_liste.append( ma_liste[i] / (i+1) )\n",
    "    i += 1\n",
    "    if i>5: break\n",
    "    \n",
    "print(\"La boucle s'est arrétée pour i={0} avec ma_liste[{0}]={1}\".format(i, ma_liste[i]))\n",
    "print( \"La liste vaut {}\".format(ma_liste))"
   ]
  }
 ],
 "metadata": {
  "celltoolbar": "Slideshow",
  "kernelspec": {
   "display_name": "Python 3 (ipykernel)",
   "language": "python",
   "name": "python3"
  },
  "language_info": {
   "codemirror_mode": {
    "name": "ipython",
    "version": 3
   },
   "file_extension": ".py",
   "mimetype": "text/x-python",
   "name": "python",
   "nbconvert_exporter": "python",
   "pygments_lexer": "ipython3",
   "version": "3.9.6"
  },
  "nbTranslate": {
   "displayLangs": [],
   "hotkey": "alt-t",
   "langInMainMenu": true,
   "sourceLang": "fr",
   "targetLang": "en",
   "useGoogleTranslate": true
  },
  "rise": {
   "autolaunch": true,
   "slideNumber": "c/t",
   "theme": "moon",
   "transition": "slide"
  }
 },
 "nbformat": 4,
 "nbformat_minor": 2
}
