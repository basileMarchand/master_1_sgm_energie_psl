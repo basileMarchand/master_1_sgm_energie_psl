{
 "cells": [
  {
   "cell_type": "markdown",
   "metadata": {
    "slideshow": {
     "slide_type": "slide"
    }
   },
   "source": [
    "# Conteneurs et boucles\n",
    "\n",
    "***Basile Marchand (Centre des Matériaux - Mines ParisTech/CNRS/Université PSL)***"
   ]
  },
  {
   "cell_type": "markdown",
   "metadata": {
    "slideshow": {
     "slide_type": "subslide"
    }
   },
   "source": [
    "## Les conteneurs --- car une variable c'est bien mais un gros paquet c'est mieux "
   ]
  },
  {
   "cell_type": "markdown",
   "metadata": {
    "slideshow": {
     "slide_type": "subslide"
    }
   },
   "source": [
    "### En pratique - une variable contenant d'autres variables"
   ]
  },
  {
   "cell_type": "markdown",
   "metadata": {
    "slideshow": {
     "slide_type": "fragment"
    }
   },
   "source": [
    "Nous avons vu précédemment que l'on peut facilement avec Python définir des variables de type nombre, booléen ou encore chaine de caractères. C'est bien mais cependant c'est loin d'être suffisant pour pouvoir automatiser les tâches ou faire du calcul numérique. C'est pour cela que nous allons maintenant voir les conteneurs. Comme son nom l'indique un conteneur va être une variable dans laquelle nous allons ranger un ensemble de variables. Par exemple pour ranger l'ensemble des notes que vous aurez pour le projet du cours il me faudra une liste. \n",
    "\n",
    "Nous allons voir qu'il n'existe pas qu'un seul type de conteneur en Python mais plusieurs, dans le Python que je qualifierai de base ils sont aux nombre de quatre : \n",
    "* Les tuples\n",
    "* Les listes\n",
    "* Les dictionnaires\n",
    "* Les ensembles\n",
    "\n",
    "Dans le cadre de ce cours nous ne nous intéresserons qu'aux trois premiers, le derniers n'ayant que peu d'intérêt pour nos applications. Bien évidemment si plusieurs conteneurs existes, c'est parce que chacun à ses particularités et ses limites que l'on va présenter. "
   ]
  },
  {
   "cell_type": "markdown",
   "metadata": {
    "slideshow": {
     "slide_type": "subslide"
    }
   },
   "source": [
    "### Les tuples \n",
    "\n",
    "Il s'agit du premier conteneur Python et surement le plus utilisé. Vous vous en êtes d'ailleurs déjà servi sans vous en rendre compte. En francais on pourrait traduire la notion de tuple à celle de n-uplet. Il s'agit donc d'un ensemble de valeurs (homogène ou non), c'est-à-dire qu'un tuple peut stocker des objets de types différents. \n",
    "\n",
    "La syntaxe pour définir un tuple est la suivante : \n",
    "\n",
    "```python\n",
    "nom_du_tuple = (valeur1, valeur2, ..., valeurN)\n",
    "```\n",
    "\n",
    "Pour accéder à la valeur d'un tuple il suffit d'utiliser l'opérateur **[]** avec entre crochet l'indice de l'élément auquel on souhaite accéder.\n",
    "\n",
    "> **Attention :**\n",
    "> Dans tous les conteneurs Python les indices commencent à **zéro** ! C'est à dire que pour accéder un premier élément d'un tuple il faut demander l'élément d'indice 0.\n"
   ]
  },
  {
   "cell_type": "markdown",
   "metadata": {
    "slideshow": {
     "slide_type": "subslide"
    }
   },
   "source": [
    "Par exemple : "
   ]
  },
  {
   "cell_type": "code",
   "execution_count": 1,
   "metadata": {
    "slideshow": {
     "slide_type": "fragment"
    }
   },
   "outputs": [
    {
     "name": "stdout",
     "output_type": "stream",
     "text": [
      "10\n",
      "une_string\n",
      "1e-05\n",
      "False\n"
     ]
    }
   ],
   "source": [
    "un_tuple = (10, \"une_string\", 1.e-5, False)\n",
    "print(un_tuple[0])\n",
    "print(un_tuple[1])\n",
    "print(un_tuple[2])\n",
    "print(un_tuple[3])"
   ]
  },
  {
   "cell_type": "markdown",
   "metadata": {
    "slideshow": {
     "slide_type": "subslide"
    }
   },
   "source": [
    "On peut également extraire des sous-tuples en spécificant entre crochet **i:j:s** où : \n",
    "* **i** est l'indice du premier élément que l'on souhaite récupérer\n",
    "* **j** est l'indice du dernier élément que l'on veut récupérer __+1__\n",
    "* **s** est le pas entre chaque éléments que l'on extrait\n",
    "\n",
    "Si vous ne précisez pas **i** par défaut Python prend i=0, si vous ne précisez pas j il prend j=taille du tuple et si vous ne précisez pas __s__ il prend __s=1__"
   ]
  },
  {
   "cell_type": "code",
   "execution_count": 2,
   "metadata": {
    "slideshow": {
     "slide_type": "fragment"
    }
   },
   "outputs": [
    {
     "name": "stdout",
     "output_type": "stream",
     "text": [
      "(10, 'une_string', 1e-05, False)\n",
      "('une_string', 1e-05)\n",
      "(10, 'une_string', 1e-05)\n",
      "(1e-05, False)\n",
      "(10, 1e-05)\n"
     ]
    }
   ],
   "source": [
    "print(un_tuple)\n",
    "print(un_tuple[1:3])\n",
    "print(un_tuple[:3])\n",
    "print(un_tuple[2:])\n",
    "print(un_tuple[::2])"
   ]
  },
  {
   "cell_type": "markdown",
   "metadata": {
    "slideshow": {
     "slide_type": "subslide"
    }
   },
   "source": [
    "Enfin si vous souhaitez connaitre la taille d'un tuple il suffit d'utiliser la commande **len** "
   ]
  },
  {
   "cell_type": "code",
   "execution_count": 3,
   "metadata": {
    "slideshow": {
     "slide_type": "fragment"
    }
   },
   "outputs": [
    {
     "name": "stdout",
     "output_type": "stream",
     "text": [
      "(10, 'une_string', 1e-05, False)\n",
      "4\n"
     ]
    }
   ],
   "source": [
    "print(un_tuple)\n",
    "print(len(un_tuple))"
   ]
  },
  {
   "cell_type": "markdown",
   "metadata": {
    "slideshow": {
     "slide_type": "subslide"
    }
   },
   "source": [
    "*Remarque* : nous n'avons pas vu dans cette partie comment modifier une valeur dans un tuple et c'est normal car ce n'est pas possible. \n",
    "L'une des particularités des tuples est qu'il s'agit de variables immutables, c'est-à-dire qu'une fois définit il n'est plus possible de le modifier. L'intérêt majeur que cela peut avoir est si vous souhaitez vous assurez que des valeurs seront constantes tout au long de l'exécution de votre code. \n",
    "\n",
    "Pour avoir des variables semblablent aux tuples mais pouvant être modifiés il faut utiliser des listes. "
   ]
  },
  {
   "cell_type": "markdown",
   "metadata": {
    "slideshow": {
     "slide_type": "subslide"
    }
   },
   "source": [
    "### Les listes\n",
    "\n",
    "Les listes sont le second conteneur utilisable de base dans Python. Il s'agit comme pour les tuples d'un ensemble de valeurs (homogènes ou non) qui pourront par la suite être modifiées. La définition d'une liste en Python se fait de manière très similaire à la construction d'un tuple si ce n'est que l'on remplace les parenthèses par des crochets.\n",
    "\n",
    "```python\n",
    "nom_de_la_liste = [valeur1, valeur2, ..., valeurN]\n",
    "```\n",
    "L'accès à la valeur d'une liste se fait de la même manière que pour les tuples, c'est-à-dire à l'aide des opérateurs **[]**. Et de même, on peut extraire une sous-liste à l'aide de la notation **i:j:s**. \n"
   ]
  },
  {
   "cell_type": "code",
   "execution_count": 4,
   "metadata": {
    "slideshow": {
     "slide_type": "fragment"
    }
   },
   "outputs": [
    {
     "name": "stdout",
     "output_type": "stream",
     "text": [
      "<class 'list'>\n"
     ]
    }
   ],
   "source": [
    "une_liste = [10, \"une_string\", 1.e-05, False]\n",
    "print(type(une_liste))"
   ]
  },
  {
   "cell_type": "code",
   "execution_count": 5,
   "metadata": {
    "slideshow": {
     "slide_type": "fragment"
    }
   },
   "outputs": [
    {
     "name": "stdout",
     "output_type": "stream",
     "text": [
      "10\n",
      "1e-05\n",
      "[1e-05, False]\n",
      "[10, 1e-05]\n"
     ]
    }
   ],
   "source": [
    "print(une_liste[0])\n",
    "print(une_liste[2])\n",
    "print(une_liste[2:])\n",
    "print(une_liste[::2])"
   ]
  },
  {
   "cell_type": "markdown",
   "metadata": {
    "slideshow": {
     "slide_type": "subslide"
    }
   },
   "source": [
    "Pour connaitre la taille d'une liste il suffit d'utiliser la même commande que pour les tuples, à savoir **len**"
   ]
  },
  {
   "cell_type": "code",
   "execution_count": 6,
   "metadata": {
    "slideshow": {
     "slide_type": "fragment"
    }
   },
   "outputs": [
    {
     "name": "stdout",
     "output_type": "stream",
     "text": [
      "4\n"
     ]
    }
   ],
   "source": [
    "print(len(une_liste))"
   ]
  },
  {
   "cell_type": "markdown",
   "metadata": {
    "slideshow": {
     "slide_type": "subslide"
    }
   },
   "source": [
    "Parmis les autres actions réalisables sur les listes et pouvant faciliter la vie, il y a l'utilisation du mot clé **in** qui permet de tester si un élément est dans la liste ou non "
   ]
  },
  {
   "cell_type": "code",
   "execution_count": 7,
   "metadata": {
    "slideshow": {
     "slide_type": "fragment"
    }
   },
   "outputs": [
    {
     "name": "stdout",
     "output_type": "stream",
     "text": [
      "False\n",
      "True\n"
     ]
    }
   ],
   "source": [
    "print( 3 in une_liste )\n",
    "print( \"une_string\" in une_liste )"
   ]
  },
  {
   "cell_type": "markdown",
   "metadata": {
    "slideshow": {
     "slide_type": "fragment"
    }
   },
   "source": [
    "Pour accéder à l'indice d'un élément dans une liste il suffit d'utiliser la commande **index**"
   ]
  },
  {
   "cell_type": "code",
   "execution_count": 8,
   "metadata": {
    "slideshow": {
     "slide_type": "fragment"
    }
   },
   "outputs": [
    {
     "data": {
      "text/plain": [
       "1"
      ]
     },
     "execution_count": 8,
     "metadata": {},
     "output_type": "execute_result"
    }
   ],
   "source": [
    "une_liste.index(\"une_string\")"
   ]
  },
  {
   "cell_type": "markdown",
   "metadata": {
    "slideshow": {
     "slide_type": "subslide"
    }
   },
   "source": [
    "On peut également concaténer des listes à l'aide de l'opérateur **+**. Il faut bien se souvenir que la somme de deux listes ne retourne pas la somme terme à terme des deux listes mais la concaténation."
   ]
  },
  {
   "cell_type": "code",
   "execution_count": 9,
   "metadata": {
    "slideshow": {
     "slide_type": "fragment"
    }
   },
   "outputs": [
    {
     "name": "stdout",
     "output_type": "stream",
     "text": [
      "[1, 2, 3, 4, 5, 6]\n"
     ]
    }
   ],
   "source": [
    "liste_a = [1,2,3]\n",
    "liste_b = [4,5,6]\n",
    "print( liste_a + liste_b )"
   ]
  },
  {
   "cell_type": "markdown",
   "metadata": {
    "slideshow": {
     "slide_type": "subslide"
    }
   },
   "source": [
    "Pour finir nous allons voir comment modifier les valeurs au sein d'une liste. Pour cela on utilise enore une fois l'opérateur **[]** mais on le fait suivre d'une opération d'affectation, c'est-à-dire qu'il est suivi d'un __=__ une valeur. On peut également modifier des sous-listes en utilisant la notation **i:j:s**."
   ]
  },
  {
   "cell_type": "code",
   "execution_count": 10,
   "metadata": {
    "slideshow": {
     "slide_type": "fragment"
    }
   },
   "outputs": [
    {
     "name": "stdout",
     "output_type": "stream",
     "text": [
      "[10, 'une_string', 1e-05, False]\n"
     ]
    }
   ],
   "source": [
    "print(une_liste)"
   ]
  },
  {
   "cell_type": "code",
   "execution_count": 11,
   "metadata": {
    "slideshow": {
     "slide_type": "fragment"
    }
   },
   "outputs": [
    {
     "name": "stdout",
     "output_type": "stream",
     "text": [
      "[-1, 'une_string', 1e-05, False]\n"
     ]
    }
   ],
   "source": [
    "une_liste[0] = -1\n",
    "print(une_liste)"
   ]
  },
  {
   "cell_type": "code",
   "execution_count": 12,
   "metadata": {
    "slideshow": {
     "slide_type": "subslide"
    }
   },
   "outputs": [
    {
     "name": "stdout",
     "output_type": "stream",
     "text": [
      "[-1, 'une_string', 1e-05, [0, 1]]\n"
     ]
    }
   ],
   "source": [
    "une_liste[3] = [0,1]\n",
    "print(une_liste)"
   ]
  },
  {
   "cell_type": "code",
   "execution_count": 13,
   "metadata": {
    "slideshow": {
     "slide_type": "fragment"
    }
   },
   "outputs": [
    {
     "name": "stdout",
     "output_type": "stream",
     "text": [
      "[0, 1, 1e-05, [0, 1]]\n"
     ]
    }
   ],
   "source": [
    "une_liste[:2] = [0,1]\n",
    "print(une_liste)"
   ]
  },
  {
   "cell_type": "markdown",
   "metadata": {
    "slideshow": {
     "slide_type": "subslide"
    }
   },
   "source": [
    "Cependant vous avez peut-être constaté que pour le moment nous n'avons fait que changer les valeurs dans la liste sans changer sa taille. Pour ajouter des éléments dans une liste en l'agrandissant il faut utiliser les fonctions :\n",
    "* append qui ajoute un élément à la fin de la liste \n",
    "* insert qui ajoute un élément à une position donnée"
   ]
  },
  {
   "cell_type": "code",
   "execution_count": 14,
   "metadata": {
    "slideshow": {
     "slide_type": "fragment"
    }
   },
   "outputs": [
    {
     "name": "stdout",
     "output_type": "stream",
     "text": [
      "[0, 1, 1e-05, [0, 1]]\n"
     ]
    }
   ],
   "source": [
    "print(une_liste)"
   ]
  },
  {
   "cell_type": "code",
   "execution_count": 15,
   "metadata": {
    "slideshow": {
     "slide_type": "fragment"
    }
   },
   "outputs": [
    {
     "name": "stdout",
     "output_type": "stream",
     "text": [
      "[0, 1, 1e-05, [0, 1], 10000]\n"
     ]
    }
   ],
   "source": [
    "une_liste.append( 10000 )\n",
    "print(une_liste)"
   ]
  },
  {
   "cell_type": "code",
   "execution_count": 16,
   "metadata": {
    "slideshow": {
     "slide_type": "fragment"
    }
   },
   "outputs": [
    {
     "name": "stdout",
     "output_type": "stream",
     "text": [
      "Help on built-in function insert:\n",
      "\n",
      "insert(...) method of builtins.list instance\n",
      "    L.insert(index, object) -- insert object before index\n",
      "\n",
      "[0, 1, 'new_item', 1e-05, [0, 1], 10000]\n"
     ]
    }
   ],
   "source": [
    "help(une_liste.insert)\n",
    "une_liste.insert(2, \"new_item\")\n",
    "print(une_liste)"
   ]
  },
  {
   "cell_type": "markdown",
   "metadata": {
    "slideshow": {
     "slide_type": "subslide"
    }
   },
   "source": [
    "Et si l'on veut supprimer des éléments d'une liste on peut utiliser la commande **remove** ou alors le mot clé **del** pour delete."
   ]
  },
  {
   "cell_type": "code",
   "execution_count": 17,
   "metadata": {
    "slideshow": {
     "slide_type": "fragment"
    }
   },
   "outputs": [
    {
     "name": "stdout",
     "output_type": "stream",
     "text": [
      "[0, 1, 'new_item', [0, 1], 10000]\n"
     ]
    }
   ],
   "source": [
    "une_liste.remove(1.e-5)\n",
    "print(une_liste)\n",
    " "
   ]
  },
  {
   "cell_type": "code",
   "execution_count": 18,
   "metadata": {
    "slideshow": {
     "slide_type": "fragment"
    }
   },
   "outputs": [
    {
     "name": "stdout",
     "output_type": "stream",
     "text": [
      "[0, 'new_item', [0, 1], 10000]\n"
     ]
    }
   ],
   "source": [
    "del une_liste[1]\n",
    "print(une_liste)"
   ]
  },
  {
   "cell_type": "markdown",
   "metadata": {
    "slideshow": {
     "slide_type": "subslide"
    }
   },
   "source": [
    "**Attention :**\n",
    "Il faut faire très attention avec les listes à une chose, lorsque que vous copiez une liste si vous ne le faites pas de la bonne manière vous n'aurez pas le comportement attendu et vous allez potentiellement mettre très longtemps à trouver la source du problème. Ce \"problème\" est lié au fait qu'en Python tout se fait par passage par référence, nous verons plus loin dans le cours ce que cela veut dire. \n",
    "\n",
    "Illustration : "
   ]
  },
  {
   "cell_type": "code",
   "execution_count": 1,
   "metadata": {
    "slideshow": {
     "slide_type": "fragment"
    }
   },
   "outputs": [
    {
     "name": "stdout",
     "output_type": "stream",
     "text": [
      "[10, 2, 3, 4, 5]\n",
      "[10, 2, 3, 4, 5]\n"
     ]
    }
   ],
   "source": [
    "liste_a = [1,2,3,4,5]\n",
    "liste_b = liste_a      ### On pense faire une copie de liste_a dans liste_b \n",
    "liste_b[0] = 10\n",
    "print(liste_b)\n",
    "print(liste_a)"
   ]
  },
  {
   "cell_type": "markdown",
   "metadata": {
    "slideshow": {
     "slide_type": "subslide"
    }
   },
   "source": [
    "On constate alors que la modification que l'on a fait dans liste_b se répercute aussi sur liste_a. Et cela est tout à fait normal, car si l'on regarde les adresses mémoire de chacunes des variables liste_a et liste_b nous allons qu'elles sont identiques. "
   ]
  },
  {
   "cell_type": "code",
   "execution_count": 20,
   "metadata": {
    "slideshow": {
     "slide_type": "fragment"
    }
   },
   "outputs": [
    {
     "name": "stdout",
     "output_type": "stream",
     "text": [
      "0x7fa214d15588\n",
      "0x7fa214d15588\n"
     ]
    }
   ],
   "source": [
    "print(hex(id(liste_a)))\n",
    "print(hex(id(liste_b)))"
   ]
  },
  {
   "cell_type": "markdown",
   "metadata": {
    "slideshow": {
     "slide_type": "subslide"
    }
   },
   "source": [
    "Pourquoi ce comportement étrange ? Car pour Python lorsque vous écrivez \n",
    "\n",
    "```python\n",
    "liste_b = liste_a\n",
    "```\n",
    "\n",
    "Il comprend, créé moi une variable nommée liste_b pointant vers la même zone mémoire que liste_a et donc quand vous utilisez la variable liste_b vous accédez en réalité au même case mémoire que liste_a. \n",
    "\n",
    "Si vous ne souhaitez pas ce comportement, il faut être un peu plus explicite et procéder de la manière suivante : \n"
   ]
  },
  {
   "cell_type": "code",
   "execution_count": 21,
   "metadata": {
    "slideshow": {
     "slide_type": "fragment"
    }
   },
   "outputs": [
    {
     "name": "stdout",
     "output_type": "stream",
     "text": [
      "[10, 2, 3, 4, 5]\n",
      "[1, 2, 3, 4, 5]\n"
     ]
    }
   ],
   "source": [
    "liste_a = [1,2,3,4,5]\n",
    "liste_b = liste_a.copy()\n",
    "## ou bien \n",
    "liste_b = liste_a[:]\n",
    "liste_b[0] = 10\n",
    "print(liste_b)\n",
    "print(liste_a)"
   ]
  },
  {
   "cell_type": "markdown",
   "metadata": {
    "slideshow": {
     "slide_type": "subslide"
    }
   },
   "source": [
    "### Les dictionnaires"
   ]
  },
  {
   "cell_type": "markdown",
   "metadata": {
    "slideshow": {
     "slide_type": "fragment"
    }
   },
   "source": [
    "Nous allons à présent voir le dernier conteneur nativement disponible dans Python que l'on étudie dans le cadre de ce cours, à savoir les dictionnaires. \n",
    "\n",
    "Les dictionnaires sont des conteneurs assez différents dans listes et des tuples dans le sens où il ne sont pas ordonnés et il n'y pas pas la notion d'indice. L'accès aux éléments se fait à l'aide d'une clé. En effet les dictionnaire Python repose sur des doublets (clé, valeur). Chaque clé d'un dictionnaire doit nécessairement être unique et de type **int** ou **string**. La syntaxe pour définir un dictionnaire est la suivante : \n",
    "\n",
    "```python\n",
    "un_dictionnaire = {cle1: valeur, cle2:valeur, ...}\n",
    "```\n",
    "L'accès aux valeurs d'un dictionnaire se fait en utilisant l'opérateur **[]** auquel on fournit la clé de l'élément que l'on souhaite récupérer."
   ]
  },
  {
   "cell_type": "code",
   "execution_count": 22,
   "metadata": {
    "slideshow": {
     "slide_type": "subslide"
    }
   },
   "outputs": [
    {
     "name": "stdout",
     "output_type": "stream",
     "text": [
      "{'cle1': 1, 'cle2': 2, 1035: False}\n",
      "1\n",
      "False\n"
     ]
    }
   ],
   "source": [
    "un_dict = {\"cle1\": 1, \"cle2\": 2, 1035: False}\n",
    "print(un_dict)\n",
    "print(un_dict[\"cle1\"])\n",
    "print(un_dict[1035])"
   ]
  },
  {
   "cell_type": "markdown",
   "metadata": {
    "slideshow": {
     "slide_type": "fragment"
    }
   },
   "source": [
    "L'intérêt des dictionnaires est multiple et ses applications sont nombreuses. La modification d'un élément du dictionnaire se fait tout simplement en faisant l'élément considéré d'une opération d'affectation avec la nouvelle valeur. "
   ]
  },
  {
   "cell_type": "code",
   "execution_count": 23,
   "metadata": {
    "slideshow": {
     "slide_type": "fragment"
    }
   },
   "outputs": [
    {
     "name": "stdout",
     "output_type": "stream",
     "text": [
      "{'cle1': 1, 'cle2': 2, 1035: False}\n",
      "{'cle1': 18, 'cle2': 2, 1035: False}\n"
     ]
    }
   ],
   "source": [
    "print(un_dict)\n",
    "un_dict[\"cle1\"] = 18\n",
    "print(un_dict)"
   ]
  },
  {
   "cell_type": "markdown",
   "metadata": {
    "slideshow": {
     "slide_type": "subslide"
    }
   },
   "source": [
    "Si vous souhaitez ajouter de nouvelles entrées dans un dictionnaire la chose est très simple. Il suffit de procéder commer pour la modification d'une valeur puisque si la clé que l'on donne n'existe pas elle est automatiquement créée."
   ]
  },
  {
   "cell_type": "code",
   "execution_count": 24,
   "metadata": {
    "slideshow": {
     "slide_type": "fragment"
    }
   },
   "outputs": [
    {
     "name": "stdout",
     "output_type": "stream",
     "text": [
      "{'cle1': 18, 'cle2': 2, 1035: False}\n",
      "{'cle1': 18, 'cle2': 2, 1035: False, 'new_key': 'new_val'}\n"
     ]
    }
   ],
   "source": [
    "print(un_dict)\n",
    "un_dict[\"new_key\"] = \"new_val\"\n",
    "print(un_dict)"
   ]
  },
  {
   "cell_type": "markdown",
   "metadata": {
    "slideshow": {
     "slide_type": "subslide"
    }
   },
   "source": [
    "Enfin pour se faciliter la vie avec les dictionnaires il y a quelques astuces à connaitres. Par exemple pour récupérer la liste des clés dans le dictionnaire "
   ]
  },
  {
   "cell_type": "code",
   "execution_count": 25,
   "metadata": {
    "slideshow": {
     "slide_type": "fragment"
    }
   },
   "outputs": [
    {
     "name": "stdout",
     "output_type": "stream",
     "text": [
      "dict_keys(['cle1', 'cle2', 1035, 'new_key'])\n"
     ]
    }
   ],
   "source": [
    "print( un_dict.keys() )"
   ]
  },
  {
   "cell_type": "markdown",
   "metadata": {
    "slideshow": {
     "slide_type": "fragment"
    }
   },
   "source": [
    "Pour récupérer l'ensemble des valeurs stockées dans le dictionnaire : "
   ]
  },
  {
   "cell_type": "code",
   "execution_count": 26,
   "metadata": {
    "slideshow": {
     "slide_type": "fragment"
    }
   },
   "outputs": [
    {
     "name": "stdout",
     "output_type": "stream",
     "text": [
      "dict_values([18, 2, False, 'new_val'])\n"
     ]
    }
   ],
   "source": [
    "print(un_dict.values())"
   ]
  },
  {
   "cell_type": "markdown",
   "metadata": {
    "slideshow": {
     "slide_type": "fragment"
    }
   },
   "source": [
    "Et enfin pour récupérer l'ensemble des doublets clé, valeur dans une liste : "
   ]
  },
  {
   "cell_type": "code",
   "execution_count": 27,
   "metadata": {
    "slideshow": {
     "slide_type": "fragment"
    }
   },
   "outputs": [
    {
     "name": "stdout",
     "output_type": "stream",
     "text": [
      "dict_items([('cle1', 18), ('cle2', 2), (1035, False), ('new_key', 'new_val')])\n"
     ]
    }
   ],
   "source": [
    "print(un_dict.items())"
   ]
  },
  {
   "cell_type": "markdown",
   "metadata": {
    "slideshow": {
     "slide_type": "subslide"
    }
   },
   "source": [
    "L'utilisation de ces méthodes peut s'accompagner du mot clé **in** par exemple : "
   ]
  },
  {
   "cell_type": "code",
   "execution_count": 28,
   "metadata": {
    "slideshow": {
     "slide_type": "fragment"
    }
   },
   "outputs": [
    {
     "name": "stdout",
     "output_type": "stream",
     "text": [
      "new_val\n"
     ]
    }
   ],
   "source": [
    "if \"new_key\" in un_dict.keys():\n",
    "    print( un_dict[\"new_key\"] )"
   ]
  },
  {
   "cell_type": "markdown",
   "metadata": {
    "slideshow": {
     "slide_type": "subslide"
    }
   },
   "source": [
    "### Pas plus ? Pas de matrices-vecteurs à la Matlab ?\n",
    "\n",
    "Nous venons donc de faire le tour des principaux containers disponibles nativement dans Python. La question que vous devez certainement vous poser est comment je fais pour faire de la simulation avec Python donc gérer des matrices, vecteurs, ... En effet en Python natif il n'y a pas de notion de vecteurs ou de matrices comme dans Matlab qui ne gère que ça. \n",
    "\n",
    "Mais cependant pas d'affolement, car des gens ont fait le travail. Nous verrons un peu plus tard que Python dispose d'un certain nombre de module additionels et que parmis ces module il y a Numpy qui définit la notion de vecteur et matrice. \n",
    "\n",
    "\n"
   ]
  },
  {
   "cell_type": "markdown",
   "metadata": {
    "slideshow": {
     "slide_type": "slide"
    }
   },
   "source": [
    "## Les boucles --- ou comment tirer parti de la stupidité de l'ordinateur"
   ]
  },
  {
   "cell_type": "markdown",
   "metadata": {
    "slideshow": {
     "slide_type": "subslide"
    }
   },
   "source": [
    "### Dans quel intérêt ?"
   ]
  },
  {
   "cell_type": "markdown",
   "metadata": {
    "slideshow": {
     "slide_type": "fragment"
    }
   },
   "source": [
    "Une grosse partie des programmes informatiques nécessite le traitement répétitif de données, généralement stockées dans des listes ou des tableaux. Pour effectuer ces traitements il est donc nécessaire d'avoir des commandes de répétitions à disposition. Comme l'intégralité des langages de programmation (à ma connaissance) Python dispose de deux types de commandes pour répéter un ensemble d'instruction : \n",
    "* La boucle **for** qui permet de répéter N fois une série d'instruction.\n",
    "* La boucle **while** qui permet de répéter une série d'instruction tant qu'une certaine condition est vraie. \n"
   ]
  },
  {
   "cell_type": "markdown",
   "metadata": {
    "slideshow": {
     "slide_type": "subslide"
    }
   },
   "source": [
    "### Boucles *for*\n",
    "\n",
    "La boucle, dite boucle *for*, permet de répéter une opération **N** fois avec N un entier connu avant l'entrée dans la boucle. Il s'agit donc d'une boucle adaptée lorsque l'on sait à l'avance le nombre de fois que l'on doit répéter le bloc d'instruction. \n",
    "\n",
    "La syntaxe Python de la boucle for est la suivante : \n",
    "\n",
    "```python\n",
    "for i in un_iterable:\n",
    "    instruction_1\n",
    "    instruction_2\n",
    "```\n",
    "\n",
    "**Remarque :** on retrouve dans la syntaxe de la boucle for quelque chose de similaire à celle du *if* à savoir une première ligne se terminant avec le caractère **:** et ensuite un bloc d'instruction indenté. \n",
    "\n",
    "Vous pouvez remarquer que la première ligne fait intervenir ce que j'appelle un **itérable**. Il s'agit d'objets Python sur lesquels on peut itérer. Vous n'êtes pas plus avancé je sais. En pratique il s'agit d'objet particulier qui permettent de parcourir tous les éléments contenus automatiquement à l'aide d'une boucle *for* entre autres. Dans le cadre de ce cours je ne rentrerai pas dans le détail au sujet des itérateurs, je vais juste vous donner une liste des itérables que vous pouvez manipuler. "
   ]
  },
  {
   "cell_type": "markdown",
   "metadata": {
    "slideshow": {
     "slide_type": "subslide"
    }
   },
   "source": [
    "Le premier itérable, le plus simple c'est une liste. On peut facilement parcourir les éléments d'une liste à l'aide de la boucle *for*. En effet nous pouvons écrire le code suivant : "
   ]
  },
  {
   "cell_type": "code",
   "execution_count": 2,
   "metadata": {
    "slideshow": {
     "slide_type": "fragment"
    }
   },
   "outputs": [
    {
     "name": "stdout",
     "output_type": "stream",
     "text": [
      "1\n",
      "2\n",
      "3\n",
      "4\n",
      "5\n"
     ]
    }
   ],
   "source": [
    "ma_liste = [1,2,3,4,5]\n",
    "\n",
    "for x in ma_liste:\n",
    "    print(x)"
   ]
  },
  {
   "cell_type": "markdown",
   "metadata": {
    "slideshow": {
     "slide_type": "subslide"
    }
   },
   "source": [
    "La même chose est possible avec un tuple évidemment. "
   ]
  },
  {
   "cell_type": "code",
   "execution_count": 30,
   "metadata": {
    "slideshow": {
     "slide_type": "fragment"
    }
   },
   "outputs": [
    {
     "name": "stdout",
     "output_type": "stream",
     "text": [
      "1\n",
      "2\n",
      "3\n",
      "4\n",
      "5\n"
     ]
    }
   ],
   "source": [
    "mon_tuple = (1,2,3,4,5)\n",
    "for x in mon_tuple:\n",
    "    print(x)"
   ]
  },
  {
   "cell_type": "markdown",
   "metadata": {
    "slideshow": {
     "slide_type": "subslide"
    }
   },
   "source": [
    "Parfois nous n'avons pas besoin d'écrire une boucle pour parcourir les éléments d'une liste mais juste pour répéter N fois une opération donnée, avec N un entier positif. Dans ce cas il faut utiliser la commande **range** qui va vous générer un itérable. La syntaxe de la commande range est la suivante : \n",
    "```python\n",
    "range(A,B,S)\n",
    "```\n",
    "\n",
    "où les paramètres sont : \n",
    "* A : (int) la valeur de départ de l'itérable, par défaut A=0\n",
    "* B : (int) la valeur finale de l'itérable __+1__, pas de valeur par défaut\n",
    "* S : (int) le pas entre deux itérés, par défaut S=1\n",
    "\n",
    "Par exemple : "
   ]
  },
  {
   "cell_type": "code",
   "execution_count": 31,
   "metadata": {
    "slideshow": {
     "slide_type": "fragment"
    }
   },
   "outputs": [
    {
     "name": "stdout",
     "output_type": "stream",
     "text": [
      "0\n",
      "1\n",
      "2\n",
      "3\n",
      "4\n"
     ]
    }
   ],
   "source": [
    "for i in range(0,5):  ## S=1 implicitement\n",
    "    print(i)"
   ]
  },
  {
   "cell_type": "code",
   "execution_count": 32,
   "metadata": {
    "slideshow": {
     "slide_type": "subslide"
    }
   },
   "outputs": [
    {
     "name": "stdout",
     "output_type": "stream",
     "text": [
      "0\n",
      "1\n",
      "2\n"
     ]
    }
   ],
   "source": [
    "for i in range(3):  ## A=0, S=1 implicitement\n",
    "    print(i)"
   ]
  },
  {
   "cell_type": "code",
   "execution_count": 33,
   "metadata": {
    "slideshow": {
     "slide_type": "fragment"
    }
   },
   "outputs": [
    {
     "name": "stdout",
     "output_type": "stream",
     "text": [
      "0\n",
      "2\n",
      "4\n",
      "6\n",
      "8\n"
     ]
    }
   ],
   "source": [
    "for i in range(0,10,2):\n",
    "    print(i)"
   ]
  },
  {
   "cell_type": "markdown",
   "metadata": {
    "slideshow": {
     "slide_type": "subslide"
    }
   },
   "source": [
    "Vous pourriez alors me dire pourquoi ne pas utiliser range(len(ma_liste)) pour parcourir une liste ? Oui en effet ça fonctionne comme vous pouvez le voir ci-dessous : "
   ]
  },
  {
   "cell_type": "code",
   "execution_count": 4,
   "metadata": {
    "slideshow": {
     "slide_type": "fragment"
    }
   },
   "outputs": [
    {
     "name": "stdout",
     "output_type": "stream",
     "text": [
      "1\n",
      "2\n",
      "3\n",
      "4\n",
      "5\n",
      "1\n",
      "2\n",
      "3\n",
      "4\n",
      "5\n"
     ]
    }
   ],
   "source": [
    "for i in range(len(ma_liste)):\n",
    "    print(ma_liste[i])\n",
    "    \n",
    "    \n",
    "for x in ma_liste:\n",
    "    print(x)"
   ]
  },
  {
   "cell_type": "markdown",
   "metadata": {
    "slideshow": {
     "slide_type": "subslide"
    }
   },
   "source": [
    "Mais cette syntaxe n'est pas du tout recommandée, elle est même à proscrire pour plusieurs raisons.\n",
    "* C'est lourd et moche\n",
    "* Ce n'est pas optimisé. C'est-à-dire que si len(ma_liste)>> 1 votre code va être lent. \n",
    "\n",
    "Si vous faites cela pour accéder à la fois à la valeur de votre itérable et son index sachez que Python à tout fait pour vous. Il existe en effet la commande **enumerate** dont la syntaxe est la suivante : \n",
    "\n",
    "```python\n",
    "for i,x in enumerate(un_iterable):\n",
    "    instruction\n",
    "```\n",
    "Dans la pratique cela permet d'écrire : "
   ]
  },
  {
   "cell_type": "code",
   "execution_count": 35,
   "metadata": {
    "slideshow": {
     "slide_type": "fragment"
    }
   },
   "outputs": [
    {
     "name": "stdout",
     "output_type": "stream",
     "text": [
      "ma_liste[0] = 1\n",
      "ma_liste[1] = 2\n",
      "ma_liste[2] = 3\n",
      "ma_liste[3] = 4\n",
      "ma_liste[4] = 5\n"
     ]
    }
   ],
   "source": [
    "for i,x in enumerate(ma_liste):\n",
    "    print(\"ma_liste[{}] = {}\".format(i,x))"
   ]
  },
  {
   "cell_type": "markdown",
   "metadata": {
    "slideshow": {
     "slide_type": "subslide"
    }
   },
   "source": [
    "Et enfin si vous souhaitez parcourir plusieurs listes de même tailles simultanément là aussi il y a une astuce, la commande **zip** dont la syntaxe est la suivante : \n",
    "\n",
    "```python\n",
    "for x,y,z in zip(list_x, list_y, list_z):\n",
    "    instruction\n",
    "```"
   ]
  },
  {
   "cell_type": "code",
   "execution_count": 5,
   "metadata": {
    "slideshow": {
     "slide_type": "subslide"
    }
   },
   "outputs": [
    {
     "name": "stdout",
     "output_type": "stream",
     "text": [
      "x=0, y=10, z=20\n",
      "x=1, y=11, z=21\n",
      "x=2, y=12, z=22\n",
      "x=3, y=13, z=23\n",
      "x=4, y=14, z=24\n"
     ]
    }
   ],
   "source": [
    "list_x = [0,1,2,3,4]\n",
    "list_y = [10,11,12,13,14]\n",
    "list_z = [20,21,22,23,24]\n",
    "\n",
    "for x,y,z in zip(list_x, list_y, list_z):\n",
    "    print(\"x={}, y={}, z={}\".format(x, y, z))"
   ]
  },
  {
   "cell_type": "markdown",
   "metadata": {
    "slideshow": {
     "slide_type": "subslide"
    }
   },
   "source": [
    "Bien entendu il est tout à fait possible de combiner les commandes **zip** et **enumerate**. Cependant attention à la syntaxe (placement des parenthèses à gauche du **in**)."
   ]
  },
  {
   "cell_type": "code",
   "execution_count": 37,
   "metadata": {
    "slideshow": {
     "slide_type": "fragment"
    }
   },
   "outputs": [
    {
     "name": "stdout",
     "output_type": "stream",
     "text": [
      "0 => x=0, y=10, z=20\n",
      "1 => x=1, y=11, z=21\n",
      "2 => x=2, y=12, z=22\n",
      "3 => x=3, y=13, z=23\n",
      "4 => x=4, y=14, z=24\n"
     ]
    }
   ],
   "source": [
    "for i,(x,y,z) in enumerate(zip(list_x, list_y, list_z)):\n",
    "    print(\"{} => x={}, y={}, z={}\".format(i, x, y, z))"
   ]
  },
  {
   "cell_type": "markdown",
   "metadata": {
    "slideshow": {
     "slide_type": "subslide"
    }
   },
   "source": [
    "### Les mots clés *break* et *continue*"
   ]
  },
  {
   "cell_type": "markdown",
   "metadata": {
    "slideshow": {
     "slide_type": "fragment"
    }
   },
   "source": [
    "Dans le langage Python il existe deux mots clés particuliers destinés à modifier le comportement d'une boucle *for* (ou *while* comme nous le verrons par la suite) il s'agit de : \n",
    "* __break__ : qui permet d'interrompre une boucle prématurément\n",
    "* __continue__ : qui permet de passer à l'itérer suivant sans exécuter le code qui suit le continue\n",
    "\n",
    "Concrètement le comportement de ces deux mots clé est le suivant : "
   ]
  },
  {
   "cell_type": "code",
   "execution_count": 6,
   "metadata": {
    "slideshow": {
     "slide_type": "subslide"
    }
   },
   "outputs": [
    {
     "name": "stdout",
     "output_type": "stream",
     "text": [
      "x = 1\n",
      "x = 2\n"
     ]
    }
   ],
   "source": [
    "ma_liste = [1,2,3,4,5]\n",
    "\n",
    "for x in ma_liste:\n",
    "    if x == 3:\n",
    "        break\n",
    "    print(\"x = {}\".format(x))"
   ]
  },
  {
   "cell_type": "code",
   "execution_count": 39,
   "metadata": {
    "slideshow": {
     "slide_type": "fragment"
    }
   },
   "outputs": [
    {
     "name": "stdout",
     "output_type": "stream",
     "text": [
      "x = 1\n",
      "x = 2\n",
      "x = 4\n",
      "x = 5\n"
     ]
    }
   ],
   "source": [
    "for x in ma_liste:\n",
    "    if x == 3:\n",
    "        continue\n",
    "    print(\"x = {}\".format(x))"
   ]
  },
  {
   "cell_type": "markdown",
   "metadata": {
    "slideshow": {
     "slide_type": "subslide"
    }
   },
   "source": [
    "### Une utilisation un peu particulière du *for* --- Les \"comprehension lists\""
   ]
  },
  {
   "cell_type": "markdown",
   "metadata": {
    "slideshow": {
     "slide_type": "fragment"
    }
   },
   "source": [
    "La mot clé **for** peut également servir sous une forme légèrement différente à construire ce que l'on appelle des \"comprehension list\". L'idée est de définir est remplir une list en une seule ligne de commande. L'intérêt est bien entendu d'avoir un code plus conçis mais également d'avoir une syntaxe qui soit plus proche de celle utilisée en mathématique. \n",
    "\n",
    "La syntaxe Python pour définir une comprehension list est la suivante : \n",
    "\n",
    "```python\n",
    "nom_de_ma_liste = [ expression(x) for x in iterable if condition(x) ]\n",
    "```\n",
    "\n",
    "Le test avec le `if condition(x)` est optionel. "
   ]
  },
  {
   "cell_type": "markdown",
   "metadata": {
    "slideshow": {
     "slide_type": "subslide"
    }
   },
   "source": [
    "Par exemple imaginons que je veuille construire la liste définie par : \n",
    "$$ S = \\left\\lbrace x \\in [0,10[ \\;\\; \\backslash \\;\\; x^2 \\;\\; \\right\\rbrace $$\n",
    "avec une comprehension list cela se traduit par le code suivant : "
   ]
  },
  {
   "cell_type": "code",
   "execution_count": 40,
   "metadata": {
    "slideshow": {
     "slide_type": "fragment"
    }
   },
   "outputs": [
    {
     "name": "stdout",
     "output_type": "stream",
     "text": [
      "[0, 1, 4, 9, 16, 25, 36, 49, 64, 81]\n"
     ]
    }
   ],
   "source": [
    "la_liste = [ x**2 for x in range(10) ]\n",
    "print(la_liste)"
   ]
  },
  {
   "cell_type": "markdown",
   "metadata": {
    "slideshow": {
     "slide_type": "fragment"
    }
   },
   "source": [
    "Et si l'on veut maintenant ajouter une condition, par exemple pour construire : \n",
    "$$ S = \\left\\lbrace x \\in [0,10[ \\;\\; \\backslash \\;\\; x^2 < 30 \\;\\; \\right\\rbrace $$\n",
    "Il suffit d'écrire cela sous la forme suivante : "
   ]
  },
  {
   "cell_type": "code",
   "execution_count": 41,
   "metadata": {
    "slideshow": {
     "slide_type": "fragment"
    }
   },
   "outputs": [
    {
     "name": "stdout",
     "output_type": "stream",
     "text": [
      "[0, 1, 4, 9, 16, 25]\n"
     ]
    }
   ],
   "source": [
    "la_liste = [ x**2 for x in range(10) if x**2 < 30 ]\n",
    "print(la_liste) "
   ]
  },
  {
   "cell_type": "markdown",
   "metadata": {
    "slideshow": {
     "slide_type": "subslide"
    }
   },
   "source": [
    "### La boucle *while*"
   ]
  },
  {
   "cell_type": "markdown",
   "metadata": {
    "slideshow": {
     "slide_type": "subslide"
    }
   },
   "source": [
    "La boucle dite boucle *while* permet en informatique de répéter une série d'instruction tant qu'une certaine condition (spécifier par le développeur lors de l'écriture de la boucle) est vérifiée. De ce fait la boucle *while* est adaptée lorsque l'on ne sait pas à l'avance le nombre de fois que l'on va devoir répéter le bloc d'instruction. Un exemple typique sont les méthodes de résolution des problèmes de minimisation où la boucle de convergence ne doit s'arréter qu'une fois la solution trouvée. \n",
    "\n",
    "La syntaxe Python de la boucle while est la suivante :    \n",
    "```python \n",
    "while condition:\n",
    "    instruction_1\n",
    "    instruction_2\n",
    "```\n",
    "\n",
    "La condition doit nécessairement être un booléen qui va dépendre de ce qui est effectué par les instructions. Tant que cette condition est vraie alors les instructions sont répétées et lorsque la condition devient fausse la boucle s'arrète. "
   ]
  },
  {
   "cell_type": "markdown",
   "metadata": {
    "slideshow": {
     "slide_type": "subslide"
    }
   },
   "source": [
    "Par exemple : "
   ]
  },
  {
   "cell_type": "code",
   "execution_count": 7,
   "metadata": {
    "slideshow": {
     "slide_type": "fragment"
    }
   },
   "outputs": [
    {
     "name": "stdout",
     "output_type": "stream",
     "text": [
      "Il y a eu 5 ( => x=21.1137767453526) execution du bloc avant que la condition ne deviennent fausse\n"
     ]
    }
   ],
   "source": [
    "x = 1.1\n",
    "n_iter = 0\n",
    "while x<10:\n",
    "    x = x**2\n",
    "    n_iter +=1\n",
    "    \n",
    "print(\"Il y a eu {} ( => x={}) execution du bloc avant que la condition ne deviennent fausse\".format(n_iter, x))\n",
    "    \n"
   ]
  },
  {
   "cell_type": "markdown",
   "metadata": {
    "slideshow": {
     "slide_type": "subslide"
    }
   },
   "source": [
    "Bien entendu la condition d'arrêt de la boucle *while* peut-être aussi complex que nécessaire et faire appel à de fonctions Python. Par exemple"
   ]
  },
  {
   "cell_type": "code",
   "execution_count": 8,
   "metadata": {
    "slideshow": {
     "slide_type": "fragment"
    }
   },
   "outputs": [
    {
     "name": "stdout",
     "output_type": "stream",
     "text": [
      "La boucle s'est arrétée pour i=9 avec ma_liste[9]=0.00027557319223985895\n",
      "La liste vaut [100, 100.0, 50.0, 16.666666666666668, 4.166666666666667, 0.8333333333333334, 0.1388888888888889, 0.019841269841269844, 0.0024801587301587305, 0.00027557319223985895]\n"
     ]
    }
   ],
   "source": [
    "ma_liste = [100,]\n",
    "i = 0\n",
    "while len(ma_liste)<100 and ma_liste[i]>0.001:\n",
    "    ma_liste.append( ma_liste[i] / (i+1) )\n",
    "    i += 1\n",
    "    \n",
    "print(\"La boucle s'est arrétée pour i={0} avec ma_liste[{0}]={1}\".format(i, ma_liste[i]))\n",
    "print( \"La liste vaut {}\".format(ma_liste))"
   ]
  },
  {
   "cell_type": "markdown",
   "metadata": {
    "slideshow": {
     "slide_type": "subslide"
    }
   },
   "source": [
    "De la même manière que pour les listes, on peut utiliser le mot clé *break* dans une boucle *while* pour en stopper l'exécution prématurément. "
   ]
  },
  {
   "cell_type": "code",
   "execution_count": 1,
   "metadata": {
    "slideshow": {
     "slide_type": "skip"
    }
   },
   "outputs": [
    {
     "name": "stdout",
     "output_type": "stream",
     "text": [
      "La boucle s'est arrétée pour i=6 avec ma_liste[6]=0.1388888888888889\n",
      "La liste vaut [100, 100.0, 50.0, 16.666666666666668, 4.166666666666667, 0.8333333333333334, 0.1388888888888889]\n"
     ]
    }
   ],
   "source": [
    "ma_liste = [100,]\n",
    "i = 0\n",
    "while len(ma_liste)<100 and ma_liste[i]>0.001:\n",
    "    ma_liste.append( ma_liste[i] / (i+1) )\n",
    "    i += 1\n",
    "    if i>5: break\n",
    "    \n",
    "print(\"La boucle s'est arrétée pour i={0} avec ma_liste[{0}]={1}\".format(i, ma_liste[i]))\n",
    "print( \"La liste vaut {}\".format(ma_liste))"
   ]
  }
 ],
 "metadata": {
  "celltoolbar": "Slideshow",
  "kernelspec": {
   "display_name": "Python 3",
   "language": "python",
   "name": "python3"
  },
  "language_info": {
   "codemirror_mode": {
    "name": "ipython",
    "version": 3
   },
   "file_extension": ".py",
   "mimetype": "text/x-python",
   "name": "python",
   "nbconvert_exporter": "python",
   "pygments_lexer": "ipython3",
   "version": "3.7.4"
  },
  "rise": {
   "autolaunch": true,
   "slideNumber": "c/t",
   "theme": "moon",
   "transition": "slide"
  }
 },
 "nbformat": 4,
 "nbformat_minor": 2
}
